{
 "cells": [
  {
   "cell_type": "markdown",
   "id": "f463207e-f363-4af2-888d-278d8fd3d345",
   "metadata": {},
   "source": [
    "# Analiza gaming platformi: PC vs konzole"
   ]
  },
  {
   "cell_type": "markdown",
   "id": "5d6c160c-ff74-4405-b14a-6b19a8bf51e7",
   "metadata": {},
   "source": [
    "## Uvod\n",
    "Gaming industrija danas je jedan od najvažnijih segmenata zabavne industrije, sa značajnim utjecajem na globalnu ekonomiju, kulturu i tehnologiju. Uz godišnje prihode koji premašuju prihode filmske i glazbene industrije zajedno, gaming nije samo oblik zabave, već i pokretač tehnoloških inovacija. Platforme poput PC-ja, konzola i mobilnih uređaja igraju ključnu ulogu u oblikovanju ove industrije, svaka s jedinstvenim karakteristikama koje privlače različite skupine igrača.\n",
    "\n",
    "Razlike između ovih platformi postale su predmet interesa ne samo igrača nego i analitičara, koji nastoje razumjeti obrasce ponašanja korisnika, preferencije prema igrama te globalne trendove. Dok PC ostaje platforma koja nudi najveću prilagodljivost i tehničke mogućnosti, konzole poput PlayStationa i Xboxa nastoje pružiti integrirano iskustvo i ekskluzivne naslove koji privlače milijune igrača. Mobilne igre, s druge strane, bilježe eksplozivan rast zahvaljujući dostupnosti i širokoj bazi korisnika.\n",
    "\n",
    "Cilj ovog istraživanja je analizirati popularnost gaming platformi kroz podatke o prodaji, aktivnim igračima i globalnim trendovima pretraživanja. Kombiniranjem informacija iz više izvora, kao što su Steam API, Kaggle, VGChartz i Google Trends, namjeravamo dobiti cjelovit uvid u trenutne preferencije tržišta i predvidjeti potencijalne buduće promjene.\n",
    "\n",
    "Jedna napomena samo jest da kod prijave teme sam krivo shvatio značenje aplikacije te sam zato naveo steamlit za izradu aplikacije. A neće se koristiti već će se koristiti REST API."
   ]
  },
  {
   "cell_type": "markdown",
   "id": "4efb49ad-fd32-4f09-9d00-f64ded5d39ff",
   "metadata": {},
   "source": [
    "## Motivacija\n",
    "Za motivacije oduvijek me je zanimalo koja je gaming platforma najpopularnija, bilo da je riječ o PC-ju, PlayStationu ili Xboxu. Ove platforme često izazivaju rasprave među igračima o tome koja pruža najbolje iskustvo i koja ima najveći utjecaj na industriju. Također, fascinirala me ideja o tome koja igra dominira na svim platformama – postoji li naslov koji univerzalno privlači igrače bez obzira na njihov odabir uređaja? Ovo istraživanje pruža priliku da se dublje analizira popularnost platformi i igara, temeljeno na stvarnim podacima o prodaji, trendovima i broju aktivnih korisnika, kako bi se odgovorilo na ova pitanja i bolje razumjelo trenutno stanje gaming svijeta."
   ]
  },
  {
   "cell_type": "markdown",
   "id": "ad596f55-4764-4b9b-803a-f7723efd0b5a",
   "metadata": {},
   "source": [
    "## Početak koda\n"
   ]
  },
  {
   "cell_type": "code",
   "execution_count": 1,
   "id": "a004addf-131c-4404-9d64-9a63b8b2e0dd",
   "metadata": {},
   "outputs": [
    {
     "name": "stdout",
     "output_type": "stream",
     "text": [
      "Requirement already satisfied: requests in c:\\users\\andro\\anaconda3\\lib\\site-packages (2.32.3)\n",
      "Requirement already satisfied: pandas in c:\\users\\andro\\anaconda3\\lib\\site-packages (2.2.2)\n",
      "Requirement already satisfied: matplotlib in c:\\users\\andro\\anaconda3\\lib\\site-packages (3.9.2)\n",
      "Requirement already satisfied: kaggle in c:\\users\\andro\\anaconda3\\lib\\site-packages (1.6.17)\n",
      "Requirement already satisfied: charset-normalizer<4,>=2 in c:\\users\\andro\\anaconda3\\lib\\site-packages (from requests) (3.3.2)\n",
      "Requirement already satisfied: idna<4,>=2.5 in c:\\users\\andro\\anaconda3\\lib\\site-packages (from requests) (3.7)\n",
      "Requirement already satisfied: urllib3<3,>=1.21.1 in c:\\users\\andro\\anaconda3\\lib\\site-packages (from requests) (2.2.3)\n",
      "Requirement already satisfied: certifi>=2017.4.17 in c:\\users\\andro\\anaconda3\\lib\\site-packages (from requests) (2024.8.30)\n",
      "Requirement already satisfied: numpy>=1.26.0 in c:\\users\\andro\\anaconda3\\lib\\site-packages (from pandas) (1.26.4)\n",
      "Requirement already satisfied: python-dateutil>=2.8.2 in c:\\users\\andro\\anaconda3\\lib\\site-packages (from pandas) (2.9.0.post0)\n",
      "Requirement already satisfied: pytz>=2020.1 in c:\\users\\andro\\anaconda3\\lib\\site-packages (from pandas) (2024.1)\n",
      "Requirement already satisfied: tzdata>=2022.7 in c:\\users\\andro\\anaconda3\\lib\\site-packages (from pandas) (2023.3)\n",
      "Requirement already satisfied: contourpy>=1.0.1 in c:\\users\\andro\\anaconda3\\lib\\site-packages (from matplotlib) (1.2.0)\n",
      "Requirement already satisfied: cycler>=0.10 in c:\\users\\andro\\anaconda3\\lib\\site-packages (from matplotlib) (0.11.0)\n",
      "Requirement already satisfied: fonttools>=4.22.0 in c:\\users\\andro\\anaconda3\\lib\\site-packages (from matplotlib) (4.51.0)\n",
      "Requirement already satisfied: kiwisolver>=1.3.1 in c:\\users\\andro\\anaconda3\\lib\\site-packages (from matplotlib) (1.4.4)\n",
      "Requirement already satisfied: packaging>=20.0 in c:\\users\\andro\\anaconda3\\lib\\site-packages (from matplotlib) (24.1)\n",
      "Requirement already satisfied: pillow>=8 in c:\\users\\andro\\anaconda3\\lib\\site-packages (from matplotlib) (10.4.0)\n",
      "Requirement already satisfied: pyparsing>=2.3.1 in c:\\users\\andro\\anaconda3\\lib\\site-packages (from matplotlib) (3.1.2)\n",
      "Requirement already satisfied: six>=1.10 in c:\\users\\andro\\anaconda3\\lib\\site-packages (from kaggle) (1.16.0)\n",
      "Requirement already satisfied: tqdm in c:\\users\\andro\\anaconda3\\lib\\site-packages (from kaggle) (4.66.5)\n",
      "Requirement already satisfied: python-slugify in c:\\users\\andro\\anaconda3\\lib\\site-packages (from kaggle) (5.0.2)\n",
      "Requirement already satisfied: bleach in c:\\users\\andro\\anaconda3\\lib\\site-packages (from kaggle) (4.1.0)\n",
      "Requirement already satisfied: webencodings in c:\\users\\andro\\anaconda3\\lib\\site-packages (from bleach->kaggle) (0.5.1)\n",
      "Requirement already satisfied: text-unidecode>=1.3 in c:\\users\\andro\\anaconda3\\lib\\site-packages (from python-slugify->kaggle) (1.3)\n",
      "Requirement already satisfied: colorama in c:\\users\\andro\\anaconda3\\lib\\site-packages (from tqdm->kaggle) (0.4.6)\n",
      "Requirement already satisfied: tabulate in c:\\users\\andro\\anaconda3\\lib\\site-packages (0.9.0)\n",
      "Requirement already satisfied: Flask in c:\\users\\andro\\anaconda3\\lib\\site-packages (3.0.3)\n",
      "Requirement already satisfied: SQLAlchemy in c:\\users\\andro\\anaconda3\\lib\\site-packages (2.0.34)\n",
      "Requirement already satisfied: Werkzeug>=3.0.0 in c:\\users\\andro\\anaconda3\\lib\\site-packages (from Flask) (3.0.3)\n",
      "Requirement already satisfied: Jinja2>=3.1.2 in c:\\users\\andro\\anaconda3\\lib\\site-packages (from Flask) (3.1.4)\n",
      "Requirement already satisfied: itsdangerous>=2.1.2 in c:\\users\\andro\\anaconda3\\lib\\site-packages (from Flask) (2.2.0)\n",
      "Requirement already satisfied: click>=8.1.3 in c:\\users\\andro\\anaconda3\\lib\\site-packages (from Flask) (8.1.7)\n",
      "Requirement already satisfied: blinker>=1.6.2 in c:\\users\\andro\\anaconda3\\lib\\site-packages (from Flask) (1.6.2)\n",
      "Requirement already satisfied: typing-extensions>=4.6.0 in c:\\users\\andro\\anaconda3\\lib\\site-packages (from SQLAlchemy) (4.11.0)\n",
      "Requirement already satisfied: greenlet!=0.4.17 in c:\\users\\andro\\anaconda3\\lib\\site-packages (from SQLAlchemy) (3.0.1)\n",
      "Requirement already satisfied: colorama in c:\\users\\andro\\anaconda3\\lib\\site-packages (from click>=8.1.3->Flask) (0.4.6)\n",
      "Requirement already satisfied: MarkupSafe>=2.0 in c:\\users\\andro\\anaconda3\\lib\\site-packages (from Jinja2>=3.1.2->Flask) (2.1.3)\n",
      "Requirement already satisfied: streamlit in c:\\users\\andro\\anaconda3\\lib\\site-packages (1.37.1)\n",
      "Requirement already satisfied: altair<6,>=4.0 in c:\\users\\andro\\anaconda3\\lib\\site-packages (from streamlit) (5.0.1)\n",
      "Requirement already satisfied: blinker<2,>=1.0.0 in c:\\users\\andro\\anaconda3\\lib\\site-packages (from streamlit) (1.6.2)\n",
      "Requirement already satisfied: cachetools<6,>=4.0 in c:\\users\\andro\\anaconda3\\lib\\site-packages (from streamlit) (5.3.3)\n",
      "Requirement already satisfied: click<9,>=7.0 in c:\\users\\andro\\anaconda3\\lib\\site-packages (from streamlit) (8.1.7)\n",
      "Requirement already satisfied: numpy<3,>=1.20 in c:\\users\\andro\\anaconda3\\lib\\site-packages (from streamlit) (1.26.4)\n",
      "Requirement already satisfied: packaging<25,>=20 in c:\\users\\andro\\anaconda3\\lib\\site-packages (from streamlit) (24.1)\n",
      "Requirement already satisfied: pandas<3,>=1.3.0 in c:\\users\\andro\\anaconda3\\lib\\site-packages (from streamlit) (2.2.2)\n",
      "Requirement already satisfied: pillow<11,>=7.1.0 in c:\\users\\andro\\anaconda3\\lib\\site-packages (from streamlit) (10.4.0)\n",
      "Requirement already satisfied: protobuf<6,>=3.20 in c:\\users\\andro\\anaconda3\\lib\\site-packages (from streamlit) (4.25.3)\n",
      "Requirement already satisfied: pyarrow>=7.0 in c:\\users\\andro\\anaconda3\\lib\\site-packages (from streamlit) (16.1.0)\n",
      "Requirement already satisfied: requests<3,>=2.27 in c:\\users\\andro\\anaconda3\\lib\\site-packages (from streamlit) (2.32.3)\n",
      "Requirement already satisfied: rich<14,>=10.14.0 in c:\\users\\andro\\anaconda3\\lib\\site-packages (from streamlit) (13.7.1)\n",
      "Requirement already satisfied: tenacity<9,>=8.1.0 in c:\\users\\andro\\anaconda3\\lib\\site-packages (from streamlit) (8.2.3)\n",
      "Requirement already satisfied: toml<2,>=0.10.1 in c:\\users\\andro\\anaconda3\\lib\\site-packages (from streamlit) (0.10.2)\n",
      "Requirement already satisfied: typing-extensions<5,>=4.3.0 in c:\\users\\andro\\anaconda3\\lib\\site-packages (from streamlit) (4.11.0)\n",
      "Requirement already satisfied: gitpython!=3.1.19,<4,>=3.0.7 in c:\\users\\andro\\anaconda3\\lib\\site-packages (from streamlit) (3.1.43)\n",
      "Requirement already satisfied: pydeck<1,>=0.8.0b4 in c:\\users\\andro\\anaconda3\\lib\\site-packages (from streamlit) (0.8.0)\n",
      "Requirement already satisfied: tornado<7,>=6.0.3 in c:\\users\\andro\\anaconda3\\lib\\site-packages (from streamlit) (6.4.1)\n",
      "Requirement already satisfied: watchdog<5,>=2.1.5 in c:\\users\\andro\\anaconda3\\lib\\site-packages (from streamlit) (4.0.1)\n",
      "Requirement already satisfied: jinja2 in c:\\users\\andro\\anaconda3\\lib\\site-packages (from altair<6,>=4.0->streamlit) (3.1.4)\n",
      "Requirement already satisfied: jsonschema>=3.0 in c:\\users\\andro\\anaconda3\\lib\\site-packages (from altair<6,>=4.0->streamlit) (4.23.0)\n",
      "Requirement already satisfied: toolz in c:\\users\\andro\\anaconda3\\lib\\site-packages (from altair<6,>=4.0->streamlit) (0.12.0)\n",
      "Requirement already satisfied: colorama in c:\\users\\andro\\anaconda3\\lib\\site-packages (from click<9,>=7.0->streamlit) (0.4.6)\n",
      "Requirement already satisfied: gitdb<5,>=4.0.1 in c:\\users\\andro\\anaconda3\\lib\\site-packages (from gitpython!=3.1.19,<4,>=3.0.7->streamlit) (4.0.7)\n",
      "Requirement already satisfied: python-dateutil>=2.8.2 in c:\\users\\andro\\anaconda3\\lib\\site-packages (from pandas<3,>=1.3.0->streamlit) (2.9.0.post0)\n",
      "Requirement already satisfied: pytz>=2020.1 in c:\\users\\andro\\anaconda3\\lib\\site-packages (from pandas<3,>=1.3.0->streamlit) (2024.1)\n",
      "Requirement already satisfied: tzdata>=2022.7 in c:\\users\\andro\\anaconda3\\lib\\site-packages (from pandas<3,>=1.3.0->streamlit) (2023.3)\n",
      "Requirement already satisfied: charset-normalizer<4,>=2 in c:\\users\\andro\\anaconda3\\lib\\site-packages (from requests<3,>=2.27->streamlit) (3.3.2)\n",
      "Requirement already satisfied: idna<4,>=2.5 in c:\\users\\andro\\anaconda3\\lib\\site-packages (from requests<3,>=2.27->streamlit) (3.7)\n",
      "Requirement already satisfied: urllib3<3,>=1.21.1 in c:\\users\\andro\\anaconda3\\lib\\site-packages (from requests<3,>=2.27->streamlit) (2.2.3)\n",
      "Requirement already satisfied: certifi>=2017.4.17 in c:\\users\\andro\\anaconda3\\lib\\site-packages (from requests<3,>=2.27->streamlit) (2024.8.30)\n",
      "Requirement already satisfied: markdown-it-py>=2.2.0 in c:\\users\\andro\\anaconda3\\lib\\site-packages (from rich<14,>=10.14.0->streamlit) (2.2.0)\n",
      "Requirement already satisfied: pygments<3.0.0,>=2.13.0 in c:\\users\\andro\\anaconda3\\lib\\site-packages (from rich<14,>=10.14.0->streamlit) (2.15.1)\n",
      "Requirement already satisfied: smmap<5,>=3.0.1 in c:\\users\\andro\\anaconda3\\lib\\site-packages (from gitdb<5,>=4.0.1->gitpython!=3.1.19,<4,>=3.0.7->streamlit) (4.0.0)\n",
      "Requirement already satisfied: MarkupSafe>=2.0 in c:\\users\\andro\\anaconda3\\lib\\site-packages (from jinja2->altair<6,>=4.0->streamlit) (2.1.3)\n",
      "Requirement already satisfied: attrs>=22.2.0 in c:\\users\\andro\\anaconda3\\lib\\site-packages (from jsonschema>=3.0->altair<6,>=4.0->streamlit) (24.3.0)\n",
      "Requirement already satisfied: jsonschema-specifications>=2023.03.6 in c:\\users\\andro\\anaconda3\\lib\\site-packages (from jsonschema>=3.0->altair<6,>=4.0->streamlit) (2023.7.1)\n",
      "Requirement already satisfied: referencing>=0.28.4 in c:\\users\\andro\\anaconda3\\lib\\site-packages (from jsonschema>=3.0->altair<6,>=4.0->streamlit) (0.30.2)\n",
      "Requirement already satisfied: rpds-py>=0.7.1 in c:\\users\\andro\\anaconda3\\lib\\site-packages (from jsonschema>=3.0->altair<6,>=4.0->streamlit) (0.10.6)\n",
      "Requirement already satisfied: mdurl~=0.1 in c:\\users\\andro\\anaconda3\\lib\\site-packages (from markdown-it-py>=2.2.0->rich<14,>=10.14.0->streamlit) (0.1.0)\n",
      "Requirement already satisfied: six>=1.5 in c:\\users\\andro\\anaconda3\\lib\\site-packages (from python-dateutil>=2.8.2->pandas<3,>=1.3.0->streamlit) (1.16.0)\n",
      "Requirement already satisfied: plotly in c:\\users\\andro\\anaconda3\\lib\\site-packages (5.24.1)\n",
      "Requirement already satisfied: tenacity>=6.2.0 in c:\\users\\andro\\anaconda3\\lib\\site-packages (from plotly) (8.2.3)\n",
      "Requirement already satisfied: packaging in c:\\users\\andro\\anaconda3\\lib\\site-packages (from plotly) (24.1)\n",
      "Requirement already satisfied: fastapi in c:\\users\\andro\\anaconda3\\lib\\site-packages (0.115.7)\n",
      "Requirement already satisfied: sqlalchemy in c:\\users\\andro\\anaconda3\\lib\\site-packages (2.0.34)\n",
      "Requirement already satisfied: uvicorn in c:\\users\\andro\\anaconda3\\lib\\site-packages (0.34.0)\n",
      "Requirement already satisfied: starlette<0.46.0,>=0.40.0 in c:\\users\\andro\\anaconda3\\lib\\site-packages (from fastapi) (0.45.3)\n",
      "Requirement already satisfied: pydantic!=1.8,!=1.8.1,!=2.0.0,!=2.0.1,!=2.1.0,<3.0.0,>=1.7.4 in c:\\users\\andro\\anaconda3\\lib\\site-packages (from fastapi) (2.8.2)\n",
      "Requirement already satisfied: typing-extensions>=4.8.0 in c:\\users\\andro\\anaconda3\\lib\\site-packages (from fastapi) (4.11.0)\n",
      "Requirement already satisfied: greenlet!=0.4.17 in c:\\users\\andro\\anaconda3\\lib\\site-packages (from sqlalchemy) (3.0.1)\n",
      "Requirement already satisfied: click>=7.0 in c:\\users\\andro\\anaconda3\\lib\\site-packages (from uvicorn) (8.1.7)\n",
      "Requirement already satisfied: h11>=0.8 in c:\\users\\andro\\anaconda3\\lib\\site-packages (from uvicorn) (0.14.0)\n",
      "Requirement already satisfied: colorama in c:\\users\\andro\\anaconda3\\lib\\site-packages (from click>=7.0->uvicorn) (0.4.6)\n",
      "Requirement already satisfied: annotated-types>=0.4.0 in c:\\users\\andro\\anaconda3\\lib\\site-packages (from pydantic!=1.8,!=1.8.1,!=2.0.0,!=2.0.1,!=2.1.0,<3.0.0,>=1.7.4->fastapi) (0.6.0)\n",
      "Requirement already satisfied: pydantic-core==2.20.1 in c:\\users\\andro\\anaconda3\\lib\\site-packages (from pydantic!=1.8,!=1.8.1,!=2.0.0,!=2.0.1,!=2.1.0,<3.0.0,>=1.7.4->fastapi) (2.20.1)\n",
      "Requirement already satisfied: anyio<5,>=3.6.2 in c:\\users\\andro\\anaconda3\\lib\\site-packages (from starlette<0.46.0,>=0.40.0->fastapi) (4.2.0)\n",
      "Requirement already satisfied: idna>=2.8 in c:\\users\\andro\\anaconda3\\lib\\site-packages (from anyio<5,>=3.6.2->starlette<0.46.0,>=0.40.0->fastapi) (3.7)\n",
      "Requirement already satisfied: sniffio>=1.1 in c:\\users\\andro\\anaconda3\\lib\\site-packages (from anyio<5,>=3.6.2->starlette<0.46.0,>=0.40.0->fastapi) (1.3.0)\n"
     ]
    }
   ],
   "source": [
    "!pip install requests pandas matplotlib kaggle\n",
    "!pip install tabulate\n",
    "!pip install Flask SQLAlchemy\n",
    "!pip install streamlit\n",
    "!pip install plotly\n",
    "!pip install fastapi sqlalchemy uvicorn\n",
    "\n"
   ]
  },
  {
   "cell_type": "code",
   "execution_count": 2,
   "id": "aed206f2-877e-4655-a30c-b510d8b8bd61",
   "metadata": {},
   "outputs": [],
   "source": [
    "import pandas as pd\n",
    "import requests\n",
    "import json\n",
    "from tabulate import tabulate\n",
    "import os\n",
    "import plotly.express as px\n",
    "from sqlalchemy import create_engine, text\n",
    "import logging\n",
    "import uvicorn\n",
    "from threading import Thread\n",
    "import nest_asyncio\n",
    "from fastapi import FastAPI\n",
    "from IPython.display import display\n",
    "from sqlalchemy.exc import OperationalError\n",
    "import matplotlib.pyplot as plt\n",
    "import matplotlib.image as mpimg"
   ]
  },
  {
   "cell_type": "markdown",
   "id": "1c39ec89-92c8-4b52-a519-6efdb34a044b",
   "metadata": {},
   "source": [
    "## Preuzimanje datasetova  \n",
    "### Kaggle dataset\n",
    "Prvi podaci su preuzeti s platforme Kaggle, poznate baze podataka i alata za znanstveno računanje. Koristio sam dataset pod nazivom \"Video Game Sales\", koji pruža informacije o prodaji videoigara na globalnoj razini. Dataset uključuje informacije o nazivima igara, platformama, godinama izdavanja, prodaji po regijama i drugim sličnim značajkama. Podaci su prethodno prikupljeni od strane autora dataseta te su javno dostupni za analizu i istraživanje. Ovaj dataset je preuzet kao .csv datoteka te je uplodan u isti direktorij gdje se nalazi trenutna datoteka.\n",
    "\n",
    "Kaggle dataset:\n",
    "Gregorut. (n.d.). Video Game Sales. Kaggle. Retrieved January 24, 2025, from https://www.kaggle.com/datasets/gregorut/videogamesales"
   ]
  },
  {
   "cell_type": "code",
   "execution_count": 3,
   "id": "f8fe95d4-0844-4149-8bc7-e29af4fbf14b",
   "metadata": {},
   "outputs": [
    {
     "name": "stdout",
     "output_type": "stream",
     "text": [
      "   Rank                      Name Platform    Year         Genre Publisher  \\\n",
      "0     1                Wii Sports      Wii  2006.0        Sports  Nintendo   \n",
      "1     2         Super Mario Bros.      NES  1985.0      Platform  Nintendo   \n",
      "2     3            Mario Kart Wii      Wii  2008.0        Racing  Nintendo   \n",
      "3     4         Wii Sports Resort      Wii  2009.0        Sports  Nintendo   \n",
      "4     5  Pokemon Red/Pokemon Blue       GB  1996.0  Role-Playing  Nintendo   \n",
      "\n",
      "   NA_Sales  EU_Sales  JP_Sales  Other_Sales  Global_Sales  \n",
      "0     41.49     29.02      3.77         8.46         82.74  \n",
      "1     29.08      3.58      6.81         0.77         40.24  \n",
      "2     15.85     12.88      3.79         3.31         35.82  \n",
      "3     15.75     11.01      3.28         2.96         33.00  \n",
      "4     11.27      8.89     10.22         1.00         31.37  \n"
     ]
    }
   ],
   "source": [
    "file_name = 'vgsales.csv'\n",
    "\n",
    "df = pd.read_csv(file_name)\n",
    "\n",
    "print(df.head())"
   ]
  },
  {
   "cell_type": "markdown",
   "id": "e9314510-1715-4f93-b17a-cde6e6bae415",
   "metadata": {},
   "source": [
    "### RAWG API \n",
    "Drugi podaci preuzeti su putem RAWG API-ja. Te spremljeni su u.json datoteku u isti direktorij kao i trenutni dokument. RAWG je najveća baza podataka o videoigrama koja nudi informacije poput ocjena igara, žanrova, dostupnih platformi i datuma izdavanja. Podaci su prikupljeni putem zahtjeva prema API-ju pomoću knjižnice requests u Pythonu. API nudi dinamičan pristup informacijama o igrama, a podaci su filtrirani i obrađeni prema potrebama analize. Te do podataka se došlo uz pomoć generiranog API ključa.\n",
    "\n",
    "RAWG API:\n",
    "RAWG.io. (n.d.). RAWG Video Games Database API. Retrieved January 24, 2025, from https://rawg.io/apidocs\n",
    "\n",
    "Preuzeto je do max 5000 linija zbog dugog čekanja na izvršavanje komande.\n"
   ]
  },
  {
   "cell_type": "code",
   "execution_count": 3,
   "id": "026bfe52-2cd3-481b-9c04-480de7602f50",
   "metadata": {},
   "outputs": [
    {
     "name": "stdout",
     "output_type": "stream",
     "text": [
      "Preuzeta stranica 2, ukupno preuzeto 40 igara.\n",
      "Preuzeta stranica 3, ukupno preuzeto 80 igara.\n",
      "Preuzeta stranica 4, ukupno preuzeto 120 igara.\n",
      "Preuzeta stranica 5, ukupno preuzeto 160 igara.\n",
      "Preuzeta stranica 6, ukupno preuzeto 200 igara.\n",
      "Preuzeta stranica 7, ukupno preuzeto 240 igara.\n",
      "Preuzeta stranica 8, ukupno preuzeto 280 igara.\n",
      "Preuzeta stranica 9, ukupno preuzeto 320 igara.\n",
      "Preuzeta stranica 10, ukupno preuzeto 360 igara.\n",
      "Preuzeta stranica 11, ukupno preuzeto 400 igara.\n",
      "Preuzeta stranica 12, ukupno preuzeto 440 igara.\n",
      "Preuzeta stranica 13, ukupno preuzeto 480 igara.\n",
      "Preuzeta stranica 14, ukupno preuzeto 520 igara.\n",
      "Preuzeta stranica 15, ukupno preuzeto 560 igara.\n",
      "Preuzeta stranica 16, ukupno preuzeto 600 igara.\n",
      "Preuzeta stranica 17, ukupno preuzeto 640 igara.\n",
      "Preuzeta stranica 18, ukupno preuzeto 680 igara.\n",
      "Preuzeta stranica 19, ukupno preuzeto 720 igara.\n",
      "Preuzeta stranica 20, ukupno preuzeto 760 igara.\n",
      "Preuzeta stranica 21, ukupno preuzeto 800 igara.\n",
      "Preuzeta stranica 22, ukupno preuzeto 840 igara.\n",
      "Preuzeta stranica 23, ukupno preuzeto 880 igara.\n",
      "Preuzeta stranica 24, ukupno preuzeto 920 igara.\n",
      "Preuzeta stranica 25, ukupno preuzeto 960 igara.\n",
      "Preuzeta stranica 26, ukupno preuzeto 1000 igara.\n",
      "Preuzeta stranica 27, ukupno preuzeto 1040 igara.\n",
      "Preuzeta stranica 28, ukupno preuzeto 1080 igara.\n",
      "Preuzeta stranica 29, ukupno preuzeto 1120 igara.\n",
      "Preuzeta stranica 30, ukupno preuzeto 1160 igara.\n",
      "Preuzeta stranica 31, ukupno preuzeto 1200 igara.\n",
      "Preuzeta stranica 32, ukupno preuzeto 1240 igara.\n",
      "Preuzeta stranica 33, ukupno preuzeto 1280 igara.\n",
      "Preuzeta stranica 34, ukupno preuzeto 1320 igara.\n",
      "Preuzeta stranica 35, ukupno preuzeto 1360 igara.\n",
      "Preuzeta stranica 36, ukupno preuzeto 1400 igara.\n",
      "Preuzeta stranica 37, ukupno preuzeto 1440 igara.\n",
      "Preuzeta stranica 38, ukupno preuzeto 1480 igara.\n",
      "Preuzeta stranica 39, ukupno preuzeto 1520 igara.\n",
      "Preuzeta stranica 40, ukupno preuzeto 1560 igara.\n",
      "Preuzeta stranica 41, ukupno preuzeto 1600 igara.\n",
      "Preuzeta stranica 42, ukupno preuzeto 1640 igara.\n",
      "Preuzeta stranica 43, ukupno preuzeto 1680 igara.\n",
      "Preuzeta stranica 44, ukupno preuzeto 1720 igara.\n",
      "Preuzeta stranica 45, ukupno preuzeto 1760 igara.\n",
      "Preuzeta stranica 46, ukupno preuzeto 1800 igara.\n",
      "Preuzeta stranica 47, ukupno preuzeto 1840 igara.\n",
      "Preuzeta stranica 48, ukupno preuzeto 1880 igara.\n",
      "Preuzeta stranica 49, ukupno preuzeto 1920 igara.\n",
      "Preuzeta stranica 50, ukupno preuzeto 1960 igara.\n",
      "Preuzeta stranica 51, ukupno preuzeto 2000 igara.\n",
      "Preuzeta stranica 52, ukupno preuzeto 2040 igara.\n",
      "Preuzeta stranica 53, ukupno preuzeto 2080 igara.\n",
      "Preuzeta stranica 54, ukupno preuzeto 2120 igara.\n",
      "Preuzeta stranica 55, ukupno preuzeto 2160 igara.\n",
      "Preuzeta stranica 56, ukupno preuzeto 2200 igara.\n",
      "Preuzeta stranica 57, ukupno preuzeto 2240 igara.\n",
      "Preuzeta stranica 58, ukupno preuzeto 2280 igara.\n",
      "Preuzeta stranica 59, ukupno preuzeto 2320 igara.\n",
      "Preuzeta stranica 60, ukupno preuzeto 2360 igara.\n",
      "Preuzeta stranica 61, ukupno preuzeto 2400 igara.\n",
      "Preuzeta stranica 62, ukupno preuzeto 2440 igara.\n",
      "Preuzeta stranica 63, ukupno preuzeto 2480 igara.\n",
      "Preuzeta stranica 64, ukupno preuzeto 2520 igara.\n",
      "Preuzeta stranica 65, ukupno preuzeto 2560 igara.\n",
      "Preuzeta stranica 66, ukupno preuzeto 2600 igara.\n",
      "Preuzeta stranica 67, ukupno preuzeto 2640 igara.\n",
      "Preuzeta stranica 68, ukupno preuzeto 2680 igara.\n",
      "Preuzeta stranica 69, ukupno preuzeto 2720 igara.\n",
      "Preuzeta stranica 70, ukupno preuzeto 2760 igara.\n",
      "Preuzeta stranica 71, ukupno preuzeto 2800 igara.\n",
      "Preuzeta stranica 72, ukupno preuzeto 2840 igara.\n",
      "Preuzeta stranica 73, ukupno preuzeto 2880 igara.\n",
      "Preuzeta stranica 74, ukupno preuzeto 2920 igara.\n",
      "Preuzeta stranica 75, ukupno preuzeto 2960 igara.\n",
      "Preuzeta stranica 76, ukupno preuzeto 3000 igara.\n",
      "Preuzeta stranica 77, ukupno preuzeto 3040 igara.\n",
      "Preuzeta stranica 78, ukupno preuzeto 3080 igara.\n",
      "Preuzeta stranica 79, ukupno preuzeto 3120 igara.\n",
      "Preuzeta stranica 80, ukupno preuzeto 3160 igara.\n",
      "Preuzeta stranica 81, ukupno preuzeto 3200 igara.\n",
      "Preuzeta stranica 82, ukupno preuzeto 3240 igara.\n",
      "Preuzeta stranica 83, ukupno preuzeto 3280 igara.\n",
      "Preuzeta stranica 84, ukupno preuzeto 3320 igara.\n",
      "Preuzeta stranica 85, ukupno preuzeto 3360 igara.\n",
      "Preuzeta stranica 86, ukupno preuzeto 3400 igara.\n",
      "Preuzeta stranica 87, ukupno preuzeto 3440 igara.\n",
      "Preuzeta stranica 88, ukupno preuzeto 3480 igara.\n",
      "Preuzeta stranica 89, ukupno preuzeto 3520 igara.\n",
      "Preuzeta stranica 90, ukupno preuzeto 3560 igara.\n",
      "Preuzeta stranica 91, ukupno preuzeto 3600 igara.\n",
      "Preuzeta stranica 92, ukupno preuzeto 3640 igara.\n",
      "Preuzeta stranica 93, ukupno preuzeto 3680 igara.\n",
      "Preuzeta stranica 94, ukupno preuzeto 3720 igara.\n",
      "Preuzeta stranica 95, ukupno preuzeto 3760 igara.\n",
      "Preuzeta stranica 96, ukupno preuzeto 3800 igara.\n",
      "Preuzeta stranica 97, ukupno preuzeto 3840 igara.\n",
      "Preuzeta stranica 98, ukupno preuzeto 3880 igara.\n",
      "Preuzeta stranica 99, ukupno preuzeto 3920 igara.\n",
      "Preuzeta stranica 100, ukupno preuzeto 3960 igara.\n",
      "Preuzeta stranica 101, ukupno preuzeto 4000 igara.\n",
      "Preuzeta stranica 102, ukupno preuzeto 4040 igara.\n",
      "Preuzeta stranica 103, ukupno preuzeto 4080 igara.\n",
      "Preuzeta stranica 104, ukupno preuzeto 4120 igara.\n",
      "Preuzeta stranica 105, ukupno preuzeto 4160 igara.\n",
      "Preuzeta stranica 106, ukupno preuzeto 4200 igara.\n",
      "Preuzeta stranica 107, ukupno preuzeto 4240 igara.\n",
      "Preuzeta stranica 108, ukupno preuzeto 4280 igara.\n",
      "Preuzeta stranica 109, ukupno preuzeto 4320 igara.\n",
      "Preuzeta stranica 110, ukupno preuzeto 4360 igara.\n",
      "Preuzeta stranica 111, ukupno preuzeto 4400 igara.\n",
      "Preuzeta stranica 112, ukupno preuzeto 4440 igara.\n",
      "Preuzeta stranica 113, ukupno preuzeto 4480 igara.\n",
      "Preuzeta stranica 114, ukupno preuzeto 4520 igara.\n",
      "Preuzeta stranica 115, ukupno preuzeto 4560 igara.\n",
      "Preuzeta stranica 116, ukupno preuzeto 4600 igara.\n",
      "Preuzeta stranica 117, ukupno preuzeto 4640 igara.\n",
      "Preuzeta stranica 118, ukupno preuzeto 4680 igara.\n",
      "Preuzeta stranica 119, ukupno preuzeto 4720 igara.\n",
      "Preuzeta stranica 120, ukupno preuzeto 4760 igara.\n",
      "Preuzeta stranica 121, ukupno preuzeto 4800 igara.\n",
      "Preuzeta stranica 122, ukupno preuzeto 4840 igara.\n",
      "Preuzeta stranica 123, ukupno preuzeto 4880 igara.\n",
      "Preuzeta stranica 124, ukupno preuzeto 4920 igara.\n",
      "Preuzeta stranica 125, ukupno preuzeto 4960 igara.\n",
      "Preuzeta stranica 126, ukupno preuzeto 5000 igara.\n",
      "Dostignut limit od 5000 igara.\n",
      "Preuzeto 5000 igara. Podaci su spremljeni u 'rawg_data_all.json'.\n"
     ]
    }
   ],
   "source": [
    "api_key = \"379252d816164c0d88901df04a31a926\"\n",
    "\n",
    "# preuzimanje podataka te stavio sam si limit na 5000 jer predugo traje inace ide u nedogled\n",
    "def get_all_rawg_data(limit=5000):\n",
    "    base_url = \"https://api.rawg.io/api/games\"\n",
    "    all_data = []\n",
    "    page = 1\n",
    "    while True:\n",
    "        params = {\n",
    "            \"page\": page,   \n",
    "            \"page_size\": 40,   # Broj rezultata po stranici\n",
    "            \"key\": api_key     \n",
    "        }\n",
    "        response = requests.get(base_url, params=params)\n",
    "        \n",
    "        # pprovjera\n",
    "        if response.status_code != 200:\n",
    "            print(f\"Greška pri dohvaćanju podataka: {response.status_code}\")\n",
    "            break\n",
    "        \n",
    "        data = response.json()\n",
    "\n",
    "        # Provjera postoji li podatak\n",
    "        if \"results\" not in data:\n",
    "            print(\"Nema podataka u odgovoru.\")\n",
    "            break\n",
    "        \n",
    "        # Dodaj igre iz ove stranice\n",
    "        all_data.extend(data[\"results\"])  \n",
    "        page += 1\n",
    "        \n",
    "        print(f\"Preuzeta stranica {page}, ukupno preuzeto {len(all_data)} igara.\")\n",
    "        \n",
    "        if len(all_data) >= limit:\n",
    "            print(f\"Dostignut limit od {limit} igara.\")\n",
    "            break\n",
    "\n",
    "        if not data.get(\"next\"):\n",
    "            break\n",
    "\n",
    "    return all_data\n",
    "\n",
    "rawg_data = get_all_rawg_data(limit=5000)\n",
    "\n",
    "with open('rawg_data_all.json', 'w') as json_file:\n",
    "    json.dump(rawg_data, json_file, indent=4)\n",
    "\n",
    "print(f\"Preuzeto {len(rawg_data)} igara. Podaci su spremljeni u 'rawg_data_all.json'.\")"
   ]
  },
  {
   "cell_type": "markdown",
   "id": "ef494630-d9cf-4b8e-bad8-443f9c596b4d",
   "metadata": {},
   "source": [
    "## Pretprocesiranje i čišćenje podataka"
   ]
  },
  {
   "cell_type": "markdown",
   "id": "6de42868-443a-42ba-b490-d3b6e2450728",
   "metadata": {},
   "source": [
    "Prikupljeni podaci iz oba izvora zahtijevali su detaljno pretprocesiranje prije integracije. Podaci iz Kaggle skupa prošli su pregled kako bi se uklonili duplicirani zapisi i zapisi s nedostajućim ključnim vrijednostima, poput naziva igre, platforme i godine. S druge strane, podaci dohvaćeni iz RAWG API-ja su filtrirani tako da sadrže samo relevantne informacije poput naziva igre, platformi i korisničkih ocjena, a platforme su također standardizirane kako bi odgovarale formatima u Kaggle datasetu. .Pregledavaju se spremljeni podatci. Te se uzimaju samo oni koji su potrebni u daljnoj analizi. A to su naziv igrice, datum izlaska, ocjena, platforme na kojim je dostupna igrica.\n"
   ]
  },
  {
   "cell_type": "code",
   "execution_count": 4,
   "id": "4c721594-1ff4-43b7-97b0-83ba7be5a0db",
   "metadata": {},
   "outputs": [
    {
     "name": "stdout",
     "output_type": "stream",
     "text": [
      "Broj dupliciranih zapisa: 0\n"
     ]
    }
   ],
   "source": [
    "duplicate_count = df.duplicated().sum()\n",
    "print(f\"Broj dupliciranih zapisa: {duplicate_count}\")\n",
    "\n",
    "if duplicate_count > 0:\n",
    "    duplicates = df[df.duplicated()]\n",
    "    print(\"Duplicirani zapisi:\")\n",
    "    print(duplicates)"
   ]
  },
  {
   "cell_type": "code",
   "execution_count": 5,
   "id": "a943bfc3-ff72-4560-849d-dd75a33164aa",
   "metadata": {},
   "outputs": [
    {
     "name": "stdout",
     "output_type": "stream",
     "text": [
      "Broj nedostajućih vrijednosti po stupcima:\n",
      "Rank              0\n",
      "Name              0\n",
      "Platform          0\n",
      "Year            271\n",
      "Genre             0\n",
      "Publisher        58\n",
      "NA_Sales          0\n",
      "EU_Sales          0\n",
      "JP_Sales          0\n",
      "Other_Sales       0\n",
      "Global_Sales      0\n",
      "dtype: int64\n",
      "Broj zapisa s nedostajućim vrijednostima u ključnim stupcima (Name, Platform): 0\n"
     ]
    }
   ],
   "source": [
    "missing_values = df.isnull().sum()\n",
    "print(\"Broj nedostajućih vrijednosti po stupcima:\")\n",
    "print(missing_values)\n",
    "\n",
    "missing_keys = df[df['Name'].isnull() | df['Platform'].isnull()]\n",
    "print(f\"Broj zapisa s nedostajućim vrijednostima u ključnim stupcima (Name, Platform): {len(missing_keys)}\")\n",
    "\n",
    "if not missing_keys.empty:\n",
    "    print(\"Zapisi s nedostajućim ključnim vrijednostima:\")\n",
    "    print(missing_keys)"
   ]
  },
  {
   "cell_type": "code",
   "execution_count": 6,
   "id": "647b7eb3-8b50-4688-95a2-a437511d1ba1",
   "metadata": {},
   "outputs": [
    {
     "name": "stdout",
     "output_type": "stream",
     "text": [
      "Detaljni podaci o preuzetim igrama (ukupno 5000):\n",
      "\n",
      "ID         Naziv                                    Datum izlaska   Ocjena     Platforme\n",
      "----------------------------------------------------------------------------------------------------\n",
      "3498       Grand Theft Auto V                       2013-09-17      4.47       PC, PlayStation 5, Xbox Series S/X, PlayStation 4, PlayStation 3, Xbox 360, Xbox One\n",
      "3328       The Witcher 3: Wild Hunt                 2015-05-18      4.65       Xbox Series S/X, PlayStation 5, macOS, PlayStation 4, Nintendo Switch, PC, Xbox One\n",
      "4200       Portal 2                                 2011-04-18      4.6        PlayStation 3, PC, Xbox 360, Linux, macOS, Xbox One\n",
      "4291       Counter-Strike: Global Offensive         2012-08-21      3.57       PC, Linux, Xbox 360, PlayStation 3\n",
      "5286       Tomb Raider (2013)                       2013-03-05      4.06       PlayStation 4, PlayStation 3, Xbox 360, macOS, PC, Xbox One\n",
      "13536      Portal                                   2007-10-09      4.5        macOS, PC, Android, PlayStation 3, Xbox 360, Linux, Nintendo Switch\n",
      "12020      Left 4 Dead 2                            2009-11-17      4.09       Xbox 360, Linux, PC, macOS\n",
      "5679       The Elder Scrolls V: Skyrim              2011-11-11      4.42       PC, Xbox Series S/X, PlayStation 5, Xbox One, PlayStation 4, Nintendo Switch, Xbox 360, PlayStation 3\n",
      "28         Red Dead Redemption 2                    2018-10-26      4.59       PC, PlayStation 4, Xbox One\n",
      "4062       BioShock Infinite                        2013-03-26      4.38       PlayStation 4, Xbox 360, Nintendo Switch, Linux, PC, PlayStation 3, Xbox One\n",
      "802        Borderlands 2                            2012-09-18      4.01       PlayStation 3, macOS, PC, Android, Linux, PS Vita, Xbox 360\n",
      "13537      Half-Life 2                              2004-11-16      4.49       PC, macOS, Xbox 360, Linux, Xbox, Android\n",
      "3439       Life is Strange                          2015-01-29      4.11       PC, Linux, PlayStation 3, macOS, iOS, Xbox 360, Android, PlayStation 4, Xbox One\n",
      "4286       BioShock                                 2007-08-21      4.36       PlayStation 3, macOS, PC, Xbox 360\n",
      "32         Destiny 2                                2017-09-06      3.53       PlayStation 4, Xbox One, PC, Web, Xbox Series S/X, PlayStation 5\n",
      "3939       PAYDAY 2                                 2013-08-13      3.52       Linux, PC, Xbox One\n",
      "3070       Fallout 4                                2015-11-09      3.81       PlayStation 4, PC, PlayStation 5, Xbox One\n",
      "58175      God of War (2018)                        2018-04-20      4.56       PC, PlayStation 4\n",
      "11859      Team Fortress 2                          2007-10-10      3.67       PC, macOS, Linux\n",
      "1030       Limbo                                    2010-07-21      4.14       PC, Android, PS Vita, PlayStation 4, PlayStation 3, Xbox 360, Linux, macOS, iOS, Xbox One, Nintendo Switch\n",
      "2454       DOOM (2016)                              2016-05-13      4.38       PlayStation 4, Nintendo Switch, PC, Xbox One\n",
      "41494      Cyberpunk 2077                           2020-12-10      4.19       PlayStation 4, PC, Xbox Series S/X, PlayStation 5, Xbox One\n",
      "422        Terraria                                 2011-05-16      4.06       Xbox 360, Wii U, Nintendo 3DS, Xbox One, PlayStation 4, iOS, PC, macOS, Linux, Nintendo Switch, PlayStation 3, PS Vita, Android\n",
      "10213      Dota 2                                   2013-07-09      3.06       Linux, macOS, PC\n",
      "766        Warframe                                 2013-03-25      3.42       iOS, Xbox Series S/X, PlayStation 5, PlayStation 4, Xbox One, Nintendo Switch, PC\n",
      "4459       Grand Theft Auto IV                      2008-04-29      4.26       Xbox 360, PC, PlayStation 3, Xbox One\n",
      "3272       Rocket League                            2015-07-07      3.93       Nintendo Switch, Linux, macOS, Xbox One, PC, PlayStation 4\n",
      "278        Horizon Zero Dawn                        2017-02-28      4.28       PC, PlayStation 4\n",
      "29028      Metro 2033                               2010-03-16      3.94       Xbox 360, PC\n",
      "7689       Rise of the Tomb Raider                  2015-11-10      4.04       Xbox One, PC, macOS, PlayStation 4\n",
      "3287       Batman: Arkham Knight                    2015-06-23      4.24       PC, Nintendo Switch, Xbox One, PlayStation 4\n",
      "3192       Metal Gear Solid V: The Phantom Pain     2015-09-01      4.16       PlayStation 4, PC, Xbox One, PlayStation 3, Xbox 360\n",
      "290856     Apex Legends                             2019-02-04      3.64       PlayStation 4, Nintendo Switch, macOS, PC, Xbox One\n",
      "16944      The Witcher 2: Assassins of Kings Enhanced Edition 2012-04-16      4.16       macOS, PC, Xbox 360\n",
      "17822      The Witcher: Enhanced Edition Director's Cut 2008-09-16      4.06       PC, macOS\n",
      "19103      Half-Life 2: Lost Coast                  2005-10-27      3.45       macOS, Linux, PC\n",
      "416        Grand Theft Auto: San Andreas            2004-10-26      4.51       macOS, PC, iOS, Xbox, Android, PlayStation 4, PlayStation 3, PlayStation 2, Xbox 360, Xbox One\n",
      "11973      Middle-earth: Shadow of Mordor           2014-09-30      3.9        Linux, Xbox One, Xbox 360, PlayStation 3, PlayStation 4, macOS, PC\n",
      "23027      The Walking Dead: Season 1               2012-04-23      4.36       Android, PS Vita, macOS, PC, iOS, PlayStation 4, PlayStation 3, Xbox 360, Nintendo Switch, Xbox One\n",
      "41         Little Nightmares                        2017-04-27      4.03       iOS, PlayStation 4, PC, Xbox One, Nintendo Switch\n",
      "9767       Hollow Knight                            2017-02-23      4.41       PlayStation 4, Linux, macOS, PC, Nintendo Switch, Xbox One\n",
      "4427       BioShock 2                               2010-02-09      4.07       PlayStation 4, Xbox One, Nintendo Switch, PC, macOS, Xbox 360, PlayStation 3\n",
      "19710      Half-Life 2: Episode One                 2006-06-01      4.38       Linux, PC, Xbox 360, Android, macOS\n",
      "18080      Half-Life                                1998-11-08      4.37       Dreamcast, Linux, macOS, PC, PlayStation 2\n",
      "19709      Half-Life 2: Episode Two                 2007-10-10      4.45       Android, Linux, macOS, PC, Xbox 360\n",
      "11936      Half-Life 2: Deathmatch                  2004-11-01      3.28       Linux, macOS, PC\n",
      "2551       Dark Souls III                           2016-04-11      4.4        Xbox One, PlayStation 4, PC\n",
      "10754      BioShock Remastered                      2016-09-15      4.24       PlayStation 4, Nintendo Switch, macOS, PC, Xbox One\n",
      "10035      Hitman                                   2016-03-11      3.92       PlayStation 4, Linux, macOS, PC, Xbox One\n",
      "4252       Mirror's Edge                            2008-11-11      4.07       Xbox 360, PlayStation 3, PC\n",
      "3612       Hotline Miami                            2012-10-22      4.38       Linux, Nintendo Switch, Xbox One, PlayStation 4, PS Vita, PC\n",
      "3790       Outlast                                  2013-09-03      3.74       Linux, macOS, Nintendo Switch, PC, Xbox One, PlayStation 4\n",
      "654        Stardew Valley                           2016-02-25      4.4        Nintendo Switch, Xbox One, PC, iOS, macOS, Linux, PlayStation 4, PS Vita, Android\n",
      "1447       Deus Ex: Mankind Divided                 2016-08-22      3.96       Linux, PC, Xbox One, macOS, PlayStation 4\n",
      "10142      PlayerUnknown’s Battlegrounds            2017-12-20      3.27       PC, Xbox One, PlayStation 4\n",
      "10533      Path of Exile                            2013-10-23      3.65       Xbox One, PlayStation 4, PC\n",
      "4161       Far Cry 3                                2012-11-28      4.25       Xbox One, Xbox 360, PlayStation 3, PC, PlayStation 4\n",
      "13668      Amnesia: The Dark Descent                2010-09-08      3.65       Linux, macOS, PC\n",
      "9721       Garry's Mod                              2004-12-24      3.79       Linux, macOS, PC\n",
      "11935      Half-Life Deathmatch: Source             2006-05-01      3.22       macOS, Linux, PC\n",
      "19487      Alan Wake                                2010-05-14      4.1        Xbox 360, Xbox One, PC\n",
      "4332       Spec Ops: The Line                       2012-06-26      4.09       Xbox 360, PlayStation 3, Xbox One, PC\n",
      "3696       Wolfenstein: The New Order               2014-05-19      4.18       Xbox One, PC, Xbox 360, PlayStation 3, PlayStation 4\n",
      "4386       Saints Row: The Third                    2011-11-15      3.95       Linux, PC, Xbox One, Xbox 360, PlayStation 3\n",
      "58134      Marvel's Spider-Man                      2018-09-07      4.45       PlayStation 4, PC, PlayStation 5\n",
      "29177      Detroit: Become Human                    2018-05-25      4.32       PC, PlayStation 4\n",
      "39         Prey                                     2017-05-05      4.28       Xbox One, PC, PlayStation 4\n",
      "4828       Borderlands                              2009-10-20      3.82       PC, Xbox 360, PlayStation 3\n",
      "12447      The Elder Scrolls V: Skyrim Special Edition 2016-10-27      4.45       PlayStation 4, PC, Xbox One\n",
      "5563       Fallout: New Vegas                       2010-10-19      4.44       Xbox 360, PC, Xbox One, PlayStation 4, PlayStation 3\n",
      "10243      Company of Heroes 2                      2013-06-25      3.09       Linux, macOS, PC\n",
      "9882       Don't Starve Together                    2016-04-21      3.77       Linux, Xbox One, PlayStation 4, macOS, PC\n",
      "17540      Injustice: Gods Among Us Ultimate Edition 2013-11-12      3.53       PlayStation 4, PS Vita, PC, Xbox 360, PlayStation 3\n",
      "864        Dishonored 2                             2016-11-10      4.26       Xbox One, PC, PlayStation 4\n",
      "4248       Dishonored                               2012-09-25      4.37       PlayStation 4, PlayStation 3, Xbox 360, PC, Xbox One\n",
      "12536      Hellblade: Senua's Sacrifice             2017-08-07      4.23       Xbox One, Nintendo Switch, PlayStation 4, PC\n",
      "13633      Sid Meier's Civilization V               2010-09-21      4.29       PC, macOS, Linux\n",
      "5583       Hitman: Absolution                       2012-11-19      3.75       PlayStation 4, PC, macOS, Xbox 360, PlayStation 3\n",
      "362        For Honor                                2017-02-13      3.3        Xbox One, PlayStation 4, PC\n",
      "3144       Super Meat Boy                           2010-10-20      3.98       Linux, Nintendo Switch, Wii U, Xbox 360, PlayStation 4, PS Vita, Android, Web, PC, macOS\n",
      "4514       L.A. Noire                               2011-05-17      4.16       PlayStation 4, PlayStation 3, Xbox 360, PC, Xbox One, Nintendo Switch\n",
      "430        Grand Theft Auto: Vice City              2002-10-27      4.45       Android, macOS, PC, iOS, PlayStation 4, PS Vita, PlayStation 2, Xbox\n",
      "3841       Assassin’s Creed IV: Black Flag          2013-10-29      4.14       Xbox 360, Xbox One, PC, Nintendo Switch, Wii U, PlayStation 3, PlayStation 4\n",
      "58812      Control                                  2019-08-27      4.16       Xbox Series S/X, PlayStation 5, Xbox One, PlayStation 4, PC\n",
      "11934      Counter-Strike: Source                   2004-11-01      3.75       Linux, macOS, PC\n",
      "257201     Star Wars Jedi: Fallen Order             2019-11-15      4.14       PlayStation 4, PC, PlayStation 5, Xbox One\n",
      "4570       Dead Space (2008)                        2008-10-13      4.38       PlayStation 3, PC, Xbox One, Xbox 360\n",
      "2462       Uncharted 4: A Thief’s End               2016-05-10      4.49       PlayStation 5, PlayStation 4\n",
      "3017       Just Cause 3                             2015-11-30      3.4        Xbox One, PlayStation 4, PC\n",
      "4806       Mass Effect 2                            2010-01-26      4.47       PC, Xbox One, PlayStation 3, Xbox 360\n",
      "3543       Borderlands: The Pre-Sequel              2014-10-13      3.56       Linux, macOS, PC, PlayStation 3, Xbox 360, Android\n",
      "3604       Metro: Last Light Redux                  2014-08-25      4.13       Nintendo Switch, PC, Linux, Xbox One, PlayStation 4, macOS\n",
      "19301      Counter-Strike                           2000-11-01      4.05       macOS, PC, Linux, Xbox\n",
      "50738      Death Stranding                          2019-11-08      4.32       PC, PlayStation 4\n",
      "13535      Left 4 Dead                              2008-11-17      4.1        PC, Xbox 360, macOS\n",
      "3747       Metal Gear Solid V: Ground Zeroes        2014-03-18      3.9        Xbox 360, PC, PlayStation 3, PlayStation 4, Xbox One\n",
      "3603       Metro 2033 Redux                         2014-08-25      4.1        PlayStation 4, Xbox One, Nintendo Switch, PC, macOS, Linux\n",
      "11142      BioShock 2 Remastered                    2016-09-15      4.0        PlayStation 4, macOS, PC, Xbox One, Nintendo Switch\n",
      "108        Mortal Kombat X                          2015-04-07      3.86       PC, Xbox One, PlayStation 4\n",
      "3636       The Last Of Us Remastered                2014-07-29      4.69       PlayStation 4\n",
      "11147      ARK: Survival Of The Fittest             2016-03-15      2.59       Android, Linux, macOS, PC, iOS\n",
      "4513       Just Cause 2                             2010-03-23      3.61       Xbox 360, PlayStation 3, Xbox One, PC\n",
      "326292     Fall Guys: Ultimate Knockout             2020-08-04      3.74       Xbox One, PlayStation 4, PC, Nintendo Switch, Xbox Series S/X\n",
      "10141      NieR:Automata                            2017-03-17      4.38       PlayStation 4, Nintendo Switch, PC, Xbox One\n",
      "4166       Mass Effect                              2007-11-16      4.39       Xbox One, Xbox 360, PlayStation 3, PC\n",
      "274755     Hades                                    2020-09-17      4.45       PlayStation 5, Xbox Series S/X, PlayStation 4, Nintendo Switch, PC, Xbox One\n",
      "46889      Monster Hunter: World                    2018-01-26      4.01       PlayStation 4, Xbox One, PC\n",
      "613        Bastion                                  2011-07-20      4.15       PlayStation 4, PS Vita, Xbox One, PC, iOS, Linux, Nintendo Switch, Xbox 360, macOS\n",
      "3191       Mad Max                                  2015-08-31      3.77       PC, Xbox One, PlayStation 4, Xbox 360, Linux, macOS\n",
      "10989      Paladins                                 2016-09-15      3.08       macOS, PC, PlayStation 4, Xbox One, Nintendo Switch\n",
      "17576      Batman: Arkham City - Game of the Year Edition 2012-09-07      4.4        PlayStation 4, Xbox 360, Xbox One, PlayStation 3, macOS, PC\n",
      "9810       ARK: Survival Evolved                    2015-06-02      3.06       Nintendo Switch, Xbox One, PlayStation 4, Linux, macOS, PC, iOS\n",
      "25         Middle-earth: Shadow of War              2017-09-27      3.85       PC, Xbox One, PlayStation 4, Android\n",
      "10065      Cities: Skylines                         2015-03-10      4.12       Xbox One, PC, macOS, Linux, Nintendo Switch, PlayStation 4\n",
      "3387       Bloodborne                               2015-03-24      4.41       PlayStation 4\n",
      "480        Resident Evil 7: Biohazard               2017-01-23      4.33       PlayStation 4, PC, Xbox One, Nintendo Switch\n",
      "22509      Minecraft                                2009-05-10      4.43       Android, PS Vita, PlayStation 4, PlayStation 3, Xbox 360, Nintendo 3DS, Nintendo Switch, macOS, PC, iOS, Wii U, Xbox One, Linux\n",
      "923        Titanfall 2                              2016-10-28      4.31       Xbox One, PlayStation 4, PC\n",
      "3254       Journey                                  2012-03-13      4.32       PC, iOS, PlayStation 4, PlayStation 3\n",
      "17572      Batman: Arkham Asylum Game of the Year Edition 2010-03-26      4.38       PlayStation 3, PC, PlayStation 4, Xbox 360\n",
      "9743       Unturned                                 2014-07-07      2.73       PlayStation 4, Linux, macOS, PC, Xbox One\n",
      "45969      Warhammer: Vermintide 2                  2018-03-08      3.61       Xbox One, PC, PlayStation 4\n",
      "13910      XCOM: Enemy Unknown                      2012-10-09      4.2        PC, Android, iOS, Xbox 360, PlayStation 3, macOS\n",
      "28179      SEGA Mega Drive and Genesis Classics     2010-06-01      2.98       PlayStation 4, macOS, Linux, Xbox One, Nintendo Switch, PC\n",
      "13554      Fallout                                  1997-09-30      4.2        Classic Macintosh, PC, Linux, macOS\n",
      "5525       Brutal Legend                            2009-10-12      3.64       Xbox 360, PlayStation 3, Xbox One, iOS, PC, Linux, macOS\n",
      "13627      Undertale                                2015-09-14      4.34       Xbox Series S/X, Nintendo Switch, Xbox One, PC, macOS, Linux, PlayStation 4, PS Vita\n",
      "18240      Brothers: A Tale of Two Sons             2013-08-07      4.18       PlayStation 3, Xbox One, iOS, Nintendo Switch, Xbox 360, PlayStation 4, Android, PC\n",
      "1416       Mafia II                                 2010-08-24      4.24       PlayStation 3, Xbox 360, PC, Xbox One\n",
      "23585      Far Cry 5                                2018-03-27      3.72       PlayStation 4, PC, Xbox One\n",
      "2361       Psychonauts                              2005-04-01      4.04       PlayStation 3, Xbox One, iOS, PC, macOS, Linux, Xbox 360, PlayStation 2, PlayStation 4, Xbox\n",
      "51329      Shadow of the Tomb Raider                2018-09-14      3.91       Xbox One, PC, PlayStation 4, macOS, Linux\n",
      "9830       Brawlhalla                               2014-04-30      3.22       Xbox One, Android, iOS, PC, macOS, Nintendo Switch, PlayStation 4\n",
      "3687       Watch Dogs                               2014-05-27      3.59       Xbox One, Wii U, Xbox 360, PlayStation 3, PlayStation 4, PC\n",
      "28201      Metro Exodus                             2019-02-13      4.17       PC, PlayStation 5, Xbox One, PlayStation 4\n",
      "2743       Heavy Rain                               2010-02-17      4.12       PC, PlayStation 4, PlayStation 3\n",
      "1450       INSIDE                                   2016-06-28      4.39       Nintendo Switch, PC, iOS, macOS, Xbox One, PlayStation 4\n",
      "3931       Saints Row IV                            2013-08-20      3.82       PlayStation 3, PC, Xbox One, PlayStation 4, Xbox 360, Linux\n",
      "4280       Max Payne 3                              2012-05-15      4.26       PlayStation 3, PC, Xbox 360, macOS\n",
      "8488       Tom Clancy's Rainbow Six Siege           2015-12-01      3.89       Xbox One, PC, PlayStation 4, Xbox Series S/X, PlayStation 5\n",
      "50734      Sekiro: Shadows Die Twice                2019-03-22      4.38       Xbox One, PC, PlayStation 4\n",
      "2819       Firewatch                                2016-02-08      4.3        macOS, Linux, Nintendo Switch, PlayStation 4, Xbox One, PC\n",
      "4223       The Darkness II                          2012-02-07      3.7        PlayStation 3, macOS, PC, Xbox 360, Xbox One\n",
      "3556       Alien: Isolation                         2014-10-05      4.2        PC, Xbox One, Nintendo Switch, Android, iOS, PlayStation 4\n",
      "2093       No Man's Sky                             2016-08-09      3.7        Nintendo Switch, Xbox One, PC, PlayStation 4, PlayStation 5\n",
      "3678       War Thunder                              2013-08-15      3.19       Xbox One, PC, macOS, Linux, PlayStation 4\n",
      "58654      Hitman 2                                 2018-11-13      4.03       Xbox One, PC, PlayStation 4\n",
      "58616      Assassin's Creed Odyssey                 2018-10-05      3.98       PlayStation 4, PC, Xbox One, Nintendo Switch\n",
      "4502       Darksiders                               2010-01-27      3.76       PlayStation 3, Xbox One, Xbox 360, Nintendo Switch, PC\n",
      "11052      Titan Quest Anniversary Edition          2016-08-31      3.79       PC\n",
      "2235       Batman: Arkham Origins                   2013-10-25      3.94       PlayStation 3, PC, Android, Xbox 360\n",
      "28154      Cuphead                                  2017-09-29      4.37       PlayStation 4, Nintendo Switch, Xbox One, macOS, PC\n",
      "28568      Assassin's Creed II                      2009-11-17      4.42       Xbox 360, PlayStation 3, Xbox One, PC, macOS, PlayStation 4\n",
      "262382     Disco Elysium                            2019-10-14      4.41       PC, macOS, Xbox One, Nintendo Switch, PlayStation 4, Xbox Series S/X, PlayStation 5\n",
      "10340      Crusader Kings II                        2012-02-13      3.6        PC, macOS, Linux\n",
      "58751      Halo Infinite                            2021-12-08      3.65       Xbox One, PC, Xbox Series S/X\n",
      "356714     Among Us                                 2018-07-25      3.84       Android, Nintendo Switch, PC, iOS, PlayStation 4, PlayStation 5, Xbox One\n",
      "1010       Transistor                               2014-05-20      4.17       Nintendo Switch, PlayStation 4, PC, iOS, macOS, Linux\n",
      "28153      Assassin's Creed Origins                 2017-10-27      3.97       Xbox One, PC, PlayStation 4\n",
      "58777      DOOM Eternal                             2020-03-20      4.37       PC, PlayStation 4, Xbox One, Nintendo Switch, PlayStation 5\n",
      "2792       Layers of Fear                           2016-02-16      3.53       PlayStation 4, Linux, macOS, PC, iOS, Xbox One\n",
      "4003       GRID 2                                   2013-05-27      3.3        PlayStation 3, Xbox 360, macOS, PC\n",
      "326243     Elden Ring                               2022-02-25      4.41       PC, Xbox One, PlayStation 4, Xbox Series S/X, PlayStation 5\n",
      "3876       Deus Ex: Human Revolution - Director's Cut 2013-10-22      4.3        Wii U, PC, macOS, Xbox 360, PlayStation 3\n",
      "1682       The Wolf Among Us                        2013-10-10      4.4        PS Vita, PlayStation 4, Xbox One, iOS, PC, Android, Xbox 360, macOS\n",
      "998        Battlefield 1                            2016-10-21      3.83       Xbox One, PC, PlayStation 4\n",
      "18613      Counter-Strike: Condition Zero           2004-03-01      3.14       PC, macOS, Linux\n",
      "1256       XCOM 2                                   2016-02-04      4.1        Nintendo Switch, macOS, PC, PlayStation 4, Linux\n",
      "13461      Resident Evil 5                          2009-03-03      3.82       Xbox One, Xbox 360, PC, Nintendo Switch, PlayStation 3, PlayStation 4\n",
      "12024      Insurgency                               2014-01-22      3.42       macOS, PC, Linux\n",
      "15002      The Stanley Parable                      2013-10-17      4.37       PC, macOS, Linux\n",
      "3497       Far Cry 4                                2014-11-18      3.82       PlayStation 4, PlayStation 3, PC, Xbox One, Xbox 360\n",
      "17959      Ori and the Blind Forest: Definitive Edition 2016-04-27      4.42       Xbox One, PC, Nintendo Switch, Xbox 360\n",
      "22571      Black Desert Online                      2014-12-01      2.92       Xbox One, PC, PlayStation 4\n",
      "4599       Saints Row 2                             2008-10-14      3.56       PlayStation 3, Xbox 360, PC, Linux, Xbox One\n",
      "10560      Total War: SHOGUN 2                      2011-03-14      3.6        macOS, PC, Linux\n",
      "13268      Amnesia: A Machine for Pigs              2013-09-09      3.23       Linux, macOS, PC\n",
      "11435      Viscera Cleanup Detail: Shadow Warrior   2013-09-26      2.59       macOS, PC\n",
      "3853       Trine 2: Complete Story                  2013-06-05      3.71       PlayStation 4, Nintendo Switch, PC, Linux, macOS\n",
      "4527       Call of Duty: Modern Warfare 2           2009-11-10      4.26       PC, Xbox One, PlayStation 3, macOS, Xbox 360\n",
      "10297      Sid Meier’s Civilization VI              2016-10-20      4.16       iOS, PC, macOS, PlayStation 4, Xbox One, Nintendo Switch, Linux\n",
      "19590      Ori and the Blind Forest                 2015-03-10      4.38       Xbox 360, Xbox One, PC\n",
      "3168       SOMA                                     2015-09-21      4.16       PlayStation 4, Xbox One, PC, macOS, Linux\n",
      "13305      Assassin’s Creed III                     2012-10-30      3.74       Wii U, Xbox 360, PlayStation 3, Xbox One, PlayStation 4, PC\n",
      "1090       This War of Mine                         2014-11-14      4.07       Android, PS Vita, Nintendo Switch, Linux, macOS, PC, iOS\n",
      "4013       Call of Juarez: Gunslinger               2013-05-14      3.81       PlayStation 3, PC, Nintendo Switch, Xbox 360, Xbox One\n",
      "3766       Thief                                    2014-02-25      3.26       PlayStation 4, PlayStation 3, Xbox 360, Xbox One, macOS, PC\n",
      "28172      Kingdom Come: Deliverance                2018-02-13      4.04       PlayStation 4, Xbox One, PC\n",
      "17352      Killing Floor                            2009-05-14      3.44       PC, Linux, macOS\n",
      "952        Shadowrun Returns                        2013-07-24      3.5        PC, macOS, Android, Linux, iOS\n",
      "10061      Watch Dogs 2                             2016-11-28      3.84       Xbox One, PlayStation 4, PC\n",
      "432        Grand Theft Auto III                     2001-10-22      4.15       macOS, PC, iOS, Android, PlayStation 4, PlayStation 2, Xbox\n",
      "43877      Quake Champions                          2017-08-22      3.26       PC\n",
      "3474       Lara Croft and the Temple of Osiris      2014-12-08      3.1        Xbox One, PlayStation 4, PC\n",
      "906        Call of Duty: Black Ops III              2015-11-06      3.27       Xbox 360, Xbox One, PlayStation 3, PC, PlayStation 4\n",
      "18272      Magicka                                  2011-01-25      3.8        Android, PC\n",
      "28202      Wolfenstein II: The New Colossus         2017-10-25      4.09       PlayStation 4, PC, Nintendo Switch, Xbox One\n",
      "10548      Darksiders Warmastered Edition           2016-11-29      3.68       Xbox One, PC, Nintendo Switch, Wii U, PlayStation 4\n",
      "4544       Red Dead Redemption                      2010-05-18      4.43       PC, Nintendo Switch, PlayStation 4, Xbox One, Xbox 360, PlayStation 3\n",
      "11726      Dead Cells                               2018-08-07      4.24       Xbox One, Nintendo Switch, PlayStation 4, macOS, Linux, iOS, PC\n"
     ]
    }
   ],
   "source": [
    "with open('rawg_data_all.json', 'r', encoding='utf-8') as file:\n",
    "    rawg_data = json.load(file)\n",
    "\n",
    "# Ispis detaljnih informacija o preuzetim igrama\n",
    "if rawg_data:\n",
    "    print(f\"Detaljni podaci o preuzetim igrama (ukupno {len(rawg_data)}):\\n\")\n",
    "    print(f\"{'ID':<10} {'Naziv':<40} {'Datum izlaska':<15} {'Ocjena':<10} {'Platforme'}\")\n",
    "    print(\"-\" * 100)\n",
    "    \n",
    "    for idx, game in enumerate(rawg_data[:200]): \n",
    "        game_id = game.get('id', 'N/A')\n",
    "        name = game.get('name', 'N/A')\n",
    "        released = game.get('released', 'N/A')\n",
    "        rating = game.get('rating', 'N/A')\n",
    "        platforms = \", \".join([p['platform']['name'] for p in game.get('platforms', []) if p.get('platform')]) \n",
    "        print(f\"{game_id:<10} {name:<40} {released:<15} {rating:<10} {platforms}\")\n",
    "else:\n",
    "    print(\"Nema preuzetih podataka.\")\n"
   ]
  },
  {
   "cell_type": "markdown",
   "id": "5429341e-d7cc-4800-81cc-34421f97c1ad",
   "metadata": {},
   "source": [
    "Gledamo je li su svi podatci uspješno učitani."
   ]
  },
  {
   "cell_type": "code",
   "execution_count": 7,
   "id": "2a7fe817-f495-4d30-8645-b9bf232906a5",
   "metadata": {},
   "outputs": [
    {
     "name": "stdout",
     "output_type": "stream",
     "text": [
      "Kaggle dataset (Top 20 redaka):\n",
      "+------+----------------------------------------------+----------+--------+--------------+------------------------+----------+----------+----------+-------------+--------------+\n",
      "| Rank |                     Name                     | Platform |  Year  |    Genre     |       Publisher        | NA_Sales | EU_Sales | JP_Sales | Other_Sales | Global_Sales |\n",
      "+------+----------------------------------------------+----------+--------+--------------+------------------------+----------+----------+----------+-------------+--------------+\n",
      "|  1   |                  Wii Sports                  |   Wii    | 2006.0 |    Sports    |        Nintendo        |  41.49   |  29.02   |   3.77   |    8.46     |    82.74     |\n",
      "|  2   |              Super Mario Bros.               |   NES    | 1985.0 |   Platform   |        Nintendo        |  29.08   |   3.58   |   6.81   |    0.77     |    40.24     |\n",
      "|  3   |                Mario Kart Wii                |   Wii    | 2008.0 |    Racing    |        Nintendo        |  15.85   |  12.88   |   3.79   |    3.31     |    35.82     |\n",
      "|  4   |              Wii Sports Resort               |   Wii    | 2009.0 |    Sports    |        Nintendo        |  15.75   |  11.01   |   3.28   |    2.96     |     33.0     |\n",
      "|  5   |           Pokemon Red/Pokemon Blue           |    GB    | 1996.0 | Role-Playing |        Nintendo        |  11.27   |   8.89   |  10.22   |     1.0     |    31.37     |\n",
      "|  6   |                    Tetris                    |    GB    | 1989.0 |    Puzzle    |        Nintendo        |   23.2   |   2.26   |   4.22   |    0.58     |    30.26     |\n",
      "|  7   |            New Super Mario Bros.             |    DS    | 2006.0 |   Platform   |        Nintendo        |  11.38   |   9.23   |   6.5    |     2.9     |    30.01     |\n",
      "|  8   |                   Wii Play                   |   Wii    | 2006.0 |     Misc     |        Nintendo        |  14.03   |   9.2    |   2.93   |    2.85     |    29.02     |\n",
      "|  9   |          New Super Mario Bros. Wii           |   Wii    | 2009.0 |   Platform   |        Nintendo        |  14.59   |   7.06   |   4.7    |    2.26     |    28.62     |\n",
      "|  10  |                  Duck Hunt                   |   NES    | 1984.0 |   Shooter    |        Nintendo        |  26.93   |   0.63   |   0.28   |    0.47     |    28.31     |\n",
      "|  11  |                  Nintendogs                  |    DS    | 2005.0 |  Simulation  |        Nintendo        |   9.07   |   11.0   |   1.93   |    2.75     |    24.76     |\n",
      "|  12  |                Mario Kart DS                 |    DS    | 2005.0 |    Racing    |        Nintendo        |   9.81   |   7.57   |   4.13   |    1.92     |    23.42     |\n",
      "|  13  |         Pokemon Gold/Pokemon Silver          |    GB    | 1999.0 | Role-Playing |        Nintendo        |   9.0    |   6.18   |   7.2    |    0.71     |     23.1     |\n",
      "|  14  |                   Wii Fit                    |   Wii    | 2007.0 |    Sports    |        Nintendo        |   8.94   |   8.03   |   3.6    |    2.15     |    22.72     |\n",
      "|  15  |                 Wii Fit Plus                 |   Wii    | 2009.0 |    Sports    |        Nintendo        |   9.09   |   8.59   |   2.53   |    1.79     |     22.0     |\n",
      "|  16  |              Kinect Adventures!              |   X360   | 2010.0 |     Misc     | Microsoft Game Studios |  14.97   |   4.94   |   0.24   |    1.67     |    21.82     |\n",
      "|  17  |              Grand Theft Auto V              |   PS3    | 2013.0 |    Action    |  Take-Two Interactive  |   7.01   |   9.27   |   0.97   |    4.14     |     21.4     |\n",
      "|  18  |        Grand Theft Auto: San Andreas         |   PS2    | 2004.0 |    Action    |  Take-Two Interactive  |   9.43   |   0.4    |   0.41   |    10.57    |    20.81     |\n",
      "|  19  |              Super Mario World               |   SNES   | 1990.0 |   Platform   |        Nintendo        |  12.78   |   3.75   |   3.54   |    0.55     |    20.61     |\n",
      "|  20  | Brain Age: Train Your Brain in Minutes a Day |    DS    | 2005.0 |     Misc     |        Nintendo        |   4.75   |   9.26   |   4.16   |    2.05     |    20.22     |\n",
      "+------+----------------------------------------------+----------+--------+--------------+------------------------+----------+----------+----------+-------------+--------------+\n",
      "\n",
      "RAWG dataset (Top 20 redaka):\n",
      "ID         Naziv                                    Datum izlaska   Ocjena     Platforme\n",
      "----------------------------------------------------------------------------------------------------\n",
      "3498       Grand Theft Auto V                       2013-09-17      4.47       PC, PlayStation 5, Xbox Series S/X, PlayStation 4, PlayStation 3, Xbox 360, Xbox One\n",
      "3328       The Witcher 3: Wild Hunt                 2015-05-18      4.65       Xbox Series S/X, PlayStation 5, macOS, PlayStation 4, Nintendo Switch, PC, Xbox One\n",
      "4200       Portal 2                                 2011-04-18      4.6        PlayStation 3, PC, Xbox 360, Linux, macOS, Xbox One\n",
      "4291       Counter-Strike: Global Offensive         2012-08-21      3.57       PC, Linux, Xbox 360, PlayStation 3\n",
      "5286       Tomb Raider (2013)                       2013-03-05      4.06       PlayStation 4, PlayStation 3, Xbox 360, macOS, PC, Xbox One\n",
      "13536      Portal                                   2007-10-09      4.5        macOS, PC, Android, PlayStation 3, Xbox 360, Linux, Nintendo Switch\n",
      "12020      Left 4 Dead 2                            2009-11-17      4.09       Xbox 360, Linux, PC, macOS\n",
      "5679       The Elder Scrolls V: Skyrim              2011-11-11      4.42       PC, Xbox Series S/X, PlayStation 5, Xbox One, PlayStation 4, Nintendo Switch, Xbox 360, PlayStation 3\n",
      "28         Red Dead Redemption 2                    2018-10-26      4.59       PC, PlayStation 4, Xbox One\n",
      "4062       BioShock Infinite                        2013-03-26      4.38       PlayStation 4, Xbox 360, Nintendo Switch, Linux, PC, PlayStation 3, Xbox One\n",
      "802        Borderlands 2                            2012-09-18      4.01       PlayStation 3, macOS, PC, Android, Linux, PS Vita, Xbox 360\n",
      "13537      Half-Life 2                              2004-11-16      4.49       PC, macOS, Xbox 360, Linux, Xbox, Android\n",
      "3439       Life is Strange                          2015-01-29      4.11       PC, Linux, PlayStation 3, macOS, iOS, Xbox 360, Android, PlayStation 4, Xbox One\n",
      "4286       BioShock                                 2007-08-21      4.36       PlayStation 3, macOS, PC, Xbox 360\n",
      "32         Destiny 2                                2017-09-06      3.53       PlayStation 4, Xbox One, PC, Web, Xbox Series S/X, PlayStation 5\n",
      "3939       PAYDAY 2                                 2013-08-13      3.52       Linux, PC, Xbox One\n",
      "3070       Fallout 4                                2015-11-09      3.81       PlayStation 4, PC, PlayStation 5, Xbox One\n",
      "58175      God of War (2018)                        2018-04-20      4.56       PC, PlayStation 4\n",
      "11859      Team Fortress 2                          2007-10-10      3.67       PC, macOS, Linux\n",
      "1030       Limbo                                    2010-07-21      4.14       PC, Android, PS Vita, PlayStation 4, PlayStation 3, Xbox 360, Linux, macOS, iOS, Xbox One, Nintendo Switch\n"
     ]
    }
   ],
   "source": [
    "print(\"Kaggle dataset (Top 20 redaka):\")\n",
    "print(tabulate(df.head(20), headers='keys', tablefmt='pretty', showindex=False))\n",
    "\n",
    "# Ispis RAWG dataset-a\n",
    "print(\"\\nRAWG dataset (Top 20 redaka):\")\n",
    "print(f\"{'ID':<10} {'Naziv':<40} {'Datum izlaska':<15} {'Ocjena':<10} {'Platforme'}\")\n",
    "print(\"-\" * 100)\n",
    "\n",
    "# Ispis podataka o igrama iz rawg_data\n",
    "for game in rawg_data[:20]: \n",
    "    game_id = game.get('id', 'N/A')\n",
    "    name = game.get('name', 'N/A')\n",
    "    released = game.get('released', 'N/A')\n",
    "    rating = game.get('rating', 'N/A')\n",
    "\n",
    "    platforms = \", \".join([p['platform']['name'] for p in game.get('platforms', []) if p.get('platform')])\n",
    "    \n",
    "    print(f\"{game_id:<10} {name:<40} {released:<15} {rating:<10} {platforms}\")\n"
   ]
  },
  {
   "cell_type": "markdown",
   "id": "d8b709fc-c607-4b8c-a732-7b433b68843c",
   "metadata": {},
   "source": [
    "Brišemo stupce iz .csv datoteke jer nam nisu bitni za daljnju analizu."
   ]
  },
  {
   "cell_type": "code",
   "execution_count": 8,
   "id": "bacd558c-55b2-4e87-86e9-96b182b37599",
   "metadata": {},
   "outputs": [
    {
     "name": "stdout",
     "output_type": "stream",
     "text": [
      "Kaggle dataset bez stupca 'publisher':\n",
      "+------+---------------------------+----------+--------------+----------+----------+----------+-------------+--------------+\n",
      "| Rank |           Name            | Platform |    Genre     | NA_Sales | EU_Sales | JP_Sales | Other_Sales | Global_Sales |\n",
      "+------+---------------------------+----------+--------------+----------+----------+----------+-------------+--------------+\n",
      "|  1   |        Wii Sports         |   Wii    |    Sports    |  41.49   |  29.02   |   3.77   |    8.46     |    82.74     |\n",
      "|  2   |     Super Mario Bros.     |   NES    |   Platform   |  29.08   |   3.58   |   6.81   |    0.77     |    40.24     |\n",
      "|  3   |      Mario Kart Wii       |   Wii    |    Racing    |  15.85   |  12.88   |   3.79   |    3.31     |    35.82     |\n",
      "|  4   |     Wii Sports Resort     |   Wii    |    Sports    |  15.75   |  11.01   |   3.28   |    2.96     |     33.0     |\n",
      "|  5   | Pokemon Red/Pokemon Blue  |    GB    | Role-Playing |  11.27   |   8.89   |  10.22   |     1.0     |    31.37     |\n",
      "|  6   |          Tetris           |    GB    |    Puzzle    |   23.2   |   2.26   |   4.22   |    0.58     |    30.26     |\n",
      "|  7   |   New Super Mario Bros.   |    DS    |   Platform   |  11.38   |   9.23   |   6.5    |     2.9     |    30.01     |\n",
      "|  8   |         Wii Play          |   Wii    |     Misc     |  14.03   |   9.2    |   2.93   |    2.85     |    29.02     |\n",
      "|  9   | New Super Mario Bros. Wii |   Wii    |   Platform   |  14.59   |   7.06   |   4.7    |    2.26     |    28.62     |\n",
      "|  10  |         Duck Hunt         |   NES    |   Shooter    |  26.93   |   0.63   |   0.28   |    0.47     |    28.31     |\n",
      "+------+---------------------------+----------+--------------+----------+----------+----------+-------------+--------------+\n"
     ]
    }
   ],
   "source": [
    "df = df.drop(columns=['Publisher','Year'])\n",
    "\n",
    "print(\"Kaggle dataset bez stupca 'publisher':\")\n",
    "print(tabulate(df.head(10), headers='keys', tablefmt='pretty', showindex=False))"
   ]
  },
  {
   "cell_type": "markdown",
   "id": "ae0da84d-6d2d-4ecb-9d2b-18a8e078d210",
   "metadata": {},
   "source": [
    "Ponovo gledamo jesu li podatci spremni za daljnu obradu tako što ih prikazujemo u tablici."
   ]
  },
  {
   "cell_type": "code",
   "execution_count": 9,
   "id": "1ed0d33f-4e93-488f-8ece-104daafac3fb",
   "metadata": {},
   "outputs": [
    {
     "name": "stdout",
     "output_type": "stream",
     "text": [
      "Kaggle dataset (Top 20 redaka):\n",
      "+------+----------------------------------------------+----------+--------------+----------+----------+----------+-------------+--------------+\n",
      "| Rank |                     Name                     | Platform |    Genre     | NA_Sales | EU_Sales | JP_Sales | Other_Sales | Global_Sales |\n",
      "+------+----------------------------------------------+----------+--------------+----------+----------+----------+-------------+--------------+\n",
      "|  1   |                  Wii Sports                  |   Wii    |    Sports    |  41.49   |  29.02   |   3.77   |    8.46     |    82.74     |\n",
      "|  2   |              Super Mario Bros.               |   NES    |   Platform   |  29.08   |   3.58   |   6.81   |    0.77     |    40.24     |\n",
      "|  3   |                Mario Kart Wii                |   Wii    |    Racing    |  15.85   |  12.88   |   3.79   |    3.31     |    35.82     |\n",
      "|  4   |              Wii Sports Resort               |   Wii    |    Sports    |  15.75   |  11.01   |   3.28   |    2.96     |     33.0     |\n",
      "|  5   |           Pokemon Red/Pokemon Blue           |    GB    | Role-Playing |  11.27   |   8.89   |  10.22   |     1.0     |    31.37     |\n",
      "|  6   |                    Tetris                    |    GB    |    Puzzle    |   23.2   |   2.26   |   4.22   |    0.58     |    30.26     |\n",
      "|  7   |            New Super Mario Bros.             |    DS    |   Platform   |  11.38   |   9.23   |   6.5    |     2.9     |    30.01     |\n",
      "|  8   |                   Wii Play                   |   Wii    |     Misc     |  14.03   |   9.2    |   2.93   |    2.85     |    29.02     |\n",
      "|  9   |          New Super Mario Bros. Wii           |   Wii    |   Platform   |  14.59   |   7.06   |   4.7    |    2.26     |    28.62     |\n",
      "|  10  |                  Duck Hunt                   |   NES    |   Shooter    |  26.93   |   0.63   |   0.28   |    0.47     |    28.31     |\n",
      "|  11  |                  Nintendogs                  |    DS    |  Simulation  |   9.07   |   11.0   |   1.93   |    2.75     |    24.76     |\n",
      "|  12  |                Mario Kart DS                 |    DS    |    Racing    |   9.81   |   7.57   |   4.13   |    1.92     |    23.42     |\n",
      "|  13  |         Pokemon Gold/Pokemon Silver          |    GB    | Role-Playing |   9.0    |   6.18   |   7.2    |    0.71     |     23.1     |\n",
      "|  14  |                   Wii Fit                    |   Wii    |    Sports    |   8.94   |   8.03   |   3.6    |    2.15     |    22.72     |\n",
      "|  15  |                 Wii Fit Plus                 |   Wii    |    Sports    |   9.09   |   8.59   |   2.53   |    1.79     |     22.0     |\n",
      "|  16  |              Kinect Adventures!              |   X360   |     Misc     |  14.97   |   4.94   |   0.24   |    1.67     |    21.82     |\n",
      "|  17  |              Grand Theft Auto V              |   PS3    |    Action    |   7.01   |   9.27   |   0.97   |    4.14     |     21.4     |\n",
      "|  18  |        Grand Theft Auto: San Andreas         |   PS2    |    Action    |   9.43   |   0.4    |   0.41   |    10.57    |    20.81     |\n",
      "|  19  |              Super Mario World               |   SNES   |   Platform   |  12.78   |   3.75   |   3.54   |    0.55     |    20.61     |\n",
      "|  20  | Brain Age: Train Your Brain in Minutes a Day |    DS    |     Misc     |   4.75   |   9.26   |   4.16   |    2.05     |    20.22     |\n",
      "+------+----------------------------------------------+----------+--------------+----------+----------+----------+-------------+--------------+\n",
      "\n",
      "RAWG dataset (Top 20 redaka):\n",
      "ID         Naziv                                    Datum izlaska   Ocjena     Platforme\n",
      "----------------------------------------------------------------------------------------------------\n",
      "3498       Grand Theft Auto V                       2013-09-17      4.47       PC, PlayStation 5, Xbox Series S/X, PlayStation 4, PlayStation 3, Xbox 360, Xbox One\n",
      "3328       The Witcher 3: Wild Hunt                 2015-05-18      4.65       Xbox Series S/X, PlayStation 5, macOS, PlayStation 4, Nintendo Switch, PC, Xbox One\n",
      "4200       Portal 2                                 2011-04-18      4.6        PlayStation 3, PC, Xbox 360, Linux, macOS, Xbox One\n",
      "4291       Counter-Strike: Global Offensive         2012-08-21      3.57       PC, Linux, Xbox 360, PlayStation 3\n",
      "5286       Tomb Raider (2013)                       2013-03-05      4.06       PlayStation 4, PlayStation 3, Xbox 360, macOS, PC, Xbox One\n",
      "13536      Portal                                   2007-10-09      4.5        macOS, PC, Android, PlayStation 3, Xbox 360, Linux, Nintendo Switch\n",
      "12020      Left 4 Dead 2                            2009-11-17      4.09       Xbox 360, Linux, PC, macOS\n",
      "5679       The Elder Scrolls V: Skyrim              2011-11-11      4.42       PC, Xbox Series S/X, PlayStation 5, Xbox One, PlayStation 4, Nintendo Switch, Xbox 360, PlayStation 3\n",
      "28         Red Dead Redemption 2                    2018-10-26      4.59       PC, PlayStation 4, Xbox One\n",
      "4062       BioShock Infinite                        2013-03-26      4.38       PlayStation 4, Xbox 360, Nintendo Switch, Linux, PC, PlayStation 3, Xbox One\n",
      "802        Borderlands 2                            2012-09-18      4.01       PlayStation 3, macOS, PC, Android, Linux, PS Vita, Xbox 360\n",
      "13537      Half-Life 2                              2004-11-16      4.49       PC, macOS, Xbox 360, Linux, Xbox, Android\n",
      "3439       Life is Strange                          2015-01-29      4.11       PC, Linux, PlayStation 3, macOS, iOS, Xbox 360, Android, PlayStation 4, Xbox One\n",
      "4286       BioShock                                 2007-08-21      4.36       PlayStation 3, macOS, PC, Xbox 360\n",
      "32         Destiny 2                                2017-09-06      3.53       PlayStation 4, Xbox One, PC, Web, Xbox Series S/X, PlayStation 5\n",
      "3939       PAYDAY 2                                 2013-08-13      3.52       Linux, PC, Xbox One\n",
      "3070       Fallout 4                                2015-11-09      3.81       PlayStation 4, PC, PlayStation 5, Xbox One\n",
      "58175      God of War (2018)                        2018-04-20      4.56       PC, PlayStation 4\n",
      "11859      Team Fortress 2                          2007-10-10      3.67       PC, macOS, Linux\n",
      "1030       Limbo                                    2010-07-21      4.14       PC, Android, PS Vita, PlayStation 4, PlayStation 3, Xbox 360, Linux, macOS, iOS, Xbox One, Nintendo Switch\n"
     ]
    }
   ],
   "source": [
    "print(\"Kaggle dataset (Top 20 redaka):\")\n",
    "print(tabulate(df.head(20), headers='keys', tablefmt='pretty', showindex=False))\n",
    "print(\"\\nRAWG dataset (Top 20 redaka):\")\n",
    "print(f\"{'ID':<10} {'Naziv':<40} {'Datum izlaska':<15} {'Ocjena':<10} {'Platforme'}\")\n",
    "print(\"-\" * 100)\n",
    "\n",
    "for game in rawg_data[:20]:\n",
    "    game_id = game.get('id', 'N/A')\n",
    "    name = game.get('name', 'N/A')\n",
    "    released = game.get('released', 'N/A')\n",
    "    rating = game.get('rating', 'N/A')\n",
    "    \n",
    "    platforms = \", \".join([p['platform']['name'] for p in game.get('platforms', []) if p.get('platform')])\n",
    "    \n",
    "    print(f\"{game_id:<10} {name:<40} {released:<15} {rating:<10} {platforms}\")\n"
   ]
  },
  {
   "cell_type": "markdown",
   "id": "b27a5a43-3900-4d65-b79e-29ff65cdaf61",
   "metadata": {},
   "source": [
    "Integracija podataka iz ova dva izvora provedena je spajanjem na temelju zajedničkog atributa, naziva igre. Za povezivanje podataka korištena je funkcija merge iz Pandas biblioteke, gdje je naziv igre iz Kaggle skupa (stupac \"Name\") uspoređen s nazivom igre iz RAWG podataka (stupac \"name\"). Kako bi spajanje bilo uspješno, oba su atributa prethodno normalizirana. Rezultat ovog procesa je objedinjeni skup podataka koji uključuje informacije o globalnoj prodaji igara iz Kaggle skupa te korisničke ocjene i popis platformi iz RAWG API-ja. Konačni skup podataka dodatno je očišćen uklanjanjem svih zapisa s nedostajućim vrijednostima te onima koji nisu pootrebni u daljnoj analizi poput slug, background-image i sl.\n",
    "\n",
    "Ovaj proces prikupljanja, čišćenja i spajanja podataka omogućio je stvaranje sveobuhvatnog skupa podataka koji obuhvaća detaljne informacije o igrama iz više izvora, pružajući temelj za daljnju analizu i vizualizaciju."
   ]
  },
  {
   "cell_type": "markdown",
   "id": "4bfed1cc-45af-4297-89a4-dfc8e95df1dd",
   "metadata": {},
   "source": [
    "## Spajanje u jedan dataset"
   ]
  },
  {
   "cell_type": "code",
   "execution_count": 10,
   "id": "dfc9f8bf-25b0-4d86-8390-9b968e61d8b6",
   "metadata": {},
   "outputs": [
    {
     "name": "stdout",
     "output_type": "stream",
     "text": [
      "     id                slug                name    released    tba  \\\n",
      "0  3498  grand-theft-auto-v  grand theft auto v  2013-09-17  False   \n",
      "1  3498  grand-theft-auto-v  grand theft auto v  2013-09-17  False   \n",
      "2  3498  grand-theft-auto-v  grand theft auto v  2013-09-17  False   \n",
      "3  3498  grand-theft-auto-v  grand theft auto v  2013-09-17  False   \n",
      "4  3498  grand-theft-auto-v  grand theft auto v  2013-09-17  False   \n",
      "\n",
      "                                    background_image  rating  rating_top  \\\n",
      "0  https://media.rawg.io/media/games/20a/20aa03a1...    4.47           5   \n",
      "1  https://media.rawg.io/media/games/20a/20aa03a1...    4.47           5   \n",
      "2  https://media.rawg.io/media/games/20a/20aa03a1...    4.47           5   \n",
      "3  https://media.rawg.io/media/games/20a/20aa03a1...    4.47           5   \n",
      "4  https://media.rawg.io/media/games/20a/20aa03a1...    4.47           5   \n",
      "\n",
      "                                             ratings  ratings_count  ...  \\\n",
      "0  [{'id': 5, 'title': 'exceptional', 'count': 42...           7001  ...   \n",
      "1  [{'id': 5, 'title': 'exceptional', 'count': 42...           7001  ...   \n",
      "2  [{'id': 5, 'title': 'exceptional', 'count': 42...           7001  ...   \n",
      "3  [{'id': 5, 'title': 'exceptional', 'count': 42...           7001  ...   \n",
      "4  [{'id': 5, 'title': 'exceptional', 'count': 42...           7001  ...   \n",
      "\n",
      "   community_rating  Rank                Name  Platform   Genre  NA_Sales  \\\n",
      "0               NaN    17  grand theft auto v       PS3  Action      7.01   \n",
      "1               NaN    24  grand theft auto v      X360  Action      9.63   \n",
      "2               NaN    45  grand theft auto v       PS4  Action      3.80   \n",
      "3               NaN   198  grand theft auto v      XOne  Action      2.66   \n",
      "4               NaN  1898  grand theft auto v        PC  Action      0.36   \n",
      "\n",
      "  EU_Sales JP_Sales  Other_Sales Global_Sales  \n",
      "0     9.27     0.97         4.14        21.40  \n",
      "1     5.31     0.06         1.38        16.38  \n",
      "2     5.81     0.36         2.02        11.98  \n",
      "3     2.01     0.00         0.41         5.08  \n",
      "4     0.64     0.00         0.08         1.08  \n",
      "\n",
      "[5 rows x 39 columns]\n"
     ]
    }
   ],
   "source": [
    "# pretvaram u df dva prijasnja kako bi bili jedan\n",
    "rawg_df = pd.DataFrame(rawg_data)\n",
    "kaggle_df = pd.DataFrame(df)\n",
    "\n",
    "# Normalizacija naziva igara\n",
    "rawg_df['name'] = rawg_df['name'].str.strip().str.lower()\n",
    "kaggle_df['Name'] = kaggle_df['Name'].str.strip().str.lower()\n",
    "\n",
    "# Spajanje podataka prema zajedničkom nazivu igre\n",
    "merged_data = pd.merge(rawg_df, kaggle_df, left_on='name', right_on='Name', how='inner')\n",
    "\n",
    "# Uklanjanje zapisa s nedostajućim vrijednostima u ključnim atributima\n",
    "key_columns = ['Global_Sales', 'rating']  # Primjer ključnih atributa\n",
    "merged_data = merged_data.dropna(subset=key_columns)\n",
    "\n",
    "print(merged_data.head())\n"
   ]
  },
  {
   "cell_type": "markdown",
   "id": "5eab1c86-bfbb-40e8-aba8-d4a5959277cb",
   "metadata": {},
   "source": [
    "Pregledavamo sve stupce te brišemo one koji su nam nepotrebni"
   ]
  },
  {
   "cell_type": "code",
   "execution_count": 11,
   "id": "a2a90f26-9cf1-4579-ae98-b72fd06bc306",
   "metadata": {},
   "outputs": [
    {
     "name": "stdout",
     "output_type": "stream",
     "text": [
      "Stupci u merganom datasetu:\n",
      "['id', 'slug', 'name', 'released', 'tba', 'background_image', 'rating', 'rating_top', 'ratings', 'ratings_count', 'reviews_text_count', 'added', 'added_by_status', 'metacritic', 'playtime', 'suggestions_count', 'updated', 'user_game', 'reviews_count', 'saturated_color', 'dominant_color', 'platforms', 'parent_platforms', 'genres', 'stores', 'clip', 'tags', 'esrb_rating', 'short_screenshots', 'community_rating', 'Rank', 'Name', 'Platform', 'Genre', 'NA_Sales', 'EU_Sales', 'JP_Sales', 'Other_Sales', 'Global_Sales']\n"
     ]
    }
   ],
   "source": [
    "print(\"Stupci u merganom datasetu:\")\n",
    "print(merged_data.columns.tolist())"
   ]
  },
  {
   "cell_type": "code",
   "execution_count": 12,
   "id": "240a534a-73c4-44d0-a31e-c0e6a60c34db",
   "metadata": {},
   "outputs": [
    {
     "name": "stdout",
     "output_type": "stream",
     "text": [
      "Preostali stupci nakon uklanjanja:\n",
      "['id', 'released', 'rating', 'Name', 'Platform', 'Genre', 'NA_Sales', 'EU_Sales', 'JP_Sales', 'Other_Sales', 'Global_Sales']\n"
     ]
    }
   ],
   "source": [
    "stupci_za_uklanjanje = ['slug', 'tba', 'background_image','rating_top','ratings_count','reviews_text_count','community_rating','added','added_by_status','metacritic','playtime','suggestions_count','updated','user_game','reviews_count','saturated_color','dominant_color','parent_platforms','stores','clip','tags','esrb_rating','short_screenshots','Rank','ratings','platforms','genres','name']\n",
    "\n",
    "merged_data = merged_data.drop(columns=stupci_za_uklanjanje)\n",
    "\n",
    "print(\"Preostali stupci nakon uklanjanja:\")\n",
    "print(merged_data.columns.tolist())"
   ]
  },
  {
   "cell_type": "markdown",
   "id": "07f8a477-a347-41c9-bcb3-a110a8039a00",
   "metadata": {},
   "source": [
    "Provjeravamo dobiveni dataframe"
   ]
  },
  {
   "cell_type": "code",
   "execution_count": 13,
   "id": "43c610ad-169b-4572-a6f7-20d08c76bbea",
   "metadata": {},
   "outputs": [
    {
     "name": "stdout",
     "output_type": "stream",
     "text": [
      "     id    released  rating                Name Platform   Genre  NA_Sales  \\\n",
      "0  3498  2013-09-17    4.47  grand theft auto v      PS3  Action      7.01   \n",
      "1  3498  2013-09-17    4.47  grand theft auto v     X360  Action      9.63   \n",
      "2  3498  2013-09-17    4.47  grand theft auto v      PS4  Action      3.80   \n",
      "3  3498  2013-09-17    4.47  grand theft auto v     XOne  Action      2.66   \n",
      "4  3498  2013-09-17    4.47  grand theft auto v       PC  Action      0.36   \n",
      "\n",
      "   EU_Sales  JP_Sales  Other_Sales  Global_Sales  \n",
      "0      9.27      0.97         4.14         21.40  \n",
      "1      5.31      0.06         1.38         16.38  \n",
      "2      5.81      0.36         2.02         11.98  \n",
      "3      2.01      0.00         0.41          5.08  \n",
      "4      0.64      0.00         0.08          1.08  \n"
     ]
    }
   ],
   "source": [
    "print(merged_data.head()) "
   ]
  },
  {
   "cell_type": "markdown",
   "id": "fdc2bd60-8a8e-4362-befe-253e7cc4b848",
   "metadata": {},
   "source": [
    "## Kreiranje baze podataka i spremanje dataseta"
   ]
  },
  {
   "cell_type": "markdown",
   "id": "c1739f10-81bc-4bb4-bad9-6892e28cdf4e",
   "metadata": {},
   "source": [
    "Nakon filtriranja podataka prema odabranim kriterijima, cilj je pohraniti te filtrirane podatke u bazu podataka kako bi ih bilo moguće kasnije analizirati ili koristiti. U ovom slučaju, baza podataka u kojoj će podaci biti pohranjeni zove se igre_baza.db, a nalazi se u istom direktoriju gdje se nalazi i trenutna mapa s izvršnim skriptama.\n",
    "Kod za povezivanje na SQLite bazu koristi create_engine funkciju iz biblioteke sqlalchemy, koja omogućava stvaranje ili povezivanje na SQLite bazu podataka. \n",
    "\n",
    "U ovom primjeru, veza na bazu ostvarena je s nazivom sqlite:///igre_baza.db, što označava da će se baza nalaziti u trenutnom radnom direktoriju. Nakon toga, izvršava se SQL upit za dohvat svih podataka iz tablice igre. Nakon kreirane baze podataka još samo preostaje izrada REST API-a te vizualizacija podataka, što je sljedeći korak. "
   ]
  },
  {
   "cell_type": "code",
   "execution_count": 14,
   "id": "38a3f22a-32b6-4ff4-8ccd-637ec9676243",
   "metadata": {},
   "outputs": [
    {
     "name": "stdout",
     "output_type": "stream",
     "text": [
      "Tablica 'igre' je uspješno stvorena ili već postoji.\n",
      "Podaci su uspješno uneseni u tablicu 'igre'.\n",
      "(3498, '2013-09-17', 4.47, 'grand theft auto v', 'PS3', 'Action', 7.01, 9.27, 0.97, 4.14, 21.4)\n",
      "(3498, '2013-09-17', 4.47, 'grand theft auto v', 'X360', 'Action', 9.63, 5.31, 0.06, 1.38, 16.38)\n",
      "(3498, '2013-09-17', 4.47, 'grand theft auto v', 'PS4', 'Action', 3.8, 5.81, 0.36, 2.02, 11.98)\n",
      "(3498, '2013-09-17', 4.47, 'grand theft auto v', 'XOne', 'Action', 2.66, 2.01, 0.0, 0.41, 5.08)\n",
      "(3498, '2013-09-17', 4.47, 'grand theft auto v', 'PC', 'Action', 0.36, 0.64, 0.0, 0.08, 1.08)\n",
      "(3328, '2015-05-18', 4.65, 'the witcher 3: wild hunt', 'PS4', 'Role-Playing', 0.96, 2.0, 0.21, 0.56, 3.73)\n",
      "(3328, '2015-05-18', 4.65, 'the witcher 3: wild hunt', 'XOne', 'Role-Playing', 0.66, 0.47, 0.0, 0.11, 1.24)\n",
      "(3328, '2015-05-18', 4.65, 'the witcher 3: wild hunt', 'PC', 'Role-Playing', 0.2, 0.42, 0.0, 0.05, 0.67)\n",
      "(4200, '2011-04-18', 4.6, 'portal 2', 'X360', 'Shooter', 1.41, 0.51, 0.01, 0.17, 2.1)\n",
      "(4200, '2011-04-18', 4.6, 'portal 2', 'PS3', 'Shooter', 0.83, 0.63, 0.02, 0.25, 1.74)\n",
      "(4200, '2011-04-18', 4.6, 'portal 2', 'PC', 'Shooter', 0.33, 0.32, 0.0, 0.11, 0.76)\n",
      "(5286, '2013-03-05', 4.06, 'tomb raider (2013)', 'PS3', 'Action', 0.6, 1.31, 0.08, 0.52, 2.51)\n",
      "(5286, '2013-03-05', 4.06, 'tomb raider (2013)', 'X360', 'Action', 0.86, 0.87, 0.01, 0.17, 1.92)\n",
      "(5286, '2013-03-05', 4.06, 'tomb raider (2013)', 'PS4', 'Action', 0.47, 0.64, 0.06, 0.25, 1.41)\n",
      "(5286, '2013-03-05', 4.06, 'tomb raider (2013)', 'XOne', 'Action', 0.34, 0.21, 0.0, 0.05, 0.6)\n",
      "(5286, '2013-03-05', 4.06, 'tomb raider (2013)', 'PC', 'Action', 0.06, 0.25, 0.0, 0.05, 0.36)\n",
      "(12020, '2009-11-17', 4.09, 'left 4 dead 2', 'X360', 'Shooter', 2.67, 0.89, 0.05, 0.37, 3.99)\n",
      "(12020, '2009-11-17', 4.09, 'left 4 dead 2', 'PC', 'Shooter', 0.0, 0.32, 0.0, 0.04, 0.37)\n",
      "(5679, '2011-11-11', 4.42, 'the elder scrolls v: skyrim', 'X360', 'Role-Playing', 5.03, 2.86, 0.1, 0.85, 8.84)\n",
      "(5679, '2011-11-11', 4.42, 'the elder scrolls v: skyrim', 'PS3', 'Role-Playing', 2.55, 2.71, 0.25, 1.05, 6.56)\n",
      "(5679, '2011-11-11', 4.42, 'the elder scrolls v: skyrim', 'PC', 'Role-Playing', 1.15, 2.09, 0.0, 0.64, 3.88)\n",
      "(4062, '2013-03-26', 4.38, 'bioshock infinite', 'X360', 'Shooter', 1.22, 0.57, 0.02, 0.15, 1.96)\n",
      "(4062, '2013-03-26', 4.38, 'bioshock infinite', 'PS3', 'Shooter', 0.72, 0.69, 0.04, 0.31, 1.76)\n",
      "(4062, '2013-03-26', 4.38, 'bioshock infinite', 'PC', 'Shooter', 0.28, 0.3, 0.0, 0.08, 0.67)\n",
      "(802, '2012-09-18', 4.01, 'borderlands 2', 'X360', 'Shooter', 1.89, 0.91, 0.04, 0.24, 3.07)\n",
      "(802, '2012-09-18', 4.01, 'borderlands 2', 'PS3', 'Shooter', 1.05, 0.77, 0.1, 0.36, 2.28)\n",
      "(802, '2012-09-18', 4.01, 'borderlands 2', 'PC', 'Shooter', 0.42, 0.41, 0.0, 0.11, 0.93)\n",
      "(802, '2012-09-18', 4.01, 'borderlands 2', 'PSV', 'Shooter', 0.43, 0.21, 0.01, 0.19, 0.83)\n",
      "(13537, '2004-11-16', 4.49, 'half-life 2', 'PC', 'Shooter', 2.28, 0.02, 0.08, 0.0, 2.37)\n",
      "(13537, '2004-11-16', 4.49, 'half-life 2', 'XB', 'Shooter', 0.37, 0.21, 0.0, 0.03, 0.61)\n",
      "(3439, '2015-01-29', 4.11, 'life is strange', 'PS4', 'Adventure', 0.14, 0.15, 0.03, 0.06, 0.37)\n",
      "(3439, '2015-01-29', 4.11, 'life is strange', 'XOne', 'Adventure', 0.08, 0.02, 0.0, 0.01, 0.11)\n",
      "(3439, '2015-01-29', 4.11, 'life is strange', 'PC', 'Adventure', 0.01, 0.03, 0.0, 0.0, 0.04)\n",
      "(4286, '2007-08-21', 4.36, 'bioshock', 'X360', 'Shooter', 1.65, 0.86, 0.05, 0.28, 2.83)\n",
      "(4286, '2007-08-21', 4.36, 'bioshock', 'PS3', 'Shooter', 0.75, 0.49, 0.01, 0.21, 1.45)\n",
      "(4286, '2007-08-21', 4.36, 'bioshock', 'PC', 'Shooter', 0.01, 0.39, 0.0, 0.02, 0.41)\n",
      "(3939, '2013-08-13', 3.52, 'payday 2', 'X360', 'Shooter', 0.33, 0.21, 0.0, 0.05, 0.59)\n",
      "(3939, '2013-08-13', 3.52, 'payday 2', 'PS3', 'Shooter', 0.21, 0.15, 0.0, 0.08, 0.44)\n",
      "(3939, '2013-08-13', 3.52, 'payday 2', 'PS4', 'Shooter', 0.09, 0.14, 0.0, 0.04, 0.27)\n",
      "(3939, '2013-08-13', 3.52, 'payday 2', 'XOne', 'Shooter', 0.08, 0.07, 0.0, 0.01, 0.17)\n",
      "(3939, '2013-08-13', 3.52, 'payday 2', 'PC', 'Shooter', 0.04, 0.0, 0.0, 0.0, 0.05)\n",
      "(3070, '2015-11-09', 3.81, 'fallout 4', 'PS4', 'Role-Playing', 2.47, 3.15, 0.24, 1.1, 6.96)\n",
      "(3070, '2015-11-09', 3.81, 'fallout 4', 'XOne', 'Role-Playing', 2.45, 1.26, 0.01, 0.37, 4.09)\n",
      "(3070, '2015-11-09', 3.81, 'fallout 4', 'PC', 'Role-Playing', 0.5, 0.63, 0.0, 0.1, 1.23)\n",
      "(2454, '2016-05-13', 4.38, 'doom (2016)', 'PS4', 'Shooter', 0.49, 0.66, 0.02, 0.22, 1.39)\n",
      "(2454, '2016-05-13', 4.38, 'doom (2016)', 'XOne', 'Shooter', 0.39, 0.23, 0.0, 0.06, 0.68)\n",
      "(2454, '2016-05-13', 4.38, 'doom (2016)', 'PC', 'Shooter', 0.06, 0.1, 0.0, 0.01, 0.18)\n",
      "(422, '2011-05-16', 4.06, 'terraria', 'X360', 'Action', 0.35, 0.31, 0.0, 0.06, 0.72)\n",
      "(422, '2011-05-16', 4.06, 'terraria', 'PS3', 'Action', 0.07, 0.26, 0.09, 0.07, 0.49)\n",
      "(422, '2011-05-16', 4.06, 'terraria', 'PC', 'Action', 0.0, 0.13, 0.0, 0.02, 0.15)\n",
      "(422, '2011-05-16', 4.06, 'terraria', 'PSV', 'Action', 0.0, 0.01, 0.09, 0.0, 0.11)\n",
      "(422, '2011-05-16', 4.06, 'terraria', '3DS', 'Action', 0.0, 0.03, 0.04, 0.0, 0.08)\n",
      "(422, '2011-05-16', 4.06, 'terraria', 'PS4', 'Action', 0.0, 0.05, 0.01, 0.01, 0.06)\n",
      "(422, '2011-05-16', 4.06, 'terraria', 'XOne', 'Action', 0.0, 0.04, 0.0, 0.0, 0.04)\n",
      "(422, '2011-05-16', 4.06, 'terraria', 'WiiU', 'Action', 0.0, 0.02, 0.0, 0.0, 0.03)\n",
      "(4459, '2008-04-29', 4.26, 'grand theft auto iv', 'X360', 'Action', 6.76, 3.1, 0.14, 1.03, 11.02)\n",
      "(4459, '2008-04-29', 4.26, 'grand theft auto iv', 'PS3', 'Action', 4.76, 3.76, 0.44, 1.62, 10.57)\n",
      "(4459, '2008-04-29', 4.26, 'grand theft auto iv', 'PC', 'Action', 0.01, 0.79, 0.0, 0.08, 0.88)\n",
      "(3272, '2015-07-07', 3.93, 'rocket league', 'PS4', 'Sports', 0.02, 0.14, 0.0, 0.07, 0.23)\n",
      "(3272, '2015-07-07', 3.93, 'rocket league', 'XOne', 'Sports', 0.03, 0.09, 0.0, 0.01, 0.12)\n",
      "(3272, '2015-07-07', 3.93, 'rocket league', 'PC', 'Sports', 0.01, 0.01, 0.0, 0.0, 0.02)\n",
      "(29028, '2010-03-16', 3.94, 'metro 2033', 'X360', 'Shooter', 0.22, 0.24, 0.03, 0.05, 0.55)\n",
      "(29028, '2010-03-16', 3.94, 'metro 2033', 'PC', 'Shooter', 0.0, 0.19, 0.0, 0.05, 0.24)\n",
      "(7689, '2015-11-10', 4.04, 'rise of the tomb raider', 'XOne', 'Adventure', 0.53, 0.64, 0.02, 0.1, 1.3)\n",
      "(7689, '2015-11-10', 4.04, 'rise of the tomb raider', 'X360', 'Adventure', 0.17, 0.19, 0.0, 0.03, 0.4)\n",
      "(7689, '2015-11-10', 4.04, 'rise of the tomb raider', 'PC', 'Adventure', 0.0, 0.09, 0.0, 0.01, 0.1)\n",
      "(3287, '2015-06-23', 4.24, 'batman: arkham knight', 'PS4', 'Action', 1.49, 1.58, 0.1, 0.61, 3.79)\n",
      "(3287, '2015-06-23', 4.24, 'batman: arkham knight', 'XOne', 'Action', 0.86, 0.46, 0.0, 0.13, 1.45)\n",
      "(3287, '2015-06-23', 4.24, 'batman: arkham knight', 'PC', 'Action', 0.08, 0.03, 0.0, 0.01, 0.13)\n",
      "(3192, '2015-09-01', 4.16, 'metal gear solid v: the phantom pain', 'PS4', 'Action', 1.08, 1.35, 0.48, 0.47, 3.38)\n",
      "(3192, '2015-09-01', 4.16, 'metal gear solid v: the phantom pain', 'XOne', 'Action', 0.37, 0.26, 0.01, 0.06, 0.71)\n",
      "(3192, '2015-09-01', 4.16, 'metal gear solid v: the phantom pain', 'PS3', 'Action', 0.21, 0.18, 0.22, 0.08, 0.7)\n",
      "(3192, '2015-09-01', 4.16, 'metal gear solid v: the phantom pain', 'X360', 'Action', 0.12, 0.08, 0.0, 0.02, 0.21)\n",
      "(3192, '2015-09-01', 4.16, 'metal gear solid v: the phantom pain', 'PC', 'Action', 0.0, 0.07, 0.0, 0.0, 0.08)\n",
      "(416, '2004-10-26', 4.51, 'grand theft auto: san andreas', 'PS2', 'Action', 9.43, 0.4, 0.41, 10.57, 20.81)\n",
      "(416, '2004-10-26', 4.51, 'grand theft auto: san andreas', 'XB', 'Action', 1.26, 0.61, 0.0, 0.09, 1.95)\n",
      "(416, '2004-10-26', 4.51, 'grand theft auto: san andreas', 'PC', 'Action', 0.0, 0.92, 0.0, 0.05, 0.98)\n",
      "(416, '2004-10-26', 4.51, 'grand theft auto: san andreas', 'X360', 'Action', 0.08, 0.03, 0.0, 0.01, 0.12)\n",
      "(11973, '2014-09-30', 3.9, 'middle-earth: shadow of mordor', 'PS4', 'Action', 1.01, 1.41, 0.05, 0.53, 2.99)\n",
      "(11973, '2014-09-30', 3.9, 'middle-earth: shadow of mordor', 'XOne', 'Action', 0.72, 0.5, 0.01, 0.1, 1.32)\n",
      "(11973, '2014-09-30', 3.9, 'middle-earth: shadow of mordor', 'PS3', 'Action', 0.2, 0.33, 0.01, 0.1, 0.64)\n",
      "(11973, '2014-09-30', 3.9, 'middle-earth: shadow of mordor', 'X360', 'Action', 0.28, 0.21, 0.0, 0.05, 0.54)\n",
      "(11973, '2014-09-30', 3.9, 'middle-earth: shadow of mordor', 'PC', 'Action', 0.12, 0.2, 0.0, 0.04, 0.36)\n",
      "(4427, '2010-02-09', 4.07, 'bioshock 2', 'X360', 'Shooter', 1.45, 0.55, 0.02, 0.19, 2.21)\n",
      "(4427, '2010-02-09', 4.07, 'bioshock 2', 'PS3', 'Shooter', 0.85, 0.47, 0.02, 0.22, 1.55)\n",
      "(4427, '2010-02-09', 4.07, 'bioshock 2', 'PC', 'Shooter', 0.02, 0.19, 0.0, 0.04, 0.24)\n",
      "(18080, '1998-11-08', 4.37, 'half-life', 'PC', 'Shooter', 4.03, 0.0, 0.09, 0.0, 4.12)\n",
      "(18080, '1998-11-08', 4.37, 'half-life', 'PS2', 'Shooter', 0.29, 0.23, 0.0, 0.08, 0.6)\n",
      "(2551, '2016-04-11', 4.4, 'dark souls iii', 'PS4', 'Role-Playing', 0.58, 0.44, 0.33, 0.21, 1.56)\n",
      "(2551, '2016-04-11', 4.4, 'dark souls iii', 'XOne', 'Role-Playing', 0.23, 0.09, 0.0, 0.03, 0.35)\n",
      "(2551, '2016-04-11', 4.4, 'dark souls iii', 'PC', 'Role-Playing', 0.0, 0.05, 0.0, 0.0, 0.05)\n",
      "(4252, '2008-11-11', 4.07, \"mirror's edge\", 'X360', 'Platform', 0.51, 0.51, 0.01, 0.13, 1.17)\n",
      "(4252, '2008-11-11', 4.07, \"mirror's edge\", 'PS3', 'Platform', 0.31, 0.59, 0.02, 0.22, 1.14)\n",
      "(4252, '2008-11-11', 4.07, \"mirror's edge\", 'PC', 'Platform', 0.0, 0.05, 0.0, 0.01, 0.06)\n",
      "(1447, '2016-08-22', 3.96, 'deus ex: mankind divided', 'PS4', 'Role-Playing', 0.1, 0.18, 0.0, 0.05, 0.33)\n",
      "(1447, '2016-08-22', 3.96, 'deus ex: mankind divided', 'XOne', 'Role-Playing', 0.08, 0.06, 0.0, 0.01, 0.15)\n",
      "(1447, '2016-08-22', 3.96, 'deus ex: mankind divided', 'PC', 'Role-Playing', 0.0, 0.02, 0.0, 0.0, 0.02)\n",
      "(4161, '2012-11-28', 4.25, 'far cry 3', 'PS3', 'Shooter', 0.88, 1.75, 0.1, 0.72, 3.45)\n",
      "(4161, '2012-11-28', 4.25, 'far cry 3', 'X360', 'Shooter', 1.38, 1.35, 0.02, 0.28, 3.04)\n",
      "(4161, '2012-11-28', 4.25, 'far cry 3', 'PC', 'Shooter', 0.21, 0.62, 0.0, 0.14, 0.98)\n",
      "(19487, '2010-05-14', 4.1, 'alan wake', 'X360', 'Action', 0.66, 0.51, 0.05, 0.13, 1.35)\n",
      "(19487, '2010-05-14', 4.1, 'alan wake', 'PC', 'Action', 0.0, 0.06, 0.0, 0.01, 0.07)\n",
      "(4332, '2012-06-26', 4.09, 'spec ops: the line', 'PS3', 'Shooter', 0.19, 0.25, 0.04, 0.09, 0.57)\n",
      "(4332, '2012-06-26', 4.09, 'spec ops: the line', 'X360', 'Shooter', 0.21, 0.19, 0.0, 0.04, 0.43)\n",
      "(4332, '2012-06-26', 4.09, 'spec ops: the line', 'PC', 'Shooter', 0.11, 0.09, 0.0, 0.03, 0.23)\n",
      "(3696, '2014-05-19', 4.18, 'wolfenstein: the new order', 'PS4', 'Shooter', 0.47, 0.8, 0.03, 0.29, 1.58)\n",
      "(3696, '2014-05-19', 4.18, 'wolfenstein: the new order', 'XOne', 'Shooter', 0.33, 0.28, 0.0, 0.06, 0.67)\n",
      "(3696, '2014-05-19', 4.18, 'wolfenstein: the new order', 'PS3', 'Shooter', 0.14, 0.25, 0.02, 0.09, 0.51)\n",
      "(3696, '2014-05-19', 4.18, 'wolfenstein: the new order', 'PC', 'Shooter', 0.12, 0.29, 0.0, 0.05, 0.46)\n",
      "(3696, '2014-05-19', 4.18, 'wolfenstein: the new order', 'X360', 'Shooter', 0.18, 0.19, 0.0, 0.04, 0.41)\n",
      "(4386, '2011-11-15', 3.95, 'saints row: the third', 'X360', 'Action', 1.25, 1.15, 0.07, 0.3, 2.77)\n",
      "(4386, '2011-11-15', 3.95, 'saints row: the third', 'PS3', 'Action', 0.86, 1.06, 0.18, 0.39, 2.49)\n",
      "(4386, '2011-11-15', 3.95, 'saints row: the third', 'PC', 'Action', 0.16, 0.16, 0.0, 0.06, 0.38)\n",
      "(39, '2017-05-05', 4.28, 'prey', 'X360', 'Shooter', 0.27, 0.03, 0.0, 0.03, 0.32)\n",
      "(39, '2017-05-05', 4.28, 'prey', 'PC', 'Shooter', 0.0, 0.03, 0.0, 0.01, 0.03)\n",
      "(4828, '2009-10-20', 3.82, 'borderlands', 'X360', 'Shooter', 2.39, 0.73, 0.03, 0.29, 3.44)\n",
      "(4828, '2009-10-20', 3.82, 'borderlands', 'PS3', 'Shooter', 1.2, 0.62, 0.0, 0.29, 2.11)\n",
      "(4828, '2009-10-20', 3.82, 'borderlands', 'PC', 'Shooter', 0.01, 0.14, 0.0, 0.04, 0.18)\n",
      "(5563, '2010-10-19', 4.44, 'fallout: new vegas', 'X360', 'Role-Playing', 2.65, 1.06, 0.04, 0.33, 4.08)\n",
      "(5563, '2010-10-19', 4.44, 'fallout: new vegas', 'PS3', 'Role-Playing', 1.52, 1.08, 0.1, 0.47, 3.17)\n",
      "(5563, '2010-10-19', 4.44, 'fallout: new vegas', 'PC', 'Role-Playing', 0.58, 0.45, 0.0, 0.14, 1.16)\n",
      "(10243, '2013-06-25', 3.09, 'company of heroes 2', 'PC', 'Strategy', 0.06, 0.25, 0.0, 0.05, 0.36)\n",
      "(4248, '2012-09-25', 4.37, 'dishonored', 'X360', 'Action', 1.06, 0.52, 0.01, 0.14, 1.73)\n",
      "(4248, '2012-09-25', 4.37, 'dishonored', 'PS3', 'Action', 0.72, 0.54, 0.04, 0.25, 1.55)\n",
      "(4248, '2012-09-25', 4.37, 'dishonored', 'PC', 'Action', 0.26, 0.19, 0.0, 0.06, 0.51)\n",
      "(4248, '2012-09-25', 4.37, 'dishonored', 'PS4', 'Action', 0.11, 0.18, 0.02, 0.06, 0.37)\n",
      "(4248, '2012-09-25', 4.37, 'dishonored', 'XOne', 'Action', 0.08, 0.05, 0.0, 0.01, 0.14)\n",
      "(13633, '2010-09-21', 4.29, \"sid meier's civilization v\", 'PC', 'Strategy', 0.98, 0.52, 0.0, 0.19, 1.69)\n",
      "(5583, '2012-11-19', 3.75, 'hitman: absolution', 'PS3', 'Action', 0.59, 1.07, 0.07, 0.45, 2.19)\n",
      "(5583, '2012-11-19', 3.75, 'hitman: absolution', 'X360', 'Action', 0.68, 0.9, 0.01, 0.17, 1.76)\n",
      "(5583, '2012-11-19', 3.75, 'hitman: absolution', 'PC', 'Action', 0.03, 0.17, 0.0, 0.04, 0.25)\n",
      "(4514, '2011-05-17', 4.16, 'l.a. noire', 'PS3', 'Adventure', 1.27, 1.33, 0.12, 0.51, 3.23)\n",
      "(4514, '2011-05-17', 4.16, 'l.a. noire', 'X360', 'Adventure', 1.52, 0.94, 0.02, 0.24, 2.72)\n",
      "(430, '2002-10-27', 4.45, 'grand theft auto: vice city', 'PS2', 'Action', 8.41, 5.49, 0.47, 1.78, 16.15)\n",
      "(430, '2002-10-27', 4.45, 'grand theft auto: vice city', 'PC', 'Action', 0.0, 0.03, 0.0, 0.01, 0.04)\n",
      "(11934, '2004-11-01', 3.75, 'counter-strike: source', 'PC', 'Shooter', 0.0, 0.07, 0.0, 0.02, 0.09)\n",
      "(3017, '2015-11-30', 3.4, 'just cause 3', 'PS4', 'Action', 0.46, 1.02, 0.07, 0.28, 1.83)\n",
      "(3017, '2015-11-30', 3.4, 'just cause 3', 'XOne', 'Action', 0.42, 0.38, 0.0, 0.07, 0.88)\n",
      "(3017, '2015-11-30', 3.4, 'just cause 3', 'PC', 'Action', 0.03, 0.11, 0.0, 0.01, 0.14)\n",
      "(4806, '2010-01-26', 4.47, 'mass effect 2', 'X360', 'Role-Playing', 1.99, 0.82, 0.03, 0.27, 3.11)\n",
      "(4806, '2010-01-26', 4.47, 'mass effect 2', 'PS3', 'Role-Playing', 0.78, 0.47, 0.03, 0.2, 1.48)\n",
      "(4806, '2010-01-26', 4.47, 'mass effect 2', 'PC', 'Role-Playing', 0.01, 0.32, 0.0, 0.07, 0.4)\n",
      "(3543, '2014-10-13', 3.56, 'borderlands: the pre-sequel', 'X360', 'Shooter', 0.46, 0.22, 0.01, 0.06, 0.75)\n",
      "(3543, '2014-10-13', 3.56, 'borderlands: the pre-sequel', 'PS3', 'Shooter', 0.25, 0.26, 0.05, 0.11, 0.67)\n",
      "(3543, '2014-10-13', 3.56, 'borderlands: the pre-sequel', 'PC', 'Shooter', 0.11, 0.15, 0.0, 0.03, 0.29)\n",
      "(19301, '2000-11-01', 4.05, 'counter-strike', 'XB', 'Shooter', 0.85, 0.23, 0.0, 0.04, 1.11)\n",
      "(13535, '2008-11-17', 4.1, 'left 4 dead', 'X360', 'Shooter', 2.66, 0.5, 0.05, 0.3, 3.52)\n",
      "(13535, '2008-11-17', 4.1, 'left 4 dead', 'PC', 'Shooter', 0.0, 0.02, 0.0, 0.0, 0.02)\n",
      "(3747, '2014-03-18', 3.9, 'metal gear solid v: ground zeroes', 'PS4', 'Action', 0.45, 0.46, 0.17, 0.2, 1.28)\n",
      "(3747, '2014-03-18', 3.9, 'metal gear solid v: ground zeroes', 'PS3', 'Action', 0.14, 0.14, 0.27, 0.06, 0.62)\n",
      "(3747, '2014-03-18', 3.9, 'metal gear solid v: ground zeroes', 'XOne', 'Action', 0.15, 0.11, 0.0, 0.02, 0.28)\n",
      "(3747, '2014-03-18', 3.9, 'metal gear solid v: ground zeroes', 'X360', 'Action', 0.07, 0.06, 0.01, 0.01, 0.15)\n",
      "(108, '2015-04-07', 3.86, 'mortal kombat x', 'PS4', 'Fighting', 1.47, 0.76, 0.0, 0.47, 2.7)\n",
      "(108, '2015-04-07', 3.86, 'mortal kombat x', 'XOne', 'Fighting', 1.0, 0.21, 0.0, 0.13, 1.35)\n",
      "(108, '2015-04-07', 3.86, 'mortal kombat x', 'PC', 'Fighting', 0.01, 0.04, 0.0, 0.0, 0.05)\n",
      "(4513, '2010-03-23', 3.61, 'just cause 2', 'PS3', 'Action', 0.45, 0.94, 0.06, 0.33, 1.78)\n",
      "(4513, '2010-03-23', 3.61, 'just cause 2', 'X360', 'Action', 0.59, 0.85, 0.02, 0.17, 1.62)\n",
      "(4513, '2010-03-23', 3.61, 'just cause 2', 'PC', 'Action', 0.0, 0.1, 0.0, 0.03, 0.13)\n",
      "(4166, '2007-11-16', 4.39, 'mass effect', 'X360', 'Role-Playing', 1.83, 0.8, 0.03, 0.27, 2.93)\n",
      "(4166, '2007-11-16', 4.39, 'mass effect', 'PC', 'Role-Playing', 0.0, 0.59, 0.0, 0.09, 0.68)\n",
      "(10065, '2015-03-10', 4.12, 'cities: skylines', 'PC', 'Simulation', 0.0, 0.13, 0.0, 0.01, 0.14)\n",
      "(3387, '2015-03-24', 4.41, 'bloodborne', 'PS4', 'Action', 1.0, 0.76, 0.26, 0.36, 2.38)\n",
      "(22509, '2009-05-10', 4.43, 'minecraft', 'X360', 'Misc', 5.58, 2.83, 0.02, 0.77, 9.2)\n",
      "(22509, '2009-05-10', 4.43, 'minecraft', 'PS3', 'Misc', 1.97, 2.51, 0.0, 0.94, 5.42)\n",
      "(22509, '2009-05-10', 4.43, 'minecraft', 'PS4', 'Misc', 1.38, 1.87, 0.12, 0.65, 4.02)\n",
      "(22509, '2009-05-10', 4.43, 'minecraft', 'XOne', 'Misc', 1.43, 0.76, 0.0, 0.22, 2.41)\n",
      "(22509, '2009-05-10', 4.43, 'minecraft', 'PSV', 'Misc', 0.28, 0.79, 0.87, 0.32, 2.25)\n",
      "(22509, '2009-05-10', 4.43, 'minecraft', 'WiiU', 'Misc', 0.18, 0.09, 0.14, 0.03, 0.43)\n",
      "(3254, '2012-03-13', 4.32, 'journey', 'PS3', 'Adventure', 0.04, 0.15, 0.0, 0.06, 0.25)\n",
      "(13910, '2012-10-09', 4.2, 'xcom: enemy unknown', 'PC', 'Strategy', 0.26, 0.36, 0.0, 0.1, 0.72)\n",
      "(13910, '2012-10-09', 4.2, 'xcom: enemy unknown', 'X360', 'Strategy', 0.36, 0.23, 0.0, 0.05, 0.64)\n",
      "(13910, '2012-10-09', 4.2, 'xcom: enemy unknown', 'PS3', 'Strategy', 0.24, 0.25, 0.0, 0.11, 0.6)\n",
      "(5525, '2009-10-12', 3.64, 'brutal legend', 'X360', 'Action', 0.62, 0.27, 0.0, 0.09, 0.98)\n",
      "(5525, '2009-10-12', 3.64, 'brutal legend', 'PS3', 'Action', 0.54, 0.28, 0.0, 0.13, 0.95)\n",
      "(18240, '2013-08-07', 4.18, 'brothers: a tale of two sons', 'PS4', 'Adventure', 0.03, 0.08, 0.0, 0.02, 0.13)\n",
      "(18240, '2013-08-07', 4.18, 'brothers: a tale of two sons', 'XOne', 'Adventure', 0.03, 0.01, 0.0, 0.0, 0.04)\n",
      "(1416, '2010-08-24', 4.24, 'mafia ii', 'X360', 'Action', 0.84, 0.56, 0.0, 0.15, 1.55)\n",
      "(1416, '2010-08-24', 4.24, 'mafia ii', 'PS3', 'Action', 0.5, 0.72, 0.04, 0.26, 1.52)\n",
      "(1416, '2010-08-24', 4.24, 'mafia ii', 'PC', 'Action', 0.17, 0.17, 0.0, 0.06, 0.4)\n",
      "(2361, '2005-04-01', 4.04, 'psychonauts', 'XB', 'Platform', 0.09, 0.03, 0.0, 0.0, 0.12)\n",
      "(2361, '2005-04-01', 4.04, 'psychonauts', 'PS2', 'Platform', 0.05, 0.04, 0.0, 0.01, 0.09)\n",
      "(3687, '2014-05-27', 3.59, 'watch dogs', 'PS4', 'Action', 1.4, 1.86, 0.11, 0.77, 4.14)\n",
      "(3687, '2014-05-27', 3.59, 'watch dogs', 'PS3', 'Action', 0.56, 0.89, 0.1, 0.37, 1.93)\n",
      "(3687, '2014-05-27', 3.59, 'watch dogs', 'XOne', 'Action', 0.9, 0.53, 0.0, 0.13, 1.55)\n",
      "(3687, '2014-05-27', 3.59, 'watch dogs', 'X360', 'Action', 0.72, 0.45, 0.01, 0.11, 1.28)\n",
      "(3687, '2014-05-27', 3.59, 'watch dogs', 'PC', 'Action', 0.14, 0.26, 0.0, 0.05, 0.45)\n",
      "(3687, '2014-05-27', 3.59, 'watch dogs', 'WiiU', 'Action', 0.08, 0.05, 0.0, 0.01, 0.14)\n",
      "(2743, '2010-02-17', 4.12, 'heavy rain', 'PS3', 'Adventure', 1.29, 1.27, 0.06, 0.5, 3.12)\n",
      "(3931, '2013-08-20', 3.82, 'saints row iv', 'X360', 'Action', 1.01, 0.53, 0.01, 0.14, 1.69)\n",
      "(3931, '2013-08-20', 3.82, 'saints row iv', 'PS3', 'Action', 0.56, 0.44, 0.09, 0.21, 1.3)\n",
      "(3931, '2013-08-20', 3.82, 'saints row iv', 'PS4', 'Action', 0.13, 0.17, 0.03, 0.06, 0.38)\n",
      "(3931, '2013-08-20', 3.82, 'saints row iv', 'XOne', 'Action', 0.1, 0.09, 0.0, 0.02, 0.2)\n",
      "(3931, '2013-08-20', 3.82, 'saints row iv', 'PC', 'Action', 0.11, 0.06, 0.0, 0.02, 0.19)\n",
      "(4280, '2012-05-15', 4.26, 'max payne 3', 'PS3', 'Shooter', 0.59, 0.92, 0.06, 0.32, 1.9)\n",
      "(4280, '2012-05-15', 4.26, 'max payne 3', 'X360', 'Shooter', 0.86, 0.64, 0.01, 0.14, 1.66)\n",
      "(4280, '2012-05-15', 4.26, 'max payne 3', 'PC', 'Shooter', 0.15, 0.22, 0.0, 0.06, 0.43)\n",
      "(4223, '2012-02-07', 3.7, 'the darkness ii', 'X360', 'Shooter', 0.24, 0.12, 0.0, 0.03, 0.39)\n",
      "(4223, '2012-02-07', 3.7, 'the darkness ii', 'PS3', 'Shooter', 0.14, 0.14, 0.0, 0.05, 0.33)\n",
      "(4223, '2012-02-07', 3.7, 'the darkness ii', 'PC', 'Shooter', 0.1, 0.03, 0.0, 0.01, 0.14)\n",
      "(3556, '2014-10-05', 4.2, 'alien: isolation', 'PS4', 'Shooter', 0.34, 0.56, 0.04, 0.19, 1.13)\n",
      "(3556, '2014-10-05', 4.2, 'alien: isolation', 'XOne', 'Shooter', 0.22, 0.24, 0.0, 0.04, 0.5)\n",
      "(3556, '2014-10-05', 4.2, 'alien: isolation', 'PS3', 'Shooter', 0.12, 0.19, 0.0, 0.07, 0.37)\n",
      "(3556, '2014-10-05', 4.2, 'alien: isolation', 'X360', 'Shooter', 0.15, 0.13, 0.0, 0.03, 0.3)\n",
      "(3556, '2014-10-05', 4.2, 'alien: isolation', 'PC', 'Shooter', 0.0, 0.13, 0.0, 0.01, 0.15)\n",
      "(2093, '2016-08-09', 3.7, \"no man's sky\", 'PS4', 'Action', 0.58, 0.74, 0.02, 0.26, 1.6)\n",
      "(4502, '2010-01-27', 3.76, 'darksiders', 'X360', 'Action', 0.67, 0.29, 0.01, 0.1, 1.06)\n",
      "(4502, '2010-01-27', 3.76, 'darksiders', 'PC', 'Action', 0.07, 0.06, 0.0, 0.02, 0.15)\n",
      "(4502, '2010-01-27', 3.76, 'darksiders', 'PS3', 'Action', 0.01, 0.01, 0.0, 0.0, 0.02)\n",
      "(2235, '2013-10-25', 3.94, 'batman: arkham origins', 'PS3', 'Action', 1.07, 0.87, 0.04, 0.4, 2.39)\n",
      "(2235, '2013-10-25', 3.94, 'batman: arkham origins', 'X360', 'Action', 1.15, 0.61, 0.0, 0.17, 1.93)\n",
      "(2235, '2013-10-25', 3.94, 'batman: arkham origins', 'WiiU', 'Action', 0.2, 0.09, 0.0, 0.03, 0.33)\n",
      "(2235, '2013-10-25', 3.94, 'batman: arkham origins', 'PC', 'Action', 0.13, 0.16, 0.0, 0.04, 0.32)\n",
      "(28568, '2009-11-17', 4.42, \"assassin's creed ii\", 'PS3', 'Action', 2.54, 1.95, 0.21, 0.87, 5.57)\n",
      "(28568, '2009-11-17', 4.42, \"assassin's creed ii\", 'X360', 'Action', 3.1, 1.56, 0.08, 0.51, 5.27)\n",
      "(28568, '2009-11-17', 4.42, \"assassin's creed ii\", 'PC', 'Action', 0.01, 0.45, 0.0, 0.11, 0.57)\n",
      "(4003, '2013-05-27', 3.3, 'grid 2', 'PS3', 'Racing', 0.07, 0.23, 0.01, 0.09, 0.39)\n",
      "(4003, '2013-05-27', 3.3, 'grid 2', 'X360', 'Racing', 0.08, 0.17, 0.0, 0.03, 0.29)\n",
      "(4003, '2013-05-27', 3.3, 'grid 2', 'PC', 'Racing', 0.0, 0.06, 0.0, 0.01, 0.07)\n",
      "(1682, '2013-10-10', 4.4, 'the wolf among us', 'PS4', 'Adventure', 0.1, 0.07, 0.0, 0.03, 0.21)\n",
      "(1682, '2013-10-10', 4.4, 'the wolf among us', 'PS3', 'Adventure', 0.05, 0.03, 0.0, 0.02, 0.1)\n",
      "(1682, '2013-10-10', 4.4, 'the wolf among us', 'XOne', 'Adventure', 0.05, 0.02, 0.0, 0.01, 0.07)\n",
      "(1682, '2013-10-10', 4.4, 'the wolf among us', 'PSV', 'Adventure', 0.05, 0.0, 0.0, 0.02, 0.07)\n",
      "(1682, '2013-10-10', 4.4, 'the wolf among us', 'X360', 'Adventure', 0.01, 0.03, 0.0, 0.0, 0.04)\n",
      "(1256, '2016-02-04', 4.1, 'xcom 2', 'PC', 'Strategy', 0.09, 0.1, 0.0, 0.02, 0.2)\n",
      "(1256, '2016-02-04', 4.1, 'xcom 2', 'PS4', 'Strategy', 0.01, 0.02, 0.0, 0.01, 0.04)\n",
      "(1256, '2016-02-04', 4.1, 'xcom 2', 'XOne', 'Strategy', 0.01, 0.01, 0.0, 0.0, 0.02)\n",
      "(13461, '2009-03-03', 3.82, 'resident evil 5', 'PS3', 'Action', 1.96, 1.43, 1.08, 0.65, 5.11)\n",
      "(13461, '2009-03-03', 3.82, 'resident evil 5', 'X360', 'Action', 2.11, 0.94, 0.12, 0.34, 3.51)\n",
      "(13461, '2009-03-03', 3.82, 'resident evil 5', 'PC', 'Action', 0.01, 0.04, 0.0, 0.01, 0.07)\n",
      "(3497, '2014-11-18', 3.82, 'far cry 4', 'PS4', 'Shooter', 1.12, 2.12, 0.1, 0.69, 4.03)\n",
      "(3497, '2014-11-18', 3.82, 'far cry 4', 'XOne', 'Shooter', 0.79, 0.68, 0.01, 0.13, 1.61)\n",
      "(3497, '2014-11-18', 3.82, 'far cry 4', 'PS3', 'Shooter', 0.33, 0.79, 0.08, 0.23, 1.44)\n",
      "(3497, '2014-11-18', 3.82, 'far cry 4', 'X360', 'Shooter', 0.45, 0.44, 0.0, 0.08, 0.98)\n",
      "(3497, '2014-11-18', 3.82, 'far cry 4', 'PC', 'Shooter', 0.15, 0.42, 0.0, 0.05, 0.62)\n",
      "(4599, '2008-10-14', 3.56, 'saints row 2', 'X360', 'Action', 1.94, 0.8, 0.02, 0.27, 3.03)\n",
      "(4599, '2008-10-14', 3.56, 'saints row 2', 'PS3', 'Action', 0.88, 0.54, 0.02, 0.25, 1.69)\n",
      "(4599, '2008-10-14', 3.56, 'saints row 2', 'PC', 'Action', 0.0, 0.03, 0.0, 0.01, 0.04)\n",
      "(10560, '2011-03-14', 3.6, 'total war: shogun 2', 'PC', 'Strategy', 0.19, 0.31, 0.0, 0.09, 0.59)\n",
      "(4527, '2009-11-10', 4.26, 'call of duty: modern warfare 2', 'X360', 'Shooter', 8.52, 3.63, 0.08, 1.29, 13.51)\n",
      "(4527, '2009-11-10', 4.26, 'call of duty: modern warfare 2', 'PS3', 'Shooter', 4.99, 3.69, 0.38, 1.63, 10.69)\n",
      "(4527, '2009-11-10', 4.26, 'call of duty: modern warfare 2', 'PC', 'Shooter', 0.01, 0.79, 0.0, 0.09, 0.89)\n",
      "(1090, '2014-11-14', 4.07, 'this war of mine', 'PS4', 'Action', 0.0, 0.01, 0.0, 0.0, 0.02)\n",
      "(432, '2001-10-22', 4.15, 'grand theft auto iii', 'PS2', 'Action', 6.99, 4.51, 0.3, 1.3, 13.1)\n",
      "(432, '2001-10-22', 4.15, 'grand theft auto iii', 'PC', 'Action', 0.0, 0.01, 0.0, 0.0, 0.01)\n",
      "(3474, '2014-12-08', 3.1, 'lara croft and the temple of osiris', 'PS4', 'Action', 0.0, 0.07, 0.0, 0.01, 0.08)\n",
      "(3474, '2014-12-08', 3.1, 'lara croft and the temple of osiris', 'PC', 'Action', 0.0, 0.02, 0.0, 0.0, 0.02)\n",
      "(18272, '2011-01-25', 3.8, 'magicka', 'PC', 'Role-Playing', 0.0, 0.02, 0.0, 0.01, 0.03)\n",
      "(4544, '2010-05-18', 4.43, 'red dead redemption', 'PS3', 'Action', 2.79, 2.61, 0.17, 1.03, 6.6)\n",
      "(4544, '2010-05-18', 4.43, 'red dead redemption', 'X360', 'Action', 3.7, 1.97, 0.09, 0.57, 6.34)\n",
      "(28492, '2011-09-06', 3.47, 'dead island', 'X360', 'Action', 1.48, 0.71, 0.0, 0.2, 2.39)\n",
      "(28492, '2011-09-06', 3.47, 'dead island', 'PS3', 'Action', 1.08, 0.75, 0.15, 0.31, 2.29)\n",
      "(28492, '2011-09-06', 3.47, 'dead island', 'PC', 'Action', 0.12, 0.07, 0.0, 0.03, 0.22)\n",
      "(2572, '2015-12-07', 3.69, 'dirt rally', 'PS4', 'Racing', 0.03, 0.24, 0.0, 0.05, 0.32)\n",
      "(2572, '2015-12-07', 3.69, 'dirt rally', 'XOne', 'Racing', 0.03, 0.08, 0.0, 0.01, 0.11)\n",
      "(2572, '2015-12-07', 3.69, 'dirt rally', 'PC', 'Racing', 0.0, 0.03, 0.0, 0.0, 0.03)\n",
      "(3757, '2014-03-04', 4.22, 'south park: the stick of truth', 'PS3', 'Role-Playing', 0.42, 0.38, 0.0, 0.17, 0.98)\n",
      "(3757, '2014-03-04', 4.22, 'south park: the stick of truth', 'X360', 'Role-Playing', 0.57, 0.3, 0.0, 0.08, 0.95)\n",
      "(3757, '2014-03-04', 4.22, 'south park: the stick of truth', 'PC', 'Role-Playing', 0.07, 0.1, 0.0, 0.02, 0.2)\n",
      "(3990, '2013-06-14', 4.55, 'the last of us', 'PS3', 'Action', 2.41, 2.28, 0.28, 1.01, 5.99)\n",
      "(3990, '2013-06-14', 4.55, 'the last of us', 'PS4', 'Action', 1.78, 1.87, 0.07, 0.82, 4.55)\n",
      "(15859, '2003-07-15', 4.36, 'star wars: knights of the old republic', 'XB', 'Role-Playing', 1.68, 0.44, 0.0, 0.08, 2.19)\n",
      "(15859, '2003-07-15', 4.36, 'star wars: knights of the old republic', 'PC', 'Role-Playing', 0.01, 0.1, 0.0, 0.02, 0.14)\n",
      "(857, '2014-11-11', 4.25, 'halo: the master chief collection', 'XOne', 'Shooter', 1.89, 0.99, 0.03, 0.24, 3.15)\n",
      "(19384, '2011-09-28', 3.9, 'the binding of isaac', 'PC', 'Action', 0.0, 0.03, 0.0, 0.0, 0.03)\n",
      "(865, '2010-11-09', 4.04, 'call of duty: black ops', 'X360', 'Shooter', 9.67, 3.73, 0.11, 1.13, 14.64)\n",
      "(865, '2010-11-09', 4.04, 'call of duty: black ops', 'PS3', 'Shooter', 5.98, 4.44, 0.48, 1.83, 12.73)\n",
      "(865, '2010-11-09', 4.04, 'call of duty: black ops', 'PC', 'Shooter', 0.58, 0.81, 0.0, 0.24, 1.63)\n",
      "(865, '2010-11-09', 4.04, 'call of duty: black ops', 'Wii', 'Shooter', 0.82, 0.47, 0.0, 0.12, 1.4)\n",
      "(865, '2010-11-09', 4.04, 'call of duty: black ops', 'DS', 'Shooter', 0.54, 0.05, 0.0, 0.04, 0.63)\n",
      "(3486, '2002-01-09', 3.93, 'syberia', 'DS', 'Action', 0.1, 0.02, 0.0, 0.01, 0.14)\n",
      "(3486, '2002-01-09', 3.93, 'syberia', 'XB', 'Action', 0.08, 0.02, 0.0, 0.0, 0.1)\n",
      "(3486, '2002-01-09', 3.93, 'syberia', 'PC', 'Action', 0.0, 0.02, 0.0, 0.0, 0.03)\n",
      "(4639, '2009-11-03', 4.4, 'dragon age: origins', 'X360', 'Role-Playing', 1.76, 0.56, 0.03, 0.22, 2.57)\n",
      "(4639, '2009-11-03', 4.4, 'dragon age: origins', 'PS3', 'Role-Playing', 0.96, 0.44, 0.08, 0.22, 1.69)\n",
      "(4639, '2009-11-03', 4.4, 'dragon age: origins', 'PC', 'Role-Playing', 0.0, 0.46, 0.0, 0.06, 0.51)\n",
      "(18241, '2013-01-15', 4.02, 'dmc: devil may cry', 'PS3', 'Action', 0.24, 0.28, 0.19, 0.12, 0.82)\n",
      "(18241, '2013-01-15', 4.02, 'dmc: devil may cry', 'X360', 'Action', 0.26, 0.13, 0.01, 0.04, 0.44)\n",
      "(18241, '2013-01-15', 4.02, 'dmc: devil may cry', 'PS4', 'Action', 0.12, 0.13, 0.0, 0.05, 0.3)\n",
      "(18241, '2013-01-15', 4.02, 'dmc: devil may cry', 'XOne', 'Action', 0.08, 0.04, 0.0, 0.01, 0.13)\n",
      "(6617, '2016-04-05', 3.91, 'quantum break', 'XOne', 'Action', 0.27, 0.19, 0.01, 0.04, 0.51)\n",
      "(3932, '2013-08-20', 3.04, 'the bureau: xcom declassified', 'PS3', 'Shooter', 0.08, 0.16, 0.0, 0.05, 0.29)\n",
      "(3932, '2013-08-20', 3.04, 'the bureau: xcom declassified', 'X360', 'Shooter', 0.1, 0.12, 0.0, 0.02, 0.24)\n",
      "(3932, '2013-08-20', 3.04, 'the bureau: xcom declassified', 'PC', 'Shooter', 0.0, 0.05, 0.0, 0.01, 0.05)\n",
      "(4550, '2011-01-25', 4.37, 'dead space 2', 'X360', 'Shooter', 0.94, 0.45, 0.0, 0.13, 1.52)\n",
      "(4550, '2011-01-25', 4.37, 'dead space 2', 'PS3', 'Shooter', 0.73, 0.5, 0.0, 0.21, 1.44)\n",
      "(4550, '2011-01-25', 4.37, 'dead space 2', 'PC', 'Shooter', 0.13, 0.15, 0.0, 0.05, 0.33)\n",
      "(3771, '2013-08-29', 4.16, 'rayman legends', 'PS4', 'Platform', 0.21, 0.61, 0.0, 0.18, 1.01)\n",
      "(3771, '2013-08-29', 4.16, 'rayman legends', 'WiiU', 'Platform', 0.26, 0.33, 0.03, 0.06, 0.68)\n",
      "(3771, '2013-08-29', 4.16, 'rayman legends', 'PS3', 'Platform', 0.14, 0.38, 0.0, 0.14, 0.66)\n",
      "(3771, '2013-08-29', 4.16, 'rayman legends', 'X360', 'Platform', 0.19, 0.23, 0.0, 0.04, 0.46)\n",
      "(3771, '2013-08-29', 4.16, 'rayman legends', 'XOne', 'Platform', 0.13, 0.18, 0.0, 0.03, 0.34)\n",
      "(3771, '2013-08-29', 4.16, 'rayman legends', 'PSV', 'Platform', 0.03, 0.12, 0.0, 0.05, 0.21)\n",
      "(5562, '2008-10-28', 4.08, 'fallout 3', 'X360', 'Role-Playing', 3.39, 1.03, 0.09, 0.44, 4.96)\n",
      "(5562, '2008-10-28', 4.08, 'fallout 3', 'PS3', 'Role-Playing', 2.15, 1.2, 0.07, 0.59, 4.01)\n",
      "(5562, '2008-10-28', 4.08, 'fallout 3', 'PC', 'Role-Playing', 0.02, 0.88, 0.0, 0.08, 0.99)\n",
      "(28623, '2011-10-18', 4.42, 'batman: arkham city', 'PS3', 'Action', 2.7, 1.91, 0.11, 0.8, 5.53)\n",
      "(28623, '2011-10-18', 4.42, 'batman: arkham city', 'X360', 'Action', 2.99, 1.31, 0.04, 0.41, 4.76)\n",
      "(28623, '2011-10-18', 4.42, 'batman: arkham city', 'PC', 'Action', 0.16, 0.28, 0.0, 0.09, 0.53)\n",
      "(28623, '2011-10-18', 4.42, 'batman: arkham city', 'WiiU', 'Action', 0.17, 0.18, 0.0, 0.03, 0.38)\n",
      "(3028, '2013-10-07', 3.8, 'beyond: two souls', 'PS3', 'Adventure', 0.52, 0.88, 0.06, 0.34, 1.79)\n",
      "(1959, '2014-04-01', 3.17, 'goat simulator', 'XOne', 'Simulation', 0.0, 0.01, 0.0, 0.0, 0.01)\n",
      "(3842, '2013-10-29', 3.95, 'battlefield 4', 'PS3', 'Shooter', 1.3, 1.51, 0.27, 0.61, 3.69)\n",
      "(3842, '2013-10-29', 3.95, 'battlefield 4', 'X360', 'Shooter', 2.14, 1.08, 0.02, 0.29, 3.53)\n",
      "(3842, '2013-10-29', 3.95, 'battlefield 4', 'PS4', 'Shooter', 1.34, 1.54, 0.17, 0.38, 3.43)\n",
      "(3842, '2013-10-29', 3.95, 'battlefield 4', 'XOne', 'Shooter', 1.25, 0.58, 0.0, 0.16, 1.98)\n",
      "(3842, '2013-10-29', 3.95, 'battlefield 4', 'PC', 'Shooter', 0.38, 0.86, 0.0, 0.16, 1.4)\n",
      "(42187, '2014-09-02', 3.68, 'the sims 4', 'PC', 'Simulation', 0.96, 1.72, 0.0, 0.29, 2.97)\n",
      "(5703, '2011-11-01', 4.37, \"uncharted 3: drake's deception\", 'PS3', 'Action', 2.77, 2.8, 0.19, 1.06, 6.83)\n",
      "(19365, '2011-03-15', 2.95, 'homefront', 'X360', 'Shooter', 0.83, 0.48, 0.02, 0.12, 1.46)\n",
      "(19365, '2011-03-15', 2.95, 'homefront', 'PS3', 'Shooter', 0.32, 0.4, 0.04, 0.15, 0.91)\n",
      "(19365, '2011-03-15', 2.95, 'homefront', 'PC', 'Shooter', 0.11, 0.1, 0.0, 0.03, 0.24)\n",
      "(3892, '2012-05-01', 3.4, 'sniper elite v2', 'PS3', 'Shooter', 0.38, 0.39, 0.06, 0.15, 0.98)\n",
      "(3892, '2012-05-01', 3.4, 'sniper elite v2', 'X360', 'Shooter', 0.46, 0.29, 0.02, 0.07, 0.85)\n",
      "(3892, '2012-05-01', 3.4, 'sniper elite v2', 'WiiU', 'Shooter', 0.0, 0.02, 0.0, 0.0, 0.02)\n",
      "(2623, '2012-10-02', 3.42, 'resident evil 6', 'PS3', 'Shooter', 0.88, 0.97, 0.88, 0.42, 3.15)\n",
      "(2623, '2012-10-02', 3.42, 'resident evil 6', 'X360', 'Shooter', 1.11, 0.63, 0.07, 0.16, 1.98)\n",
      "(2623, '2012-10-02', 3.42, 'resident evil 6', 'PS4', 'Shooter', 0.05, 0.0, 0.0, 0.01, 0.07)\n",
      "(2623, '2012-10-02', 3.42, 'resident evil 6', 'PC', 'Shooter', 0.0, 0.04, 0.0, 0.01, 0.04)\n",
      "(2623, '2012-10-02', 3.42, 'resident evil 6', 'XOne', 'Shooter', 0.03, 0.0, 0.0, 0.0, 0.04)\n",
      "(9609, '2012-10-19', 4.11, 'euro truck simulator 2', 'PC', 'Action', 0.0, 0.12, 0.0, 0.02, 0.13)\n",
      "(28559, '2014-11-18', 3.8, 'dragon age: inquisition', 'PS4', 'Role-Playing', 0.72, 0.86, 0.08, 0.32, 1.97)\n",
      "(28559, '2014-11-18', 3.8, 'dragon age: inquisition', 'XOne', 'Role-Playing', 0.55, 0.28, 0.0, 0.07, 0.91)\n",
      "(28559, '2014-11-18', 3.8, 'dragon age: inquisition', 'PC', 'Role-Playing', 0.32, 0.34, 0.0, 0.07, 0.73)\n",
      "(28559, '2014-11-18', 3.8, 'dragon age: inquisition', 'PS3', 'Role-Playing', 0.26, 0.23, 0.05, 0.1, 0.65)\n",
      "(28559, '2014-11-18', 3.8, 'dragon age: inquisition', 'X360', 'Role-Playing', 0.35, 0.16, 0.0, 0.05, 0.55)\n",
      "(11276, '2011-11-08', 3.77, 'call of duty: modern warfare 3', 'X360', 'Shooter', 9.03, 4.28, 0.13, 1.32, 14.76)\n",
      "(11276, '2011-11-08', 3.77, 'call of duty: modern warfare 3', 'PS3', 'Shooter', 5.54, 5.82, 0.49, 1.62, 13.46)\n",
      "(11276, '2011-11-08', 3.77, 'call of duty: modern warfare 3', 'PC', 'Shooter', 0.41, 0.98, 0.0, 0.33, 1.72)\n",
      "(11276, '2011-11-08', 3.77, 'call of duty: modern warfare 3', 'Wii', 'Shooter', 0.6, 0.21, 0.0, 0.08, 0.89)\n",
      "(4440, '2011-08-22', 4.36, 'deus ex: human revolution', 'PS3', 'Shooter', 0.5, 0.6, 0.07, 0.23, 1.39)\n",
      "(4440, '2011-08-22', 4.36, 'deus ex: human revolution', 'X360', 'Shooter', 0.76, 0.48, 0.02, 0.12, 1.39)\n",
      "(4440, '2011-08-22', 4.36, 'deus ex: human revolution', 'PC', 'Shooter', 0.25, 0.25, 0.0, 0.09, 0.59)\n",
      "(4440, '2011-08-22', 4.36, 'deus ex: human revolution', 'WiiU', 'Shooter', 0.06, 0.05, 0.0, 0.01, 0.12)\n",
      "(16113, '2012-08-14', 4.13, 'sleeping dogs', 'PS3', 'Action', 0.31, 0.5, 0.05, 0.19, 1.06)\n",
      "(16113, '2012-08-14', 4.13, 'sleeping dogs', 'X360', 'Action', 0.38, 0.41, 0.01, 0.08, 0.88)\n",
      "(16113, '2012-08-14', 4.13, 'sleeping dogs', 'PS4', 'Action', 0.16, 0.2, 0.0, 0.07, 0.43)\n",
      "(16113, '2012-08-14', 4.13, 'sleeping dogs', 'XOne', 'Action', 0.1, 0.09, 0.0, 0.02, 0.2)\n",
      "(16113, '2012-08-14', 4.13, 'sleeping dogs', 'PC', 'Action', 0.06, 0.05, 0.0, 0.02, 0.12)\n",
      "(4101, '2009-06-23', 4.3, 'bayonetta', 'PS3', 'Action', 0.44, 0.41, 0.21, 0.17, 1.23)\n",
      "(4101, '2009-06-23', 4.3, 'bayonetta', 'X360', 'Action', 0.51, 0.26, 0.09, 0.08, 0.94)\n",
      "(12756, '2011-09-05', 3.47, 'warhammer 40,000: space marine', 'X360', 'Shooter', 0.25, 0.27, 0.0, 0.06, 0.57)\n",
      "(12756, '2011-09-05', 3.47, 'warhammer 40,000: space marine', 'PS3', 'Shooter', 0.13, 0.25, 0.0, 0.09, 0.46)\n",
      "(12756, '2011-09-05', 3.47, 'warhammer 40,000: space marine', 'PC', 'Shooter', 0.09, 0.09, 0.0, 0.03, 0.2)\n",
      "(2553, '2016-04-12', 4.05, 'ratchet & clank', 'PS2', 'Platform', 1.44, 1.01, 0.57, 0.3, 3.33)\n",
      "(14446, '2012-11-13', 3.95, 'call of duty: black ops ii', 'PS3', 'Shooter', 4.99, 5.88, 0.65, 2.52, 14.03)\n",
      "(14446, '2012-11-13', 3.95, 'call of duty: black ops ii', 'X360', 'Shooter', 8.25, 4.3, 0.07, 1.12, 13.73)\n",
      "(14446, '2012-11-13', 3.95, 'call of duty: black ops ii', 'PC', 'Shooter', 0.63, 0.69, 0.0, 0.21, 1.53)\n",
      "(14446, '2012-11-13', 3.95, 'call of duty: black ops ii', 'WiiU', 'Shooter', 0.21, 0.18, 0.0, 0.03, 0.43)\n",
      "(4094, '2013-02-19', 4.25, 'metal gear rising: revengeance', 'PS3', 'Action', 0.45, 0.4, 0.44, 0.18, 1.47)\n",
      "(4094, '2013-02-19', 4.25, 'metal gear rising: revengeance', 'X360', 'Action', 0.29, 0.16, 0.0, 0.04, 0.5)\n",
      "(2597, '2012-10-30', 3.54, 'lego the lord of the rings', 'X360', 'Action', 0.63, 0.51, 0.0, 0.11, 1.26)\n",
      "(2597, '2012-10-30', 3.54, 'lego the lord of the rings', 'PS3', 'Action', 0.36, 0.53, 0.0, 0.21, 1.1)\n",
      "(2597, '2012-10-30', 3.54, 'lego the lord of the rings', 'Wii', 'Action', 0.52, 0.37, 0.0, 0.08, 0.97)\n",
      "(2597, '2012-10-30', 3.54, 'lego the lord of the rings', '3DS', 'Action', 0.19, 0.17, 0.0, 0.03, 0.39)\n",
      "(2597, '2012-10-30', 3.54, 'lego the lord of the rings', 'PSV', 'Action', 0.1, 0.15, 0.0, 0.07, 0.33)\n",
      "(2597, '2012-10-30', 3.54, 'lego the lord of the rings', 'PC', 'Action', 0.07, 0.13, 0.0, 0.03, 0.22)\n",
      "(2597, '2012-10-30', 3.54, 'lego the lord of the rings', 'DS', 'Action', 0.0, 0.14, 0.0, 0.02, 0.16)\n",
      "(42895, '2015-10-23', 3.67, \"assassin's creed syndicate\", 'PS4', 'Action', 0.8, 1.92, 0.06, 0.5, 3.28)\n",
      "(42895, '2015-10-23', 3.67, \"assassin's creed syndicate\", 'XOne', 'Action', 0.61, 0.56, 0.0, 0.11, 1.28)\n",
      "(42895, '2015-10-23', 3.67, \"assassin's creed syndicate\", 'PC', 'Action', 0.1, 0.08, 0.0, 0.02, 0.2)\n",
      "(4123, '2009-08-25', 4.41, 'batman: arkham asylum', 'PS3', 'Action', 2.23, 1.34, 0.07, 0.61, 4.25)\n",
      "(4123, '2009-08-25', 4.41, 'batman: arkham asylum', 'X360', 'Action', 2.2, 0.97, 0.02, 0.31, 3.5)\n",
      "(4123, '2009-08-25', 4.41, 'batman: arkham asylum', 'PC', 'Action', 0.0, 0.27, 0.0, 0.05, 0.32)\n",
      "(17857, '2007-03-19', 4.29, 's.t.a.l.k.e.r.: shadow of chernobyl', 'PC', 'Shooter', 0.01, 0.04, 0.0, 0.01, 0.06)\n",
      "(18183, '2006-09-11', 3.68, 'company of heroes', 'PC', 'Strategy', 0.0, 0.04, 0.0, 0.01, 0.05)\n",
      "(3209, '2015-08-25', 4.1, 'until dawn', 'PS4', 'Adventure', 0.44, 0.89, 0.05, 0.25, 1.64)\n",
      "(19569, '2006-05-29', 4.31, 'hitman: blood money', 'PS2', 'Action', 0.25, 0.19, 0.0, 0.06, 0.5)\n",
      "(19569, '2006-05-29', 4.31, 'hitman: blood money', 'X360', 'Action', 0.29, 0.06, 0.01, 0.03, 0.4)\n",
      "(19569, '2006-05-29', 4.31, 'hitman: blood money', 'XB', 'Action', 0.11, 0.03, 0.0, 0.01, 0.14)\n",
      "(19569, '2006-05-29', 4.31, 'hitman: blood money', 'PC', 'Action', 0.0, 0.03, 0.0, 0.01, 0.04)\n",
      "(5193, '1997-09-19', 3.53, \"oddworld: abe's oddysee\", 'PS', 'Platform', 0.75, 0.44, 0.0, 0.06, 1.24)\n",
      "(14016, '2011-08-24', 3.5, 'tropico 4', 'X360', 'Strategy', 0.2, 0.13, 0.0, 0.03, 0.36)\n",
      "(14016, '2011-08-24', 3.5, 'tropico 4', 'PC', 'Strategy', 0.1, 0.13, 0.0, 0.04, 0.27)\n",
      "(2518, '2001-07-25', 4.46, 'max payne', 'PS2', 'Shooter', 1.99, 1.05, 0.05, 0.22, 3.31)\n",
      "(2518, '2001-07-25', 4.46, 'max payne', 'XB', 'Shooter', 0.98, 0.19, 0.0, 0.05, 1.22)\n",
      "(2518, '2001-07-25', 4.46, 'max payne', 'GBA', 'Shooter', 0.02, 0.01, 0.0, 0.0, 0.03)\n",
      "(2518, '2001-07-25', 4.46, 'max payne', 'PC', 'Shooter', 0.0, 0.02, 0.0, 0.0, 0.02)\n",
      "(17803, '2013-11-22', 3.59, 'ryse: son of rome', 'XOne', 'Action', 0.82, 0.42, 0.0, 0.11, 1.36)\n",
      "(3346, '2015-05-04', 4.0, 'wolfenstein: the old blood', 'PS4', 'Action', 0.09, 0.25, 0.02, 0.06, 0.42)\n",
      "(3346, '2015-05-04', 4.0, 'wolfenstein: the old blood', 'XOne', 'Action', 0.07, 0.07, 0.0, 0.01, 0.15)\n",
      "(3346, '2015-05-04', 4.0, 'wolfenstein: the old blood', 'PC', 'Action', 0.0, 0.08, 0.0, 0.0, 0.08)\n",
      "(12320, '2015-10-05', 3.72, 'prison architect', 'PS4', 'Action', 0.01, 0.01, 0.0, 0.0, 0.02)\n",
      "(3554, '2014-10-12', 3.97, 'the evil within', 'PS4', 'Action', 0.55, 0.84, 0.11, 0.31, 1.81)\n",
      "(3554, '2014-10-12', 3.97, 'the evil within', 'PS3', 'Action', 0.26, 0.39, 0.12, 0.14, 0.92)\n",
      "(3554, '2014-10-12', 3.97, 'the evil within', 'XOne', 'Action', 0.35, 0.25, 0.0, 0.05, 0.65)\n",
      "(3554, '2014-10-12', 3.97, 'the evil within', 'X360', 'Action', 0.25, 0.2, 0.01, 0.04, 0.5)\n",
      "(3554, '2014-10-12', 3.97, 'the evil within', 'PC', 'Action', 0.09, 0.16, 0.0, 0.02, 0.27)\n",
      "(3427, '2014-06-03', 3.47, 'murdered: soul suspect', 'PS4', 'Action', 0.09, 0.16, 0.02, 0.05, 0.32)\n",
      "(3427, '2014-06-03', 3.47, 'murdered: soul suspect', 'XOne', 'Action', 0.08, 0.07, 0.0, 0.01, 0.16)\n",
      "(3427, '2014-06-03', 3.47, 'murdered: soul suspect', 'PS3', 'Action', 0.05, 0.06, 0.02, 0.02, 0.15)\n",
      "(3427, '2014-06-03', 3.47, 'murdered: soul suspect', 'X360', 'Action', 0.06, 0.04, 0.0, 0.01, 0.11)\n",
      "(3427, '2014-06-03', 3.47, 'murdered: soul suspect', 'PC', 'Action', 0.0, 0.05, 0.0, 0.01, 0.06)\n",
      "(5161, '2008-08-06', 4.16, 'braid', 'PC', 'Platform', 0.0, 0.02, 0.0, 0.01, 0.03)\n",
      "(3729, '2014-04-08', 3.41, 'lego the hobbit', 'PS4', 'Action', 0.12, 0.37, 0.0, 0.1, 0.6)\n",
      "(3729, '2014-04-08', 3.41, 'lego the hobbit', 'PS3', 'Action', 0.12, 0.32, 0.0, 0.1, 0.54)\n",
      "(3729, '2014-04-08', 3.41, 'lego the hobbit', 'X360', 'Action', 0.2, 0.26, 0.0, 0.04, 0.5)\n",
      "(3729, '2014-04-08', 3.41, 'lego the hobbit', 'XOne', 'Action', 0.13, 0.12, 0.0, 0.02, 0.27)\n",
      "(3729, '2014-04-08', 3.41, 'lego the hobbit', '3DS', 'Action', 0.09, 0.13, 0.0, 0.02, 0.24)\n",
      "(3729, '2014-04-08', 3.41, 'lego the hobbit', 'WiiU', 'Action', 0.1, 0.11, 0.0, 0.02, 0.23)\n",
      "(3729, '2014-04-08', 3.41, 'lego the hobbit', 'PSV', 'Action', 0.03, 0.13, 0.0, 0.05, 0.21)\n",
      "(3729, '2014-04-08', 3.41, 'lego the hobbit', 'PC', 'Action', 0.0, 0.04, 0.0, 0.01, 0.05)\n",
      "(3449, '1996-03-22', 4.18, 'resident evil', 'PS', 'Action', 2.05, 1.16, 1.11, 0.73, 5.05)\n",
      "(3449, '1996-03-22', 4.18, 'resident evil', 'SAT', 'Action', 0.0, 0.0, 0.17, 0.0, 0.17)\n",
      "(3449, '1996-03-22', 4.18, 'resident evil', 'PS3', 'Action', 0.0, 0.0, 0.12, 0.0, 0.12)\n",
      "(19452, '2005-10-18', 4.26, 'f.e.a.r.', 'PS3', 'Shooter', 0.18, 0.27, 0.0, 0.1, 0.55)\n",
      "(19452, '2005-10-18', 4.26, 'f.e.a.r.', 'X360', 'Shooter', 0.28, 0.03, 0.0, 0.03, 0.34)\n",
      "(4729, '2007-11-13', 3.91, \"assassin's creed\", 'X360', 'Adventure', 3.28, 1.65, 0.07, 0.55, 5.55)\n",
      "(4729, '2007-11-13', 3.91, \"assassin's creed\", 'PS3', 'Adventure', 1.91, 2.0, 0.09, 0.83, 4.83)\n",
      "(4729, '2007-11-13', 3.91, \"assassin's creed\", 'PC', 'Adventure', 0.01, 0.83, 0.0, 0.08, 0.92)\n",
      "(3697, '2011-11-22', 3.45, 'serious sam 3: bfe', 'PC', 'Shooter', 0.01, 0.05, 0.0, 0.01, 0.08)\n",
      "(4179, '2012-08-14', 3.74, 'darksiders ii', 'PS3', 'Action', 0.35, 0.37, 0.01, 0.14, 0.86)\n",
      "(4179, '2012-08-14', 3.74, 'darksiders ii', 'X360', 'Action', 0.45, 0.28, 0.0, 0.07, 0.8)\n",
      "(4179, '2012-08-14', 3.74, 'darksiders ii', 'PS4', 'Action', 0.09, 0.1, 0.0, 0.04, 0.22)\n",
      "(4179, '2012-08-14', 3.74, 'darksiders ii', 'WiiU', 'Action', 0.07, 0.07, 0.0, 0.01, 0.16)\n",
      "(4179, '2012-08-14', 3.74, 'darksiders ii', 'PC', 'Action', 0.03, 0.1, 0.0, 0.03, 0.16)\n",
      "(4179, '2012-08-14', 3.74, 'darksiders ii', 'XOne', 'Action', 0.03, 0.02, 0.0, 0.01, 0.06)\n",
      "(58813, '2019-01-25', 4.5, 'resident evil 2', 'PS', 'Action', 1.88, 1.47, 2.02, 0.45, 5.82)\n",
      "(58813, '2019-01-25', 4.5, 'resident evil 2', 'N64', 'Action', 0.39, 0.09, 0.07, 0.01, 0.56)\n",
      "(58813, '2019-01-25', 4.5, 'resident evil 2', 'GC', 'Action', 0.04, 0.01, 0.0, 0.0, 0.06)\n",
      "(4000, '2013-06-04', 3.67, 'remember me', 'PS3', 'Action', 0.1, 0.18, 0.0, 0.07, 0.35)\n",
      "(4000, '2013-06-04', 3.67, 'remember me', 'X360', 'Action', 0.1, 0.07, 0.0, 0.02, 0.18)\n",
      "(4000, '2013-06-04', 3.67, 'remember me', 'PC', 'Action', 0.0, 0.05, 0.0, 0.01, 0.06)\n",
      "(259801, '2020-04-10', 4.38, 'final fantasy vii', 'PS', 'Role-Playing', 3.01, 2.47, 3.28, 0.96, 9.72)\n",
      "(10040, '2016-05-08', 4.1, 'stellaris', 'PC', 'Strategy', 0.0, 0.03, 0.0, 0.0, 0.03)\n",
      "(19600, '2008-10-21', 3.46, 'far cry 2', 'X360', 'Action', 0.71, 0.69, 0.02, 0.18, 1.6)\n",
      "(19600, '2008-10-21', 3.46, 'far cry 2', 'PS3', 'Action', 0.43, 0.7, 0.01, 0.27, 1.4)\n",
      "(19600, '2008-10-21', 3.46, 'far cry 2', 'PC', 'Action', 0.01, 0.45, 0.0, 0.03, 0.49)\n",
      "(3647, '2014-04-29', 3.85, 'child of light', 'PSV', 'Role-Playing', 0.0, 0.07, 0.02, 0.02, 0.11)\n",
      "(3647, '2014-04-29', 3.85, 'child of light', 'PS4', 'Role-Playing', 0.0, 0.01, 0.04, 0.0, 0.05)\n",
      "(894, '2014-09-09', 3.69, 'destiny', 'PS4', 'Shooter', 2.49, 2.05, 0.16, 0.96, 5.65)\n",
      "(894, '2014-09-09', 3.69, 'destiny', 'XOne', 'Shooter', 2.13, 0.92, 0.0, 0.23, 3.28)\n",
      "(894, '2014-09-09', 3.69, 'destiny', 'X360', 'Shooter', 1.3, 0.49, 0.0, 0.16, 1.95)\n",
      "(894, '2014-09-09', 3.69, 'destiny', 'PS3', 'Shooter', 0.67, 0.66, 0.12, 0.27, 1.73)\n",
      "(5565, '2011-03-25', 3.34, 'f.e.a.r. 3', 'PS3', 'Shooter', 0.21, 0.17, 0.01, 0.07, 0.46)\n",
      "(5565, '2011-03-25', 3.34, 'f.e.a.r. 3', 'X360', 'Shooter', 0.3, 0.11, 0.01, 0.04, 0.45)\n",
      "(5565, '2011-03-25', 3.34, 'f.e.a.r. 3', 'PC', 'Shooter', 0.04, 0.08, 0.0, 0.03, 0.15)\n",
      "(5564, '2009-02-10', 3.86, 'f.e.a.r. 2: project origin', 'X360', 'Shooter', 0.32, 0.15, 0.0, 0.05, 0.53)\n",
      "(5564, '2009-02-10', 3.86, 'f.e.a.r. 2: project origin', 'PS3', 'Shooter', 0.19, 0.21, 0.01, 0.08, 0.49)\n",
      "(5564, '2009-02-10', 3.86, 'f.e.a.r. 2: project origin', 'PC', 'Shooter', 0.01, 0.05, 0.0, 0.01, 0.07)\n",
      "(13820, '2002-05-01', 4.37, 'the elder scrolls iii: morrowind', 'XB', 'Role-Playing', 2.09, 0.63, 0.03, 0.11, 2.86)\n",
      "(12929, '2014-12-11', 4.15, 'the talos principle', 'PS4', 'Puzzle', 0.0, 0.02, 0.0, 0.0, 0.02)\n",
      "(41490, '2014-06-30', 4.18, 'divinity: original sin', 'PS4', 'Role-Playing', 0.09, 0.12, 0.02, 0.04, 0.27)\n",
      "(41490, '2014-06-30', 4.18, 'divinity: original sin', 'XOne', 'Role-Playing', 0.04, 0.02, 0.0, 0.01, 0.07)\n",
      "(41490, '2014-06-30', 4.18, 'divinity: original sin', 'PC', 'Role-Playing', 0.0, 0.02, 0.0, 0.0, 0.02)\n",
      "(4869, '2008-11-18', 3.69, 'tomb raider: underworld', 'PS3', 'Action', 0.45, 0.56, 0.05, 0.22, 1.27)\n",
      "(4869, '2008-11-18', 3.69, 'tomb raider: underworld', 'X360', 'Action', 0.53, 0.43, 0.01, 0.11, 1.08)\n",
      "(4869, '2008-11-18', 3.69, 'tomb raider: underworld', 'Wii', 'Action', 0.14, 0.28, 0.0, 0.06, 0.48)\n",
      "(4869, '2008-11-18', 3.69, 'tomb raider: underworld', 'DS', 'Action', 0.16, 0.03, 0.0, 0.02, 0.2)\n",
      "(4869, '2008-11-18', 3.69, 'tomb raider: underworld', 'PS2', 'Action', 0.09, 0.04, 0.0, 0.05, 0.18)\n",
      "(4869, '2008-11-18', 3.69, 'tomb raider: underworld', 'PC', 'Action', 0.0, 0.06, 0.0, 0.02, 0.08)\n",
      "(17885, '2007-06-26', 3.81, 'overlord', 'X360', 'Strategy', 0.34, 0.03, 0.01, 0.03, 0.4)\n",
      "(17885, '2007-06-26', 3.81, 'overlord', 'PC', 'Strategy', 0.0, 0.02, 0.0, 0.0, 0.02)\n",
      "(42215, '2015-01-27', 4.09, 'dying light', 'PS4', 'Action', 0.63, 0.66, 0.11, 0.26, 1.66)\n",
      "(42215, '2015-01-27', 4.09, 'dying light', 'XOne', 'Action', 0.43, 0.3, 0.01, 0.07, 0.81)\n",
      "(42215, '2015-01-27', 4.09, 'dying light', 'PC', 'Action', 0.11, 0.06, 0.0, 0.02, 0.18)\n",
      "(719, '2012-01-27', 3.84, 'deponia', 'PC', 'Adventure', 0.0, 0.13, 0.0, 0.03, 0.15)\n",
      "(4397, '2011-10-25', 4.07, 'battlefield 3', 'X360', 'Shooter', 4.46, 2.13, 0.06, 0.69, 7.34)\n",
      "(4397, '2011-10-25', 4.07, 'battlefield 3', 'PS3', 'Shooter', 2.85, 2.93, 0.35, 1.1, 7.23)\n",
      "(4397, '2011-10-25', 4.07, 'battlefield 3', 'PC', 'Shooter', 0.89, 1.43, 0.0, 0.48, 2.79)\n",
      "(19491, '2009-02-05', 3.97, 'burnout paradise: the ultimate box', 'PC', 'Racing', 0.0, 0.08, 0.0, 0.01, 0.1)\n",
      "(19491, '2009-02-05', 3.97, 'burnout paradise: the ultimate box', 'PS3', 'Racing', 0.0, 0.06, 0.01, 0.02, 0.09)\n",
      "(19491, '2009-02-05', 3.97, 'burnout paradise: the ultimate box', 'X360', 'Racing', 0.0, 0.03, 0.0, 0.0, 0.04)\n",
      "(4347, '2012-05-24', 3.31, 'dirt showdown', 'X360', 'Racing', 0.08, 0.14, 0.0, 0.02, 0.24)\n",
      "(4347, '2012-05-24', 3.31, 'dirt showdown', 'PS3', 'Racing', 0.02, 0.13, 0.0, 0.04, 0.19)\n",
      "(29153, '2003-10-14', 4.44, 'max payne 2: the fall of max payne', 'PS2', 'Shooter', 0.65, 0.51, 0.0, 0.17, 1.34)\n",
      "(29153, '2003-10-14', 4.44, 'max payne 2: the fall of max payne', 'XB', 'Shooter', 0.47, 0.15, 0.0, 0.02, 0.64)\n",
      "(29153, '2003-10-14', 4.44, 'max payne 2: the fall of max payne', 'PC', 'Shooter', 0.0, 0.02, 0.0, 0.0, 0.03)\n",
      "(5342, '2010-10-12', 3.26, 'medal of honor', 'PS3', 'Shooter', 1.28, 1.05, 0.07, 0.43, 2.83)\n",
      "(5342, '2010-10-12', 3.26, 'medal of honor', 'PS', 'Shooter', 1.44, 1.09, 0.0, 0.14, 2.67)\n",
      "(5342, '2010-10-12', 3.26, 'medal of honor', 'X360', 'Shooter', 1.55, 0.81, 0.04, 0.21, 2.62)\n",
      "(5342, '2010-10-12', 3.26, 'medal of honor', 'PC', 'Shooter', 0.2, 0.23, 0.0, 0.07, 0.49)\n",
      "(49, '2016-09-15', 4.36, 'persona 5', 'PS4', 'Role-Playing', 0.0, 0.0, 0.34, 0.0, 0.34)\n",
      "(49, '2016-09-15', 4.36, 'persona 5', 'PS3', 'Role-Playing', 0.0, 0.0, 0.1, 0.0, 0.1)\n",
      "(15829, '2015-03-26', 3.96, 'pillars of eternity', 'PC', 'Role-Playing', 0.0, 0.01, 0.0, 0.0, 0.02)\n",
      "(15566, '2009-06-02', 3.66, 'red faction: guerrilla', 'X360', 'Shooter', 0.48, 0.29, 0.01, 0.09, 0.87)\n",
      "(15566, '2009-06-02', 3.66, 'red faction: guerrilla', 'PS3', 'Shooter', 0.33, 0.28, 0.02, 0.12, 0.75)\n",
      "(15566, '2009-06-02', 3.66, 'red faction: guerrilla', 'PC', 'Shooter', 0.0, 0.03, 0.0, 0.01, 0.03)\n",
      "(44525, '2016-01-21', 4.1, 'yakuza kiwami', 'PS4', 'Adventure', 0.0, 0.0, 0.16, 0.0, 0.16)\n",
      "(44525, '2016-01-21', 4.1, 'yakuza kiwami', 'PS3', 'Adventure', 0.0, 0.0, 0.12, 0.0, 0.12)\n",
      "(1259, '2009-10-16', 4.17, 'machinarium', 'PC', 'Adventure', 0.0, 0.09, 0.0, 0.02, 0.11)\n",
      "(3965, '2012-02-16', 3.55, 'binary domain', 'PS3', 'Action', 0.09, 0.08, 0.14, 0.03, 0.33)\n",
      "(3965, '2012-02-16', 3.55, 'binary domain', 'X360', 'Action', 0.09, 0.07, 0.02, 0.02, 0.19)\n",
      "(19056, '2009-10-02', 4.28, 's.t.a.l.k.e.r.: call of pripyat', 'PC', 'Shooter', 0.0, 0.05, 0.0, 0.01, 0.06)\n",
      "(4581, '2007-11-12', 4.01, 'crysis', 'PC', 'Shooter', 0.0, 0.69, 0.0, 0.03, 0.72)\n",
      "(19592, '2002-10-01', 3.93, 'hitman 2: silent assassin', 'PS2', 'Action', 1.36, 1.15, 0.04, 0.41, 2.96)\n",
      "(19592, '2002-10-01', 3.93, 'hitman 2: silent assassin', 'XB', 'Action', 0.76, 0.38, 0.0, 0.05, 1.19)\n",
      "(19592, '2002-10-01', 3.93, 'hitman 2: silent assassin', 'GC', 'Action', 0.1, 0.03, 0.0, 0.0, 0.13)\n",
      "(19057, '2008-08-22', 3.9, 's.t.a.l.k.e.r.: clear sky', 'PC', 'Shooter', 0.0, 0.03, 0.0, 0.01, 0.04)\n",
      "(5636, '2011-10-03', 3.42, 'rage', 'X360', 'Shooter', 0.82, 0.61, 0.03, 0.15, 1.62)\n",
      "(5636, '2011-10-03', 3.42, 'rage', 'PS3', 'Shooter', 0.47, 0.59, 0.06, 0.21, 1.33)\n",
      "(5636, '2011-10-03', 3.42, 'rage', 'PC', 'Shooter', 0.14, 0.18, 0.0, 0.06, 0.37)\n",
      "(1140, '2008-10-13', 4.02, 'world of goo', 'PC', 'Puzzle', 0.0, 0.03, 0.0, 0.01, 0.04)\n",
      "(4439, '2012-03-05', 4.4, 'mass effect 3', 'X360', 'Role-Playing', 1.94, 0.86, 0.03, 0.24, 3.07)\n",
      "(4439, '2012-03-05', 4.4, 'mass effect 3', 'PS3', 'Role-Playing', 0.63, 0.59, 0.03, 0.21, 1.46)\n",
      "(4439, '2012-03-05', 4.4, 'mass effect 3', 'PC', 'Role-Playing', 0.4, 0.44, 0.0, 0.13, 0.97)\n",
      "(4439, '2012-03-05', 4.4, 'mass effect 3', 'WiiU', 'Role-Playing', 0.14, 0.11, 0.0, 0.02, 0.28)\n",
      "(5528, '2008-11-11', 3.94, 'call of duty: world at war', 'X360', 'Shooter', 4.79, 1.9, 0.0, 0.69, 7.37)\n",
      "(5528, '2008-11-11', 3.94, 'call of duty: world at war', 'PS3', 'Shooter', 2.72, 1.87, 0.0, 0.84, 5.43)\n",
      "(5528, '2008-11-11', 3.94, 'call of duty: world at war', 'Wii', 'Shooter', 1.2, 0.59, 0.0, 0.19, 1.97)\n",
      "(5528, '2008-11-11', 3.94, 'call of duty: world at war', 'DS', 'Shooter', 0.57, 0.26, 0.0, 0.08, 0.91)\n",
      "(5528, '2008-11-11', 3.94, 'call of duty: world at war', 'PC', 'Shooter', 0.02, 0.13, 0.0, 0.03, 0.19)\n",
      "(2805, '2016-02-15', 3.5, 'street fighter v', 'PS4', 'Fighting', 0.35, 0.26, 0.08, 0.13, 0.82)\n",
      "(2805, '2016-02-15', 3.5, 'street fighter v', 'PC', 'Fighting', 0.0, 0.05, 0.0, 0.0, 0.05)\n",
      "(16787, '2008-03-04', 4.13, 'bully: scholarship edition', 'X360', 'Action', 0.53, 0.4, 0.03, 0.11, 1.07)\n",
      "(16787, '2008-03-04', 4.13, 'bully: scholarship edition', 'Wii', 'Action', 0.17, 0.29, 0.0, 0.06, 0.52)\n",
      "(16787, '2008-03-04', 4.13, 'bully: scholarship edition', 'PC', 'Action', 0.0, 0.02, 0.0, 0.0, 0.03)\n",
      "(4523, '2011-06-07', 3.03, 'red faction: armageddon', 'PS3', 'Shooter', 0.2, 0.16, 0.03, 0.07, 0.46)\n",
      "(4523, '2011-06-07', 3.03, 'red faction: armageddon', 'X360', 'Shooter', 0.18, 0.17, 0.01, 0.04, 0.39)\n",
      "(4523, '2011-06-07', 3.03, 'red faction: armageddon', 'PC', 'Shooter', 0.05, 0.02, 0.0, 0.01, 0.09)\n",
      "(5298, '2006-04-06', 3.9, 'tomb raider: legend', 'PS2', 'Action', 0.25, 0.19, 0.02, 0.06, 0.52)\n",
      "(5298, '2006-04-06', 3.9, 'tomb raider: legend', 'PSP', 'Action', 0.09, 0.24, 0.0, 0.12, 0.46)\n",
      "(5298, '2006-04-06', 3.9, 'tomb raider: legend', 'X360', 'Action', 0.27, 0.08, 0.01, 0.03, 0.39)\n",
      "(5298, '2006-04-06', 3.9, 'tomb raider: legend', 'XB', 'Action', 0.1, 0.03, 0.0, 0.0, 0.13)\n",
      "(5298, '2006-04-06', 3.9, 'tomb raider: legend', 'GC', 'Action', 0.06, 0.02, 0.0, 0.0, 0.08)\n",
      "(5298, '2006-04-06', 3.9, 'tomb raider: legend', 'DS', 'Action', 0.04, 0.02, 0.0, 0.01, 0.07)\n",
      "(5298, '2006-04-06', 3.9, 'tomb raider: legend', 'PC', 'Action', 0.0, 0.01, 0.0, 0.0, 0.02)\n",
      "(17127, '2009-10-26', 3.71, 'torchlight', 'PC', 'Role-Playing', 0.0, 0.06, 0.0, 0.02, 0.07)\n",
      "(6773, '2014-10-28', 3.9, 'sunset overdrive', 'XOne', 'Shooter', 0.62, 0.4, 0.0, 0.08, 1.11)\n",
      "(11970, '2003-09-16', 4.33, 'star wars jedi knight: jedi academy', 'XB', 'Shooter', 0.34, 0.1, 0.0, 0.02, 0.45)\n",
      "(11970, '2003-09-16', 4.33, 'star wars jedi knight: jedi academy', 'PC', 'Shooter', 0.0, 0.03, 0.0, 0.01, 0.04)\n",
      "(5297, '2007-06-01', 3.95, 'tomb raider: anniversary', 'Wii', 'Action', 0.12, 0.63, 0.0, 0.11, 0.86)\n",
      "(5297, '2007-06-01', 3.95, 'tomb raider: anniversary', 'PSP', 'Action', 0.21, 0.23, 0.0, 0.13, 0.57)\n",
      "(5297, '2007-06-01', 3.95, 'tomb raider: anniversary', 'PS2', 'Action', 0.41, 0.02, 0.0, 0.07, 0.5)\n",
      "(5297, '2007-06-01', 3.95, 'tomb raider: anniversary', 'X360', 'Action', 0.12, 0.23, 0.0, 0.05, 0.4)\n",
      "(5297, '2007-06-01', 3.95, 'tomb raider: anniversary', 'PC', 'Action', 0.0, 0.03, 0.0, 0.01, 0.04)\n",
      "(4535, '2007-11-05', 4.39, 'call of duty 4: modern warfare', 'X360', 'Shooter', 5.91, 2.38, 0.13, 0.9, 9.32)\n",
      "(4535, '2007-11-05', 4.39, 'call of duty 4: modern warfare', 'PS3', 'Shooter', 3.1, 2.3, 0.28, 1.04, 6.72)\n",
      "(4535, '2007-11-05', 4.39, 'call of duty 4: modern warfare', 'PC', 'Shooter', 0.0, 1.12, 0.0, 0.03, 1.15)\n",
      "(4535, '2007-11-05', 4.39, 'call of duty 4: modern warfare', 'DS', 'Shooter', 0.96, 0.02, 0.01, 0.08, 1.06)\n",
      "(4331, '2011-11-01', 3.9, 'sonic generations', 'PS3', 'Platform', 0.6, 0.73, 0.02, 0.28, 1.63)\n",
      "(4331, '2011-11-01', 3.9, 'sonic generations', 'X360', 'Platform', 0.71, 0.57, 0.0, 0.14, 1.42)\n",
      "(4331, '2011-11-01', 3.9, 'sonic generations', '3DS', 'Platform', 0.44, 0.46, 0.01, 0.09, 1.01)\n",
      "(4331, '2011-11-01', 3.9, 'sonic generations', 'PC', 'Platform', 0.02, 0.07, 0.0, 0.02, 0.11)\n",
      "(28395, '2013-05-13', 4.13, 'metro: last light', 'PS4', 'Action', 0.22, 0.3, 0.04, 0.12, 0.68)\n",
      "(28395, '2013-05-13', 4.13, 'metro: last light', 'PS3', 'Action', 0.14, 0.2, 0.03, 0.08, 0.44)\n",
      "(28395, '2013-05-13', 4.13, 'metro: last light', 'X360', 'Action', 0.17, 0.16, 0.0, 0.03, 0.36)\n",
      "(28395, '2013-05-13', 4.13, 'metro: last light', 'XOne', 'Action', 0.15, 0.13, 0.0, 0.03, 0.31)\n",
      "(28395, '2013-05-13', 4.13, 'metro: last light', 'PC', 'Action', 0.06, 0.11, 0.0, 0.02, 0.19)\n",
      "(2255, '2013-12-13', 3.34, '7 days to die', 'PS4', 'Action', 0.03, 0.07, 0.0, 0.02, 0.12)\n",
      "(2255, '2013-12-13', 3.34, '7 days to die', 'XOne', 'Action', 0.02, 0.02, 0.0, 0.0, 0.04)\n",
      "(4388, '2010-03-02', 4.13, 'battlefield: bad company 2', 'X360', 'Shooter', 2.09, 1.02, 0.04, 0.32, 3.48)\n",
      "(4388, '2010-03-02', 4.13, 'battlefield: bad company 2', 'PS3', 'Shooter', 1.33, 1.12, 0.08, 0.45, 2.97)\n",
      "(4388, '2010-03-02', 4.13, 'battlefield: bad company 2', 'PC', 'Shooter', 0.19, 0.53, 0.0, 0.0, 0.71)\n",
      "(19685, '2006-09-22', 3.3, 'just cause', 'X360', 'Action', 0.1, 0.03, 0.01, 0.01, 0.14)\n",
      "(19685, '2006-09-22', 3.3, 'just cause', 'PC', 'Action', 0.0, 0.01, 0.0, 0.0, 0.02)\n",
      "(19685, '2006-09-22', 3.3, 'just cause', 'PS2', 'Action', 0.01, 0.01, 0.0, 0.0, 0.02)\n",
      "(1299, '2010-03-30', 4.35, 'mount & blade: warband', 'PC', 'Role-Playing', 0.01, 0.01, 0.0, 0.0, 0.02)\n",
      "(3850, '2013-10-22', 3.82, 'lego marvel super heroes', 'X360', 'Action', 1.24, 0.85, 0.0, 0.21, 2.3)\n",
      "(3850, '2013-10-22', 3.82, 'lego marvel super heroes', 'PS3', 'Action', 0.77, 0.85, 0.01, 0.37, 2.0)\n",
      "(3850, '2013-10-22', 3.82, 'lego marvel super heroes', 'PS4', 'Action', 0.59, 0.75, 0.01, 0.21, 1.56)\n",
      "(3850, '2013-10-22', 3.82, 'lego marvel super heroes', 'XOne', 'Action', 0.61, 0.34, 0.0, 0.09, 1.04)\n",
      "(3850, '2013-10-22', 3.82, 'lego marvel super heroes', '3DS', 'Action', 0.42, 0.36, 0.04, 0.07, 0.89)\n",
      "(3850, '2013-10-22', 3.82, 'lego marvel super heroes', 'WiiU', 'Action', 0.31, 0.35, 0.02, 0.06, 0.74)\n",
      "(3850, '2013-10-22', 3.82, 'lego marvel super heroes', 'PSV', 'Action', 0.15, 0.35, 0.0, 0.16, 0.66)\n",
      "(3850, '2013-10-22', 3.82, 'lego marvel super heroes', 'DS', 'Action', 0.28, 0.17, 0.0, 0.04, 0.49)\n",
      "(3850, '2013-10-22', 3.82, 'lego marvel super heroes', 'PC', 'Action', 0.04, 0.12, 0.0, 0.02, 0.18)\n",
      "(3651, '2014-06-26', 3.53, 'sniper elite 3', 'PS4', 'Shooter', 0.22, 0.33, 0.0, 0.13, 0.68)\n",
      "(3651, '2014-06-26', 3.53, 'sniper elite 3', 'XOne', 'Shooter', 0.19, 0.11, 0.0, 0.03, 0.33)\n",
      "(3651, '2014-06-26', 3.53, 'sniper elite 3', 'X360', 'Shooter', 0.16, 0.14, 0.0, 0.03, 0.32)\n",
      "(3651, '2014-06-26', 3.53, 'sniper elite 3', 'PS3', 'Shooter', 0.1, 0.15, 0.0, 0.06, 0.31)\n",
      "(17295, '2002-07-18', 3.1, 'enclave', 'XB', 'Adventure', 0.11, 0.03, 0.0, 0.01, 0.14)\n",
      "(3450, '2015-01-20', 3.17, 'saints row: gat out of hell', 'PS4', 'Action', 0.0, 0.04, 0.0, 0.01, 0.05)\n",
      "(3251, '2015-07-09', 2.69, 'f1 2015', 'PS4', 'Racing', 0.09, 0.44, 0.03, 0.09, 0.66)\n",
      "(3251, '2015-07-09', 2.69, 'f1 2015', 'XOne', 'Racing', 0.08, 0.15, 0.0, 0.02, 0.24)\n",
      "(3251, '2015-07-09', 2.69, 'f1 2015', 'PC', 'Racing', 0.0, 0.04, 0.0, 0.0, 0.05)\n",
      "(20760, '2009-12-17', 3.46, 'final fantasy xiii', 'PS3', 'Role-Playing', 1.74, 1.24, 1.87, 0.52, 5.36)\n",
      "(20760, '2009-12-17', 3.46, 'final fantasy xiii', 'X360', 'Role-Playing', 1.27, 0.68, 0.01, 0.2, 2.17)\n",
      "(22513, '2009-10-13', 4.39, 'uncharted 2: among thieves', 'PS3', 'Action', 3.27, 2.25, 0.21, 1.0, 6.73)\n",
      "(123, '2006-06-26', 3.9, 'titan quest', 'PC', 'Role-Playing', 0.01, 0.04, 0.0, 0.01, 0.06)\n",
      "(2354, '2016-06-07', 3.49, \"mirror's edge catalyst\", 'PS4', 'Platform', 0.1, 0.14, 0.02, 0.06, 0.32)\n",
      "(2354, '2016-06-07', 3.49, \"mirror's edge catalyst\", 'XOne', 'Platform', 0.08, 0.05, 0.0, 0.02, 0.15)\n",
      "(2354, '2016-06-07', 3.49, \"mirror's edge catalyst\", 'PC', 'Platform', 0.01, 0.03, 0.0, 0.01, 0.05)\n",
      "(4744, '2008-12-02', 3.78, 'prince of persia (2008)', 'PC', 'Action', 0.0, 0.02, 0.0, 0.0, 0.03)\n",
      "(14990, '2008-03-25', 2.51, 'viking: battle for asgard', 'X360', 'Action', 0.16, 0.24, 0.0, 0.05, 0.45)\n",
      "(14990, '2008-03-25', 2.51, 'viking: battle for asgard', 'PS3', 'Action', 0.14, 0.18, 0.0, 0.07, 0.39)\n",
      "(19458, '2004-08-03', 3.91, 'doom 3', 'XB', 'Shooter', 0.85, 0.43, 0.0, 0.06, 1.34)\n",
      "(19458, '2004-08-03', 3.91, 'doom 3', 'PC', 'Shooter', 0.05, 0.04, 0.0, 0.01, 0.1)\n",
      "(722, '2010-08-12', 2.92, 'world of tanks', 'PC', 'Shooter', 0.0, 0.23, 0.0, 0.06, 0.29)\n",
      "(722, '2010-08-12', 2.92, 'world of tanks', 'X360', 'Shooter', 0.0, 0.03, 0.0, 0.0, 0.04)\n",
      "(18886, '2009-06-22', 3.77, 'overlord ii', 'X360', 'Action', 0.15, 0.14, 0.0, 0.03, 0.32)\n",
      "(18886, '2009-06-22', 3.77, 'overlord ii', 'PS3', 'Action', 0.11, 0.15, 0.0, 0.06, 0.32)\n",
      "(18886, '2009-06-22', 3.77, 'overlord ii', 'PC', 'Action', 0.0, 0.03, 0.0, 0.01, 0.03)\n",
      "(1322, '2010-08-31', 3.53, 'dead rising 2', 'X360', 'Action', 0.75, 0.53, 0.09, 0.12, 1.5)\n",
      "(1322, '2010-08-31', 3.53, 'dead rising 2', 'PS3', 'Action', 0.43, 0.57, 0.15, 0.22, 1.38)\n",
      "(1322, '2010-08-31', 3.53, 'dead rising 2', 'PC', 'Action', 0.1, 0.02, 0.0, 0.01, 0.14)\n",
      "(13498, '2003-05-06', 3.35, 'eve online', 'PC', 'Role-Playing', 0.0, 0.19, 0.0, 0.02, 0.22)\n",
      "(4340, '2007-11-19', 4.03, \"uncharted: drake's fortune\", 'PS3', 'Action', 2.31, 1.73, 0.12, 0.78, 4.94)\n",
      "(12018, '2002-03-01', 4.19, 'star wars jedi knight ii: jedi outcast', 'XB', 'Shooter', 0.23, 0.07, 0.0, 0.01, 0.31)\n",
      "(12018, '2002-03-01', 4.19, 'star wars jedi knight ii: jedi outcast', 'GC', 'Shooter', 0.18, 0.05, 0.0, 0.01, 0.23)\n",
      "(3358, '2014-05-22', 3.64, 'tropico 5', 'PS4', 'Simulation', 0.05, 0.16, 0.05, 0.04, 0.3)\n",
      "(3358, '2014-05-22', 3.64, 'tropico 5', 'PC', 'Simulation', 0.02, 0.08, 0.0, 0.01, 0.12)\n",
      "(3358, '2014-05-22', 3.64, 'tropico 5', 'X360', 'Simulation', 0.03, 0.04, 0.0, 0.01, 0.07)\n",
      "(14989, '2010-04-08', 3.54, 'alpha protocol', 'PS3', 'Role-Playing', 0.19, 0.18, 0.0, 0.07, 0.43)\n",
      "(14989, '2010-04-08', 3.54, 'alpha protocol', 'X360', 'Role-Playing', 0.23, 0.13, 0.0, 0.04, 0.4)\n",
      "(14989, '2010-04-08', 3.54, 'alpha protocol', 'PC', 'Role-Playing', 0.0, 0.03, 0.0, 0.01, 0.04)\n",
      "(3459, '2015-01-13', 3.75, 'the order: 1886', 'PS4', 'Shooter', 0.61, 0.78, 0.06, 0.27, 1.72)\n",
      "(9494, '2009-06-18', 3.18, 'arma ii', 'PC', 'Shooter', 0.0, 0.12, 0.0, 0.03, 0.14)\n",
      "(10296, '2017-01-31', 2.85, 'tera', 'PC', 'Role-Playing', 0.24, 0.12, 0.0, 0.05, 0.41)\n",
      "(18184, '2007-09-24', 3.44, 'company of heroes: opposing fronts', 'PC', 'Strategy', 0.01, 0.03, 0.0, 0.01, 0.04)\n",
      "(20569, '1993-12-30', 3.65, 'x-com: ufo defense', 'PS', 'Strategy', 0.05, 0.04, 0.0, 0.01, 0.09)\n",
      "(19439, '2009-10-02', 3.8, 'risen', 'X360', 'Role-Playing', 0.07, 0.11, 0.0, 0.01, 0.19)\n",
      "(19439, '2009-10-02', 3.8, 'risen', 'PC', 'Role-Playing', 0.0, 0.11, 0.0, 0.03, 0.14)\n",
      "(19633, '2010-11-16', 3.86, 'need for speed: hot pursuit', 'PS3', 'Racing', 1.05, 1.25, 0.03, 0.48, 2.81)\n",
      "(19633, '2010-11-16', 3.86, 'need for speed: hot pursuit', 'X360', 'Racing', 1.03, 0.98, 0.0, 0.21, 2.22)\n",
      "(19633, '2010-11-16', 3.86, 'need for speed: hot pursuit', 'Wii', 'Racing', 0.18, 0.24, 0.0, 0.05, 0.48)\n",
      "(19633, '2010-11-16', 3.86, 'need for speed: hot pursuit', 'PC', 'Racing', 0.12, 0.2, 0.0, 0.06, 0.38)\n",
      "(3501, '2014-11-18', 3.51, 'littlebigplanet 3', 'PS4', 'Platform', 0.64, 0.92, 0.01, 0.29, 1.86)\n",
      "(3501, '2014-11-18', 3.51, 'littlebigplanet 3', 'PS3', 'Platform', 0.2, 0.43, 0.01, 0.11, 0.75)\n",
      "(14072, '2009-10-20', 3.35, 'tropico 3', 'X360', 'Strategy', 0.15, 0.02, 0.03, 0.02, 0.22)\n",
      "(14072, '2009-10-20', 3.35, 'tropico 3', 'PC', 'Strategy', 0.0, 0.04, 0.0, 0.01, 0.05)\n",
      "(11425, '2008-09-04', 4.15, 'spore', 'PC', 'Strategy', 0.03, 1.06, 0.0, 0.09, 1.17)\n",
      "(15860, '2010-10-25', 3.65, 'star wars: the force unleashed ii', 'PS3', 'Action', 0.8, 0.53, 0.0, 0.22, 1.55)\n",
      "(15860, '2010-10-25', 3.65, 'star wars: the force unleashed ii', 'X360', 'Action', 0.95, 0.4, 0.0, 0.12, 1.47)\n",
      "(15860, '2010-10-25', 3.65, 'star wars: the force unleashed ii', 'Wii', 'Action', 0.54, 0.19, 0.0, 0.06, 0.8)\n",
      "(15860, '2010-10-25', 3.65, 'star wars: the force unleashed ii', 'DS', 'Action', 0.18, 0.04, 0.0, 0.02, 0.23)\n",
      "(15860, '2010-10-25', 3.65, 'star wars: the force unleashed ii', 'PC', 'Action', 0.03, 0.0, 0.0, 0.0, 0.03)\n",
      "(19560, '2004-03-22', 3.9, 'far cry', 'PC', 'Shooter', 0.0, 0.04, 0.0, 0.01, 0.05)\n",
      "(4361, '2011-11-15', 4.14, 'rayman origins', 'PS3', 'Platform', 0.33, 0.51, 0.01, 0.18, 1.03)\n",
      "(4361, '2011-11-15', 4.14, 'rayman origins', 'X360', 'Platform', 0.38, 0.34, 0.0, 0.08, 0.79)\n",
      "(4361, '2011-11-15', 4.14, 'rayman origins', 'PSV', 'Platform', 0.13, 0.35, 0.0, 0.11, 0.59)\n",
      "(4361, '2011-11-15', 4.14, 'rayman origins', 'Wii', 'Platform', 0.23, 0.29, 0.0, 0.07, 0.58)\n",
      "(4361, '2011-11-15', 4.14, 'rayman origins', '3DS', 'Platform', 0.06, 0.08, 0.0, 0.01, 0.15)\n",
      "(4361, '2011-11-15', 4.14, 'rayman origins', 'PC', 'Platform', 0.0, 0.06, 0.0, 0.01, 0.08)\n",
      "(10393, '2006-10-12', 3.71, 'gothic 3', 'PC', 'Role-Playing', 0.0, 0.05, 0.0, 0.01, 0.06)\n",
      "(4602, '2011-02-22', 4.08, 'bulletstorm', 'X360', 'Shooter', 0.61, 0.32, 0.01, 0.08, 1.02)\n",
      "(4602, '2011-02-22', 4.08, 'bulletstorm', 'PS3', 'Shooter', 0.23, 0.2, 0.01, 0.08, 0.53)\n",
      "(4602, '2011-02-22', 4.08, 'bulletstorm', 'PC', 'Shooter', 0.07, 0.07, 0.0, 0.02, 0.16)\n",
      "(4477, '2010-08-17', 3.25, 'kane & lynch 2: dog days', 'PS3', 'Shooter', 0.17, 0.28, 0.05, 0.1, 0.59)\n",
      "(4477, '2010-08-17', 3.25, 'kane & lynch 2: dog days', 'X360', 'Shooter', 0.2, 0.23, 0.01, 0.05, 0.49)\n",
      "(4477, '2010-08-17', 3.25, 'kane & lynch 2: dog days', 'PC', 'Shooter', 0.0, 0.06, 0.0, 0.01, 0.07)\n",
      "(19584, '2012-04-23', 3.41, 'risen 2: dark waters', 'PS3', 'Role-Playing', 0.04, 0.14, 0.01, 0.05, 0.24)\n",
      "(19584, '2012-04-23', 3.41, 'risen 2: dark waters', 'PC', 'Role-Playing', 0.0, 0.19, 0.0, 0.04, 0.23)\n",
      "(19584, '2012-04-23', 3.41, 'risen 2: dark waters', 'X360', 'Role-Playing', 0.05, 0.08, 0.0, 0.01, 0.15)\n",
      "(22508, '2016-05-24', 4.14, 'overwatch', 'PS4', 'Shooter', 0.64, 0.68, 0.14, 0.26, 1.73)\n",
      "(22508, '2016-05-24', 4.14, 'overwatch', 'XOne', 'Shooter', 0.52, 0.25, 0.0, 0.08, 0.85)\n",
      "(22508, '2016-05-24', 4.14, 'overwatch', 'PC', 'Shooter', 0.22, 0.18, 0.0, 0.04, 0.43)\n",
      "(4206, '2010-10-19', 4.01, 'vanquish', 'PS3', 'Shooter', 0.21, 0.22, 0.11, 0.09, 0.62)\n",
      "(4206, '2010-10-19', 4.01, 'vanquish', 'X360', 'Shooter', 0.19, 0.17, 0.03, 0.04, 0.42)\n",
      "(842, '2014-11-03', 3.46, 'call of duty: advanced warfare', 'PS4', 'Shooter', 2.8, 3.3, 0.14, 1.37, 7.6)\n",
      "(842, '2014-11-03', 3.46, 'call of duty: advanced warfare', 'XOne', 'Shooter', 3.21, 1.53, 0.01, 0.38, 5.13)\n",
      "(842, '2014-11-03', 3.46, 'call of duty: advanced warfare', 'PS3', 'Shooter', 1.54, 1.94, 0.19, 0.77, 4.45)\n",
      "(842, '2014-11-03', 3.46, 'call of duty: advanced warfare', 'X360', 'Shooter', 2.75, 1.18, 0.0, 0.37, 4.31)\n",
      "(842, '2014-11-03', 3.46, 'call of duty: advanced warfare', 'PC', 'Shooter', 0.14, 0.23, 0.0, 0.04, 0.41)\n",
      "(35561, '2005-03-01', 4.17, 'star wars: republic commando', 'XB', 'Shooter', 0.48, 0.17, 0.0, 0.02, 0.67)\n",
      "(35561, '2005-03-01', 4.17, 'star wars: republic commando', 'PC', 'Shooter', 0.0, 0.04, 0.0, 0.01, 0.05)\n",
      "(19568, '2010-04-13', 3.84, \"tom clancy's splinter cell: conviction\", 'X360', 'Action', 1.2, 0.63, 0.04, 0.19, 2.06)\n",
      "(19568, '2010-04-13', 3.84, \"tom clancy's splinter cell: conviction\", 'PC', 'Action', 0.0, 0.08, 0.0, 0.02, 0.11)\n",
      "(13909, '2003-10-28', 4.22, 'prince of persia: the sands of time', 'PS2', 'Action', 0.88, 1.03, 0.0, 0.31, 2.22)\n",
      "(13909, '2003-10-28', 4.22, 'prince of persia: the sands of time', 'XB', 'Action', 0.57, 0.33, 0.0, 0.04, 0.94)\n",
      "(13909, '2003-10-28', 4.22, 'prince of persia: the sands of time', 'GC', 'Action', 0.25, 0.06, 0.0, 0.01, 0.32)\n",
      "(13909, '2003-10-28', 4.22, 'prince of persia: the sands of time', 'GBA', 'Action', 0.11, 0.04, 0.0, 0.0, 0.15)\n",
      "(18185, '2009-04-07', 3.39, 'company of heroes: tales of valor', 'PC', 'Strategy', 0.0, 0.03, 0.0, 0.01, 0.04)\n",
      "(12757, '2009-02-18', 3.95, 'warhammer 40,000: dawn of war ii', 'PC', 'Strategy', 0.0, 0.45, 0.0, 0.02, 0.47)\n",
      "(4520, '2011-06-14', 4.01, 'alice: madness returns', 'PS3', 'Adventure', 0.22, 0.25, 0.04, 0.09, 0.6)\n",
      "(4520, '2011-06-14', 4.01, 'alice: madness returns', 'X360', 'Adventure', 0.27, 0.15, 0.04, 0.04, 0.5)\n",
      "(4520, '2011-06-14', 4.01, 'alice: madness returns', 'PC', 'Adventure', 0.0, 0.1, 0.0, 0.02, 0.12)\n",
      "(4483, '2011-06-09', 2.87, 'duke nukem forever', 'X360', 'Shooter', 0.52, 0.25, 0.0, 0.07, 0.84)\n",
      "(4483, '2011-06-09', 2.87, 'duke nukem forever', 'PS3', 'Shooter', 0.33, 0.31, 0.0, 0.12, 0.77)\n",
      "(4483, '2011-06-09', 2.87, 'duke nukem forever', 'PC', 'Shooter', 0.18, 0.17, 0.0, 0.06, 0.41)\n",
      "(5706, '2008-04-24', 4.06, 'valkyria chronicles', 'PS3', 'Role-Playing', 0.71, 0.2, 0.24, 0.13, 1.29)\n",
      "(5706, '2008-04-24', 4.06, 'valkyria chronicles', 'PS4', 'Role-Playing', 0.06, 0.04, 0.05, 0.02, 0.17)\n",
      "(28631, '2010-10-25', 3.73, 'fable iii', 'X360', 'Role-Playing', 3.59, 1.11, 0.05, 0.38, 5.13)\n",
      "(28631, '2010-10-25', 3.73, 'fable iii', 'PC', 'Role-Playing', 0.09, 0.17, 0.0, 0.05, 0.32)\n",
      "(3838, '2013-11-15', 3.15, 'need for speed rivals', 'PS4', 'Racing', 0.73, 0.91, 0.03, 0.22, 1.89)\n",
      "(3838, '2013-11-15', 3.15, 'need for speed rivals', 'PS3', 'Racing', 0.33, 0.74, 0.05, 0.31, 1.44)\n",
      "(3838, '2013-11-15', 3.15, 'need for speed rivals', 'X360', 'Racing', 0.37, 0.38, 0.01, 0.08, 0.84)\n",
      "(3838, '2013-11-15', 3.15, 'need for speed rivals', 'XOne', 'Racing', 0.45, 0.17, 0.0, 0.05, 0.67)\n",
      "(3838, '2013-11-15', 3.15, 'need for speed rivals', 'PC', 'Racing', 0.04, 0.19, 0.0, 0.04, 0.27)\n",
      "(3601, '2014-08-26', 3.72, 'infamous: first light', 'PS4', 'Action', 0.0, 0.03, 0.0, 0.01, 0.04)\n",
      "(28615, '2006-11-08', 4.11, 'gears of war', 'X360', 'Shooter', 3.54, 1.9, 0.07, 0.6, 6.11)\n",
      "(28615, '2006-11-08', 4.11, 'gears of war', 'PC', 'Shooter', 0.0, 0.01, 0.0, 0.0, 0.02)\n",
      "(7439, '2013-11-05', 3.15, 'call of duty: ghosts', 'X360', 'Shooter', 6.72, 2.63, 0.04, 0.82, 10.21)\n",
      "(7439, '2013-11-05', 3.15, 'call of duty: ghosts', 'PS3', 'Shooter', 4.09, 3.73, 0.38, 1.38, 9.59)\n",
      "(7439, '2013-11-05', 3.15, 'call of duty: ghosts', 'PS4', 'Shooter', 1.78, 1.42, 0.05, 0.38, 3.63)\n",
      "(7439, '2013-11-05', 3.15, 'call of duty: ghosts', 'XOne', 'Shooter', 1.87, 0.77, 0.0, 0.22, 2.86)\n",
      "(7439, '2013-11-05', 3.15, 'call of duty: ghosts', 'PC', 'Shooter', 0.23, 0.41, 0.0, 0.09, 0.73)\n",
      "(7439, '2013-11-05', 3.15, 'call of duty: ghosts', 'WiiU', 'Shooter', 0.23, 0.09, 0.01, 0.03, 0.36)\n",
      "(5538, '2011-09-22', 4.33, 'dark souls', 'PS3', 'Role-Playing', 0.75, 0.54, 0.54, 0.23, 2.07)\n",
      "(5538, '2011-09-22', 4.33, 'dark souls', 'X360', 'Role-Playing', 0.64, 0.28, 0.0, 0.08, 1.0)\n",
      "(5538, '2011-09-22', 4.33, 'dark souls', 'PC', 'Role-Playing', 0.0, 0.06, 0.0, 0.01, 0.07)\n",
      "(54491, '1996-06-22', 4.25, 'quake', 'N64', 'Shooter', 0.15, 0.04, 0.0, 0.0, 0.19)\n",
      "(57908, '1997-10-31', 3.74, 'tomb raider ii', 'PS', 'Action', 2.3, 2.46, 0.2, 0.28, 5.24)\n",
      "(57908, '1997-10-31', 3.74, 'tomb raider ii', 'PC', 'Action', 0.91, 1.25, 0.0, 0.13, 2.29)\n",
      "(3726, '2014-04-15', 3.53, 'trials fusion', 'PS4', 'Racing', 0.13, 0.21, 0.01, 0.08, 0.43)\n",
      "(3726, '2014-04-15', 3.53, 'trials fusion', 'XOne', 'Racing', 0.12, 0.1, 0.0, 0.02, 0.24)\n",
      "(3726, '2014-04-15', 3.53, 'trials fusion', 'PC', 'Racing', 0.0, 0.03, 0.0, 0.0, 0.03)\n",
      "(5678, '2006-03-20', 4.33, 'the elder scrolls iv: oblivion', 'X360', 'Role-Playing', 2.82, 1.05, 0.13, 0.4, 4.39)\n",
      "(5678, '2006-03-20', 4.33, 'the elder scrolls iv: oblivion', 'PS3', 'Role-Playing', 1.69, 0.87, 0.14, 0.42, 3.12)\n",
      "(5678, '2006-03-20', 4.33, 'the elder scrolls iv: oblivion', 'PC', 'Role-Playing', 0.01, 0.2, 0.0, 0.05, 0.26)\n",
      "(4571, '2010-12-16', 3.32, 'dungeon defenders', 'PC', 'Role-Playing', 0.02, 0.0, 0.0, 0.0, 0.02)\n",
      "(966, '2012-11-16', 3.9, 'sonic & all-stars racing transformed', 'X360', 'Racing', 0.2, 0.37, 0.0, 0.06, 0.63)\n",
      "(966, '2012-11-16', 3.9, 'sonic & all-stars racing transformed', 'PS3', 'Racing', 0.08, 0.33, 0.01, 0.11, 0.54)\n",
      "(966, '2012-11-16', 3.9, 'sonic & all-stars racing transformed', 'WiiU', 'Racing', 0.2, 0.27, 0.02, 0.05, 0.53)\n",
      "(966, '2012-11-16', 3.9, 'sonic & all-stars racing transformed', 'PSV', 'Racing', 0.12, 0.25, 0.0, 0.11, 0.48)\n",
      "(966, '2012-11-16', 3.9, 'sonic & all-stars racing transformed', '3DS', 'Racing', 0.12, 0.15, 0.0, 0.02, 0.29)\n",
      "(966, '2012-11-16', 3.9, 'sonic & all-stars racing transformed', 'PC', 'Racing', 0.0, 0.01, 0.0, 0.0, 0.01)\n",
      "(22961, '2004-04-20', 3.93, 'hitman: contracts', 'PS2', 'Shooter', 0.39, 0.31, 0.0, 0.1, 0.8)\n",
      "(22961, '2004-04-20', 3.93, 'hitman: contracts', 'XB', 'Shooter', 0.26, 0.07, 0.0, 0.01, 0.34)\n",
      "(4154, '2013-02-05', 3.63, 'dead space 3', 'PS3', 'Action', 0.44, 0.38, 0.0, 0.17, 1.0)\n",
      "(4154, '2013-02-05', 3.63, 'dead space 3', 'X360', 'Action', 0.64, 0.28, 0.0, 0.08, 0.99)\n",
      "(4154, '2013-02-05', 3.63, 'dead space 3', 'PC', 'Action', 0.02, 0.15, 0.0, 0.02, 0.2)\n",
      "(20466, '1999-01-29', 4.31, 'worms armageddon', 'PS', 'Strategy', 0.18, 0.81, 0.0, 0.08, 1.06)\n",
      "(20466, '1999-01-29', 4.31, 'worms armageddon', 'N64', 'Strategy', 0.03, 0.01, 0.0, 0.0, 0.04)\n",
      "(14422, '2005-11-15', 3.81, 'condemned: criminal origins', 'X360', 'Action', 0.36, 0.03, 0.0, 0.03, 0.42)\n",
      "(4466, '2011-02-17', 4.14, 'catherine', 'PS3', 'Adventure', 0.3, 0.15, 0.2, 0.07, 0.72)\n",
      "(4466, '2011-02-17', 4.14, 'catherine', 'X360', 'Adventure', 0.2, 0.06, 0.03, 0.02, 0.32)\n",
      "(13925, '2004-11-30', 4.39, 'prince of persia: warrior within', 'PS2', 'Action', 0.54, 0.88, 0.0, 0.22, 1.64)\n",
      "(13925, '2004-11-30', 4.39, 'prince of persia: warrior within', 'XB', 'Action', 0.48, 0.28, 0.0, 0.04, 0.8)\n",
      "(13925, '2004-11-30', 4.39, 'prince of persia: warrior within', 'GC', 'Action', 0.15, 0.04, 0.0, 0.01, 0.2)\n",
      "(15851, '1995-02-28', 3.65, 'star wars: dark forces', 'PC', 'Shooter', 1.09, 0.77, 0.0, 0.09, 1.95)\n",
      "(15851, '1995-02-28', 3.65, 'star wars: dark forces', 'PS', 'Shooter', 0.31, 0.21, 0.0, 0.04, 0.55)\n",
      "(28589, '2007-09-25', 4.36, 'halo 3', 'X360', 'Shooter', 7.97, 2.83, 0.13, 1.21, 12.14)\n",
      "(16813, '2008-09-16', 3.88, 'mount & blade', 'PC', 'Role-Playing', 0.0, 0.02, 0.0, 0.0, 0.02)\n",
      "(58890, '2005-11-15', 4.45, 'need for speed: most wanted', 'PS2', 'Racing', 2.03, 1.79, 0.08, 0.47, 4.37)\n",
      "(58890, '2005-11-15', 4.45, 'need for speed: most wanted', 'PS3', 'Racing', 0.71, 1.51, 0.06, 0.61, 2.89)\n",
      "(58890, '2005-11-15', 4.45, 'need for speed: most wanted', 'X360', 'Racing', 0.62, 0.8, 0.01, 0.15, 1.58)\n",
      "(58890, '2005-11-15', 4.45, 'need for speed: most wanted', 'X360', 'Racing', 1.0, 0.17, 0.02, 0.1, 1.29)\n",
      "(58890, '2005-11-15', 4.45, 'need for speed: most wanted', 'PSV', 'Racing', 0.38, 0.52, 0.01, 0.25, 1.16)\n",
      "(58890, '2005-11-15', 4.45, 'need for speed: most wanted', 'XB', 'Racing', 0.53, 0.46, 0.0, 0.05, 1.04)\n",
      "(58890, '2005-11-15', 4.45, 'need for speed: most wanted', 'GC', 'Racing', 0.43, 0.11, 0.0, 0.02, 0.56)\n",
      "(58890, '2005-11-15', 4.45, 'need for speed: most wanted', 'PC', 'Racing', 0.02, 0.23, 0.0, 0.05, 0.3)\n",
      "(58890, '2005-11-15', 4.45, 'need for speed: most wanted', 'WiiU', 'Racing', 0.14, 0.12, 0.0, 0.02, 0.28)\n",
      "(58890, '2005-11-15', 4.45, 'need for speed: most wanted', 'DS', 'Racing', 0.24, 0.01, 0.0, 0.02, 0.27)\n",
      "(58890, '2005-11-15', 4.45, 'need for speed: most wanted', 'GBA', 'Racing', 0.19, 0.07, 0.0, 0.0, 0.26)\n",
      "(58890, '2005-11-15', 4.45, 'need for speed: most wanted', 'PC', 'Racing', 0.0, 0.06, 0.0, 0.02, 0.08)\n",
      "(28613, '2010-09-14', 4.28, 'halo: reach', 'X360', 'Shooter', 7.03, 1.98, 0.08, 0.78, 9.88)\n",
      "(2659, '2016-03-22', 3.48, 'trackmania turbo', 'PS4', 'Action', 0.03, 0.24, 0.0, 0.05, 0.32)\n",
      "(2659, '2016-03-22', 3.48, 'trackmania turbo', 'XOne', 'Action', 0.02, 0.03, 0.0, 0.0, 0.06)\n",
      "(2659, '2016-03-22', 3.48, 'trackmania turbo', 'PC', 'Action', 0.0, 0.01, 0.0, 0.0, 0.01)\n",
      "(28619, '2008-11-07', 4.28, 'gears of war 2', 'X360', 'Shooter', 4.15, 1.92, 0.06, 0.64, 6.76)\n",
      "(38965, '2011-12-20', 3.85, 'star wars: the old republic', 'PC', 'Role-Playing', 1.58, 1.01, 0.0, 0.38, 2.97)\n",
      "(13780, '2005-10-25', 4.11, \"sid meier's civilization iv\", 'PC', 'Strategy', 0.02, 0.12, 0.0, 0.03, 0.17)\n",
      "(19635, '2005-09-01', 4.43, 'fable: the lost chapters', 'PC', 'Role-Playing', 0.01, 0.05, 0.0, 0.01, 0.07)\n",
      "(5524, '2011-05-09', 2.72, 'brink', 'X360', 'Shooter', 0.59, 0.35, 0.01, 0.09, 1.04)\n",
      "(5524, '2011-05-09', 2.72, 'brink', 'PS3', 'Shooter', 0.29, 0.32, 0.01, 0.12, 0.74)\n",
      "(5524, '2011-05-09', 2.72, 'brink', 'PC', 'Shooter', 0.06, 0.09, 0.0, 0.03, 0.18)\n",
      "(17818, '2008-02-15', 3.71, 'overlord: raising hell', 'PS3', 'Action', 0.07, 0.04, 0.0, 0.02, 0.13)\n",
      "(3751, '2014-03-11', 4.04, 'dark souls ii', 'PS3', 'Role-Playing', 0.4, 0.36, 0.4, 0.17, 1.32)\n",
      "(3751, '2014-03-11', 4.04, 'dark souls ii', 'X360', 'Role-Playing', 0.48, 0.2, 0.01, 0.06, 0.76)\n",
      "(3751, '2014-03-11', 4.04, 'dark souls ii', 'PS4', 'Role-Playing', 0.2, 0.22, 0.08, 0.08, 0.59)\n",
      "(3751, '2014-03-11', 4.04, 'dark souls ii', 'XOne', 'Role-Playing', 0.13, 0.07, 0.0, 0.02, 0.22)\n",
      "(3751, '2014-03-11', 4.04, 'dark souls ii', 'PC', 'Role-Playing', 0.08, 0.08, 0.0, 0.02, 0.18)\n",
      "(366885, '2010-10-26', 4.44, 'dragon age: origins - ultimate edition', 'PC', 'Role-Playing', 0.0, 0.12, 0.0, 0.02, 0.14)\n",
      "(486, '2016-08-18', 3.97, 'tales of berseria', 'PS4', 'Role-Playing', 0.0, 0.0, 0.22, 0.0, 0.22)\n",
      "(486, '2016-08-18', 3.97, 'tales of berseria', 'PS3', 'Role-Playing', 0.0, 0.0, 0.11, 0.0, 0.11)\n",
      "(12045, '2010-11-09', 3.02, 'two worlds ii', 'X360', 'Role-Playing', 0.4, 0.08, 0.03, 0.04, 0.54)\n",
      "(12045, '2010-11-09', 3.02, 'two worlds ii', 'PS3', 'Role-Playing', 0.26, 0.11, 0.06, 0.05, 0.48)\n",
      "(12045, '2010-11-09', 3.02, 'two worlds ii', 'PC', 'Role-Playing', 0.09, 0.09, 0.0, 0.03, 0.2)\n",
      "(3513, '2014-11-10', 3.6, 'lego batman 3: beyond gotham', 'X360', 'Action', 0.48, 0.38, 0.0, 0.08, 0.95)\n",
      "(3513, '2014-11-10', 3.6, 'lego batman 3: beyond gotham', 'PS4', 'Action', 0.37, 0.39, 0.0, 0.15, 0.92)\n",
      "(3513, '2014-11-10', 3.6, 'lego batman 3: beyond gotham', 'PS3', 'Action', 0.33, 0.35, 0.0, 0.13, 0.81)\n",
      "(3513, '2014-11-10', 3.6, 'lego batman 3: beyond gotham', 'PSV', 'Action', 0.09, 0.29, 0.0, 0.11, 0.49)\n",
      "(3513, '2014-11-10', 3.6, 'lego batman 3: beyond gotham', 'WiiU', 'Action', 0.23, 0.21, 0.0, 0.04, 0.47)\n",
      "(3513, '2014-11-10', 3.6, 'lego batman 3: beyond gotham', '3DS', 'Action', 0.21, 0.21, 0.0, 0.04, 0.45)\n",
      "(3513, '2014-11-10', 3.6, 'lego batman 3: beyond gotham', 'XOne', 'Action', 0.23, 0.17, 0.0, 0.04, 0.43)\n",
      "(3513, '2014-11-10', 3.6, 'lego batman 3: beyond gotham', 'PC', 'Action', 0.0, 0.06, 0.0, 0.01, 0.06)\n",
      "(19628, '2006-06-29', 4.31, 'flatout 2', 'PS2', 'Racing', 0.08, 0.06, 0.0, 0.02, 0.16)\n",
      "(19628, '2006-06-29', 4.31, 'flatout 2', 'XB', 'Racing', 0.03, 0.01, 0.0, 0.0, 0.04)\n",
      "(4480, '2009-09-08', 3.49, 'mini ninjas', 'Wii', 'Action', 0.17, 0.17, 0.0, 0.04, 0.37)\n",
      "(4480, '2009-09-08', 3.49, 'mini ninjas', 'PS3', 'Action', 0.14, 0.16, 0.0, 0.06, 0.35)\n",
      "(4480, '2009-09-08', 3.49, 'mini ninjas', 'DS', 'Action', 0.17, 0.15, 0.0, 0.04, 0.35)\n",
      "(4480, '2009-09-08', 3.49, 'mini ninjas', 'X360', 'Action', 0.12, 0.14, 0.0, 0.03, 0.29)\n",
      "(4480, '2009-09-08', 3.49, 'mini ninjas', 'PC', 'Action', 0.0, 0.02, 0.0, 0.0, 0.02)\n",
      "(13926, '2005-12-01', 4.13, 'prince of persia: the two thrones', 'PS2', 'Action', 0.57, 0.02, 0.0, 0.09, 0.68)\n",
      "(13926, '2005-12-01', 4.13, 'prince of persia: the two thrones', 'XB', 'Action', 0.33, 0.22, 0.0, 0.03, 0.58)\n",
      "(13926, '2005-12-01', 4.13, 'prince of persia: the two thrones', 'GC', 'Action', 0.11, 0.03, 0.0, 0.0, 0.15)\n",
      "(5544, '2011-05-24', 3.67, 'dirt 3', 'PS3', 'Racing', 0.27, 0.59, 0.01, 0.21, 1.08)\n",
      "(5544, '2011-05-24', 3.67, 'dirt 3', 'X360', 'Racing', 0.23, 0.41, 0.01, 0.08, 0.73)\n",
      "(5544, '2011-05-24', 3.67, 'dirt 3', 'PC', 'Racing', 0.0, 0.13, 0.0, 0.03, 0.16)\n",
      "(5488, '1996-09-09', 4.14, 'crash bandicoot', 'PS', 'Platform', 3.23, 2.35, 0.94, 0.3, 6.82)\n",
      "(1249, '2016-09-27', 3.31, 'fifa 17', 'PS4', 'Sports', 0.28, 3.75, 0.06, 0.69, 4.77)\n",
      "(1249, '2016-09-27', 3.31, 'fifa 17', 'XOne', 'Sports', 0.17, 1.26, 0.0, 0.1, 1.53)\n",
      "(1249, '2016-09-27', 3.31, 'fifa 17', 'PS3', 'Sports', 0.02, 0.29, 0.01, 0.05, 0.38)\n",
      "(1249, '2016-09-27', 3.31, 'fifa 17', 'X360', 'Sports', 0.03, 0.13, 0.0, 0.01, 0.18)\n",
      "(1249, '2016-09-27', 3.31, 'fifa 17', 'PC', 'Sports', 0.0, 0.05, 0.0, 0.0, 0.05)\n",
      "(28300, '1995-02-11', 3.06, 'nights into dreams...', 'SAT', 'Platform', 0.0, 0.0, 0.43, 0.0, 0.43)\n",
      "(28300, '1995-02-11', 3.06, 'nights into dreams...', 'PS2', 'Platform', 0.0, 0.0, 0.01, 0.0, 0.01)\n",
      "(343597, '2001-06-18', 3.96, 'sonic adventure 2', 'DC', 'Platform', 0.0, 0.0, 0.12, 0.0, 0.12)\n",
      "(14331, '2005-10-25', 4.21, 'call of duty 2', 'X360', 'Shooter', 1.81, 0.05, 0.01, 0.15, 2.02)\n",
      "(14331, '2005-10-25', 4.21, 'call of duty 2', 'PC', 'Shooter', 0.0, 0.05, 0.0, 0.01, 0.06)\n",
      "(54492, '1997-12-09', 4.17, 'quake ii', 'PS', 'Shooter', 0.23, 0.16, 0.0, 0.03, 0.41)\n",
      "(54492, '1997-12-09', 4.17, 'quake ii', 'N64', 'Shooter', 0.24, 0.06, 0.0, 0.0, 0.3)\n",
      "(447, '2010-06-03', 3.81, 'lego harry potter: years 1-4', 'Wii', 'Action', 1.29, 0.97, 0.0, 0.23, 2.49)\n",
      "(447, '2010-06-03', 3.81, 'lego harry potter: years 1-4', 'DS', 'Action', 1.07, 1.05, 0.0, 0.23, 2.35)\n",
      "(447, '2010-06-03', 3.81, 'lego harry potter: years 1-4', 'X360', 'Action', 0.95, 0.5, 0.0, 0.14, 1.59)\n",
      "(447, '2010-06-03', 3.81, 'lego harry potter: years 1-4', 'PS3', 'Action', 0.55, 0.6, 0.0, 0.22, 1.37)\n",
      "(447, '2010-06-03', 3.81, 'lego harry potter: years 1-4', 'PSP', 'Action', 0.14, 0.37, 0.0, 0.19, 0.71)\n",
      "(447, '2010-06-03', 3.81, 'lego harry potter: years 1-4', 'PC', 'Action', 0.01, 0.01, 0.0, 0.0, 0.02)\n",
      "(35613, '2003-06-06', 3.92, \"sonic adventure dx: director's cut\", 'GC', 'Platform', 0.87, 0.3, 0.06, 0.03, 1.27)\n",
      "(4108, '2009-02-05', 4.28, \"demon's souls\", 'PS3', 'Role-Playing', 0.97, 0.34, 0.35, 0.18, 1.84)\n",
      "(1488, '2000-03-23', 3.97, 'metal slug 3', 'XB', 'Shooter', 0.08, 0.02, 0.0, 0.0, 0.1)\n",
      "(10715, '2016-06-06', 4.07, 'hearts of iron iv', 'PC', 'Strategy', 0.0, 0.03, 0.0, 0.0, 0.03)\n",
      "(4185, '2012-02-07', 3.61, 'kingdoms of amalur: reckoning', 'X360', 'Role-Playing', 0.55, 0.25, 0.01, 0.07, 0.89)\n",
      "(4185, '2012-02-07', 3.61, 'kingdoms of amalur: reckoning', 'PS3', 'Role-Playing', 0.37, 0.3, 0.09, 0.11, 0.87)\n",
      "(4185, '2012-02-07', 3.61, 'kingdoms of amalur: reckoning', 'PC', 'Role-Playing', 0.14, 0.13, 0.0, 0.04, 0.31)\n",
      "(4057, '2013-04-02', 2.2, 'defiance', 'X360', 'Shooter', 0.38, 0.15, 0.0, 0.04, 0.57)\n",
      "(4057, '2013-04-02', 2.2, 'defiance', 'PS3', 'Shooter', 0.19, 0.11, 0.0, 0.05, 0.36)\n",
      "(4057, '2013-04-02', 2.2, 'defiance', 'PC', 'Shooter', 0.14, 0.04, 0.0, 0.02, 0.21)\n",
      "(14625, '2007-11-27', 4.08, 'medieval ii: total war', 'PC', 'Strategy', 0.0, 0.08, 0.0, 0.02, 0.09)\n",
      "(39707, '2007-03-13', 4.41, 'god of war ii', 'PS2', 'Action', 2.32, 0.04, 0.04, 1.67, 4.07)\n",
      "(2828, '2016-02-04', 4.02, 'naruto shippuden: ultimate ninja storm 4', 'PS4', 'Fighting', 0.39, 0.41, 0.1, 0.16, 1.06)\n",
      "(2828, '2016-02-04', 4.02, 'naruto shippuden: ultimate ninja storm 4', 'XOne', 'Fighting', 0.19, 0.06, 0.0, 0.03, 0.28)\n",
      "(5390, '2008-01-22', 4.09, 'burnout paradise', 'PS3', 'Racing', 1.01, 0.64, 0.02, 0.3, 1.97)\n",
      "(5390, '2008-01-22', 4.09, 'burnout paradise', 'X360', 'Racing', 0.63, 0.58, 0.01, 0.15, 1.36)\n",
      "(5689, '2009-06-02', 4.03, 'the sims 3', 'PC', 'Simulation', 0.98, 6.42, 0.0, 0.71, 8.11)\n",
      "(5689, '2009-06-02', 4.03, 'the sims 3', 'X360', 'Simulation', 1.27, 0.86, 0.0, 0.2, 2.33)\n",
      "(5689, '2009-06-02', 4.03, 'the sims 3', 'PS3', 'Simulation', 0.73, 0.97, 0.02, 0.34, 2.06)\n",
      "(5689, '2009-06-02', 4.03, 'the sims 3', 'Wii', 'Simulation', 0.61, 0.73, 0.0, 0.15, 1.49)\n",
      "(5689, '2009-06-02', 4.03, 'the sims 3', '3DS', 'Simulation', 0.3, 0.37, 0.03, 0.07, 0.76)\n",
      "(5689, '2009-06-02', 4.03, 'the sims 3', 'DS', 'Simulation', 0.39, 0.25, 0.0, 0.06, 0.7)\n",
      "(1391, '2014-12-19', 3.9, 'assetto corsa', 'PS4', 'Racing', 0.0, 0.04, 0.0, 0.01, 0.05)\n",
      "(1391, '2014-12-19', 3.9, 'assetto corsa', 'XOne', 'Racing', 0.0, 0.01, 0.0, 0.0, 0.01)\n",
      "(28632, '2011-09-20', 4.2, 'gears of war 3', 'X360', 'Shooter', 4.05, 1.62, 0.07, 0.49, 6.24)\n",
      "(2592, '2013-08-13', 3.78, 'ducktales: remastered', 'WiiU', 'Action', 0.05, 0.0, 0.0, 0.0, 0.06)\n",
      "(2592, '2013-08-13', 3.78, 'ducktales: remastered', 'PS3', 'Action', 0.01, 0.04, 0.0, 0.01, 0.05)\n",
      "(2592, '2013-08-13', 3.78, 'ducktales: remastered', 'X360', 'Action', 0.03, 0.0, 0.0, 0.0, 0.04)\n",
      "(2592, '2013-08-13', 3.78, 'ducktales: remastered', 'PC', 'Action', 0.0, 0.01, 0.0, 0.0, 0.02)\n",
      "(3336, '2015-05-06', 3.57, 'project cars', 'PS4', 'Racing', 0.17, 0.69, 0.02, 0.15, 1.04)\n",
      "(3336, '2015-05-06', 3.57, 'project cars', 'XOne', 'Racing', 0.08, 0.13, 0.0, 0.02, 0.23)\n",
      "(3336, '2015-05-06', 3.57, 'project cars', 'PC', 'Racing', 0.0, 0.1, 0.0, 0.01, 0.11)\n",
      "(4125, '2013-02-19', 3.68, 'crysis 3', 'X360', 'Shooter', 0.51, 0.33, 0.01, 0.08, 0.92)\n",
      "(4125, '2013-02-19', 3.68, 'crysis 3', 'PS3', 'Shooter', 0.26, 0.43, 0.03, 0.18, 0.9)\n",
      "(4125, '2013-02-19', 3.68, 'crysis 3', 'PC', 'Shooter', 0.17, 0.39, 0.0, 0.09, 0.64)\n",
      "(19409, '2009-10-06', 2.78, 'operation flashpoint: dragon rising', 'X360', 'Shooter', 0.36, 0.45, 0.02, 0.1, 0.93)\n",
      "(19409, '2009-10-06', 2.78, 'operation flashpoint: dragon rising', 'PS3', 'Shooter', 0.23, 0.46, 0.05, 0.17, 0.92)\n",
      "(19409, '2009-10-06', 2.78, 'operation flashpoint: dragon rising', 'PC', 'Shooter', 0.01, 0.03, 0.0, 0.01, 0.05)\n",
      "(3489, '2014-12-01', 3.31, 'the crew', 'PS4', 'Racing', 0.34, 1.08, 0.03, 0.26, 1.7)\n",
      "(3489, '2014-12-01', 3.31, 'the crew', 'XOne', 'Racing', 0.24, 0.34, 0.0, 0.05, 0.63)\n",
      "(3489, '2014-12-01', 3.31, 'the crew', 'X360', 'Racing', 0.06, 0.18, 0.0, 0.02, 0.26)\n",
      "(3489, '2014-12-01', 3.31, 'the crew', 'PC', 'Racing', 0.0, 0.15, 0.0, 0.01, 0.16)\n",
      "(3580, '2014-09-20', 3.36, 'fifa 15', 'PS4', 'Sports', 0.79, 4.29, 0.05, 1.47, 6.59)\n",
      "(3580, '2014-09-20', 3.36, 'fifa 15', 'PS3', 'Sports', 0.57, 3.14, 0.04, 1.07, 4.82)\n",
      "(3580, '2014-09-20', 3.36, 'fifa 15', 'X360', 'Sports', 0.78, 2.02, 0.0, 0.3, 3.11)\n",
      "(3580, '2014-09-20', 3.36, 'fifa 15', 'XOne', 'Sports', 0.6, 1.41, 0.0, 0.14, 2.15)\n",
      "(3580, '2014-09-20', 3.36, 'fifa 15', 'PSV', 'Sports', 0.13, 0.48, 0.04, 0.19, 0.84)\n",
      "(3580, '2014-09-20', 3.36, 'fifa 15', 'Wii', 'Sports', 0.24, 0.46, 0.0, 0.06, 0.76)\n",
      "(3580, '2014-09-20', 3.36, 'fifa 15', '3DS', 'Sports', 0.09, 0.33, 0.0, 0.03, 0.45)\n",
      "(3580, '2014-09-20', 3.36, 'fifa 15', 'PC', 'Sports', 0.0, 0.27, 0.0, 0.03, 0.3)\n",
      "(5877, '2010-12-21', 3.43, 'back to the future: the game', 'PS4', 'Adventure', 0.1, 0.04, 0.0, 0.03, 0.17)\n",
      "(5877, '2010-12-21', 3.43, 'back to the future: the game', 'PS3', 'Adventure', 0.07, 0.01, 0.0, 0.01, 0.09)\n",
      "(5877, '2010-12-21', 3.43, 'back to the future: the game', 'Wii', 'Adventure', 0.05, 0.0, 0.0, 0.0, 0.06)\n",
      "(5877, '2010-12-21', 3.43, 'back to the future: the game', 'X360', 'Adventure', 0.02, 0.01, 0.0, 0.0, 0.03)\n",
      "(5877, '2010-12-21', 3.43, 'back to the future: the game', 'XOne', 'Adventure', 0.0, 0.02, 0.0, 0.0, 0.02)\n",
      "(5426, '1998-10-31', 4.33, 'crash bandicoot 3: warped', 'PS', 'Platform', 3.68, 1.75, 1.42, 0.28, 7.13)\n",
      "(4489, '2011-03-22', 3.84, 'crysis 2', 'X360', 'Action', 0.7, 0.5, 0.02, 0.12, 1.35)\n",
      "(4489, '2011-03-22', 3.84, 'crysis 2', 'PS3', 'Action', 0.45, 0.57, 0.06, 0.21, 1.3)\n",
      "(4489, '2011-03-22', 3.84, 'crysis 2', 'PC', 'Action', 0.16, 0.45, 0.0, 0.13, 0.74)\n",
      "(427, '2009-05-05', 4.24, 'plants vs. zombies', 'DS', 'Strategy', 0.95, 0.15, 0.0, 0.08, 1.18)\n",
      "(427, '2009-05-05', 4.24, 'plants vs. zombies', 'X360', 'Strategy', 0.24, 0.0, 0.0, 0.02, 0.26)\n",
      "(427, '2009-05-05', 4.24, 'plants vs. zombies', 'PS3', 'Strategy', 0.18, 0.0, 0.0, 0.01, 0.19)\n",
      "(427, '2009-05-05', 4.24, 'plants vs. zombies', 'PC', 'Strategy', 0.0, 0.04, 0.0, 0.01, 0.05)\n",
      "(3332, '2013-12-26', 4.33, 'final fantasy x/x-2 hd remaster', 'PS4', 'Role-Playing', 0.29, 0.25, 0.06, 0.11, 0.71)\n",
      "(52827, '1997-11-01', 4.26, 'crash bandicoot 2: cortex strikes back', 'PS', 'Platform', 3.78, 2.17, 1.31, 0.31, 7.58)\n",
      "(28608, '2008-10-21', 4.14, 'fable ii', 'X360', 'Role-Playing', 2.51, 1.27, 0.11, 0.41, 4.31)\n",
      "(55984, '2003-11-11', 4.37, 'beyond good & evil', 'PS2', 'Adventure', 0.16, 0.13, 0.0, 0.04, 0.33)\n",
      "(55984, '2003-11-11', 4.37, 'beyond good & evil', 'XB', 'Adventure', 0.08, 0.02, 0.0, 0.0, 0.1)\n",
      "(55984, '2003-11-11', 4.37, 'beyond good & evil', 'GC', 'Adventure', 0.06, 0.01, 0.0, 0.0, 0.07)\n",
      "(12741, '2009-03-03', 3.76, 'empire: total war', 'PC', 'Strategy', 0.01, 0.97, 0.0, 0.11, 1.09)\n",
      "(51, '2011-12-06', 2.31, 'apb reloaded', 'PC', 'Role-Playing', 0.02, 0.01, 0.0, 0.0, 0.04)\n",
      "(17600, '2013-03-12', 3.13, 'sniper: ghost warrior 2', 'PS3', 'Shooter', 0.05, 0.19, 0.03, 0.07, 0.35)\n",
      "(17600, '2013-03-12', 3.13, 'sniper: ghost warrior 2', 'X360', 'Shooter', 0.06, 0.13, 0.0, 0.02, 0.22)\n",
      "(17600, '2013-03-12', 3.13, 'sniper: ghost warrior 2', 'PC', 'Shooter', 0.02, 0.05, 0.0, 0.01, 0.08)\n",
      "(8444, '2015-10-27', 3.74, 'halo 5: guardians', 'XOne', 'Shooter', 2.64, 1.2, 0.03, 0.39, 4.26)\n",
      "(1320, '2006-08-08', 3.68, 'dead rising', 'X360', 'Action', 1.16, 0.65, 0.08, 0.2, 2.09)\n",
      "(1320, '2006-08-08', 3.68, 'dead rising', 'PS4', 'Action', 0.01, 0.0, 0.0, 0.0, 0.02)\n",
      "(9845, '2016-05-24', 4.04, 'total war: warhammer', 'PC', 'Strategy', 0.0, 0.1, 0.0, 0.01, 0.1)\n",
      "(3044, '2013-06-25', 3.75, 'deadpool', 'PS3', 'Action', 0.23, 0.17, 0.0, 0.08, 0.47)\n",
      "(3044, '2013-06-25', 3.75, 'deadpool', 'X360', 'Action', 0.26, 0.16, 0.0, 0.04, 0.46)\n",
      "(3044, '2013-06-25', 3.75, 'deadpool', 'PS4', 'Action', 0.13, 0.1, 0.0, 0.05, 0.28)\n",
      "(3044, '2013-06-25', 3.75, 'deadpool', 'XOne', 'Action', 0.08, 0.03, 0.0, 0.01, 0.12)\n",
      "(3179, '2008-10-27', 4.09, 'littlebigplanet', 'PS3', 'Platform', 2.8, 2.05, 0.17, 0.9, 5.92)\n",
      "(3179, '2008-10-27', 4.09, 'littlebigplanet', 'PSP', 'Platform', 0.64, 1.24, 0.01, 0.69, 2.58)\n",
      "(6885, '2004-11-22', 3.95, \"sid meier's pirates!\", 'PSP', 'Strategy', 0.16, 0.01, 0.0, 0.02, 0.2)\n",
      "(6885, '2004-11-22', 3.95, \"sid meier's pirates!\", 'Wii', 'Strategy', 0.13, 0.02, 0.0, 0.01, 0.16)\n",
      "(6885, '2004-11-22', 3.95, \"sid meier's pirates!\", 'XB', 'Strategy', 0.11, 0.03, 0.0, 0.01, 0.14)\n",
      "(1559, '2011-12-14', 3.64, 'sonic cd', 'SCD', 'Platform', 1.0, 0.36, 0.09, 0.05, 1.5)\n",
      "(15712, '2013-10-15', 3.98, 'goodbye deponia', 'PC', 'Adventure', 0.0, 0.06, 0.0, 0.01, 0.07)\n",
      "(17536, '2010-06-24', 2.97, 'sniper: ghost warrior', 'X360', 'Shooter', 0.54, 0.51, 0.0, 0.12, 1.16)\n",
      "(17536, '2010-06-24', 2.97, 'sniper: ghost warrior', 'PS3', 'Shooter', 0.26, 0.36, 0.04, 0.14, 0.8)\n",
      "(17536, '2010-06-24', 2.97, 'sniper: ghost warrior', 'PC', 'Shooter', 0.0, 0.13, 0.0, 0.03, 0.16)\n",
      "(23600, '2012-05-15', 4.09, 'diablo iii', 'PC', 'Role-Playing', 2.43, 2.15, 0.0, 0.62, 5.2)\n",
      "(23600, '2012-05-15', 4.09, 'diablo iii', 'PS3', 'Role-Playing', 0.71, 0.83, 0.15, 0.35, 2.05)\n",
      "(23600, '2012-05-15', 4.09, 'diablo iii', 'PS4', 'Role-Playing', 0.49, 0.88, 0.06, 0.3, 1.74)\n",
      "(23600, '2012-05-15', 4.09, 'diablo iii', 'X360', 'Role-Playing', 0.89, 0.44, 0.0, 0.12, 1.45)\n",
      "(23600, '2012-05-15', 4.09, 'diablo iii', 'XOne', 'Role-Playing', 0.35, 0.24, 0.0, 0.05, 0.64)\n",
      "(19482, '2004-11-05', 4.04, 'flatout', 'PS2', 'Racing', 0.19, 0.15, 0.0, 0.05, 0.38)\n",
      "(19482, '2004-11-05', 4.04, 'flatout', 'XB', 'Racing', 0.12, 0.04, 0.0, 0.01, 0.17)\n",
      "(16118, '2010-03-01', 3.28, 'supreme commander 2', 'X360', 'Strategy', 0.23, 0.1, 0.0, 0.03, 0.35)\n",
      "(16118, '2010-03-01', 3.28, 'supreme commander 2', 'PC', 'Strategy', 0.0, 0.15, 0.0, 0.04, 0.19)\n",
      "(19536, '2013-06-06', 3.61, 'state of decay', 'XOne', 'Strategy', 0.14, 0.05, 0.0, 0.02, 0.2)\n",
      "(4518, '2010-05-18', 3.63, 'prince of persia: the forgotten sands', 'PS3', 'Action', 0.19, 0.36, 0.01, 0.13, 0.7)\n",
      "(4518, '2010-05-18', 3.63, 'prince of persia: the forgotten sands', 'X360', 'Action', 0.3, 0.26, 0.0, 0.06, 0.62)\n",
      "(4518, '2010-05-18', 3.63, 'prince of persia: the forgotten sands', 'PSP', 'Action', 0.09, 0.18, 0.01, 0.1, 0.37)\n",
      "(4518, '2010-05-18', 3.63, 'prince of persia: the forgotten sands', 'Wii', 'Action', 0.11, 0.11, 0.0, 0.02, 0.25)\n",
      "(4518, '2010-05-18', 3.63, 'prince of persia: the forgotten sands', 'DS', 'Action', 0.14, 0.01, 0.0, 0.01, 0.16)\n",
      "(4518, '2010-05-18', 3.63, 'prince of persia: the forgotten sands', 'PC', 'Action', 0.0, 0.03, 0.0, 0.0, 0.03)\n",
      "(52943, '2000-07-07', 4.37, 'final fantasy ix', 'PS', 'Role-Playing', 1.62, 0.77, 2.78, 0.14, 5.3)\n",
      "(16123, '2008-01-01', 3.24, 'the last remnant', 'X360', 'Role-Playing', 0.25, 0.2, 0.18, 0.06, 0.69)\n",
      "(16123, '2008-01-01', 3.24, 'the last remnant', 'PC', 'Role-Playing', 0.0, 0.01, 0.0, 0.0, 0.01)\n",
      "(3154, '2015-09-25', 2.96, 'nba 2k16', 'PS4', 'Sports', 2.48, 0.65, 0.03, 0.69, 3.85)\n",
      "(3154, '2015-09-25', 2.96, 'nba 2k16', 'XOne', 'Sports', 1.93, 0.14, 0.0, 0.24, 2.32)\n",
      "(3154, '2015-09-25', 2.96, 'nba 2k16', 'X360', 'Sports', 0.77, 0.1, 0.0, 0.1, 0.97)\n",
      "(3154, '2015-09-25', 2.96, 'nba 2k16', 'PS3', 'Sports', 0.44, 0.19, 0.03, 0.13, 0.8)\n",
      "(3154, '2015-09-25', 2.96, 'nba 2k16', 'PC', 'Sports', 0.02, 0.06, 0.0, 0.01, 0.09)\n",
      "(660, '2013-11-22', 3.52, 'killer instinct', 'SNES', 'Fighting', 2.26, 0.72, 0.12, 0.1, 3.2)\n",
      "(12092, '2012-01-05', 4.1, 'age of empires iii: complete collection', 'PC', 'Strategy', 0.01, 0.12, 0.0, 0.03, 0.17)\n",
      "(19535, '2008-01-22', 4.13, 'devil may cry 4', 'PS3', 'Action', 0.58, 0.46, 0.34, 0.21, 1.59)\n",
      "(19535, '2008-01-22', 4.13, 'devil may cry 4', 'X360', 'Action', 0.79, 0.34, 0.08, 0.13, 1.35)\n",
      "(19535, '2008-01-22', 4.13, 'devil may cry 4', 'PS4', 'Action', 0.01, 0.0, 0.08, 0.0, 0.09)\n",
      "(19535, '2008-01-22', 4.13, 'devil may cry 4', 'PC', 'Action', 0.01, 0.02, 0.0, 0.01, 0.04)\n",
      "(3834, '2013-11-15', 3.33, 'contrast', 'PC', 'Platform', 0.0, 0.01, 0.0, 0.0, 0.02)\n",
      "(28627, '2012-11-06', 3.82, 'halo 4', 'X360', 'Shooter', 6.63, 2.36, 0.04, 0.73, 9.76)\n",
      "(5158, '1999-08-16', 4.1, 'legacy of kain: soul reaver', 'PS', 'Action', 0.58, 0.4, 0.0, 0.07, 1.04)\n",
      "(3416, '2015-03-03', 3.35, 'zombie army trilogy', 'PS4', 'Shooter', 0.04, 0.12, 0.0, 0.03, 0.2)\n",
      "(3416, '2015-03-03', 3.35, 'zombie army trilogy', 'XOne', 'Shooter', 0.04, 0.05, 0.0, 0.01, 0.1)\n",
      "(1077, '2013-12-12', 3.33, 'teslagrad', 'PSV', 'Platform', 0.0, 0.01, 0.0, 0.0, 0.01)\n",
      "(2548, '2014-02-05', 3.84, \"shantae and the pirate's curse\", '3DS', 'Platform', 0.0, 0.0, 0.03, 0.0, 0.03)\n",
      "(5783, '2013-09-23', 3.42, 'fifa 14', 'PS3', 'Sports', 0.78, 4.32, 0.07, 1.73, 6.9)\n",
      "(5783, '2013-09-23', 3.42, 'fifa 14', 'X360', 'Sports', 0.92, 2.93, 0.01, 0.46, 4.31)\n",
      "(5783, '2013-09-23', 3.42, 'fifa 14', 'PS4', 'Sports', 0.61, 1.85, 0.11, 0.33, 2.9)\n",
      "(5783, '2013-09-23', 3.42, 'fifa 14', 'XOne', 'Sports', 0.41, 0.66, 0.0, 0.12, 1.19)\n",
      "(5783, '2013-09-23', 3.42, 'fifa 14', 'PSV', 'Sports', 0.11, 0.25, 0.01, 0.13, 0.5)\n",
      "(5783, '2013-09-23', 3.42, 'fifa 14', 'PC', 'Sports', 0.01, 0.36, 0.0, 0.06, 0.43)\n",
      "(5783, '2013-09-23', 3.42, 'fifa 14', 'Wii', 'Sports', 0.0, 0.38, 0.0, 0.05, 0.43)\n",
      "(5783, '2013-09-23', 3.42, 'fifa 14', '3DS', 'Sports', 0.0, 0.23, 0.0, 0.03, 0.25)\n",
      "(5783, '2013-09-23', 3.42, 'fifa 14', 'PSP', 'Sports', 0.0, 0.16, 0.0, 0.07, 0.23)\n",
      "(19627, '2001-09-20', 4.22, 'commandos 2: men of courage', 'PS2', 'Strategy', 0.09, 0.07, 0.0, 0.02, 0.18)\n",
      "(19627, '2001-09-20', 4.22, 'commandos 2: men of courage', 'XB', 'Strategy', 0.05, 0.02, 0.0, 0.0, 0.07)\n",
      "(19646, '2002-11-17', 4.17, \"tom clancy's splinter cell\", 'XB', 'Action', 1.85, 1.04, 0.0, 0.13, 3.02)\n",
      "(19646, '2002-11-17', 4.17, \"tom clancy's splinter cell\", 'PS2', 'Action', 1.15, 1.11, 0.0, 0.4, 2.65)\n",
      "(19646, '2002-11-17', 4.17, \"tom clancy's splinter cell\", 'GC', 'Action', 0.18, 0.05, 0.0, 0.01, 0.23)\n",
      "(19646, '2002-11-17', 4.17, \"tom clancy's splinter cell\", 'GBA', 'Action', 0.07, 0.03, 0.0, 0.0, 0.1)\n",
      "(19345, '2008-01-01', 3.97, 'command & conquer: red alert 3', 'PC', 'Strategy', 0.01, 0.64, 0.0, 0.02, 0.67)\n",
      "(19345, '2008-01-01', 3.97, 'command & conquer: red alert 3', 'X360', 'Strategy', 0.18, 0.23, 0.0, 0.05, 0.46)\n",
      "(57607, '1998-09-03', 4.41, 'metal gear solid', 'PS', 'Action', 3.18, 1.83, 0.78, 0.24, 6.03)\n",
      "(57607, '1998-09-03', 4.41, 'metal gear solid', 'GB', 'Action', 0.0, 0.0, 0.07, 0.0, 0.07)\n",
      "(3923, '2013-08-26', 3.27, 'lost planet 3', 'PS3', 'Shooter', 0.07, 0.06, 0.06, 0.03, 0.22)\n",
      "(3923, '2013-08-26', 3.27, 'lost planet 3', 'X360', 'Shooter', 0.07, 0.04, 0.01, 0.01, 0.12)\n",
      "(3923, '2013-08-26', 3.27, 'lost planet 3', 'PC', 'Shooter', 0.0, 0.03, 0.0, 0.01, 0.04)\n",
      "(680, '2001-05-01', 3.88, 'red faction', 'PS2', 'Shooter', 0.76, 0.96, 0.0, 0.2, 1.92)\n",
      "(17698, '2009-04-10', 4.1, \"king's bounty: armored princess\", 'PC', 'Role-Playing', 0.0, 0.01, 0.0, 0.0, 0.01)\n",
      "(16255, '2011-08-26', 3.3, \"edna & harvey: harvey's new eyes\", 'PC', 'Adventure', 0.0, 0.07, 0.0, 0.01, 0.09)\n",
      "(10261, '2015-02-24', 4.04, 'homeworld remastered collection', 'PC', 'Strategy', 0.0, 0.01, 0.0, 0.0, 0.01)\n",
      "(18701, '2007-02-17', 3.78, 'supreme commander', 'X360', 'Strategy', 0.07, 0.01, 0.0, 0.01, 0.09)\n",
      "(18701, '2007-02-17', 3.78, 'supreme commander', 'PC', 'Strategy', 0.0, 0.04, 0.0, 0.01, 0.05)\n",
      "(39039, '2010-03-16', 4.41, 'god of war iii', 'PS3', 'Action', 2.74, 1.36, 0.12, 0.63, 4.84)\n",
      "(39039, '2010-03-16', 4.41, 'god of war iii', 'PS4', 'Action', 0.23, 0.29, 0.01, 0.1, 0.63)\n",
      "(16700, '2013-05-28', 3.46, 'the night of the rabbit', 'PC', 'Adventure', 0.0, 0.03, 0.0, 0.0, 0.04)\n",
      "(3558, '2014-10-07', 3.51, 'driveclub', 'PS4', 'Racing', 0.35, 1.31, 0.02, 0.33, 2.0)\n",
      "(18700, '2007-11-06', 3.83, 'supreme commander: forged alliance', 'PC', 'Strategy', 0.01, 0.02, 0.0, 0.01, 0.04)\n",
      "(12877, '2007-11-23', 2.61, 'x-blades', 'X360', 'Action', 0.1, 0.02, 0.02, 0.01, 0.14)\n",
      "(12877, '2007-11-23', 2.61, 'x-blades', 'PS3', 'Action', 0.07, 0.03, 0.02, 0.02, 0.14)\n",
      "(2422, '2016-05-17', 3.02, 'homefront: the revolution', 'PS4', 'Shooter', 0.05, 0.19, 0.03, 0.04, 0.31)\n",
      "(2422, '2016-05-17', 3.02, 'homefront: the revolution', 'XOne', 'Shooter', 0.05, 0.07, 0.0, 0.01, 0.12)\n",
      "(2422, '2016-05-17', 3.02, 'homefront: the revolution', 'PC', 'Shooter', 0.0, 0.02, 0.0, 0.0, 0.02)\n",
      "(3469, '2008-06-12', 4.39, 'metal gear solid 4: guns of the patriots', 'PS3', 'Action', 2.63, 1.74, 0.83, 0.83, 6.03)\n",
      "(34668, '2003-11-18', 3.89, 'xiii', 'PS2', 'Shooter', 0.28, 0.22, 0.0, 0.07, 0.57)\n",
      "(34668, '2003-11-18', 3.89, 'xiii', 'XB', 'Shooter', 0.16, 0.08, 0.0, 0.01, 0.25)\n",
      "(34668, '2003-11-18', 3.89, 'xiii', 'GC', 'Shooter', 0.07, 0.02, 0.0, 0.0, 0.09)\n",
      "(5383, '1995-01-01', 3.77, 'worms', 'PS3', 'Strategy', 0.0, 0.02, 0.0, 0.01, 0.03)\n",
      "(5383, '1995-01-01', 3.77, 'worms', 'X360', 'Strategy', 0.0, 0.02, 0.0, 0.0, 0.02)\n",
      "(4241, '2011-11-11', 3.69, 'lego harry potter: years 5-7', 'Wii', 'Action', 0.76, 0.47, 0.0, 0.13, 1.36)\n",
      "(4241, '2011-11-11', 3.69, 'lego harry potter: years 5-7', 'X360', 'Action', 0.51, 0.39, 0.0, 0.09, 0.99)\n",
      "(4241, '2011-11-11', 3.69, 'lego harry potter: years 5-7', 'PS3', 'Action', 0.36, 0.45, 0.0, 0.16, 0.97)\n",
      "(4241, '2011-11-11', 3.69, 'lego harry potter: years 5-7', 'DS', 'Action', 0.35, 0.3, 0.0, 0.07, 0.72)\n",
      "(4241, '2011-11-11', 3.69, 'lego harry potter: years 5-7', '3DS', 'Action', 0.18, 0.19, 0.0, 0.04, 0.4)\n",
      "(4241, '2011-11-11', 3.69, 'lego harry potter: years 5-7', 'PSP', 'Action', 0.1, 0.11, 0.0, 0.06, 0.27)\n",
      "(4241, '2011-11-11', 3.69, 'lego harry potter: years 5-7', 'PSV', 'Action', 0.09, 0.1, 0.0, 0.05, 0.24)\n",
      "(4241, '2011-11-11', 3.69, 'lego harry potter: years 5-7', 'PC', 'Action', 0.05, 0.14, 0.0, 0.03, 0.22)\n",
      "(4671, '2011-06-07', 4.13, 'infamous 2', 'PS3', 'Action', 1.05, 0.49, 0.08, 0.23, 1.85)\n",
      "(17728, '2014-08-12', 3.39, 'risen 3: titan lords', 'PS3', 'Role-Playing', 0.02, 0.06, 0.0, 0.02, 0.1)\n",
      "(17728, '2014-08-12', 3.39, 'risen 3: titan lords', 'PC', 'Role-Playing', 0.0, 0.08, 0.0, 0.01, 0.09)\n",
      "(17728, '2014-08-12', 3.39, 'risen 3: titan lords', 'X360', 'Role-Playing', 0.02, 0.06, 0.0, 0.01, 0.08)\n",
      "(17728, '2014-08-12', 3.39, 'risen 3: titan lords', 'PS4', 'Role-Playing', 0.0, 0.05, 0.0, 0.01, 0.06)\n",
      "(3363, '2014-06-26', 4.3, 'shovel knight', '3DS', 'Platform', 0.07, 0.04, 0.01, 0.01, 0.13)\n",
      "(3363, '2014-06-26', 4.3, 'shovel knight', 'WiiU', 'Platform', 0.06, 0.04, 0.0, 0.01, 0.11)\n",
      "(3363, '2014-06-26', 4.3, 'shovel knight', 'PS4', 'Platform', 0.03, 0.03, 0.0, 0.01, 0.08)\n",
      "(16792, '2010-08-26', 3.68, 'worms reloaded', 'PC', 'Strategy', 0.0, 0.04, 0.0, 0.01, 0.05)\n",
      "(3316, '2014-06-03', 3.86, 'ultra street fighter iv', 'PS4', 'Fighting', 0.0, 0.08, 0.0, 0.01, 0.1)\n",
      "(42230, '2014-03-11', 4.0, 'titanfall', 'XOne', 'Shooter', 1.84, 0.8, 0.04, 0.22, 2.9)\n",
      "(42230, '2014-03-11', 4.0, 'titanfall', 'X360', 'Shooter', 0.87, 0.38, 0.02, 0.11, 1.38)\n",
      "(42230, '2014-03-11', 4.0, 'titanfall', 'PC', 'Shooter', 0.21, 0.3, 0.0, 0.07, 0.58)\n",
      "(3993, '2011-12-15', 3.55, 'final fantasy xiii-2', 'PS3', 'Role-Playing', 0.78, 0.75, 0.89, 0.26, 2.68)\n",
      "(3993, '2011-12-15', 3.55, 'final fantasy xiii-2', 'X360', 'Role-Playing', 0.36, 0.3, 0.02, 0.06, 0.74)\n",
      "(16262, '2003-10-14', 3.75, 'commandos 3: destination berlin', 'PC', 'Strategy', 0.0, 0.02, 0.0, 0.0, 0.02)\n",
      "(3727, '2013-08-27', 4.22, 'final fantasy xiv: a realm reborn', 'PC', 'Role-Playing', 0.86, 0.48, 0.0, 0.17, 1.5)\n",
      "(3727, '2013-08-27', 4.22, 'final fantasy xiv: a realm reborn', 'PS3', 'Role-Playing', 0.36, 0.33, 0.28, 0.15, 1.12)\n",
      "(3727, '2013-08-27', 4.22, 'final fantasy xiv: a realm reborn', 'PS4', 'Role-Playing', 0.32, 0.22, 0.08, 0.1, 0.72)\n",
      "(7241, '2012-04-18', 3.91, 'botanicula', 'PC', 'Adventure', 0.0, 0.02, 0.0, 0.0, 0.03)\n",
      "(14237, '2005-10-18', 3.38, 'sniper elite', 'PS2', 'Shooter', 0.1, 0.07, 0.0, 0.02, 0.19)\n",
      "(14237, '2005-10-18', 3.38, 'sniper elite', 'Wii', 'Shooter', 0.08, 0.03, 0.0, 0.01, 0.12)\n",
      "(14237, '2005-10-18', 3.38, 'sniper elite', 'XB', 'Shooter', 0.07, 0.02, 0.0, 0.0, 0.09)\n",
      "(14237, '2005-10-18', 3.38, 'sniper elite', 'PC', 'Shooter', 0.0, 0.01, 0.0, 0.0, 0.02)\n",
      "(2647, '2003-11-19', 3.89, 'manhunt', 'PS2', 'Action', 0.63, 0.49, 0.0, 0.16, 1.28)\n",
      "(2647, '2003-11-19', 3.89, 'manhunt', 'XB', 'Action', 0.14, 0.04, 0.0, 0.01, 0.19)\n",
      "(4234, '2012-03-22', 4.23, 'devil may cry hd collection', 'PS3', 'Action', 0.42, 0.21, 0.11, 0.1, 0.84)\n",
      "(4234, '2012-03-22', 4.23, 'devil may cry hd collection', 'X360', 'Action', 0.28, 0.11, 0.01, 0.03, 0.44)\n",
      "(3849, '2013-11-15', 3.1, 'knack', 'PS4', 'Platform', 0.43, 0.67, 0.42, 0.15, 1.67)\n",
      "(3775, '2010-11-25', 4.28, 'danganronpa: trigger happy havoc', 'PSV', 'Misc', 0.14, 0.07, 0.15, 0.06, 0.41)\n",
      "(3775, '2010-11-25', 4.28, 'danganronpa: trigger happy havoc', 'PSP', 'Misc', 0.0, 0.0, 0.24, 0.0, 0.24)\n",
      "(881, '2016-09-27', 4.36, 'forza horizon 3', 'XOne', 'Racing', 0.15, 0.2, 0.0, 0.03, 0.38)\n",
      "(10118, '2003-12-15', 3.93, 'legacy of kain: defiance', 'PS2', 'Action', 0.26, 0.2, 0.0, 0.07, 0.53)\n",
      "(10118, '2003-12-15', 3.93, 'legacy of kain: defiance', 'XB', 'Action', 0.14, 0.04, 0.0, 0.01, 0.19)\n",
      "(10118, '2003-12-15', 3.93, 'legacy of kain: defiance', 'PC', 'Action', 0.0, 0.01, 0.0, 0.0, 0.01)\n",
      "(3121, '2015-01-22', 3.56, 'tales of zestiria', 'PS3', 'Role-Playing', 0.05, 0.09, 0.42, 0.03, 0.59)\n",
      "(3121, '2015-01-22', 3.56, 'tales of zestiria', 'PS4', 'Role-Playing', 0.16, 0.15, 0.02, 0.06, 0.38)\n",
      "(19377, '2011-04-19', 2.69, 'operation flashpoint: red river', 'PS3', 'Shooter', 0.06, 0.15, 0.07, 0.05, 0.33)\n",
      "(19377, '2011-04-19', 2.69, 'operation flashpoint: red river', 'X360', 'Shooter', 0.1, 0.15, 0.01, 0.03, 0.29)\n",
      "(19377, '2011-04-19', 2.69, 'operation flashpoint: red river', 'PC', 'Shooter', 0.01, 0.04, 0.0, 0.01, 0.07)\n",
      "(52997, '1999-10-22', 4.02, 'grand theft auto 2', 'PS', 'Action', 1.13, 2.07, 0.0, 0.22, 3.42)\n",
      "(22512, '2000-06-29', 4.4, 'diablo ii', 'PC', 'Role-Playing', 0.01, 0.09, 0.0, 0.02, 0.13)\n",
      "(4521, '2009-01-29', 3.91, 'call of juarez: bound in blood', 'PS3', 'Shooter', 0.35, 0.38, 0.01, 0.16, 0.89)\n",
      "(4521, '2009-01-29', 3.91, 'call of juarez: bound in blood', 'X360', 'Shooter', 0.3, 0.24, 0.0, 0.06, 0.61)\n",
      "(4521, '2009-01-29', 3.91, 'call of juarez: bound in blood', 'PC', 'Shooter', 0.0, 0.03, 0.0, 0.01, 0.03)\n",
      "(3759, '2014-02-21', 3.77, 'castlevania: lords of shadow 2', 'PS3', 'Action', 0.03, 0.13, 0.02, 0.04, 0.22)\n",
      "(3759, '2014-02-21', 3.77, 'castlevania: lords of shadow 2', 'X360', 'Action', 0.02, 0.07, 0.0, 0.01, 0.1)\n",
      "(3759, '2014-02-21', 3.77, 'castlevania: lords of shadow 2', 'PC', 'Action', 0.01, 0.03, 0.0, 0.0, 0.04)\n",
      "(13694, '2014-10-23', 3.57, \"sid meier's civilization: beyond earth\", 'PC', 'Strategy', 0.11, 0.22, 0.0, 0.03, 0.37)\n",
      "(3186, '2015-09-08', 3.71, 'tearaway unfolded', 'PS4', 'Platform', 0.09, 0.12, 0.0, 0.04, 0.25)\n",
      "(5115, '1999-02-11', 4.27, 'final fantasy viii', 'PS', 'Role-Playing', 2.28, 1.72, 3.63, 0.23, 7.86)\n",
      "(16434, '2004-09-27', 3.78, 'evil genius', 'PC', 'Strategy', 0.0, 0.01, 0.0, 0.0, 0.02)\n",
      "(4519, '2011-12-07', 3.94, 'trine 2', 'PC', 'Platform', 0.0, 0.03, 0.0, 0.01, 0.04)\n",
      "(4519, '2011-12-07', 3.94, 'trine 2', 'WiiU', 'Platform', 0.0, 0.03, 0.0, 0.0, 0.03)\n",
      "(4005, '1992-05-05', 4.08, 'wolfenstein 3d', 'GBA', 'Shooter', 0.12, 0.04, 0.0, 0.0, 0.17)\n",
      "(52998, '1997-10-21', 3.86, 'grand theft auto', 'PS', 'Action', 0.79, 1.35, 0.04, 0.14, 2.32)\n",
      "(52998, '1997-10-21', 3.86, 'grand theft auto', 'GBA', 'Action', 0.17, 0.06, 0.0, 0.0, 0.24)\n",
      "(795632, '2023-03-24', 4.63, 'resident evil 4', 'PS2', 'Action', 2.08, 0.83, 0.46, 0.25, 3.62)\n",
      "(795632, '2023-03-24', 4.63, 'resident evil 4', 'Wii', 'Action', 1.34, 0.57, 0.14, 0.21, 2.26)\n",
      "(795632, '2023-03-24', 4.63, 'resident evil 4', 'GC', 'Action', 0.98, 0.42, 0.22, 0.06, 1.69)\n",
      "(795632, '2023-03-24', 4.63, 'resident evil 4', 'PC', 'Action', 0.0, 0.02, 0.0, 0.01, 0.03)\n",
      "(1195, '2015-02-19', 3.06, 'god eater 2: rage burst', 'PSV', 'Role-Playing', 0.0, 0.01, 0.37, 0.0, 0.38)\n",
      "(1195, '2015-02-19', 3.06, 'god eater 2: rage burst', 'PS4', 'Role-Playing', 0.0, 0.01, 0.09, 0.0, 0.1)\n",
      "(19572, '2006-09-06', 3.83, 'call of juarez', 'X360', 'Shooter', 0.14, 0.02, 0.0, 0.01, 0.19)\n",
      "(19572, '2006-09-06', 3.83, 'call of juarez', 'PC', 'Shooter', 0.0, 0.01, 0.0, 0.0, 0.01)\n",
      "(1935, '2016-06-27', 3.62, 'lego star wars: the force awakens', 'PS4', 'Action', 0.14, 0.32, 0.0, 0.08, 0.54)\n",
      "(1935, '2016-06-27', 3.62, 'lego star wars: the force awakens', 'XOne', 'Action', 0.12, 0.1, 0.0, 0.02, 0.24)\n",
      "(1935, '2016-06-27', 3.62, 'lego star wars: the force awakens', 'PS3', 'Action', 0.03, 0.07, 0.0, 0.02, 0.12)\n",
      "(1935, '2016-06-27', 3.62, 'lego star wars: the force awakens', 'X360', 'Action', 0.04, 0.06, 0.0, 0.01, 0.11)\n",
      "(1935, '2016-06-27', 3.62, 'lego star wars: the force awakens', 'PSV', 'Action', 0.02, 0.05, 0.0, 0.02, 0.09)\n",
      "(1935, '2016-06-27', 3.62, 'lego star wars: the force awakens', 'WiiU', 'Action', 0.04, 0.04, 0.0, 0.01, 0.09)\n",
      "(1935, '2016-06-27', 3.62, 'lego star wars: the force awakens', '3DS', 'Action', 0.02, 0.04, 0.0, 0.0, 0.07)\n",
      "(22448, '1996-05-31', 4.13, 'final doom', 'PS', 'Shooter', 0.15, 0.1, 0.0, 0.02, 0.27)\n",
      "(23576, '2016-06-28', 3.08, 'god eater resurrection', 'PSV', 'Action', 0.0, 0.0, 0.19, 0.0, 0.19)\n",
      "(23576, '2016-06-28', 3.08, 'god eater resurrection', 'PS4', 'Action', 0.0, 0.0, 0.08, 0.0, 0.08)\n",
      "(4700, '2010-02-05', 3.94, \"dante's inferno\", 'PS3', 'Action', 0.64, 0.28, 0.04, 0.13, 1.09)\n",
      "(4700, '2010-02-05', 3.94, \"dante's inferno\", 'X360', 'Action', 0.63, 0.2, 0.02, 0.07, 0.92)\n",
      "(4700, '2010-02-05', 3.94, \"dante's inferno\", 'PSP', 'Action', 0.12, 0.03, 0.01, 0.03, 0.19)\n",
      "(9606, '2011-03-01', 2.92, 'rift', 'PC', 'Role-Playing', 0.44, 0.16, 0.0, 0.07, 0.67)\n",
      "(4356, '2011-01-18', 4.09, 'littlebigplanet 2', 'PS3', 'Platform', 1.82, 1.07, 0.06, 0.47, 3.42)\n",
      "(43242, '2015-08-25', 4.07, 'gears of war: ultimate edition', 'XOne', 'Shooter', 2.38, 0.32, 0.0, 0.31, 3.0)\n",
      "(739, '2004-10-26', 3.51, \"the bard's tale\", 'PS2', 'Role-Playing', 0.1, 0.08, 0.0, 0.03, 0.21)\n",
      "(739, '2004-10-26', 3.51, \"the bard's tale\", 'XB', 'Role-Playing', 0.08, 0.02, 0.0, 0.0, 0.1)\n",
      "(578, '2012-01-31', 2.64, 'star trek online', 'PC', 'Role-Playing', 0.0, 0.02, 0.0, 0.0, 0.02)\n",
      "(3388, '2015-03-24', 3.98, 'borderlands: the handsome collection', 'PS4', 'Shooter', 0.36, 0.32, 0.03, 0.14, 0.84)\n",
      "(3388, '2015-03-24', 3.98, 'borderlands: the handsome collection', 'XOne', 'Shooter', 0.24, 0.13, 0.0, 0.04, 0.41)\n",
      "(16677, '2002-11-11', 3.97, 'arx fatalis', 'XB', 'Role-Playing', 0.04, 0.01, 0.0, 0.0, 0.05)\n",
      "(2866, '2016-01-26', 3.66, \"lego marvel's avengers\", 'PS4', 'Action', 0.25, 0.29, 0.0, 0.1, 0.64)\n",
      "(2866, '2016-01-26', 3.66, \"lego marvel's avengers\", 'X360', 'Action', 0.17, 0.15, 0.0, 0.03, 0.34)\n",
      "(2866, '2016-01-26', 3.66, \"lego marvel's avengers\", 'XOne', 'Action', 0.18, 0.11, 0.0, 0.03, 0.32)\n",
      "(2866, '2016-01-26', 3.66, \"lego marvel's avengers\", 'PS3', 'Action', 0.1, 0.17, 0.0, 0.05, 0.32)\n",
      "(2866, '2016-01-26', 3.66, \"lego marvel's avengers\", 'WiiU', 'Action', 0.12, 0.09, 0.0, 0.02, 0.23)\n",
      "(2866, '2016-01-26', 3.66, \"lego marvel's avengers\", 'PSV', 'Action', 0.07, 0.11, 0.0, 0.05, 0.23)\n",
      "(2866, '2016-01-26', 3.66, \"lego marvel's avengers\", '3DS', 'Action', 0.07, 0.08, 0.01, 0.01, 0.18)\n",
      "(13038, '2002-10-14', 3.47, 'red faction ii', 'PS2', 'Shooter', 0.49, 0.78, 0.0, 0.23, 1.5)\n",
      "(13038, '2002-10-14', 3.47, 'red faction ii', 'XB', 'Shooter', 0.09, 0.03, 0.0, 0.0, 0.12)\n",
      "(13038, '2002-10-14', 3.47, 'red faction ii', 'GC', 'Shooter', 0.03, 0.01, 0.0, 0.0, 0.03)\n",
      "(19400, '2009-09-15', 3.57, 'need for speed: shift', 'PS3', 'Racing', 0.69, 1.41, 0.04, 0.53, 2.68)\n",
      "(19400, '2009-09-15', 3.57, 'need for speed: shift', 'X360', 'Racing', 0.73, 0.97, 0.01, 0.22, 1.92)\n",
      "(19400, '2009-09-15', 3.57, 'need for speed: shift', 'PSP', 'Racing', 0.16, 0.38, 0.01, 0.21, 0.76)\n",
      "(19400, '2009-09-15', 3.57, 'need for speed: shift', 'PC', 'Racing', 0.0, 0.05, 0.0, 0.01, 0.06)\n",
      "(4475, '2011-12-17', 3.81, 'uncharted: golden abyss', 'PSV', 'Shooter', 0.59, 0.75, 0.13, 0.27, 1.74)\n",
      "(764, '2011-01-11', 2.96, 'dc universe online', 'PS3', 'Role-Playing', 0.35, 0.12, 0.0, 0.06, 0.52)\n",
      "(764, '2011-01-11', 2.96, 'dc universe online', 'PC', 'Role-Playing', 0.16, 0.06, 0.0, 0.02, 0.24)\n",
      "(5653, '2010-06-25', 3.99, 'singularity', 'X360', 'Shooter', 0.24, 0.05, 0.0, 0.02, 0.32)\n",
      "(5653, '2010-06-25', 3.99, 'singularity', 'PS3', 'Shooter', 0.17, 0.04, 0.01, 0.03, 0.24)\n",
      "(5653, '2010-06-25', 3.99, 'singularity', 'PC', 'Shooter', 0.0, 0.04, 0.0, 0.01, 0.05)\n",
      "(50566, '2009-09-22', 4.04, 'halo 3: odst', 'X360', 'Shooter', 4.34, 1.35, 0.06, 0.61, 6.36)\n",
      "(25097, '1998-11-21', 4.39, 'the legend of zelda: ocarina of time', 'N64', 'Action', 4.1, 1.89, 1.45, 0.16, 7.6)\n",
      "(25097, '1998-11-21', 4.39, 'the legend of zelda: ocarina of time', '3DS', 'Action', 2.03, 1.27, 0.62, 0.3, 4.21)\n",
      "(54285, '1992-08-09', 3.95, 'mortal kombat', 'PS3', 'Fighting', 1.98, 0.55, 0.0, 0.32, 2.85)\n",
      "(54285, '1992-08-09', 3.95, 'mortal kombat', 'GEN', 'Fighting', 1.95, 0.63, 0.0, 0.09, 2.67)\n",
      "(54285, '1992-08-09', 3.95, 'mortal kombat', 'X360', 'Fighting', 1.63, 0.33, 0.0, 0.15, 2.11)\n",
      "(54285, '1992-08-09', 3.95, 'mortal kombat', 'PSV', 'Fighting', 0.47, 0.18, 0.0, 0.12, 0.76)\n",
      "(54285, '1992-08-09', 3.95, 'mortal kombat', 'PC', 'Fighting', 0.01, 0.0, 0.0, 0.0, 0.01)\n",
      "(19347, '2007-06-22', 3.98, 'flatout: ultimate carnage', 'X360', 'Racing', 0.07, 0.03, 0.0, 0.01, 0.11)\n",
      "(19347, '2007-06-22', 3.98, 'flatout: ultimate carnage', 'PC', 'Racing', 0.0, 0.01, 0.0, 0.0, 0.01)\n",
      "(773, '2005-01-25', 3.65, \"oddworld: stranger's wrath\", 'XB', 'Adventure', 0.19, 0.06, 0.0, 0.01, 0.26)\n",
      "(2468, '2016-05-02', 2.71, 'battleborn', 'PS4', 'Shooter', 0.09, 0.08, 0.01, 0.04, 0.22)\n",
      "(2468, '2016-05-02', 2.71, 'battleborn', 'XOne', 'Shooter', 0.08, 0.04, 0.0, 0.01, 0.13)\n",
      "(2468, '2016-05-02', 2.71, 'battleborn', 'PC', 'Shooter', 0.03, 0.03, 0.0, 0.01, 0.07)\n",
      "(4490, '2001-09-24', 4.34, 'ico', 'PS2', 'Action', 0.23, 0.18, 0.0, 0.06, 0.47)\n",
      "(4490, '2001-09-24', 4.34, 'ico', 'PS3', 'Action', 0.0, 0.0, 0.06, 0.0, 0.06)\n",
      "(4469, '2001-12-04', 4.01, 'jak and daxter: the precursor legacy', 'PS2', 'Platform', 2.08, 1.09, 0.15, 0.33, 3.64)\n",
      "(52790, '1997-03-20', 4.36, 'castlevania: symphony of the night', 'PS', 'Platform', 0.58, 0.4, 0.21, 0.08, 1.27)\n",
      "(3656, '2014-06-24', 3.68, 'grid autosport', 'PS3', 'Racing', 0.05, 0.11, 0.01, 0.04, 0.21)\n",
      "(3656, '2014-06-24', 3.68, 'grid autosport', 'X360', 'Racing', 0.03, 0.06, 0.0, 0.01, 0.1)\n",
      "(3656, '2014-06-24', 3.68, 'grid autosport', 'PC', 'Racing', 0.0, 0.02, 0.0, 0.0, 0.03)\n",
      "(3882, '2013-03-12', 3.83, 'god of war: ascension', 'PS3', 'Action', 1.23, 0.68, 0.04, 0.34, 2.29)\n",
      "(14983, '2010-02-23', 3.66, 'napoleon: total war', 'PC', 'Strategy', 0.02, 0.52, 0.0, 0.12, 0.66)\n",
      "(17949, '2011-04-13', 3.5, 'dead rising 2: off the record', 'PS3', 'Action', 0.11, 0.08, 0.1, 0.03, 0.33)\n",
      "(17949, '2011-04-13', 3.5, 'dead rising 2: off the record', 'X360', 'Action', 0.17, 0.09, 0.0, 0.02, 0.28)\n",
      "(17949, '2011-04-13', 3.5, 'dead rising 2: off the record', 'PC', 'Action', 0.04, 0.02, 0.0, 0.01, 0.06)\n",
      "(5265, '2006-10-30', 3.93, 'need for speed carbon', 'X360', 'Racing', 0.76, 0.7, 0.02, 0.18, 1.66)\n",
      "(5265, '2006-10-30', 3.93, 'need for speed carbon', 'PS2', 'Racing', 1.22, 0.05, 0.05, 0.01, 1.34)\n",
      "(5265, '2006-10-30', 3.93, 'need for speed carbon', 'Wii', 'Racing', 0.46, 0.66, 0.02, 0.15, 1.29)\n",
      "(5265, '2006-10-30', 3.93, 'need for speed carbon', 'PS3', 'Racing', 0.49, 0.52, 0.03, 0.21, 1.26)\n",
      "(5265, '2006-10-30', 3.93, 'need for speed carbon', 'XB', 'Racing', 0.35, 0.1, 0.0, 0.02, 0.47)\n",
      "(5265, '2006-10-30', 3.93, 'need for speed carbon', 'GC', 'Racing', 0.27, 0.07, 0.0, 0.01, 0.35)\n",
      "(5265, '2006-10-30', 3.93, 'need for speed carbon', 'PC', 'Racing', 0.0, 0.04, 0.0, 0.01, 0.05)\n",
      "(3594, '2012-07-26', 4.38, 'danganronpa 2: goodbye despair', 'PSV', 'Misc', 0.13, 0.07, 0.0, 0.06, 0.26)\n",
      "(3594, '2012-07-26', 4.38, 'danganronpa 2: goodbye despair', 'PSP', 'Misc', 0.0, 0.0, 0.19, 0.0, 0.19)\n",
      "(4398, '2010-12-07', 3.47, 'bejeweled 3', 'DS', 'Puzzle', 0.32, 0.02, 0.0, 0.03, 0.36)\n",
      "(4398, '2010-12-07', 3.47, 'bejeweled 3', 'PS3', 'Puzzle', 0.13, 0.0, 0.0, 0.01, 0.14)\n",
      "(4398, '2010-12-07', 3.47, 'bejeweled 3', 'X360', 'Puzzle', 0.13, 0.0, 0.0, 0.01, 0.14)\n",
      "(4398, '2010-12-07', 3.47, 'bejeweled 3', 'PC', 'Puzzle', 0.02, 0.05, 0.0, 0.01, 0.08)\n",
      "(809, '2010-05-11', 4.16, 'skate 3', 'X360', 'Sports', 1.46, 0.98, 0.0, 0.24, 2.68)\n",
      "(809, '2010-05-11', 4.16, 'skate 3', 'PS3', 'Sports', 0.79, 0.94, 0.0, 0.35, 2.08)\n",
      "(3294, '2015-06-11', 3.71, 'lego jurassic world', 'X360', 'Action', 0.47, 0.4, 0.0, 0.08, 0.95)\n",
      "(3294, '2015-06-11', 3.71, 'lego jurassic world', 'PS3', 'Action', 0.34, 0.44, 0.0, 0.15, 0.93)\n",
      "(3294, '2015-06-11', 3.71, 'lego jurassic world', 'PS4', 'Action', 0.32, 0.42, 0.01, 0.14, 0.89)\n",
      "(3294, '2015-06-11', 3.71, 'lego jurassic world', 'XOne', 'Action', 0.35, 0.22, 0.0, 0.06, 0.63)\n",
      "(3294, '2015-06-11', 3.71, 'lego jurassic world', '3DS', 'Action', 0.31, 0.22, 0.03, 0.05, 0.6)\n",
      "(3294, '2015-06-11', 3.71, 'lego jurassic world', 'WiiU', 'Action', 0.28, 0.19, 0.02, 0.04, 0.53)\n",
      "(3294, '2015-06-11', 3.71, 'lego jurassic world', 'PSV', 'Action', 0.09, 0.23, 0.0, 0.09, 0.41)\n",
      "(3294, '2015-06-11', 3.71, 'lego jurassic world', 'PC', 'Action', 0.0, 0.04, 0.0, 0.0, 0.04)\n",
      "(4747, '2010-05-18', 3.94, 'split/second', 'PS3', 'Racing', 0.31, 0.31, 0.01, 0.12, 0.75)\n",
      "(4747, '2010-05-18', 3.94, 'split/second', 'X360', 'Racing', 0.32, 0.23, 0.0, 0.06, 0.61)\n",
      "(4747, '2010-05-18', 3.94, 'split/second', 'PSP', 'Racing', 0.07, 0.02, 0.0, 0.02, 0.11)\n",
      "(4747, '2010-05-18', 3.94, 'split/second', 'PC', 'Racing', 0.0, 0.04, 0.0, 0.01, 0.04)\n",
      "(39128, '2009-05-26', 4.03, 'infamous', 'PS3', 'Action', 1.76, 0.69, 0.12, 0.37, 2.94)\n",
      "(5260, '2007-01-01', 3.87, 'lego indiana jones: the original adventures', 'X360', 'Action', 2.4, 1.03, 0.0, 0.36, 3.78)\n",
      "(5260, '2007-01-01', 3.87, 'lego indiana jones: the original adventures', 'Wii', 'Action', 1.54, 0.63, 0.0, 0.22, 2.39)\n",
      "(5260, '2007-01-01', 3.87, 'lego indiana jones: the original adventures', 'DS', 'Action', 1.42, 0.61, 0.0, 0.21, 2.23)\n",
      "(5260, '2007-01-01', 3.87, 'lego indiana jones: the original adventures', 'PS2', 'Action', 0.6, 0.01, 0.0, 0.76, 1.37)\n",
      "(5260, '2007-01-01', 3.87, 'lego indiana jones: the original adventures', 'PSP', 'Action', 0.4, 0.49, 0.0, 0.29, 1.18)\n",
      "(5260, '2007-01-01', 3.87, 'lego indiana jones: the original adventures', 'PS3', 'Action', 0.44, 0.44, 0.0, 0.18, 1.06)\n",
      "(5260, '2007-01-01', 3.87, 'lego indiana jones: the original adventures', 'PC', 'Action', 0.02, 0.02, 0.0, 0.01, 0.04)\n",
      "(52369, '2004-11-17', 4.38, 'metal gear solid 3: snake eater', 'PS2', 'Action', 1.46, 0.0, 0.83, 1.93, 4.23)\n",
      "(4128, '2011-11-17', 4.19, 'ni no kuni: wrath of the white witch', 'PS3', 'Role-Playing', 0.6, 0.51, 0.21, 0.23, 1.55)\n",
      "(5196, '2009-07-03', 3.91, 'trine', 'PC', 'Action', 0.0, 0.01, 0.0, 0.0, 0.01)\n",
      "(19359, '2006-05-16', 4.18, 'heroes of might and magic v', 'PC', 'Strategy', 0.0, 0.03, 0.0, 0.01, 0.04)\n",
      "(52884, '1993-12-10', 4.39, 'doom', 'PS', 'Shooter', 0.43, 0.3, 0.0, 0.05, 0.78)\n",
      "(52884, '1993-12-10', 4.39, 'doom', 'GBA', 'Shooter', 0.1, 0.04, 0.0, 0.0, 0.14)\n",
      "(52884, '1993-12-10', 4.39, 'doom', 'PC', 'Shooter', 0.02, 0.0, 0.0, 0.0, 0.03)\n",
      "(13513, '2009-08-25', 4.37, 'steins;gate', 'PSV', 'Adventure', 0.07, 0.09, 0.0, 0.05, 0.21)\n",
      "(13513, '2009-08-25', 4.37, 'steins;gate', 'PSP', 'Adventure', 0.0, 0.0, 0.19, 0.0, 0.19)\n",
      "(13513, '2009-08-25', 4.37, 'steins;gate', 'PS3', 'Adventure', 0.01, 0.04, 0.02, 0.01, 0.08)\n",
      "(13513, '2009-08-25', 4.37, 'steins;gate', 'X360', 'Adventure', 0.0, 0.0, 0.06, 0.0, 0.06)\n",
      "(683, '2010-02-23', 3.69, 'sonic & sega all-stars racing', 'Wii', 'Racing', 0.65, 0.71, 0.0, 0.15, 1.51)\n",
      "(683, '2010-02-23', 3.69, 'sonic & sega all-stars racing', 'DS', 'Racing', 0.44, 0.54, 0.0, 0.11, 1.09)\n",
      "(683, '2010-02-23', 3.69, 'sonic & sega all-stars racing', 'PS3', 'Racing', 0.36, 0.46, 0.0, 0.17, 0.98)\n",
      "(638654, '2023-01-27', 4.39, 'dead space', 'PS3', 'Action', 1.05, 0.67, 0.0, 0.3, 2.02)\n",
      "(638654, '2023-01-27', 4.39, 'dead space', 'X360', 'Action', 0.89, 0.4, 0.0, 0.13, 1.42)\n",
      "(638654, '2023-01-27', 4.39, 'dead space', 'PC', 'Action', 0.0, 0.53, 0.0, 0.06, 0.59)\n",
      "(5192, '1998-11-17', 4.1, \"oddworld: abe's exoddus\", 'PS', 'Platform', 0.55, 0.38, 0.0, 0.06, 0.99)\n",
      "(1452, '2013-05-30', 4.52, 'phoenix wright: ace attorney trilogy', '3DS', 'Adventure', 0.0, 0.0, 0.02, 0.0, 0.02)\n",
      "(19437, '2006-12-21', 3.68, 'lost planet: extreme condition', 'X360', 'Shooter', 1.09, 0.04, 0.1, 0.11, 1.34)\n",
      "(19437, '2006-12-21', 3.68, 'lost planet: extreme condition', 'PS3', 'Shooter', 0.31, 0.17, 0.07, 0.09, 0.64)\n",
      "(18721, '2009-12-01', 3.0, 'mx vs. atv reflex', 'PS3', 'Racing', 0.52, 0.26, 0.0, 0.12, 0.91)\n",
      "(18721, '2009-12-01', 3.0, 'mx vs. atv reflex', 'X360', 'Racing', 0.52, 0.15, 0.0, 0.06, 0.73)\n",
      "(18721, '2009-12-01', 3.0, 'mx vs. atv reflex', 'PSP', 'Racing', 0.18, 0.03, 0.0, 0.03, 0.24)\n",
      "(18721, '2009-12-01', 3.0, 'mx vs. atv reflex', 'DS', 'Racing', 0.13, 0.0, 0.0, 0.01, 0.14)\n",
      "(5529, '2010-10-05', 3.92, 'castlevania: lords of shadow', 'PS3', 'Action', 0.5, 0.37, 0.1, 0.16, 1.12)\n",
      "(5529, '2010-10-05', 3.92, 'castlevania: lords of shadow', 'X360', 'Action', 0.42, 0.18, 0.01, 0.05, 0.67)\n",
      "(28532, '1998-05-31', 4.24, 'banjo-kazooie', 'N64', 'Platform', 1.87, 1.13, 0.55, 0.1, 3.65)\n",
      "(28532, '1998-05-31', 4.24, 'banjo-kazooie', 'X360', 'Platform', 0.0, 0.01, 0.0, 0.0, 0.01)\n",
      "(27024, '2007-11-01', 4.36, 'super mario galaxy', 'Wii', 'Platform', 6.16, 3.4, 1.2, 0.76, 11.52)\n",
      "(28422, '2007-02-20', 3.55, 'crackdown', 'X360', 'Shooter', 1.0, 0.54, 0.03, 0.18, 1.75)\n",
      "(28633, '2014-09-30', 4.21, 'forza horizon 2', 'XOne', 'Racing', 0.5, 0.78, 0.01, 0.09, 1.37)\n",
      "(28633, '2014-09-30', 4.21, 'forza horizon 2', 'X360', 'Racing', 0.35, 0.43, 0.0, 0.07, 0.85)\n",
      "(2848, '2016-02-02', 4.02, 'gravity rush remastered', 'PS4', 'Action', 0.02, 0.05, 0.04, 0.01, 0.13)\n",
      "(18142, '2012-01-25', 2.37, 'oil rush', 'PC', 'Strategy', 0.0, 0.02, 0.0, 0.0, 0.02)\n",
      "(1063, '1994-04-02', 4.38, 'final fantasy vi', 'PS', 'Role-Playing', 0.0, 0.0, 0.08, 0.01, 0.08)\n",
      "(4348, '2012-02-09', 3.97, 'gravity rush', 'PSV', 'Action', 0.26, 0.2, 0.09, 0.1, 0.64)\n",
      "(57797, '1998-09-09', 4.2, 'spyro the dragon', 'PS', 'Platform', 3.36, 1.36, 0.07, 0.21, 5.0)\n",
      "(19355, '2005-10-24', 4.09, 'call of cthulhu: dark corners of the earth', 'XB', 'Adventure', 0.05, 0.01, 0.0, 0.0, 0.06)\n",
      "(16159, '1999-11-18', 4.37, 'the longest journey', 'PC', 'Adventure', 0.0, 0.01, 0.0, 0.0, 0.02)\n",
      "(24899, '1990-11-21', 4.37, 'super mario world', 'SNES', 'Platform', 12.78, 3.75, 3.54, 0.55, 20.61)\n",
      "(24899, '1990-11-21', 4.37, 'super mario world', 'GBA', 'Platform', 3.21, 1.11, 0.95, 0.2, 5.46)\n",
      "(37194, '2006-01-24', 4.4, \"devil may cry 3: dante's awakening special edition\", 'PS2', 'Action', 1.06, 0.82, 0.05, 0.28, 2.21)\n",
      "(19645, '2002-03-22', 2.6, 'worms blast', 'GC', 'Puzzle', 0.05, 0.01, 0.0, 0.0, 0.06)\n",
      "(65969, '2015-12-03', 3.0, 'risk: global domination', 'PS2', 'Strategy', 0.19, 0.15, 0.0, 0.05, 0.38)\n",
      "(19475, '2009-04-28', 2.92, 'velvet assassin', 'X360', 'Shooter', 0.14, 0.02, 0.01, 0.01, 0.18)\n",
      "(17659, '2012-09-20', 3.54, 'the testament of sherlock holmes', 'PS3', 'Adventure', 0.05, 0.15, 0.0, 0.06, 0.26)\n",
      "(17659, '2012-09-20', 3.54, 'the testament of sherlock holmes', 'PC', 'Adventure', 0.0, 0.06, 0.0, 0.01, 0.07)\n",
      "(17659, '2012-09-20', 3.54, 'the testament of sherlock holmes', 'X360', 'Adventure', 0.0, 0.02, 0.0, 0.0, 0.02)\n",
      "(28547, '2008-06-23', 3.94, 'battlefield: bad company', 'X360', 'Shooter', 0.81, 0.46, 0.04, 0.15, 1.46)\n",
      "(28547, '2008-06-23', 3.94, 'battlefield: bad company', 'PS3', 'Shooter', 0.76, 0.36, 0.05, 0.18, 1.35)\n",
      "(25080, '1985-09-13', 4.31, 'super mario bros.', 'NES', 'Platform', 29.08, 3.58, 6.81, 0.77, 40.24)\n",
      "(25080, '1985-09-13', 4.31, 'super mario bros.', 'GB', 'Platform', 3.4, 1.3, 0.15, 0.22, 5.07)\n",
      "(28628, '2013-03-19', 3.58, 'gears of war: judgment', 'X360', 'Shooter', 0.92, 0.53, 0.03, 0.13, 1.61)\n",
      "(22794, '2005-11-02', 3.61, 'neverwinter nights diamond', 'PC', 'Role-Playing', 0.0, 0.02, 0.0, 0.0, 0.03)\n",
      "(54528, '1996-06-23', 4.42, 'super mario 64', 'N64', 'Platform', 6.91, 2.85, 1.91, 0.23, 11.89)\n",
      "(54528, '1996-06-23', 4.42, 'super mario 64', 'DS', 'Platform', 5.08, 3.11, 1.25, 0.98, 10.42)\n",
      "(15916, '2015-10-13', 3.39, 'minecraft: story mode', 'X360', 'Adventure', 0.46, 0.38, 0.0, 0.08, 0.91)\n",
      "(15916, '2015-10-13', 3.39, 'minecraft: story mode', 'PS3', 'Adventure', 0.25, 0.33, 0.0, 0.11, 0.69)\n",
      "(15916, '2015-10-13', 3.39, 'minecraft: story mode', 'PS4', 'Adventure', 0.23, 0.33, 0.0, 0.11, 0.67)\n",
      "(15916, '2015-10-13', 3.39, 'minecraft: story mode', 'XOne', 'Adventure', 0.29, 0.21, 0.0, 0.05, 0.54)\n",
      "(15916, '2015-10-13', 3.39, 'minecraft: story mode', 'PC', 'Adventure', 0.02, 0.05, 0.0, 0.01, 0.08)\n",
      "(19701, '2007-11-13', 4.05, 'command & conquer 3: tiberium wars', 'X360', 'Strategy', 0.35, 0.05, 0.0, 0.03, 0.43)\n",
      "(19701, '2007-11-13', 4.05, 'command & conquer 3: tiberium wars', 'PC', 'Strategy', 0.0, 0.06, 0.0, 0.01, 0.07)\n",
      "(18642, '2015-12-10', 3.56, 'lightning returns: final fantasy xiii', 'PS3', 'Role-Playing', 0.31, 0.22, 0.45, 0.12, 1.1)\n",
      "(18642, '2015-12-10', 3.56, 'lightning returns: final fantasy xiii', 'X360', 'Role-Playing', 0.15, 0.1, 0.01, 0.02, 0.29)\n",
      "(19240, '2007-01-22', 3.37, 'europa universalis iii complete', 'PC', 'Strategy', 0.0, 0.02, 0.0, 0.0, 0.02)\n",
      "(28637, '2012-10-23', 4.37, 'forza horizon', 'X360', 'Racing', 0.82, 0.98, 0.04, 0.18, 2.02)\n",
      "(5688, '2009-12-04', 3.79, 'the saboteur', 'X360', 'Action', 0.26, 0.21, 0.0, 0.05, 0.51)\n",
      "(5688, '2009-12-04', 3.79, 'the saboteur', 'PS3', 'Action', 0.2, 0.22, 0.0, 0.08, 0.5)\n",
      "(5688, '2009-12-04', 3.79, 'the saboteur', 'PC', 'Action', 0.0, 0.05, 0.0, 0.01, 0.06)\n",
      "(19609, '2010-05-11', 3.32, 'lost planet 2', 'PS3', 'Shooter', 0.29, 0.34, 0.2, 0.13, 0.96)\n",
      "(19609, '2010-05-11', 3.32, 'lost planet 2', 'X360', 'Shooter', 0.38, 0.24, 0.08, 0.06, 0.76)\n",
      "(19609, '2010-05-11', 3.32, 'lost planet 2', 'PC', 'Shooter', 0.0, 0.02, 0.0, 0.01, 0.03)\n",
      "(3628, '2014-07-31', 2.66, 'sacred 3', 'PS3', 'Role-Playing', 0.03, 0.05, 0.02, 0.02, 0.12)\n",
      "(3628, '2014-07-31', 2.66, 'sacred 3', 'X360', 'Role-Playing', 0.03, 0.03, 0.0, 0.01, 0.06)\n",
      "(3628, '2014-07-31', 2.66, 'sacred 3', 'PC', 'Role-Playing', 0.0, 0.02, 0.0, 0.0, 0.02)\n",
      "(5692, '2007-10-29', 3.73, 'timeshift', 'X360', 'Shooter', 0.36, 0.02, 0.0, 0.03, 0.41)\n",
      "(5692, '2007-10-29', 3.73, 'timeshift', 'PS3', 'Shooter', 0.14, 0.01, 0.0, 0.01, 0.16)\n",
      "(5692, '2007-10-29', 3.73, 'timeshift', 'PC', 'Shooter', 0.01, 0.0, 0.0, 0.0, 0.01)\n",
      "(14829, '1997-03-04', 3.71, 'turok: dinosaur hunter', 'N64', 'Shooter', 0.0, 0.0, 0.05, 0.0, 0.05)\n",
      "(4304, '2011-11-18', 3.65, 'the king of fighters xiii', 'X360', 'Fighting', 0.23, 0.07, 0.01, 0.03, 0.33)\n",
      "(4304, '2011-11-18', 3.65, 'the king of fighters xiii', 'PS3', 'Fighting', 0.17, 0.07, 0.04, 0.03, 0.31)\n",
      "(18304, '2011-02-23', 3.66, 'men of war: assault squad', 'PC', 'Strategy', 0.01, 0.03, 0.0, 0.01, 0.05)\n",
      "(2310, '2016-06-21', 2.3, 'mighty no. 9', 'PS4', 'Platform', 0.04, 0.0, 0.0, 0.01, 0.05)\n",
      "(2310, '2016-06-21', 2.3, 'mighty no. 9', 'WiiU', 'Platform', 0.01, 0.01, 0.0, 0.0, 0.02)\n",
      "(2310, '2016-06-21', 2.3, 'mighty no. 9', 'XOne', 'Platform', 0.01, 0.0, 0.0, 0.0, 0.01)\n",
      "(22911, '1996-10-31', 2.81, 'syndicate wars', 'PS', 'Strategy', 0.02, 0.01, 0.0, 0.0, 0.04)\n",
      "(12725, '2010-12-03', 2.56, 'rush', 'PSP', 'Racing', 0.11, 0.0, 0.0, 0.01, 0.12)\n",
      "(9564, '2006-10-17', 3.18, \"sid meier's railroads!\", 'PC', 'Simulation', 0.01, 0.03, 0.0, 0.01, 0.04)\n",
      "(3913, '2011-09-05', 3.31, 'street fighter x tekken', 'PS3', 'Fighting', 0.42, 0.22, 0.1, 0.1, 0.84)\n",
      "(3913, '2011-09-05', 3.31, 'street fighter x tekken', 'X360', 'Fighting', 0.31, 0.1, 0.03, 0.03, 0.47)\n",
      "(3913, '2011-09-05', 3.31, 'street fighter x tekken', 'PSV', 'Fighting', 0.14, 0.05, 0.01, 0.04, 0.24)\n",
      "(3913, '2011-09-05', 3.31, 'street fighter x tekken', 'PC', 'Fighting', 0.0, 0.02, 0.0, 0.0, 0.02)\n",
      "(3532, '2014-10-28', 2.45, 'singstar', 'PS2', 'Misc', 0.0, 1.37, 0.0, 0.49, 1.86)\n",
      "(3532, '2014-10-28', 2.45, 'singstar', 'PS3', 'Misc', 0.45, 0.58, 0.0, 0.13, 1.16)\n",
      "(11563, '2009-06-23', 3.71, 'spore galactic adventures', 'PC', 'Strategy', 0.0, 0.01, 0.0, 0.0, 0.01)\n",
      "(10239, '2007-01-30', 2.72, 'battlestations: midway', 'X360', 'Strategy', 0.21, 0.02, 0.0, 0.02, 0.26)\n",
      "(10239, '2007-01-30', 2.72, 'battlestations: midway', 'PC', 'Strategy', 0.0, 0.01, 0.0, 0.0, 0.01)\n",
      "(713, '2011-11-15', 3.84, 'ultimate marvel vs. capcom 3', 'PSV', 'Fighting', 0.2, 0.09, 0.0, 0.05, 0.33)\n",
      "(713, '2011-11-15', 3.84, 'ultimate marvel vs. capcom 3', 'PS3', 'Fighting', 0.0, 0.04, 0.04, 0.01, 0.1)\n",
      "(713, '2011-11-15', 3.84, 'ultimate marvel vs. capcom 3', 'X360', 'Fighting', 0.0, 0.03, 0.04, 0.0, 0.07)\n",
      "(28581, '2008-01-01', 4.54, 'the orange box', 'X360', 'Shooter', 1.09, 0.54, 0.02, 0.17, 1.83)\n",
      "(28581, '2008-01-01', 4.54, 'the orange box', 'PS3', 'Shooter', 0.28, 0.59, 0.0, 0.22, 1.08)\n",
      "(28581, '2008-01-01', 4.54, 'the orange box', 'PC', 'Shooter', 0.0, 0.11, 0.0, 0.03, 0.14)\n",
      "(13902, '2004-10-21', 4.18, 'sacred gold', 'PC', 'Role-Playing', 0.0, 0.02, 0.0, 0.0, 0.02)\n",
      "(29746, '2012-08-28', 4.09, 'guild wars 2', 'PC', 'Action', 0.95, 1.06, 0.0, 0.29, 2.3)\n",
      "(3145, '2015-10-06', 3.16, 'transformers: devastation', 'PS4', 'Action', 0.1, 0.08, 0.0, 0.04, 0.22)\n",
      "(3145, '2015-10-06', 3.16, 'transformers: devastation', 'XOne', 'Action', 0.09, 0.03, 0.0, 0.01, 0.13)\n",
      "(3145, '2015-10-06', 3.16, 'transformers: devastation', 'PS3', 'Action', 0.03, 0.07, 0.0, 0.02, 0.11)\n",
      "(3145, '2015-10-06', 3.16, 'transformers: devastation', 'X360', 'Action', 0.06, 0.02, 0.0, 0.01, 0.09)\n",
      "(3145, '2015-10-06', 3.16, 'transformers: devastation', 'PC', 'Action', 0.0, 0.03, 0.0, 0.0, 0.03)\n",
      "(2552, '1992-11-21', 4.29, 'sonic the hedgehog 2', 'GEN', 'Platform', 4.47, 1.2, 0.16, 0.19, 6.03)\n",
      "(4187, '2012-11-20', 3.03, 'playstation all-stars battle royale', 'PS3', 'Action', 0.5, 0.28, 0.04, 0.14, 0.96)\n",
      "(4187, '2012-11-20', 3.03, 'playstation all-stars battle royale', 'PSV', 'Action', 0.26, 0.15, 0.01, 0.1, 0.52)\n",
      "(4808, '1999-02-28', 4.13, 'metal slug x', 'PS', 'Shooter', 0.05, 0.03, 0.0, 0.01, 0.09)\n",
      "(39727, '2010-10-05', 4.01, 'enslaved: odyssey to the west', 'PS3', 'Action', 0.24, 0.24, 0.01, 0.09, 0.57)\n",
      "(39727, '2010-10-05', 4.01, 'enslaved: odyssey to the west', 'X360', 'Action', 0.3, 0.19, 0.0, 0.05, 0.55)\n",
      "(46431, '2013-11-22', 3.57, 'forza motorsport 5', 'XOne', 'Racing', 1.21, 0.78, 0.01, 0.17, 2.18)\n",
      "(19565, '2008-01-01', 3.3, 'dark sector', 'X360', 'Shooter', 0.22, 0.2, 0.01, 0.05, 0.48)\n",
      "(19565, '2008-01-01', 3.3, 'dark sector', 'PS3', 'Shooter', 0.23, 0.16, 0.01, 0.07, 0.47)\n",
      "(15022, '2011-12-01', 2.31, 'stronghold kingdoms', 'PC', 'Strategy', 0.0, 0.1, 0.0, 0.02, 0.11)\n",
      "(5604, '2008-10-31', 2.76, 'legendary', 'X360', 'Shooter', 0.08, 0.15, 0.0, 0.03, 0.26)\n",
      "(5604, '2008-10-31', 2.76, 'legendary', 'PS3', 'Shooter', 0.08, 0.03, 0.0, 0.02, 0.13)\n",
      "(5604, '2008-10-31', 2.76, 'legendary', 'PC', 'Shooter', 0.0, 0.01, 0.0, 0.0, 0.02)\n",
      "(5363, '1999-10-31', 4.15, \"spyro 2: ripto's rage!\", 'PS', 'Platform', 2.14, 1.21, 0.01, 0.17, 3.52)\n",
      "(25096, '1991-11-21', 4.37, 'the legend of zelda: a link to the past', 'SNES', 'Action', 2.42, 0.91, 1.15, 0.13, 4.61)\n",
      "(25096, '1991-11-21', 4.37, 'the legend of zelda: a link to the past', 'GBA', 'Action', 1.75, 0.52, 0.33, 0.1, 2.7)\n",
      "(5663, '2008-09-16', 3.87, 'star wars: the force unleashed', 'X360', 'Action', 1.74, 0.8, 0.0, 0.26, 2.8)\n",
      "(5663, '2008-09-16', 3.87, 'star wars: the force unleashed', 'PS3', 'Action', 1.01, 0.9, 0.0, 0.37, 2.28)\n",
      "(5663, '2008-09-16', 3.87, 'star wars: the force unleashed', 'Wii', 'Action', 1.14, 0.57, 0.0, 0.19, 1.91)\n",
      "(5663, '2008-09-16', 3.87, 'star wars: the force unleashed', 'PS2', 'Action', 0.49, 0.0, 0.01, 0.75, 1.25)\n",
      "(5663, '2008-09-16', 3.87, 'star wars: the force unleashed', 'PSP', 'Action', 0.43, 0.41, 0.0, 0.25, 1.09)\n",
      "(5663, '2008-09-16', 3.87, 'star wars: the force unleashed', 'DS', 'Action', 0.51, 0.29, 0.0, 0.09, 0.9)\n",
      "(959, '2013-03-18', 3.93, 'lego city undercover', '3DS', 'Platform', 0.51, 0.75, 0.07, 0.12, 1.46)\n",
      "(959, '2013-03-18', 3.93, 'lego city undercover', 'WiiU', 'Platform', 0.47, 0.4, 0.13, 0.08, 1.08)\n",
      "(36367, '2005-11-21', 3.74, 'stubbs the zombie in rebel without a pulse', 'XB', 'Action', 0.08, 0.02, 0.0, 0.0, 0.11)\n",
      "(27230, '2013-03-05', 3.72, 'castlevania: lords of shadow - mirror of fate', '3DS', 'Action', 0.04, 0.07, 0.03, 0.01, 0.15)\n",
      "(15294, '2008-04-16', 3.89, 'the void', 'PC', 'Adventure', 0.0, 0.03, 0.0, 0.01, 0.03)\n",
      "(3922, '2013-08-01', 3.6, 'killer is dead', 'PS3', 'Action', 0.12, 0.04, 0.05, 0.02, 0.22)\n",
      "(3922, '2013-08-01', 3.6, 'killer is dead', 'X360', 'Action', 0.08, 0.02, 0.01, 0.01, 0.12)\n",
      "(14784, '2012-03-06', 3.23, 'blades of time', 'X360', 'Action', 0.07, 0.03, 0.0, 0.01, 0.11)\n",
      "(14784, '2012-03-06', 3.23, 'blades of time', 'PS3', 'Action', 0.04, 0.03, 0.01, 0.01, 0.1)\n",
      "(17777, '2011-11-17', 3.83, 'anno 2070', 'PC', 'Strategy', 0.0, 1.13, 0.0, 0.32, 1.45)\n",
      "(53478, '1999-01-31', 4.37, 'silent hill', 'PS', 'Action', 0.71, 0.48, 0.3, 0.1, 1.6)\n",
      "(23599, '2004-11-23', 4.3, 'world of warcraft', 'PC', 'Role-Playing', 0.07, 6.21, 0.0, 0.0, 6.28)\n",
      "(4587, '2008-02-26', 2.72, 'sega bass fishing', 'Wii', 'Sports', 0.46, 0.01, 0.0, 0.04, 0.51)\n",
      "(4587, '2008-02-26', 2.72, 'sega bass fishing', 'DC', 'Sports', 0.0, 0.0, 0.09, 0.0, 0.09)\n",
      "(28414, '2011-09-27', 3.44, 'fifa 12', 'PS3', 'Sports', 0.84, 4.32, 0.11, 1.42, 6.69)\n",
      "(28414, '2011-09-27', 3.44, 'fifa 12', 'X360', 'Sports', 0.84, 2.79, 0.02, 0.53, 4.19)\n",
      "(28414, '2011-09-27', 3.44, 'fifa 12', 'Wii', 'Sports', 0.16, 0.52, 0.0, 0.11, 0.79)\n",
      "(28414, '2011-09-27', 3.44, 'fifa 12', 'PSP', 'Sports', 0.12, 0.26, 0.02, 0.14, 0.53)\n",
      "(28414, '2011-09-27', 3.44, 'fifa 12', 'PC', 'Sports', 0.04, 0.33, 0.0, 0.1, 0.47)\n",
      "(28414, '2011-09-27', 3.44, 'fifa 12', '3DS', 'Sports', 0.08, 0.26, 0.0, 0.05, 0.39)\n",
      "(28414, '2011-09-27', 3.44, 'fifa 12', 'PS2', 'Sports', 0.0, 0.02, 0.0, 0.06, 0.09)\n",
      "(2674, '2016-03-15', 3.45, 'ea sports ufc 2', 'PS4', 'Sports', 0.28, 0.47, 0.0, 0.14, 0.89)\n",
      "(2674, '2016-03-15', 3.45, 'ea sports ufc 2', 'XOne', 'Sports', 0.23, 0.14, 0.0, 0.04, 0.4)\n",
      "(13759, '2008-10-16', 3.55, 'x3: terran conflict', 'PC', 'Simulation', 0.0, 0.02, 0.0, 0.01, 0.03)\n",
      "(7613, '2015-08-04', 3.71, 'rare replay', 'XOne', 'Misc', 0.47, 0.21, 0.01, 0.07, 0.75)\n",
      "(27015, '2006-11-19', 4.4, 'the legend of zelda: twilight princess', 'Wii', 'Action', 3.83, 2.19, 0.6, 0.7, 7.31)\n",
      "(27015, '2006-11-19', 4.4, 'the legend of zelda: twilight princess', 'GC', 'Action', 1.15, 0.36, 0.04, 0.04, 1.59)\n",
      "(32716, '1998-03-31', 4.38, 'starcraft', 'PC', 'Strategy', 0.0, 0.04, 0.0, 0.01, 0.05)\n",
      "(19509, '2009-05-06', 3.74, 'men of war', 'PC', 'Strategy', 0.01, 0.02, 0.0, 0.01, 0.03)\n",
      "(4385, '2011-11-15', 3.73, 'need for speed: the run', 'PS3', 'Action', 0.58, 1.06, 0.03, 0.37, 2.04)\n",
      "(4385, '2011-11-15', 3.73, 'need for speed: the run', 'X360', 'Action', 0.63, 0.58, 0.0, 0.15, 1.38)\n",
      "(4385, '2011-11-15', 3.73, 'need for speed: the run', 'PC', 'Action', 0.09, 0.21, 0.0, 0.07, 0.37)\n",
      "(4385, '2011-11-15', 3.73, 'need for speed: the run', 'Wii', 'Action', 0.13, 0.13, 0.01, 0.03, 0.29)\n",
      "(4385, '2011-11-15', 3.73, 'need for speed: the run', '3DS', 'Action', 0.09, 0.09, 0.0, 0.02, 0.19)\n",
      "(28478, '2006-08-29', 3.51, 'saints row', 'X360', 'Action', 1.17, 0.78, 0.02, 0.22, 2.19)\n",
      "(42233, '2013-11-22', 3.39, 'dead rising 3', 'XOne', 'Action', 1.06, 0.35, 0.01, 0.12, 1.54)\n",
      "(28473, '2007-09-04', 3.69, 'medal of honor: airborne', 'PS3', 'Shooter', 0.25, 0.7, 0.03, 0.25, 1.23)\n",
      "(28473, '2007-09-04', 3.69, 'medal of honor: airborne', 'X360', 'Shooter', 0.45, 0.53, 0.01, 0.12, 1.1)\n",
      "(28473, '2007-09-04', 3.69, 'medal of honor: airborne', 'PC', 'Shooter', 0.0, 0.04, 0.0, 0.01, 0.05)\n",
      "(20020, '2008-08-06', 3.59, 'euro truck simulator', 'PC', 'Simulation', 0.0, 0.42, 0.0, 0.09, 0.51)\n",
      "(3699, '2014-05-06', 3.05, 'bound by flame', 'PS4', 'Role-Playing', 0.07, 0.08, 0.0, 0.04, 0.19)\n",
      "(3699, '2014-05-06', 3.05, 'bound by flame', 'X360', 'Role-Playing', 0.0, 0.01, 0.0, 0.0, 0.01)\n",
      "(19096, '2002-10-14', 4.12, 'rollercoaster tycoon 2: triple thrill pack', 'PC', 'Strategy', 0.0, 0.02, 0.0, 0.01, 0.03)\n",
      "(2288, '2016-06-28', 4.09, 'zero escape: zero time dilemma', '3DS', 'Adventure', 0.04, 0.0, 0.01, 0.01, 0.06)\n",
      "(2288, '2016-06-28', 4.09, 'zero escape: zero time dilemma', 'PSV', 'Adventure', 0.03, 0.0, 0.02, 0.01, 0.06)\n",
      "(25064, '2006-11-07', 3.78, 'call of duty 3', 'X360', 'Shooter', 1.49, 0.93, 0.02, 0.27, 2.71)\n",
      "(25064, '2006-11-07', 3.78, 'call of duty 3', 'Wii', 'Shooter', 1.19, 0.84, 0.0, 0.23, 2.26)\n",
      "(25064, '2006-11-07', 3.78, 'call of duty 3', 'PS3', 'Shooter', 0.6, 0.63, 0.03, 0.26, 1.52)\n",
      "(25064, '2006-11-07', 3.78, 'call of duty 3', 'PS2', 'Shooter', 0.89, 0.03, 0.0, 0.15, 1.07)\n",
      "(5674, '2011-02-08', 3.8, 'test drive unlimited 2', 'X360', 'Racing', 0.3, 0.32, 0.0, 0.07, 0.69)\n",
      "(5674, '2011-02-08', 3.8, 'test drive unlimited 2', 'PS3', 'Racing', 0.16, 0.35, 0.01, 0.12, 0.64)\n",
      "(5674, '2011-02-08', 3.8, 'test drive unlimited 2', 'PC', 'Racing', 0.05, 0.11, 0.0, 0.03, 0.2)\n",
      "(16160, '2006-04-16', 4.23, 'dreamfall: the longest journey', 'XB', 'Adventure', 0.03, 0.01, 0.0, 0.0, 0.04)\n",
      "(16437, '2005-04-15', 3.76, 'still life', 'XB', 'Adventure', 0.05, 0.02, 0.0, 0.0, 0.07)\n",
      "(9920, '2015-04-01', 3.01, 'war for the overworld', 'PC', 'Strategy', 0.0, 0.01, 0.0, 0.0, 0.01)\n",
      "(52800, '1995-03-11', 4.34, 'chrono trigger', 'SNES', 'Role-Playing', 0.28, 0.0, 2.02, 0.01, 2.31)\n",
      "(52800, '1995-03-11', 4.34, 'chrono trigger', 'DS', 'Role-Playing', 0.69, 0.2, 0.49, 0.09, 1.47)\n",
      "(21262, '1997-04-30', 3.54, 'mdk', 'PS', 'Shooter', 0.11, 0.08, 0.0, 0.01, 0.2)\n",
      "(24030, '1988-10-23', 4.38, 'super mario bros. 3', 'NES', 'Platform', 9.54, 3.44, 3.84, 0.46, 17.28)\n",
      "(24030, '1988-10-23', 4.38, 'super mario bros. 3', 'GBA', 'Platform', 2.93, 1.25, 0.83, 0.2, 5.2)\n",
      "(121, '2009-02-12', 3.78, 'street fighter iv', 'PS3', 'Fighting', 2.02, 1.06, 0.58, 0.53, 4.19)\n",
      "(121, '2009-02-12', 3.78, 'street fighter iv', 'X360', 'Fighting', 1.82, 0.71, 0.15, 0.26, 2.95)\n",
      "(121, '2009-02-12', 3.78, 'street fighter iv', 'PC', 'Fighting', 0.07, 0.04, 0.0, 0.02, 0.13)\n",
      "(59248, '2005-10-18', 4.35, 'shadow of the colossus', 'PS2', 'Action', 0.78, 0.03, 0.2, 0.13, 1.14)\n",
      "(59248, '2005-10-18', 4.35, 'shadow of the colossus', 'PS3', 'Action', 0.0, 0.0, 0.04, 0.0, 0.04)\n",
      "(3433, '2015-02-10', 2.73, 'evolve', 'PS4', 'Shooter', 0.35, 0.41, 0.05, 0.15, 0.95)\n",
      "(3433, '2015-02-10', 2.73, 'evolve', 'XOne', 'Shooter', 0.36, 0.2, 0.0, 0.06, 0.62)\n",
      "(3433, '2015-02-10', 2.73, 'evolve', 'PC', 'Shooter', 0.07, 0.1, 0.0, 0.01, 0.18)\n",
      "(10446, '1998-10-21', 4.07, 'turok 2: seeds of evil', 'N64', 'Platform', 1.37, 0.41, 0.04, 0.04, 1.86)\n",
      "(3941, '2013-07-25', 3.85, \"dragon's crown\", 'PS3', 'Role-Playing', 0.25, 0.07, 0.17, 0.05, 0.53)\n",
      "(3941, '2013-07-25', 3.85, \"dragon's crown\", 'PSV', 'Role-Playing', 0.16, 0.05, 0.12, 0.05, 0.38)\n",
      "(5542, '2005-02-17', 4.39, \"devil may cry 3: dante's awakening\", 'PS2', 'Action', 0.99, 0.63, 0.29, 0.19, 2.09)\n",
      "(1303, '2016-09-16', 3.33, 'nba 2k17', 'PS4', 'Sports', 0.83, 0.14, 0.0, 0.22, 1.19)\n",
      "(1303, '2016-09-16', 3.33, 'nba 2k17', 'XOne', 'Sports', 0.54, 0.04, 0.0, 0.07, 0.64)\n",
      "(1303, '2016-09-16', 3.33, 'nba 2k17', 'X360', 'Sports', 0.04, 0.0, 0.0, 0.01, 0.05)\n",
      "(1303, '2016-09-16', 3.33, 'nba 2k17', 'PS3', 'Sports', 0.03, 0.01, 0.0, 0.01, 0.05)\n",
      "(3240, '2015-04-23', 3.77, 'blazblue: chrono phantasma extend', 'PS4', 'Action', 0.07, 0.03, 0.02, 0.02, 0.14)\n",
      "(3240, '2015-04-23', 3.77, 'blazblue: chrono phantasma extend', 'PSV', 'Action', 0.0, 0.05, 0.0, 0.01, 0.07)\n",
      "(3240, '2015-04-23', 3.77, 'blazblue: chrono phantasma extend', 'XOne', 'Action', 0.05, 0.01, 0.0, 0.01, 0.06)\n",
      "(3240, '2015-04-23', 3.77, 'blazblue: chrono phantasma extend', 'PS3', 'Action', 0.0, 0.0, 0.04, 0.0, 0.04)\n",
      "(52370, '2001-11-12', 4.35, 'metal gear solid 2: sons of liberty', 'PS2', 'Action', 2.45, 2.01, 0.87, 0.72, 6.05)\n",
      "(21285, '1995-10-30', 3.8, 'hexen: beyond heretic', 'PS', 'Shooter', 0.06, 0.04, 0.0, 0.01, 0.11)\n",
      "(4853, '2010-11-02', 4.15, 'god of war: ghost of sparta', 'PSP', 'Action', 0.41, 0.36, 0.03, 0.21, 1.01)\n",
      "(4098, '2013-02-05', 3.72, 'sly cooper: thieves in time', 'PS3', 'Platform', 0.35, 0.13, 0.0, 0.08, 0.55)\n",
      "(4098, '2013-02-05', 3.72, 'sly cooper: thieves in time', 'PSV', 'Platform', 0.16, 0.06, 0.0, 0.05, 0.28)\n",
      "(28454, '2011-05-17', 4.32, 'the witcher 2: assassins of kings', 'PC', 'Action', 0.25, 0.56, 0.0, 0.15, 0.96)\n",
      "(28454, '2011-05-17', 4.32, 'the witcher 2: assassins of kings', 'X360', 'Action', 0.48, 0.36, 0.02, 0.08, 0.94)\n",
      "(7039, '2016-09-13', 3.33, 'recore', 'XOne', 'Action', 0.06, 0.03, 0.0, 0.01, 0.1)\n",
      "(3662, '2014-06-17', 3.3, 'ea sports ufc', 'PS4', 'Sports', 0.46, 0.4, 0.01, 0.17, 1.04)\n",
      "(3662, '2014-06-17', 3.3, 'ea sports ufc', 'XOne', 'Sports', 0.3, 0.12, 0.0, 0.04, 0.46)\n",
      "(4345, '2012-05-22', 3.65, \"tom clancy's ghost recon: future soldier\", 'X360', 'Shooter', 0.93, 0.4, 0.02, 0.12, 1.46)\n",
      "(4345, '2012-05-22', 3.65, \"tom clancy's ghost recon: future soldier\", 'PS3', 'Shooter', 0.41, 0.33, 0.09, 0.12, 0.96)\n",
      "(4345, '2012-05-22', 3.65, \"tom clancy's ghost recon: future soldier\", 'PC', 'Shooter', 0.05, 0.1, 0.0, 0.03, 0.18)\n",
      "(29109, '2007-10-23', 3.66, \"clive barker's jericho\", 'X360', 'Shooter', 0.28, 0.01, 0.0, 0.02, 0.32)\n",
      "(29109, '2007-10-23', 3.66, \"clive barker's jericho\", 'PS3', 'Shooter', 0.17, 0.01, 0.0, 0.02, 0.2)\n",
      "(29109, '2007-10-23', 3.66, \"clive barker's jericho\", 'PC', 'Shooter', 0.0, 0.01, 0.0, 0.0, 0.01)\n",
      "(11800, '2016-06-09', 3.19, 'wildstar', 'PC', 'Role-Playing', 0.08, 0.07, 0.0, 0.02, 0.17)\n",
      "(15030, '2009-08-06', 3.49, 'hearts of iron iii', 'PC', 'Strategy', 0.01, 0.04, 0.0, 0.01, 0.07)\n",
      "(5574, '2008-03-04', 4.12, 'god of war: chains of olympus', 'PSP', 'Action', 1.48, 1.01, 0.04, 0.66, 3.19)\n",
      "(16435, '2009-03-29', 2.92, 'still life 2', 'PC', 'Adventure', 0.0, 0.01, 0.0, 0.0, 0.02)\n",
      "(1012, '2005-05-26', 3.75, 'destroy all humans!', 'PS2', 'Shooter', 0.78, 0.03, 0.0, 0.13, 0.94)\n",
      "(1012, '2005-05-26', 3.75, 'destroy all humans!', 'XB', 'Shooter', 0.34, 0.11, 0.0, 0.02, 0.46)\n",
      "(25924, '2000-04-27', 4.36, \"the legend of zelda: majora's mask\", 'N64', 'Action', 1.9, 0.67, 0.73, 0.06, 3.36)\n",
      "(20966, '2002-06-30', 2.59, 'gun metal', 'XB', 'Shooter', 0.08, 0.02, 0.0, 0.0, 0.11)\n",
      "(3111, '2015-10-27', 2.91, 'wwe 2k16', 'PS4', 'Sports', 0.41, 0.6, 0.0, 0.19, 1.2)\n",
      "(3111, '2015-10-27', 2.91, 'wwe 2k16', 'XOne', 'Sports', 0.31, 0.22, 0.0, 0.05, 0.58)\n",
      "(3111, '2015-10-27', 2.91, 'wwe 2k16', 'PS3', 'Sports', 0.21, 0.27, 0.0, 0.09, 0.58)\n",
      "(3111, '2015-10-27', 2.91, 'wwe 2k16', 'X360', 'Sports', 0.27, 0.19, 0.0, 0.04, 0.5)\n",
      "(28958, '2009-08-18', 3.78, 'wolfenstein', 'PS3', 'Shooter', 0.25, 0.28, 0.0, 0.11, 0.64)\n",
      "(28958, '2009-08-18', 3.78, 'wolfenstein', 'X360', 'Shooter', 0.28, 0.22, 0.0, 0.06, 0.56)\n",
      "(28958, '2009-08-18', 3.78, 'wolfenstein', 'PC', 'Shooter', 0.01, 0.03, 0.0, 0.01, 0.05)\n",
      "(18232, '2011-10-27', 2.0, 'take on helicopters', 'PC', 'Simulation', 0.0, 0.02, 0.0, 0.01, 0.03)\n",
      "(28495, '2000-05-22', 3.97, 'perfect dark', 'N64', 'Action', 1.55, 0.75, 0.16, 0.06, 2.52)\n",
      "(18851, '2011-11-15', 2.91, 'jurassic park: the game', 'X360', 'Action', 0.15, 0.0, 0.0, 0.01, 0.16)\n",
      "(4284, '2012-02-28', 3.49, 'ssx', 'PS2', 'Sports', 0.78, 0.61, 0.06, 0.2, 1.66)\n",
      "(4284, '2012-02-28', 3.49, 'ssx', 'PS3', 'Sports', 0.35, 0.42, 0.02, 0.14, 0.93)\n",
      "(4284, '2012-02-28', 3.49, 'ssx', 'X360', 'Sports', 0.38, 0.28, 0.0, 0.06, 0.72)\n",
      "(5677, '2009-04-07', 3.97, 'the chronicles of riddick: assault on dark athena', 'X360', 'Shooter', 0.16, 0.1, 0.0, 0.03, 0.29)\n",
      "(5677, '2009-04-07', 3.97, 'the chronicles of riddick: assault on dark athena', 'PS3', 'Shooter', 0.12, 0.1, 0.0, 0.04, 0.25)\n",
      "(5677, '2009-04-07', 3.97, 'the chronicles of riddick: assault on dark athena', 'PC', 'Shooter', 0.0, 0.01, 0.0, 0.0, 0.01)\n",
      "(3855, '2013-10-01', 3.31, 'nba 2k14', 'X360', 'Sports', 2.1, 0.2, 0.0, 0.17, 2.47)\n",
      "(3855, '2013-10-01', 3.31, 'nba 2k14', 'PS3', 'Sports', 1.43, 0.33, 0.04, 0.25, 2.05)\n",
      "(3855, '2013-10-01', 3.31, 'nba 2k14', 'PS4', 'Sports', 0.89, 0.31, 0.01, 0.12, 1.33)\n",
      "(3855, '2013-10-01', 3.31, 'nba 2k14', 'XOne', 'Sports', 0.7, 0.11, 0.0, 0.06, 0.87)\n",
      "(29593, '1996-12-31', 4.39, 'diablo', 'PC', 'Role-Playing', 0.01, 1.58, 0.0, 0.0, 1.59)\n",
      "(29593, '1996-12-31', 4.39, 'diablo', 'PS', 'Role-Playing', 0.29, 0.19, 0.07, 0.04, 0.58)\n",
      "(5611, '2007-11-13', 3.52, 'need for speed: prostreet', 'PS2', 'Racing', 0.69, 0.0, 0.04, 1.68, 2.41)\n",
      "(5611, '2007-11-13', 3.52, 'need for speed: prostreet', 'X360', 'Racing', 1.04, 0.8, 0.01, 0.22, 2.06)\n",
      "(5611, '2007-11-13', 3.52, 'need for speed: prostreet', 'PS3', 'Racing', 0.73, 0.92, 0.04, 0.37, 2.05)\n",
      "(5611, '2007-11-13', 3.52, 'need for speed: prostreet', 'Wii', 'Racing', 0.54, 0.46, 0.0, 0.12, 1.11)\n",
      "(5611, '2007-11-13', 3.52, 'need for speed: prostreet', 'PSP', 'Racing', 0.24, 0.33, 0.01, 0.2, 0.78)\n",
      "(5611, '2007-11-13', 3.52, 'need for speed: prostreet', 'DS', 'Racing', 0.11, 0.01, 0.0, 0.01, 0.13)\n",
      "(5611, '2007-11-13', 3.52, 'need for speed: prostreet', 'PC', 'Racing', 0.0, 0.04, 0.0, 0.01, 0.04)\n",
      "(2229, '2016-07-05', 3.42, 'carmageddon: max damage', 'XOne', 'Action', 0.01, 0.01, 0.0, 0.0, 0.01)\n",
      "(14064, '2003-04-10', 3.22, 'tropico reloaded', 'PC', 'Strategy', 0.0, 0.02, 0.0, 0.0, 0.02)\n",
      "(29131, '2009-10-22', 3.83, 'forza motorsport 3', 'X360', 'Racing', 2.99, 1.92, 0.1, 0.51, 5.51)\n",
      "(10053, '2005-03-29', 2.74, 'project: snowblind', 'PS2', 'Action', 0.1, 0.08, 0.0, 0.03, 0.21)\n",
      "(10053, '2005-03-29', 2.74, 'project: snowblind', 'XB', 'Action', 0.08, 0.02, 0.0, 0.0, 0.11)\n",
      "(28604, '2008-10-20', 3.81, 'midnight club: los angeles', 'PS3', 'Racing', 1.55, 0.54, 0.05, 0.31, 2.45)\n",
      "(28604, '2008-10-20', 3.81, 'midnight club: los angeles', 'X360', 'Racing', 1.68, 0.46, 0.01, 0.2, 2.35)\n",
      "(2384, '2016-04-21', 3.11, 'one piece: burning blood', 'PS4', 'Fighting', 0.1, 0.08, 0.07, 0.04, 0.28)\n",
      "(2384, '2016-04-21', 3.11, 'one piece: burning blood', 'PSV', 'Fighting', 0.0, 0.03, 0.07, 0.01, 0.11)\n",
      "(2384, '2016-04-21', 3.11, 'one piece: burning blood', 'XOne', 'Fighting', 0.03, 0.01, 0.0, 0.0, 0.04)\n",
      "(56, '2013-08-15', 3.71, 'the inner world', 'PC', 'Adventure', 0.0, 0.03, 0.0, 0.0, 0.03)\n",
      "(56092, '2002-12-13', 4.36, 'the legend of zelda: the wind waker', 'GC', 'Action', 2.6, 0.99, 0.89, 0.13, 4.6)\n",
      "(56092, '2002-12-13', 4.36, 'the legend of zelda: the wind waker', 'WiiU', 'Action', 0.93, 0.57, 0.14, 0.13, 1.77)\n",
      "(23760, '2014-09-20', 4.38, 'bayonetta 2', 'WiiU', 'Action', 0.34, 0.28, 0.1, 0.3, 1.01)\n",
      "(24940, '2004-09-14', 4.26, 'the sims 2', 'PSP', 'Simulation', 0.49, 0.56, 0.0, 0.33, 1.38)\n",
      "(24940, '2004-09-14', 4.26, 'the sims 2', 'DS', 'Simulation', 0.82, 0.07, 0.0, 0.07, 0.96)\n",
      "(24940, '2004-09-14', 4.26, 'the sims 2', 'PS2', 'Simulation', 0.67, 0.03, 0.0, 0.11, 0.81)\n",
      "(24940, '2004-09-14', 4.26, 'the sims 2', 'GBA', 'Simulation', 0.28, 0.1, 0.0, 0.01, 0.39)\n",
      "(24940, '2004-09-14', 4.26, 'the sims 2', 'GC', 'Simulation', 0.26, 0.07, 0.0, 0.01, 0.33)\n",
      "(24940, '2004-09-14', 4.26, 'the sims 2', 'PC', 'Simulation', 0.02, 0.24, 0.0, 0.05, 0.3)\n",
      "(24940, '2004-09-14', 4.26, 'the sims 2', 'XB', 'Simulation', 0.19, 0.05, 0.0, 0.01, 0.25)\n",
      "(8098, '2015-09-15', 4.01, 'forza motorsport 6', 'XOne', 'Racing', 0.69, 0.89, 0.03, 0.14, 1.74)\n",
      "(5540, '2001-08-23', 4.05, 'devil may cry', 'PS2', 'Action', 1.36, 0.86, 0.64, 0.13, 2.99)\n",
      "(13468, '2015-02-17', 3.89, 'total war: attila', 'PC', 'Strategy', 0.09, 0.13, 0.0, 0.02, 0.23)\n",
      "(2284, '2016-06-27', 2.92, 'the technomancer', 'PS4', 'Role-Playing', 0.01, 0.03, 0.0, 0.01, 0.05)\n",
      "(2284, '2016-06-27', 2.92, 'the technomancer', 'XOne', 'Role-Playing', 0.01, 0.01, 0.0, 0.0, 0.02)\n",
      "(2284, '2016-06-27', 2.92, 'the technomancer', 'PC', 'Role-Playing', 0.0, 0.01, 0.0, 0.0, 0.01)\n",
      "(5603, '2008-11-04', 3.79, 'naruto: ultimate ninja storm', 'PS3', 'Fighting', 0.49, 0.35, 0.09, 0.16, 1.08)\n",
      "(5606, '2009-11-17', 3.69, 'lego indiana jones 2: the adventure continues', 'Wii', 'Action', 0.91, 0.39, 0.0, 0.13, 1.43)\n",
      "(5606, '2009-11-17', 3.69, 'lego indiana jones 2: the adventure continues', 'DS', 'Action', 0.66, 0.43, 0.0, 0.12, 1.21)\n",
      "(5606, '2009-11-17', 3.69, 'lego indiana jones 2: the adventure continues', 'X360', 'Action', 0.62, 0.33, 0.0, 0.09, 1.04)\n",
      "(5606, '2009-11-17', 3.69, 'lego indiana jones 2: the adventure continues', 'PS3', 'Action', 0.47, 0.3, 0.0, 0.13, 0.91)\n",
      "(5606, '2009-11-17', 3.69, 'lego indiana jones 2: the adventure continues', 'PSP', 'Action', 0.21, 0.24, 0.0, 0.14, 0.59)\n",
      "(5606, '2009-11-17', 3.69, 'lego indiana jones 2: the adventure continues', 'PC', 'Action', 0.02, 0.03, 0.0, 0.01, 0.05)\n",
      "(16426, '2003-02-26', 3.17, 'post mortem', 'PC', 'Adventure', 0.0, 0.01, 0.0, 0.0, 0.02)\n",
      "(4183, '2012-11-13', 2.84, 'f1 race stars', 'PS3', 'Racing', 0.06, 0.21, 0.0, 0.08, 0.35)\n",
      "(4183, '2012-11-13', 2.84, 'f1 race stars', 'X360', 'Racing', 0.07, 0.18, 0.0, 0.03, 0.29)\n",
      "(4183, '2012-11-13', 2.84, 'f1 race stars', 'PC', 'Racing', 0.0, 0.02, 0.0, 0.0, 0.02)\n",
      "(30243, '2000-06-26', 4.36, 'deus ex', 'PC', 'Role-Playing', 0.0, 0.01, 0.0, 0.0, 0.01)\n",
      "(4561, '2008-11-16', 3.27, 'mortal kombat vs. dc universe', 'PS3', 'Fighting', 1.48, 0.3, 0.0, 0.22, 2.0)\n",
      "(4561, '2008-11-16', 3.27, 'mortal kombat vs. dc universe', 'X360', 'Fighting', 1.53, 0.24, 0.0, 0.16, 1.93)\n",
      "(4555, '2002-10-15', 3.91, 'bloodrayne', 'PS2', 'Shooter', 0.2, 0.16, 0.0, 0.05, 0.42)\n",
      "(4555, '2002-10-15', 3.91, 'bloodrayne', 'XB', 'Shooter', 0.16, 0.05, 0.0, 0.01, 0.21)\n",
      "(4555, '2002-10-15', 3.91, 'bloodrayne', 'GC', 'Shooter', 0.09, 0.02, 0.0, 0.0, 0.11)\n",
      "(27036, '2010-05-23', 4.35, 'super mario galaxy 2', 'Wii', 'Platform', 3.66, 2.42, 0.98, 0.64, 7.69)\n",
      "(57918, '2001-11-16', 3.97, \"harry potter and the sorcerer's stone\", 'PS', 'Action', 1.37, 2.0, 0.14, 0.22, 3.73)\n",
      "(57918, '2001-11-16', 3.97, \"harry potter and the sorcerer's stone\", 'GB', 'Action', 0.94, 0.62, 0.1, 0.07, 1.73)\n",
      "(57918, '2001-11-16', 3.97, \"harry potter and the sorcerer's stone\", 'GBA', 'Action', 0.87, 0.66, 0.08, 0.08, 1.69)\n",
      "(57918, '2001-11-16', 3.97, \"harry potter and the sorcerer's stone\", 'PS2', 'Action', 0.14, 0.11, 0.0, 0.04, 0.28)\n",
      "(57918, '2001-11-16', 3.97, \"harry potter and the sorcerer's stone\", 'GC', 'Action', 0.06, 0.02, 0.0, 0.0, 0.08)\n",
      "(57918, '2001-11-16', 3.97, \"harry potter and the sorcerer's stone\", 'XB', 'Action', 0.05, 0.02, 0.0, 0.0, 0.07)\n",
      "(57918, '2001-11-16', 3.97, \"harry potter and the sorcerer's stone\", 'PC', 'Action', 0.01, 0.04, 0.0, 0.01, 0.06)\n",
      "(19236, '2011-04-18', 3.46, 'majesty 2 collection', 'PC', 'Strategy', 0.0, 0.01, 0.0, 0.0, 0.02)\n",
      "(38559, '2008-08-01', 2.14, 'gtr evolution', 'PC', 'Racing', 0.0, 0.02, 0.0, 0.01, 0.03)\n",
      "(9385, '2014-04-15', 2.24, 'mechanic escape', 'PS3', 'Platform', 0.0, 0.0, 0.04, 0.0, 0.04)\n",
      "(19382, '2005-11-05', 4.03, 'gun', 'PS2', 'Shooter', 0.98, 0.04, 0.0, 0.16, 1.17)\n",
      "(19382, '2005-11-05', 4.03, 'gun', 'XB', 'Shooter', 0.38, 0.12, 0.0, 0.02, 0.52)\n",
      "(19382, '2005-11-05', 4.03, 'gun', 'X360', 'Shooter', 0.24, 0.01, 0.0, 0.02, 0.27)\n",
      "(19382, '2005-11-05', 4.03, 'gun', 'GC', 'Shooter', 0.14, 0.04, 0.0, 0.0, 0.18)\n",
      "(5640, '2008-11-04', 3.65, 'resistance 2', 'PS3', 'Shooter', 1.15, 0.85, 0.1, 0.39, 2.48)\n",
      "(39035, '2009-02-25', 4.0, 'killzone 2', 'PS3', 'Shooter', 1.4, 1.07, 0.08, 0.47, 3.02)\n",
      "(28460, '2011-01-03', 3.91, 'forza motorsport 4', 'X360', 'Racing', 2.08, 2.04, 0.06, 0.47, 4.64)\n",
      "(25965, '2009-06-16', 3.61, 'ghostbusters: the video game', 'Wii', 'Action', 0.6, 0.21, 0.0, 0.08, 0.88)\n",
      "(25965, '2009-06-16', 3.61, 'ghostbusters: the video game', 'PS3', 'Action', 0.34, 0.37, 0.0, 0.15, 0.86)\n",
      "(25965, '2009-06-16', 3.61, 'ghostbusters: the video game', 'X360', 'Action', 0.43, 0.14, 0.0, 0.06, 0.63)\n",
      "(25965, '2009-06-16', 3.61, 'ghostbusters: the video game', 'PS2', 'Action', 0.15, 0.04, 0.0, 0.24, 0.43)\n",
      "(25965, '2009-06-16', 3.61, 'ghostbusters: the video game', 'DS', 'Action', 0.26, 0.12, 0.0, 0.04, 0.41)\n",
      "(25965, '2009-06-16', 3.61, 'ghostbusters: the video game', 'PSP', 'Action', 0.16, 0.01, 0.0, 0.02, 0.18)\n",
      "(57842, '1997-03-20', 4.39, 'tekken 3', 'PS', 'Fighting', 3.27, 2.22, 1.4, 0.29, 7.16)\n",
      "(28505, '2007-06-25', 4.03, 'the darkness', 'PS3', 'Shooter', 0.2, 0.34, 0.0, 0.13, 0.67)\n",
      "(28505, '2007-06-25', 4.03, 'the darkness', 'X360', 'Shooter', 0.36, 0.04, 0.01, 0.04, 0.44)\n",
      "(10824, '2012-07-30', 3.54, 'the book of unwritten tales', 'PC', 'Adventure', 0.0, 0.08, 0.0, 0.02, 0.11)\n",
      "(4199, '2012-11-06', 3.11, 'littlebigplanet karting', 'PS3', 'Action', 0.42, 0.32, 0.01, 0.15, 0.9)\n",
      "(2634, '2006-10-17', 4.36, 'bully', 'PS2', 'Action', 0.75, 0.03, 0.04, 0.12, 0.94)\n",
      "(28595, '2010-08-11', 3.63, 'halo wars', 'X360', 'Strategy', 1.53, 0.82, 0.04, 0.24, 2.63)\n",
      "(4679, '2007-03-06', 3.43, \"tom clancy's ghost recon advanced warfighter 2\", 'PS3', 'Shooter', 0.34, 0.48, 0.02, 0.19, 1.04)\n",
      "(4679, '2007-03-06', 3.43, \"tom clancy's ghost recon advanced warfighter 2\", 'X360', 'Shooter', 0.87, 0.05, 0.02, 0.08, 1.02)\n",
      "(4679, '2007-03-06', 3.43, \"tom clancy's ghost recon advanced warfighter 2\", 'PSP', 'Shooter', 0.35, 0.1, 0.0, 0.08, 0.53)\n",
      "(4507, '2011-03-16', 3.62, 'motorstorm: apocalypse', 'PS3', 'Racing', 0.21, 0.2, 0.0, 0.08, 0.49)\n",
      "(28254, '2007-10-27', 3.82, 'tekken 6', 'PS3', 'Fighting', 1.2, 0.98, 0.17, 0.43, 2.78)\n",
      "(28254, '2007-10-27', 3.82, 'tekken 6', 'X360', 'Fighting', 0.71, 0.42, 0.05, 0.13, 1.31)\n",
      "(28254, '2007-10-27', 3.82, 'tekken 6', 'PSP', 'Fighting', 0.15, 0.04, 0.1, 0.03, 0.32)\n",
      "(29051, '2007-12-06', 4.08, 'lost odyssey', 'X360', 'Role-Playing', 0.45, 0.27, 0.11, 0.09, 0.92)\n",
      "(28483, '2008-06-03', 4.02, 'ninja gaiden ii', 'X360', 'Action', 0.65, 0.22, 0.05, 0.1, 1.01)\n",
      "(4470, '2003-10-14', 4.08, 'jak ii', 'PS2', 'Platform', 1.68, 0.74, 0.0, 0.36, 2.78)\n",
      "(19669, '2008-11-13', 3.96, \"command & conquer 3: kane's wrath\", 'X360', 'Strategy', 0.16, 0.06, 0.0, 0.02, 0.24)\n",
      "(19669, '2008-11-13', 3.96, \"command & conquer 3: kane's wrath\", 'PC', 'Strategy', 0.0, 0.01, 0.0, 0.0, 0.02)\n",
      "(19455, '2006-02-14', 4.12, \"marc ecko's getting up: contents under pressure\", 'PS2', 'Action', 0.03, 0.02, 0.0, 0.01, 0.05)\n",
      "(28448, '2001-11-15', 4.32, 'halo: combat evolved', 'XB', 'Shooter', 4.98, 1.3, 0.08, 0.07, 6.43)\n",
      "(28448, '2001-11-15', 4.32, 'halo: combat evolved', 'PC', 'Shooter', 0.01, 0.02, 0.0, 0.01, 0.04)\n",
      "(1602, '2004-09-22', 4.41, 'rome: total war', 'PC', 'Strategy', 0.0, 0.08, 0.0, 0.02, 0.1)\n",
      "(27418, '2004-11-04', 4.4, 'the legend of zelda: the minish cap', 'GBA', 'Action', 0.89, 0.22, 0.22, 0.1, 1.42)\n",
      "(4511, '2008-09-23', 3.91, \"brothers in arms: hell's highway\", 'PS3', 'Shooter', 0.44, 0.34, 0.0, 0.15, 0.93)\n",
      "(4511, '2008-09-23', 3.91, \"brothers in arms: hell's highway\", 'X360', 'Shooter', 0.47, 0.31, 0.0, 0.09, 0.87)\n",
      "(4511, '2008-09-23', 3.91, \"brothers in arms: hell's highway\", 'PC', 'Shooter', 0.0, 0.02, 0.0, 0.0, 0.02)\n",
      "(28399, '2010-06-01', 3.11, 'perfect dark zero', 'X360', 'Shooter', 0.66, 0.02, 0.03, 0.06, 0.77)\n",
      "(14988, '2013-10-18', 2.93, 'sonic lost world', '3DS', 'Platform', 0.24, 0.15, 0.07, 0.03, 0.49)\n",
      "(14988, '2013-10-18', 2.93, 'sonic lost world', 'WiiU', 'Platform', 0.24, 0.12, 0.01, 0.03, 0.4)\n",
      "(39080, '2010-11-24', 4.15, 'gran turismo 5', 'PS3', 'Racing', 2.96, 4.88, 0.81, 2.12, 10.77)\n",
      "(41128, '2001-07-19', 4.37, 'final fantasy x', 'PS2', 'Role-Playing', 2.91, 2.07, 2.73, 0.33, 8.05)\n",
      "(1922, '1992-12-06', 4.07, 'final fantasy v', 'SNES', 'Role-Playing', 0.0, 0.0, 2.43, 0.02, 2.45)\n",
      "(1922, '1992-12-06', 4.07, 'final fantasy v', 'PS', 'Role-Playing', 0.0, 0.0, 0.16, 0.01, 0.17)\n",
      "(27977, '2013-11-22', 4.39, 'the legend of zelda: a link between worlds', '3DS', 'Action', 1.4, 0.99, 0.46, 0.22, 3.07)\n",
      "(35358, '2007-10-24', 4.17, 'the witcher', 'PC', 'Role-Playing', 0.0, 0.05, 0.0, 0.01, 0.06)\n",
      "(19046, '2006-12-14', 3.29, 'il-2 sturmovik: 1946', 'PC', 'Simulation', 0.0, 0.04, 0.0, 0.01, 0.04)\n",
      "(10121, '2008-02-08', 2.67, 'conflict: denied ops', 'X360', 'Shooter', 0.08, 0.09, 0.0, 0.02, 0.19)\n",
      "(10121, '2008-02-08', 2.67, 'conflict: denied ops', 'PS3', 'Shooter', 0.05, 0.1, 0.0, 0.03, 0.19)\n",
      "(10121, '2008-02-08', 2.67, 'conflict: denied ops', 'PC', 'Shooter', 0.0, 0.01, 0.0, 0.0, 0.01)\n",
      "(4471, '2011-05-10', 3.93, 'lego pirates of the caribbean: the video game', 'Wii', 'Action', 0.76, 0.72, 0.0, 0.16, 1.64)\n",
      "(4471, '2011-05-10', 3.93, 'lego pirates of the caribbean: the video game', 'X360', 'Action', 0.54, 0.42, 0.0, 0.1, 1.07)\n",
      "(4471, '2011-05-10', 3.93, 'lego pirates of the caribbean: the video game', 'PS3', 'Action', 0.36, 0.46, 0.0, 0.17, 0.99)\n",
      "(4471, '2011-05-10', 3.93, 'lego pirates of the caribbean: the video game', 'DS', 'Action', 0.37, 0.49, 0.0, 0.1, 0.96)\n",
      "(4471, '2011-05-10', 3.93, 'lego pirates of the caribbean: the video game', '3DS', 'Action', 0.29, 0.28, 0.0, 0.06, 0.62)\n",
      "(4471, '2011-05-10', 3.93, 'lego pirates of the caribbean: the video game', 'PSP', 'Action', 0.11, 0.15, 0.0, 0.08, 0.34)\n",
      "(4471, '2011-05-10', 3.93, 'lego pirates of the caribbean: the video game', 'PC', 'Action', 0.02, 0.0, 0.0, 0.0, 0.03)\n",
      "(57666, '1996-10-31', 3.25, 'pandemonium!', 'PS', 'Platform', 0.12, 0.08, 0.0, 0.01, 0.21)\n",
      "(28757, '2008-09-16', 3.57, 'pure', 'X360', 'Racing', 1.38, 0.85, 0.0, 0.25, 2.48)\n",
      "(28757, '2008-09-16', 3.57, 'pure', 'PS3', 'Racing', 0.42, 0.33, 0.0, 0.14, 0.9)\n",
      "(40035, '2010-10-15', 3.97, 'naruto shippuden: ultimate ninja storm 2', 'PS3', 'Fighting', 0.42, 0.47, 0.15, 0.18, 1.22)\n",
      "(40035, '2010-10-15', 3.97, 'naruto shippuden: ultimate ninja storm 2', 'X360', 'Fighting', 0.43, 0.27, 0.01, 0.07, 0.79)\n",
      "(39759, '2011-02-22', 3.94, 'killzone 3', 'PS3', 'Shooter', 1.45, 0.88, 0.09, 0.38, 2.79)\n",
      "(35314, '2003-05-23', 4.38, 'silent hill 3', 'PS2', 'Action', 0.35, 0.27, 0.0, 0.09, 0.71)\n",
      "(25829, '2009-02-28', 3.26, 'gauntlet', '2600', 'Action', 0.46, 0.03, 0.0, 0.01, 0.5)\n",
      "(2271, '2015-10-20', 3.66, 'guitar hero live', 'PS4', 'Misc', 0.32, 0.35, 0.0, 0.13, 0.81)\n",
      "(2271, '2015-10-20', 3.66, 'guitar hero live', 'XOne', 'Misc', 0.29, 0.17, 0.0, 0.05, 0.51)\n",
      "(2271, '2015-10-20', 3.66, 'guitar hero live', 'PS3', 'Misc', 0.09, 0.14, 0.0, 0.05, 0.28)\n",
      "(2271, '2015-10-20', 3.66, 'guitar hero live', 'X360', 'Misc', 0.12, 0.1, 0.0, 0.02, 0.24)\n",
      "(2271, '2015-10-20', 3.66, 'guitar hero live', 'WiiU', 'Misc', 0.12, 0.04, 0.0, 0.02, 0.18)\n",
      "(4329, '2004-10-12', 3.72, 'bloodrayne 2', 'PS2', 'Shooter', 0.13, 0.1, 0.0, 0.03, 0.27)\n",
      "(4329, '2004-10-12', 3.72, 'bloodrayne 2', 'XB', 'Shooter', 0.11, 0.03, 0.0, 0.01, 0.15)\n",
      "(15825, '2006-10-13', 3.1, 'stronghold legends', 'PC', 'Strategy', 0.0, 0.01, 0.0, 0.0, 0.02)\n",
      "(27022, '1994-03-19', 4.37, 'super metroid', 'SNES', 'Action', 0.57, 0.12, 0.71, 0.02, 1.42)\n",
      "(17735, '2008-03-12', 3.93, 'rollercoaster tycoon 3: platinum', 'PC', 'Strategy', 0.01, 0.06, 0.0, 0.01, 0.09)\n",
      "(2145, '2009-09-15', 3.74, 'marvel: ultimate alliance 2', 'X360', 'Role-Playing', 0.68, 0.15, 0.0, 0.08, 0.91)\n",
      "(2145, '2009-09-15', 3.74, 'marvel: ultimate alliance 2', 'PS3', 'Role-Playing', 0.49, 0.16, 0.0, 0.09, 0.75)\n",
      "(2145, '2009-09-15', 3.74, 'marvel: ultimate alliance 2', 'PS2', 'Role-Playing', 0.23, 0.02, 0.0, 0.16, 0.41)\n",
      "(2145, '2009-09-15', 3.74, 'marvel: ultimate alliance 2', 'Wii', 'Role-Playing', 0.26, 0.05, 0.0, 0.03, 0.33)\n",
      "(2145, '2009-09-15', 3.74, 'marvel: ultimate alliance 2', 'PSP', 'Role-Playing', 0.17, 0.04, 0.0, 0.04, 0.25)\n",
      "(2145, '2009-09-15', 3.74, 'marvel: ultimate alliance 2', 'DS', 'Role-Playing', 0.16, 0.03, 0.0, 0.02, 0.2)\n",
      "(15969, '1989-12-22', 3.9, 'ys i & ii chronicles', 'PSP', 'Role-Playing', 0.05, 0.0, 0.03, 0.01, 0.09)\n",
      "(19567, '2012-03-20', 2.61, 'resident evil: operation raccoon city', 'PS3', 'Action', 0.48, 0.25, 0.36, 0.1, 1.18)\n",
      "(19567, '2012-03-20', 2.61, 'resident evil: operation raccoon city', 'X360', 'Action', 0.55, 0.15, 0.03, 0.06, 0.78)\n",
      "(19567, '2012-03-20', 2.61, 'resident evil: operation raccoon city', 'PC', 'Action', 0.0, 0.03, 0.0, 0.01, 0.04)\n",
      "(25778, '2008-09-14', 4.22, 'rock band 2', 'X360', 'Misc', 1.78, 0.24, 0.0, 0.18, 2.2)\n",
      "(25778, '2008-09-14', 4.22, 'rock band 2', 'PS3', 'Misc', 1.13, 0.2, 0.0, 0.16, 1.5)\n",
      "(25778, '2008-09-14', 4.22, 'rock band 2', 'Wii', 'Misc', 0.94, 0.01, 0.0, 0.08, 1.03)\n",
      "(25778, '2008-09-14', 4.22, 'rock band 2', 'PS2', 'Misc', 0.29, 0.23, 0.0, 0.08, 0.59)\n",
      "(14726, '2004-09-01', 4.1, 'guilty gear x2 #reload', 'XB', 'Fighting', 0.11, 0.03, 0.0, 0.01, 0.15)\n",
      "(54381, '1997-03-31', 3.91, 'doom 64', 'N64', 'Shooter', 0.38, 0.08, 0.0, 0.01, 0.47)\n",
      "(4209, '2012-10-30', 3.13, \"assassin's creed iii: liberation\", 'PSV', 'Action', 0.58, 0.55, 0.06, 0.28, 1.47)\n",
      "(26824, '2011-11-20', 4.14, 'the legend of zelda: skyward sword', 'Wii', 'Action', 2.14, 1.2, 0.37, 0.4, 4.1)\n",
      "(53471, '2001-10-12', 4.38, 'phoenix wright: ace attorney', 'DS', 'Adventure', 0.49, 0.07, 0.39, 0.05, 0.99)\n",
      "(24881, '1980-05-22', 4.06, 'pac-man', '2600', 'Puzzle', 7.28, 0.45, 0.0, 0.08, 7.81)\n",
      "(24881, '1980-05-22', 4.06, 'pac-man', 'NES', 'Puzzle', 0.27, 0.08, 0.85, 0.02, 1.22)\n",
      "(3590, '2014-09-11', 3.59, 'naruto shippuden: ultimate ninja storm revolution', 'PS3', 'Fighting', 0.15, 0.16, 0.09, 0.08, 0.47)\n",
      "(3590, '2014-09-11', 3.59, 'naruto shippuden: ultimate ninja storm revolution', 'X360', 'Fighting', 0.13, 0.08, 0.0, 0.02, 0.23)\n",
      "(37130, '2004-11-09', 4.41, 'halo 2', 'XB', 'Shooter', 6.82, 1.53, 0.05, 0.08, 8.49)\n",
      "(37130, '2004-11-09', 4.41, 'halo 2', 'PC', 'Shooter', 0.01, 0.06, 0.0, 0.02, 0.1)\n",
      "(3480, '2010-03-18', 4.17, 'yakuza 4', 'PS3', 'Action', 0.15, 0.14, 0.63, 0.05, 0.97)\n",
      "(25663, '1994-08-02', 4.29, 'earthworm jim', 'GBA', 'Platform', 0.2, 0.08, 0.0, 0.01, 0.29)\n",
      "(28534, '2012-02-21', 4.18, \"asura's wrath\", 'PS3', 'Action', 0.18, 0.12, 0.06, 0.05, 0.41)\n",
      "(28534, '2012-02-21', 4.18, \"asura's wrath\", 'X360', 'Action', 0.15, 0.06, 0.01, 0.02, 0.24)\n",
      "(19381, '2011-02-21', 3.42, 'cities in motion', 'PC', 'Simulation', 0.0, 0.04, 0.0, 0.01, 0.05)\n",
      "(18718, '2008-02-25', 3.23, 'frontlines: fuel of war', 'X360', 'Shooter', 0.34, 0.15, 0.01, 0.05, 0.56)\n",
      "(18718, '2008-02-25', 3.23, 'frontlines: fuel of war', 'PC', 'Shooter', 0.0, 0.02, 0.0, 0.0, 0.02)\n",
      "(28264, '2007-05-29', 3.67, 'forza motorsport 2', 'X360', 'Racing', 2.35, 1.28, 0.03, 0.41, 4.06)\n",
      "(20309, '2011-12-17', 3.51, 'blazblue: continuum shift extend', 'PSV', 'Fighting', 0.03, 0.05, 0.02, 0.02, 0.12)\n",
      "(20309, '2011-12-17', 3.51, 'blazblue: continuum shift extend', 'PS3', 'Fighting', 0.0, 0.0, 0.09, 0.0, 0.09)\n",
      "(20309, '2011-12-17', 3.51, 'blazblue: continuum shift extend', 'PSP', 'Fighting', 0.0, 0.0, 0.01, 0.0, 0.01)\n",
      "(40468, '2012-07-04', 3.55, 'phantasy star online 2', 'PSV', 'Role-Playing', 0.0, 0.0, 0.16, 0.0, 0.16)\n",
      "(17597, '2001-12-20', 4.03, 'ikaruga', 'GC', 'Shooter', 0.07, 0.02, 0.0, 0.0, 0.09)\n",
      "(5610, '2012-06-12', 3.92, 'lollipop chainsaw', 'PS3', 'Action', 0.26, 0.21, 0.11, 0.09, 0.67)\n",
      "(5610, '2012-06-12', 3.92, 'lollipop chainsaw', 'X360', 'Action', 0.31, 0.13, 0.02, 0.04, 0.49)\n",
      "(31080, '2000-02-01', 4.21, 'the sims', 'PS2', 'Simulation', 1.41, 1.12, 0.0, 0.24, 2.77)\n",
      "(31080, '2000-02-01', 4.21, 'the sims', 'GC', 'Simulation', 0.35, 0.13, 0.0, 0.01, 0.49)\n",
      "(31080, '2000-02-01', 4.21, 'the sims', 'XB', 'Simulation', 0.31, 0.1, 0.0, 0.01, 0.42)\n",
      "(31080, '2000-02-01', 4.21, 'the sims', 'PC', 'Simulation', 0.01, 0.03, 0.0, 0.01, 0.05)\n",
      "(16465, '2002-12-01', 3.12, 'sherlock holmes: the mystery of the mummy', 'DS', 'Adventure', 0.06, 0.3, 0.0, 0.04, 0.4)\n",
      "(1412, '2013-06-27', 3.22, 'colin mcrae rally', 'PS', 'Racing', 0.09, 2.43, 0.12, 0.22, 2.87)\n",
      "(31476, '2002-11-15', 4.1, 'harry potter and the chamber of secrets', 'PS2', 'Action', 0.9, 1.22, 0.04, 0.44, 2.61)\n",
      "(31476, '2002-11-15', 4.1, 'harry potter and the chamber of secrets', 'GBA', 'Action', 1.21, 0.64, 0.05, 0.09, 1.99)\n",
      "(31476, '2002-11-15', 4.1, 'harry potter and the chamber of secrets', 'PS', 'Action', 0.75, 1.09, 0.02, 0.12, 1.98)\n",
      "(31476, '2002-11-15', 4.1, 'harry potter and the chamber of secrets', 'GC', 'Action', 0.53, 0.14, 0.0, 0.02, 0.69)\n",
      "(31476, '2002-11-15', 4.1, 'harry potter and the chamber of secrets', 'XB', 'Action', 0.27, 0.08, 0.0, 0.01, 0.36)\n",
      "(31476, '2002-11-15', 4.1, 'harry potter and the chamber of secrets', 'PC', 'Action', 0.0, 0.01, 0.0, 0.0, 0.01)\n",
      "(27571, '1994-11-21', 4.4, 'donkey kong country', 'SNES', 'Platform', 4.36, 1.71, 3.0, 0.23, 9.3)\n",
      "(27571, '1994-11-21', 4.4, 'donkey kong country', 'GB', 'Platform', 1.04, 0.72, 0.3, 0.13, 2.19)\n",
      "(27571, '1994-11-21', 4.4, 'donkey kong country', 'GBA', 'Platform', 1.2, 0.48, 0.29, 0.07, 2.04)\n",
      "(19637, '2004-10-01', 3.8, 'obscure', 'PS2', 'Adventure', 0.03, 0.03, 0.0, 0.01, 0.07)\n",
      "(19637, '2004-10-01', 3.8, 'obscure', 'XB', 'Adventure', 0.03, 0.01, 0.0, 0.0, 0.04)\n",
      "(14018, '2011-05-05', 3.25, 'the first templar', 'X360', 'Action', 0.06, 0.04, 0.0, 0.01, 0.11)\n",
      "(14018, '2011-05-05', 3.25, 'the first templar', 'PC', 'Action', 0.06, 0.01, 0.0, 0.01, 0.08)\n",
      "(19672, '2006-11-14', 3.63, 'rayman raving rabbids', 'Wii', 'Misc', 1.23, 0.07, 0.02, 0.11, 1.44)\n",
      "(19672, '2006-11-14', 3.63, 'rayman raving rabbids', 'X360', 'Misc', 0.18, 0.01, 0.0, 0.02, 0.21)\n",
      "(19672, '2006-11-14', 3.63, 'rayman raving rabbids', 'DS', 'Misc', 0.13, 0.01, 0.0, 0.01, 0.15)\n",
      "(19672, '2006-11-14', 3.63, 'rayman raving rabbids', 'PC', 'Misc', 0.0, 0.01, 0.0, 0.0, 0.01)\n",
      "(10057, '2009-09-17', 2.5, 'order of war', 'PC', 'Strategy', 0.0, 0.01, 0.0, 0.0, 0.02)\n",
      "(4468, '2004-11-09', 4.18, 'jak 3', 'PS2', 'Platform', 1.33, 0.49, 0.0, 0.03, 1.85)\n",
      "(2222, '2016-07-11', 3.37, 'song of the deep', 'PS4', 'Action', 0.05, 0.0, 0.0, 0.01, 0.06)\n",
      "(2222, '2016-07-11', 3.37, 'song of the deep', 'XOne', 'Action', 0.03, 0.0, 0.0, 0.0, 0.04)\n",
      "(2222, '2016-07-11', 3.37, 'song of the deep', 'PC', 'Action', 0.02, 0.0, 0.0, 0.0, 0.02)\n",
      "(4307, '2012-03-27', 3.03, 'ridge racer unbounded', 'PS3', 'Racing', 0.05, 0.1, 0.0, 0.03, 0.18)\n",
      "(4307, '2012-03-27', 3.03, 'ridge racer unbounded', 'X360', 'Racing', 0.05, 0.05, 0.0, 0.01, 0.12)\n",
      "(4307, '2012-03-27', 3.03, 'ridge racer unbounded', 'PC', 'Racing', 0.0, 0.02, 0.0, 0.0, 0.02)\n",
      "(28207, '2009-06-02', 3.25, 'fuel', 'X360', 'Racing', 0.09, 0.19, 0.0, 0.04, 0.31)\n",
      "(28207, '2009-06-02', 3.25, 'fuel', 'PS3', 'Racing', 0.08, 0.12, 0.0, 0.05, 0.25)\n",
      "(28207, '2009-06-02', 3.25, 'fuel', 'PC', 'Racing', 0.0, 0.02, 0.0, 0.0, 0.02)\n",
      "(36777, '2006-03-09', 3.49, \"tom clancy's ghost recon: advanced warfighter\", 'PS2', 'Shooter', 0.03, 0.02, 0.0, 0.01, 0.06)\n",
      "(11387, '2012-02-05', 2.9, 'port royale 3', 'PS3', 'Simulation', 0.06, 0.0, 0.0, 0.01, 0.07)\n",
      "(11387, '2012-02-05', 2.9, 'port royale 3', 'X360', 'Simulation', 0.06, 0.0, 0.0, 0.0, 0.07)\n",
      "(3830, '2013-11-20', 4.15, 'tearaway', 'PSV', 'Adventure', 0.17, 0.39, 0.0, 0.19, 0.75)\n",
      "(343595, '1998-12-23', 4.03, 'sonic adventure', 'DC', 'Platform', 1.26, 0.61, 0.46, 0.08, 2.42)\n",
      "(21958, '2009-02-26', 4.12, 'yakuza 3', 'PS3', 'Action', 0.21, 0.21, 0.62, 0.08, 1.13)\n",
      "(5665, '2007-09-05', 3.75, 'stranglehold', 'X360', 'Shooter', 0.4, 0.33, 0.01, 0.09, 0.82)\n",
      "(5665, '2007-09-05', 3.75, 'stranglehold', 'PS3', 'Shooter', 0.24, 0.03, 0.0, 0.03, 0.3)\n",
      "(3731, '2008-11-18', 3.43, 'sonic unleashed', 'Wii', 'Platform', 1.28, 0.68, 0.02, 0.21, 2.2)\n",
      "(3731, '2008-11-18', 3.43, 'sonic unleashed', 'PS3', 'Platform', 0.56, 0.33, 0.01, 0.14, 1.03)\n",
      "(3731, '2008-11-18', 3.43, 'sonic unleashed', 'X360', 'Platform', 0.54, 0.33, 0.0, 0.09, 0.96)\n",
      "(3731, '2008-11-18', 3.43, 'sonic unleashed', 'PS2', 'Platform', 0.37, 0.04, 0.0, 0.36, 0.76)\n",
      "(37898, '2008-08-31', 3.26, 'mercenaries 2: world in flames', 'X360', 'Shooter', 0.65, 0.3, 0.01, 0.1, 1.06)\n",
      "(37898, '2008-08-31', 3.26, 'mercenaries 2: world in flames', 'PS3', 'Shooter', 0.29, 0.4, 0.02, 0.16, 0.87)\n",
      "(37898, '2008-08-31', 3.26, 'mercenaries 2: world in flames', 'PS2', 'Shooter', 0.21, 0.0, 0.0, 0.17, 0.38)\n",
      "(53239, '1993-11-11', 4.2, \"disney's aladdin\", 'SNES', 'Platform', 0.94, 0.34, 0.21, 0.27, 1.75)\n",
      "(53239, '1993-11-11', 4.2, \"disney's aladdin\", 'GBA', 'Platform', 0.02, 0.01, 0.0, 0.0, 0.03)\n",
      "(24072, '1986-02-21', 4.06, 'the legend of zelda', 'NES', 'Action', 3.74, 0.93, 1.69, 0.14, 6.51)\n",
      "(59184, '2002-03-28', 4.41, 'kingdom hearts', 'PS2', 'Role-Playing', 3.64, 1.2, 1.49, 0.07, 6.4)\n",
      "(59184, '2002-03-28', 4.41, 'kingdom hearts', 'PS3', 'Role-Playing', 0.9, 0.37, 0.25, 0.24, 1.75)\n",
      "(5644, '2007-11-20', 4.13, 'rock band', 'X360', 'Misc', 1.93, 0.34, 0.0, 0.21, 2.48)\n",
      "(5644, '2007-11-20', 4.13, 'rock band', 'Wii', 'Misc', 1.35, 0.56, 0.0, 0.2, 2.11)\n",
      "(5644, '2007-11-20', 4.13, 'rock band', 'PS3', 'Misc', 0.99, 0.41, 0.0, 0.22, 1.62)\n",
      "(5644, '2007-11-20', 4.13, 'rock band', 'PS2', 'Misc', 0.71, 0.06, 0.0, 0.35, 1.11)\n",
      "(4859, '2005-06-30', 4.11, 'ys: the oath in felghana', 'PSP', 'Role-Playing', 0.09, 0.0, 0.04, 0.01, 0.14)\n",
      "(2258, '2009-10-13', 3.02, 'a boy and his blob', 'Wii', 'Platform', 0.19, 0.02, 0.0, 0.02, 0.22)\n",
      "(31906, '2001-06-24', 4.58, 'diablo ii: lord of destruction', 'PC', 'Role-Playing', 1.03, 0.02, 0.0, 0.0, 1.06)\n",
      "(5512, '2010-01-08', 3.59, 'army of two: the 40th day', 'X360', 'Shooter', 0.62, 0.24, 0.0, 0.08, 0.95)\n",
      "(5512, '2010-01-08', 3.59, 'army of two: the 40th day', 'PS3', 'Shooter', 0.44, 0.27, 0.01, 0.12, 0.85)\n",
      "(5512, '2010-01-08', 3.59, 'army of two: the 40th day', 'PSP', 'Shooter', 0.12, 0.13, 0.0, 0.08, 0.32)\n",
      "(2096, '2012-08-21', 3.86, 'transformers: fall of cybertron', 'X360', 'Action', 0.28, 0.13, 0.0, 0.04, 0.44)\n",
      "(2096, '2012-08-21', 3.86, 'transformers: fall of cybertron', 'PS3', 'Action', 0.19, 0.15, 0.0, 0.07, 0.41)\n",
      "(2096, '2012-08-21', 3.86, 'transformers: fall of cybertron', 'PC', 'Action', 0.01, 0.0, 0.0, 0.0, 0.01)\n",
      "(4957, '1997-03-30', 4.32, 'theme hospital', 'PC', 'Strategy', 2.3, 0.1, 0.0, 0.0, 2.4)\n",
      "(4957, '1997-03-30', 4.32, 'theme hospital', 'PS', 'Strategy', 0.03, 0.02, 0.03, 0.01, 0.09)\n",
      "(35020, '2002-11-05', 4.45, 'metal gear solid 2: substance', 'XB', 'Action', 0.38, 0.22, 0.0, 0.03, 0.62)\n",
      "(35020, '2002-11-05', 4.45, 'metal gear solid 2: substance', 'PS2', 'Action', 0.18, 0.14, 0.16, 0.05, 0.52)\n",
      "(5651, '2011-06-07', 3.9, 'shadows of the damned', 'PS3', 'Action', 0.11, 0.09, 0.04, 0.04, 0.28)\n",
      "(5651, '2011-06-07', 3.9, 'shadows of the damned', 'X360', 'Action', 0.1, 0.06, 0.01, 0.02, 0.19)\n",
      "(25142, '2007-05-02', 3.22, 'spider-man 3', 'PS2', 'Platform', 0.74, 0.03, 0.01, 0.12, 0.9)\n",
      "(25142, '2007-05-02', 3.22, 'spider-man 3', 'PS3', 'Platform', 0.26, 0.29, 0.02, 0.12, 0.68)\n",
      "(25142, '2007-05-02', 3.22, 'spider-man 3', 'X360', 'Platform', 0.49, 0.04, 0.0, 0.04, 0.57)\n",
      "(25142, '2007-05-02', 3.22, 'spider-man 3', 'Wii', 'Platform', 0.42, 0.02, 0.0, 0.04, 0.48)\n",
      "(25142, '2007-05-02', 3.22, 'spider-man 3', 'DS', 'Platform', 0.41, 0.02, 0.0, 0.04, 0.47)\n",
      "(25142, '2007-05-02', 3.22, 'spider-man 3', 'PSP', 'Platform', 0.01, 0.23, 0.0, 0.06, 0.3)\n",
      "(25142, '2007-05-02', 3.22, 'spider-man 3', 'PC', 'Platform', 0.02, 0.0, 0.0, 0.0, 0.02)\n",
      "(52371, '2002-08-25', 4.3, 'super mario sunshine', 'GC', 'Platform', 4.01, 1.26, 0.87, 0.17, 6.31)\n",
      "(5571, '2010-08-11', 3.14, 'front mission evolved', 'PS3', 'Shooter', 0.09, 0.07, 0.11, 0.03, 0.29)\n",
      "(5571, '2010-08-11', 3.14, 'front mission evolved', 'X360', 'Shooter', 0.1, 0.07, 0.02, 0.02, 0.2)\n",
      "(5571, '2010-08-11', 3.14, 'front mission evolved', 'PC', 'Shooter', 0.05, 0.0, 0.0, 0.0, 0.05)\n",
      "(56088, '2005-06-09', 4.29, 'killer7', 'GC', 'Action', 0.12, 0.03, 0.0, 0.0, 0.15)\n",
      "(56088, '2005-06-09', 4.29, 'killer7', 'PS2', 'Action', 0.04, 0.03, 0.0, 0.01, 0.09)\n",
      "(22704, '2003-02-21', 4.06, 'rayman 3: hoodlum havoc', 'PS2', 'Platform', 0.14, 0.11, 0.0, 0.04, 0.29)\n",
      "(22704, '2003-02-21', 4.06, 'rayman 3: hoodlum havoc', 'XB', 'Platform', 0.06, 0.02, 0.0, 0.0, 0.07)\n",
      "(22704, '2003-02-21', 4.06, 'rayman 3: hoodlum havoc', 'GC', 'Platform', 0.05, 0.01, 0.0, 0.0, 0.07)\n",
      "(22704, '2003-02-21', 4.06, 'rayman 3: hoodlum havoc', 'PC', 'Platform', 0.0, 0.03, 0.0, 0.01, 0.03)\n",
      "(19520, '2010-01-19', 2.88, 'dark void', 'PS3', 'Action', 0.18, 0.12, 0.0, 0.06, 0.36)\n",
      "(19520, '2010-01-19', 2.88, 'dark void', 'X360', 'Action', 0.19, 0.09, 0.0, 0.03, 0.31)\n",
      "(19520, '2010-01-19', 2.88, 'dark void', 'PC', 'Action', 0.0, 0.01, 0.0, 0.0, 0.02)\n",
      "(2309, '2015-11-19', 2.54, 'grand kingdom', 'PSV', 'Role-Playing', 0.01, 0.02, 0.04, 0.01, 0.07)\n",
      "(2309, '2015-11-19', 2.54, 'grand kingdom', 'PS4', 'Role-Playing', 0.02, 0.0, 0.03, 0.0, 0.06)\n",
      "(22918, '1998-03-18', 2.64, 'deathtrap dungeon', 'PS', 'Action', 0.19, 0.13, 0.0, 0.02, 0.33)\n",
      "(19555, '2008-09-16', 3.95, 'peggle nights', 'PC', 'Puzzle', 0.0, 0.01, 0.0, 0.0, 0.02)\n",
      "(19351, '2007-06-07', 3.0, 'hospital tycoon', 'PC', 'Strategy', 0.0, 0.01, 0.0, 0.0, 0.01)\n",
      "(56222, '2001-11-21', 4.36, 'super smash bros. melee', 'GC', 'Fighting', 4.41, 1.04, 1.39, 0.22, 7.07)\n",
      "(4267, '2012-09-18', 3.78, 'f1 2012', 'PS3', 'Racing', 0.12, 0.64, 0.05, 0.25, 1.07)\n",
      "(4267, '2012-09-18', 3.78, 'f1 2012', 'X360', 'Racing', 0.1, 0.35, 0.0, 0.06, 0.5)\n",
      "(4267, '2012-09-18', 3.78, 'f1 2012', 'PC', 'Racing', 0.01, 0.11, 0.0, 0.03, 0.15)\n",
      "(3911, '2013-09-10', 3.69, 'puppeteer', 'PS3', 'Platform', 0.11, 0.1, 0.02, 0.04, 0.28)\n",
      "(3560, '2014-09-07', 3.45, 'nba 2k15', 'PS4', 'Sports', 1.46, 0.54, 0.01, 0.37, 2.38)\n",
      "(3560, '2014-09-07', 3.45, 'nba 2k15', 'XOne', 'Sports', 1.36, 0.18, 0.0, 0.15, 1.69)\n",
      "(3560, '2014-09-07', 3.45, 'nba 2k15', 'X360', 'Sports', 1.33, 0.14, 0.0, 0.15, 1.63)\n",
      "(3560, '2014-09-07', 3.45, 'nba 2k15', 'PS3', 'Sports', 0.86, 0.27, 0.02, 0.22, 1.36)\n",
      "(28540, '2010-04-26', 4.02, 'fight night champion', 'PS3', 'Fighting', 0.45, 0.51, 0.0, 0.19, 1.15)\n",
      "(28540, '2010-04-26', 4.02, 'fight night champion', 'X360', 'Fighting', 0.4, 0.33, 0.0, 0.07, 0.8)\n",
      "(3667, '2014-05-01', 2.65, 'enemy front', 'PS3', 'Shooter', 0.01, 0.05, 0.0, 0.01, 0.07)\n",
      "(3667, '2014-05-01', 2.65, 'enemy front', 'X360', 'Shooter', 0.02, 0.03, 0.0, 0.0, 0.05)\n",
      "(29960, '2000-10-26', 4.36, 'command & conquer: red alert 2', 'PC', 'Strategy', 1.32, 0.02, 0.0, 0.0, 1.34)\n",
      "(9501, '2014-12-18', 3.72, 'microsoft flight simulator x', 'PC', 'Simulation', 0.02, 0.34, 0.0, 0.07, 0.43)\n",
      "(35985, '2004-06-17', 4.01, 'silent hill 4: the room', 'PS2', 'Action', 0.25, 0.19, 0.0, 0.06, 0.51)\n",
      "(35985, '2004-06-17', 4.01, 'silent hill 4: the room', 'XB', 'Action', 0.14, 0.04, 0.0, 0.01, 0.18)\n",
      "(30744, '2000-11-08', 3.93, 'escape from monkey island', 'PS2', 'Adventure', 0.05, 0.04, 0.0, 0.01, 0.1)\n",
      "(31759, '1996-10-25', 4.07, 'tomb raider', 'PS', 'Action', 2.29, 1.97, 0.13, 0.24, 4.63)\n",
      "(31759, '1996-10-25', 4.07, 'tomb raider', 'PC', 'Action', 0.96, 0.07, 0.0, 0.0, 1.03)\n",
      "(28515, '2010-07-14', 3.56, 'r.u.s.e.', 'PS3', 'Strategy', 0.18, 0.22, 0.02, 0.09, 0.51)\n",
      "(28515, '2010-07-14', 3.56, 'r.u.s.e.', 'PC', 'Strategy', 0.04, 0.19, 0.0, 0.05, 0.28)\n",
      "(28515, '2010-07-14', 3.56, 'r.u.s.e.', 'X360', 'Strategy', 0.12, 0.12, 0.0, 0.03, 0.27)\n",
      "(1347, '2016-09-13', 3.7, 'pro evolution soccer 2017', 'PS4', 'Sports', 0.01, 0.16, 0.09, 0.03, 0.28)\n",
      "(1347, '2016-09-13', 3.7, 'pro evolution soccer 2017', 'PS3', 'Sports', 0.0, 0.01, 0.04, 0.0, 0.06)\n",
      "(1347, '2016-09-13', 3.7, 'pro evolution soccer 2017', 'XOne', 'Sports', 0.0, 0.02, 0.0, 0.0, 0.03)\n",
      "(127659, '2005-12-22', 4.36, 'kingdom hearts ii', 'PS2', 'Role-Playing', 2.2, 0.58, 1.38, 0.17, 4.33)\n",
      "(127659, '2005-12-22', 4.36, 'kingdom hearts ii', 'PS3', 'Role-Playing', 0.52, 0.43, 0.18, 0.19, 1.32)\n",
      "(5137, '1999-09-22', 4.33, 'resident evil 3: nemesis', 'PS', 'Action', 1.3, 0.77, 1.54, 0.11, 3.72)\n",
      "(5137, '1999-09-22', 4.33, 'resident evil 3: nemesis', 'GC', 'Action', 0.06, 0.02, 0.0, 0.0, 0.08)\n",
      "(28447, '2010-11-04', 3.29, 'kinect sports', 'X360', 'Sports', 3.92, 1.78, 0.03, 0.51, 6.24)\n",
      "(4538, '2011-10-18', 3.51, 'ratchet & clank: all 4 one', 'PS3', 'Platform', 0.75, 0.22, 0.05, 0.12, 1.15)\n",
      "(949, '2010-10-04', 3.77, 'cut the rope', '3DS', 'Puzzle', 0.06, 0.0, 0.0, 0.01, 0.07)\n",
      "(14002, '2001-01-01', 3.71, \"tom clancy's ghost recon\", 'PS2', 'Shooter', 1.42, 0.4, 0.0, 0.12, 1.94)\n",
      "(14002, '2001-01-01', 3.71, \"tom clancy's ghost recon\", 'XB', 'Shooter', 1.23, 0.46, 0.0, 0.07, 1.76)\n",
      "(14002, '2001-01-01', 3.71, \"tom clancy's ghost recon\", 'GC', 'Shooter', 0.11, 0.03, 0.0, 0.0, 0.15)\n",
      "(14002, '2001-01-01', 3.71, \"tom clancy's ghost recon\", 'Wii', 'Shooter', 0.11, 0.01, 0.0, 0.01, 0.14)\n",
      "(17005, '2007-03-16', 3.99, 'puzzle quest: challenge of the warlords', 'DS', 'Puzzle', 0.28, 0.01, 0.03, 0.02, 0.34)\n",
      "(17005, '2007-03-16', 3.99, 'puzzle quest: challenge of the warlords', 'Wii', 'Puzzle', 0.26, 0.0, 0.0, 0.02, 0.29)\n",
      "(17005, '2007-03-16', 3.99, 'puzzle quest: challenge of the warlords', 'PS2', 'Puzzle', 0.06, 0.05, 0.0, 0.02, 0.12)\n",
      "(17005, '2007-03-16', 3.99, 'puzzle quest: challenge of the warlords', 'PSP', 'Puzzle', 0.01, 0.0, 0.0, 0.0, 0.02)\n",
      "(28437, '2000-11-20', 4.04, 'banjo-tooie', 'N64', 'Platform', 0.82, 0.36, 0.25, 0.06, 1.49)\n",
      "(1816, '2016-08-23', 3.61, 'the king of fighters xiv', 'PS4', 'Fighting', 0.04, 0.01, 0.03, 0.01, 0.09)\n",
      "(6954, '1997-10-29', 4.12, 'riven: the sequel to myst', 'PC', 'Adventure', 1.52, 0.82, 0.0, 0.1, 2.43)\n",
      "(6954, '1997-10-29', 4.12, 'riven: the sequel to myst', 'PS', 'Adventure', 0.18, 0.12, 0.0, 0.02, 0.32)\n",
      "(5621, '2010-04-22', 4.27, 'nier', 'PS3', 'Role-Playing', 0.17, 0.2, 0.2, 0.07, 0.64)\n",
      "(5621, '2010-04-22', 4.27, 'nier', 'X360', 'Role-Playing', 0.13, 0.1, 0.04, 0.02, 0.29)\n",
      "(43358, '2015-09-15', 3.45, 'pro evolution soccer 2016', 'PS4', 'Sports', 0.13, 0.42, 0.13, 0.1, 0.78)\n",
      "(43358, '2015-09-15', 3.45, 'pro evolution soccer 2016', 'PS3', 'Sports', 0.08, 0.18, 0.15, 0.05, 0.45)\n",
      "(43358, '2015-09-15', 3.45, 'pro evolution soccer 2016', 'X360', 'Sports', 0.04, 0.08, 0.0, 0.01, 0.13)\n",
      "(43358, '2015-09-15', 3.45, 'pro evolution soccer 2016', 'XOne', 'Sports', 0.03, 0.06, 0.0, 0.01, 0.1)\n",
      "(43358, '2015-09-15', 3.45, 'pro evolution soccer 2016', 'PC', 'Sports', 0.0, 0.04, 0.0, 0.0, 0.04)\n",
      "(16692, '2010-02-08', 2.68, 'sins of a solar empire: trinity', 'PC', 'Strategy', 0.0, 0.03, 0.0, 0.01, 0.04)\n",
      "(19466, '2010-03-16', 2.45, 'command & conquer 4: tiberian twilight', 'PC', 'Strategy', 0.0, 0.01, 0.0, 0.0, 0.02)\n",
      "(3820, '2013-12-05', 4.17, 'gran turismo 6', 'PS3', 'Racing', 0.71, 1.8, 0.4, 0.74, 3.64)\n",
      "(4476, '2012-01-19', 3.83, 'wipeout 2048', 'PSV', 'Racing', 0.14, 0.19, 0.0, 0.06, 0.39)\n",
      "(19294, '2013-09-24', 3.49, 'scribblenauts unmasked: a dc comics adventure', 'WiiU', 'Puzzle', 0.1, 0.0, 0.0, 0.01, 0.11)\n",
      "(19294, '2013-09-24', 3.49, 'scribblenauts unmasked: a dc comics adventure', '3DS', 'Puzzle', 0.09, 0.0, 0.0, 0.01, 0.1)\n",
      "(4247, '2012-09-25', 3.52, 'dead or alive 5', 'PS3', 'Fighting', 0.23, 0.15, 0.2, 0.07, 0.65)\n",
      "(4247, '2012-09-25', 3.52, 'dead or alive 5', 'PS4', 'Fighting', 0.09, 0.13, 0.08, 0.04, 0.33)\n",
      "(4247, '2012-09-25', 3.52, 'dead or alive 5', 'X360', 'Fighting', 0.19, 0.08, 0.03, 0.02, 0.32)\n",
      "(4247, '2012-09-25', 3.52, 'dead or alive 5', 'PSV', 'Fighting', 0.0, 0.05, 0.03, 0.02, 0.1)\n",
      "(4247, '2012-09-25', 3.52, 'dead or alive 5', 'XOne', 'Fighting', 0.04, 0.03, 0.01, 0.01, 0.08)\n",
      "(538, '2013-08-15', 2.79, 'space hulk', 'PSV', 'Strategy', 0.0, 0.01, 0.0, 0.0, 0.01)\n",
      "(4188, '2008-11-04', 3.06, \"tom clancy's endwar\", 'X360', 'Strategy', 0.58, 0.24, 0.01, 0.09, 0.91)\n",
      "(4188, '2008-11-04', 3.06, \"tom clancy's endwar\", 'PS3', 'Strategy', 0.32, 0.22, 0.01, 0.1, 0.65)\n",
      "(4188, '2008-11-04', 3.06, \"tom clancy's endwar\", 'PSP', 'Strategy', 0.1, 0.01, 0.0, 0.01, 0.12)\n",
      "(4188, '2008-11-04', 3.06, \"tom clancy's endwar\", 'DS', 'Strategy', 0.08, 0.01, 0.0, 0.01, 0.09)\n",
      "(4188, '2008-11-04', 3.06, \"tom clancy's endwar\", 'PC', 'Strategy', 0.0, 0.02, 0.0, 0.0, 0.02)\n",
      "(41336, '2014-09-19', 3.81, 'wasteland 2', 'PS4', 'Role-Playing', 0.07, 0.0, 0.01, 0.02, 0.1)\n",
      "(41336, '2014-09-19', 3.81, 'wasteland 2', 'PC', 'Role-Playing', 0.02, 0.06, 0.0, 0.01, 0.1)\n",
      "(41336, '2014-09-19', 3.81, 'wasteland 2', 'XOne', 'Role-Playing', 0.04, 0.01, 0.0, 0.0, 0.05)\n",
      "(32575, '2000-09-19', 4.35, \"tony hawk's pro skater 2\", 'PS', 'Sports', 3.05, 1.41, 0.02, 0.2, 4.68)\n",
      "(32575, '2000-09-19', 4.35, \"tony hawk's pro skater 2\", 'GBA', 'Sports', 0.85, 0.31, 0.0, 0.02, 1.18)\n",
      "(32575, '2000-09-19', 4.35, \"tony hawk's pro skater 2\", 'N64', 'Sports', 0.59, 0.16, 0.0, 0.01, 0.76)\n",
      "(11748, '2011-04-20', 3.76, 'the next big thing', 'PC', 'Adventure', 0.0, 0.05, 0.0, 0.01, 0.06)\n",
      "(27102, '2011-11-03', 4.17, 'super mario 3d land', '3DS', 'Platform', 4.89, 2.99, 2.13, 0.78, 10.79)\n",
      "(2942, '2013-09-26', 3.98, 'the legend of heroes: trails of cold steel', 'PSV', 'Role-Playing', 0.08, 0.05, 0.14, 0.04, 0.31)\n",
      "(2942, '2013-09-26', 3.98, 'the legend of heroes: trails of cold steel', 'PS3', 'Role-Playing', 0.05, 0.04, 0.12, 0.02, 0.22)\n",
      "(19648, '2009-05-22', 2.63, 'damnation', 'PS3', 'Shooter', 0.07, 0.01, 0.0, 0.01, 0.09)\n",
      "(19648, '2009-05-22', 2.63, 'damnation', 'X360', 'Shooter', 0.06, 0.01, 0.0, 0.01, 0.07)\n",
      "(19648, '2009-05-22', 2.63, 'damnation', 'PC', 'Shooter', 0.0, 0.01, 0.0, 0.0, 0.01)\n",
      "(19490, '2005-03-15', 3.86, 'cold fear', 'PS2', 'Action', 0.06, 0.04, 0.0, 0.01, 0.11)\n",
      "(19490, '2005-03-15', 3.86, 'cold fear', 'XB', 'Action', 0.05, 0.01, 0.0, 0.0, 0.06)\n",
      "(28520, '2010-07-06', 3.27, 'crackdown 2', 'X360', 'Shooter', 0.63, 0.37, 0.02, 0.1, 1.12)\n",
      "(4145, '2012-02-14', 3.56, 'twisted metal', 'PS', 'Action', 1.32, 0.19, 0.0, 0.05, 1.56)\n",
      "(5511, '2008-03-04', 3.67, 'army of two', 'X360', 'Shooter', 1.09, 0.38, 0.02, 0.16, 1.65)\n",
      "(5511, '2008-03-04', 3.67, 'army of two', 'PS3', 'Shooter', 0.74, 0.26, 0.02, 0.15, 1.17)\n",
      "(35576, '2003-09-16', 4.08, 'the simpsons: hit & run', 'PS2', 'Racing', 1.73, 2.19, 0.0, 0.79, 4.7)\n",
      "(35576, '2003-09-16', 4.08, 'the simpsons: hit & run', 'XB', 'Racing', 0.7, 0.58, 0.0, 0.07, 1.35)\n",
      "(35576, '2003-09-16', 4.08, 'the simpsons: hit & run', 'GC', 'Racing', 0.77, 0.2, 0.0, 0.03, 0.99)\n",
      "(28554, '2005-09-13', 4.21, 'burnout revenge', 'PS2', 'Racing', 0.75, 0.03, 0.0, 0.12, 0.9)\n",
      "(28554, '2005-09-13', 4.21, 'burnout revenge', 'XB', 'Racing', 0.32, 0.19, 0.0, 0.01, 0.53)\n",
      "(28554, '2005-09-13', 4.21, 'burnout revenge', 'X360', 'Racing', 0.42, 0.05, 0.0, 0.04, 0.51)\n",
      "(5561, '2011-09-19', 3.49, 'f1 2011', 'PS3', 'Racing', 0.12, 0.75, 0.11, 0.25, 1.22)\n",
      "(5561, '2011-09-19', 3.49, 'f1 2011', 'X360', 'Racing', 0.11, 0.51, 0.01, 0.09, 0.73)\n",
      "(5561, '2011-09-19', 3.49, 'f1 2011', 'PC', 'Racing', 0.0, 0.15, 0.0, 0.04, 0.19)\n",
      "(5561, '2011-09-19', 3.49, 'f1 2011', '3DS', 'Racing', 0.07, 0.08, 0.0, 0.02, 0.16)\n",
      "(5561, '2011-09-19', 3.49, 'f1 2011', 'PSV', 'Racing', 0.03, 0.08, 0.01, 0.03, 0.15)\n",
      "(4499, '2010-09-07', 3.33, 'sports champions', 'PS3', 'Sports', 2.12, 1.14, 0.1, 0.51, 3.87)\n",
      "(19605, '2003-10-22', 3.17, 'railroad tycoon 3', 'PC', 'Strategy', 0.0, 0.03, 0.0, 0.01, 0.04)\n",
      "(4219, '2012-10-23', 3.07, 'medal of honor: warfighter', 'PS3', 'Action', 0.47, 0.65, 0.06, 0.28, 1.46)\n",
      "(4219, '2012-10-23', 3.07, 'medal of honor: warfighter', 'X360', 'Action', 0.58, 0.47, 0.01, 0.1, 1.17)\n",
      "(4219, '2012-10-23', 3.07, 'medal of honor: warfighter', 'PC', 'Action', 0.14, 0.15, 0.0, 0.04, 0.33)\n",
      "(24761, '2008-04-27', 4.3, 'mario kart wii', 'Wii', 'Racing', 15.85, 12.88, 3.79, 3.31, 35.82)\n",
      "(10158, '2005-03-14', 3.88, 'brothers in arms: road to hill 30', 'XB', 'Shooter', 0.49, 0.14, 0.0, 0.02, 0.66)\n",
      "(10158, '2005-03-14', 3.88, 'brothers in arms: road to hill 30', 'PS2', 'Shooter', 0.38, 0.01, 0.0, 0.06, 0.46)\n",
      "(4026, '2013-03-07', 3.39, 'soul sacrifice', 'PSV', 'Role-Playing', 0.18, 0.09, 0.22, 0.06, 0.56)\n",
      "(5675, '2009-09-09', 4.15, 'the beatles: rock band', 'Wii', 'Misc', 1.19, 0.4, 0.0, 0.16, 1.74)\n",
      "(5675, '2009-09-09', 4.15, 'the beatles: rock band', 'X360', 'Misc', 0.97, 0.23, 0.0, 0.11, 1.31)\n",
      "(5675, '2009-09-09', 4.15, 'the beatles: rock band', 'PS3', 'Misc', 0.67, 0.3, 0.0, 0.15, 1.13)\n",
      "(17744, '2005-03-24', 3.88, 'sudeki', 'XB', 'Role-Playing', 0.14, 0.04, 0.0, 0.01, 0.19)\n",
      "(23754, '2015-12-15', 2.23, 'kung fu panda: showdown of legendary legends', 'X360', 'Action', 0.0, 0.03, 0.0, 0.0, 0.03)\n",
      "(23754, '2015-12-15', 2.23, 'kung fu panda: showdown of legendary legends', 'PS3', 'Action', 0.0, 0.02, 0.0, 0.0, 0.02)\n",
      "(23754, '2015-12-15', 2.23, 'kung fu panda: showdown of legendary legends', '3DS', 'Action', 0.0, 0.02, 0.0, 0.0, 0.02)\n",
      "(10116, '2000-10-25', 3.2, 'summoner', 'PS2', 'Role-Playing', 0.25, 0.2, 0.0, 0.07, 0.51)\n",
      "(56123, '2002-11-17', 4.38, 'metroid prime', 'GC', 'Shooter', 1.96, 0.67, 0.1, 0.09, 2.82)\n",
      "(14560, '2010-11-05', 2.2, 'trapped dead', 'PC', 'Strategy', 0.0, 0.02, 0.0, 0.0, 0.02)\n",
      "(19163, '1999-08-31', 3.16, 'shadow man', 'N64', 'Action', 0.18, 0.08, 0.0, 0.01, 0.27)\n",
      "(19163, '1999-08-31', 3.16, 'shadow man', 'PS', 'Action', 0.14, 0.09, 0.0, 0.02, 0.25)\n",
      "(16747, '2009-04-14', 3.18, 'demigod', 'PC', 'Strategy', 0.0, 0.02, 0.0, 0.0, 0.02)\n",
      "(4435, '2012-02-22', 3.08, 'motorstorm rc', 'PSV', 'Racing', 0.0, 0.05, 0.0, 0.02, 0.07)\n",
      "(21876, '1999-12-12', 4.37, 'planescape: torment', 'PC', 'Role-Playing', 0.01, 0.02, 0.0, 0.01, 0.04)\n",
      "(25414, '2008-03-09', 4.3, 'super smash bros. brawl', 'Wii', 'Fighting', 6.75, 2.61, 2.66, 1.02, 13.04)\n",
      "(14026, '2010-09-17', 3.72, 'patrician iv', 'PC', 'Strategy', 0.03, 0.0, 0.0, 0.0, 0.04)\n",
      "(25173, '1988-10-09', 3.94, 'super mario bros. 2', 'NES', 'Platform', 5.39, 1.18, 0.7, 0.19, 7.46)\n",
      "(2977, '2012-12-06', 4.31, 'yakuza 5', 'PS3', 'Action', 0.0, 0.0, 0.59, 0.0, 0.59)\n",
      "(27976, '2014-05-29', 4.37, 'mario kart 8', 'WiiU', 'Racing', 3.13, 2.07, 1.27, 0.49, 6.96)\n",
      "(3188, '2014-09-25', 3.7, 'danganronpa another episode: ultra despair girls', 'PSV', 'Action', 0.1, 0.03, 0.12, 0.04, 0.28)\n",
      "(39465, '2010-05-25', 3.92, 'blur', 'PS3', 'Racing', 0.22, 0.37, 0.02, 0.13, 0.74)\n",
      "(39465, '2010-05-25', 3.92, 'blur', 'X360', 'Racing', 0.25, 0.28, 0.0, 0.06, 0.6)\n",
      "(39465, '2010-05-25', 3.92, 'blur', 'PC', 'Racing', 0.01, 0.04, 0.0, 0.01, 0.06)\n",
      "(5873, '1993-04-01', 3.43, 'the 7th guest', 'PC', 'Adventure', 0.01, 0.77, 0.0, 0.0, 0.78)\n",
      "(59142, '2001-01-25', 4.14, 'onimusha: warlords', 'PS2', 'Action', 0.99, 0.48, 1.09, 0.14, 2.7)\n",
      "(5541, '2003-01-25', 2.47, 'devil may cry 2', 'PS2', 'Action', 0.71, 0.58, 0.51, 0.17, 1.97)\n",
      "(50198, '2017-12-07', 3.26, 'tokyo xanadu ex+', 'PS4', 'Role-Playing', 0.0, 0.0, 0.02, 0.0, 0.02)\n",
      "(23768, '2015-02-13', 4.42, \"the legend of zelda: majora's mask 3d\", '3DS', 'Action', 1.14, 0.54, 0.47, 0.17, 2.32)\n",
      "(14022, '2011-02-04', 2.43, 'dungeons', 'PC', 'Strategy', 0.07, 0.02, 0.0, 0.01, 0.09)\n",
      "(21400, '1995-09-18', 4.28, 'earthworm jim 2', 'GBA', 'Platform', 0.02, 0.01, 0.0, 0.0, 0.03)\n",
      "(17863, '2011-09-07', 2.95, 'men of war: vietnam', 'PC', 'Strategy', 0.0, 0.03, 0.0, 0.01, 0.04)\n",
      "(27978, '2014-02-13', 4.35, 'donkey kong country: tropical freeze', 'WiiU', 'Platform', 0.73, 0.52, 0.15, 0.12, 1.52)\n",
      "(24981, '2005-11-17', 3.9, \"peter jackson's king kong: the official game of the movie\", 'PS2', 'Action', 0.71, 1.02, 0.0, 0.31, 2.04)\n",
      "(24981, '2005-11-17', 3.9, \"peter jackson's king kong: the official game of the movie\", 'XB', 'Action', 0.34, 0.17, 0.0, 0.02, 0.53)\n",
      "(24981, '2005-11-17', 3.9, \"peter jackson's king kong: the official game of the movie\", 'X360', 'Action', 0.2, 0.03, 0.0, 0.02, 0.26)\n",
      "(24981, '2005-11-17', 3.9, \"peter jackson's king kong: the official game of the movie\", 'GC', 'Action', 0.19, 0.05, 0.0, 0.01, 0.24)\n",
      "(24981, '2005-11-17', 3.9, \"peter jackson's king kong: the official game of the movie\", 'PSP', 'Action', 0.16, 0.01, 0.0, 0.02, 0.19)\n",
      "(24981, '2005-11-17', 3.9, \"peter jackson's king kong: the official game of the movie\", 'DS', 'Action', 0.12, 0.0, 0.0, 0.01, 0.13)\n",
      "(5593, '2010-08-05', 3.3, \"nail'd\", 'PS3', 'Racing', 0.08, 0.02, 0.0, 0.02, 0.12)\n",
      "(5593, '2010-08-05', 3.3, \"nail'd\", 'X360', 'Racing', 0.08, 0.02, 0.0, 0.01, 0.1)\n",
      "(27953, '2012-11-08', 4.36, 'animal crossing: new leaf', '3DS', 'Simulation', 2.01, 2.32, 4.36, 0.41, 9.09)\n",
      "(26293, '1994-10-18', 4.31, 'sonic & knuckles', 'GEN', 'Platform', 1.24, 0.43, 0.03, 0.12, 1.82)\n",
      "(22817, '1999-06-30', 4.39, 'dungeon keeper 2', 'PC', 'Action', 0.0, 0.05, 0.0, 0.01, 0.06)\n",
      "(26472, '2010-08-17', 3.88, 'spider-man: shattered dimensions', 'PS3', 'Action', 0.26, 0.13, 0.0, 0.06, 0.45)\n",
      "(26472, '2010-08-17', 3.88, 'spider-man: shattered dimensions', 'X360', 'Action', 0.24, 0.09, 0.0, 0.03, 0.36)\n",
      "(26472, '2010-08-17', 3.88, 'spider-man: shattered dimensions', 'Wii', 'Action', 0.13, 0.09, 0.0, 0.02, 0.24)\n",
      "(26472, '2010-08-17', 3.88, 'spider-man: shattered dimensions', 'DS', 'Action', 0.17, 0.01, 0.0, 0.01, 0.19)\n",
      "(40129, '1986-12-31', 1.9, 'breach', 'PC', 'Shooter', 0.01, 0.0, 0.0, 0.0, 0.01)\n",
      "(20, '2009-09-15', 3.42, 'wet', 'PS3', 'Shooter', 0.22, 0.27, 0.01, 0.11, 0.63)\n",
      "(20, '2009-09-15', 3.42, 'wet', 'X360', 'Shooter', 0.23, 0.21, 0.01, 0.05, 0.5)\n",
      "(5682, '2009-04-07', 3.59, 'the godfather ii', 'X360', 'Action', 0.47, 0.24, 0.01, 0.08, 0.79)\n",
      "(5682, '2009-04-07', 3.59, 'the godfather ii', 'PS3', 'Action', 0.41, 0.22, 0.01, 0.11, 0.75)\n",
      "(35573, '2004-06-01', 4.05, 'harry potter and the prisoner of azkaban', 'PS2', 'Action', 0.5, 0.39, 0.0, 0.13, 1.02)\n",
      "(35573, '2004-06-01', 4.05, 'harry potter and the prisoner of azkaban', 'GBA', 'Action', 0.37, 0.14, 0.0, 0.01, 0.52)\n",
      "(35573, '2004-06-01', 4.05, 'harry potter and the prisoner of azkaban', 'GC', 'Action', 0.29, 0.08, 0.0, 0.01, 0.38)\n",
      "(35573, '2004-06-01', 4.05, 'harry potter and the prisoner of azkaban', 'XB', 'Action', 0.14, 0.04, 0.0, 0.01, 0.19)\n",
      "(35573, '2004-06-01', 4.05, 'harry potter and the prisoner of azkaban', 'PC', 'Action', 0.0, 0.03, 0.0, 0.01, 0.04)\n",
      "(3515, '2014-11-11', 3.4, 'pro evolution soccer 2015', 'PS4', 'Sports', 0.09, 0.43, 0.11, 0.13, 0.76)\n",
      "(3515, '2014-11-11', 3.4, 'pro evolution soccer 2015', 'PS3', 'Sports', 0.1, 0.23, 0.22, 0.08, 0.62)\n",
      "(3515, '2014-11-11', 3.4, 'pro evolution soccer 2015', 'X360', 'Sports', 0.05, 0.1, 0.0, 0.01, 0.16)\n",
      "(3515, '2014-11-11', 3.4, 'pro evolution soccer 2015', 'XOne', 'Sports', 0.02, 0.1, 0.0, 0.01, 0.14)\n",
      "(3515, '2014-11-11', 3.4, 'pro evolution soccer 2015', 'PC', 'Sports', 0.0, 0.06, 0.0, 0.01, 0.07)\n",
      "(38218, '2008-11-13', 4.44, 'world of warcraft: wrath of the lich king', 'PC', 'Role-Playing', 0.01, 0.13, 0.0, 1.18, 1.32)\n",
      "(5645, '2010-08-11', 4.15, 'rock band 3', 'X360', 'Misc', 0.73, 0.1, 0.0, 0.06, 0.88)\n",
      "(5645, '2010-08-11', 4.15, 'rock band 3', 'Wii', 'Misc', 0.56, 0.06, 0.0, 0.05, 0.67)\n",
      "(5645, '2010-08-11', 4.15, 'rock band 3', 'PS3', 'Misc', 0.43, 0.09, 0.0, 0.06, 0.58)\n",
      "(5645, '2010-08-11', 4.15, 'rock band 3', 'DS', 'Misc', 0.09, 0.01, 0.0, 0.01, 0.1)\n",
      "(5415, '1999-10-29', 4.12, 'rayman 2: the great escape', 'N64', 'Platform', 0.4, 0.22, 0.0, 0.02, 0.64)\n",
      "(5415, '1999-10-29', 4.12, 'rayman 2: the great escape', 'PS', 'Platform', 0.18, 0.12, 0.0, 0.02, 0.32)\n",
      "(4261, '2012-06-07', 3.55, 'tokyo jungle', 'PS3', 'Action', 0.0, 0.0, 0.26, 0.0, 0.26)\n",
      "(5654, '2009-01-21', 4.19, 'skate 2', 'X360', 'Sports', 0.82, 0.17, 0.01, 0.09, 1.09)\n",
      "(5654, '2009-01-21', 4.19, 'skate 2', 'PS3', 'Sports', 0.46, 0.26, 0.01, 0.12, 0.85)\n",
      "(52825, '1999-09-30', 4.36, 'crash team racing', 'PS', 'Racing', 2.57, 1.57, 0.44, 0.21, 4.79)\n",
      "(57967, '1995-12-09', 4.36, 'warcraft ii: tides of darkness', 'PC', 'Strategy', 1.7, 2.27, 0.0, 0.23, 4.21)\n",
      "(34791, '2005-06-21', 4.2, 'battlefield 2', 'PC', 'Shooter', 0.0, 0.07, 0.0, 0.02, 0.08)\n",
      "(24493, '2009-11-12', 4.05, 'new super mario bros. wii', 'Wii', 'Platform', 14.59, 7.06, 4.7, 2.26, 28.62)\n",
      "(40432, '2011-09-06', 4.01, 'resistance 3', 'PS3', 'Shooter', 0.64, 0.58, 0.05, 0.23, 1.5)\n",
      "(4058, '2005-10-24', 3.99, 'grand theft auto: liberty city stories', 'PSP', 'Action', 2.9, 2.83, 0.24, 1.75, 7.72)\n",
      "(4058, '2005-10-24', 3.99, 'grand theft auto: liberty city stories', 'PS2', 'Action', 1.56, 1.4, 0.07, 0.5, 3.54)\n",
      "(4195, '2012-09-11', 4.04, 'tekken tag tournament 2', 'PS3', 'Fighting', 0.28, 0.33, 0.13, 0.14, 0.88)\n",
      "(4195, '2012-09-11', 4.04, 'tekken tag tournament 2', 'X360', 'Fighting', 0.19, 0.12, 0.01, 0.03, 0.35)\n",
      "(4195, '2012-09-11', 4.04, 'tekken tag tournament 2', 'WiiU', 'Fighting', 0.09, 0.07, 0.01, 0.01, 0.19)\n",
      "(1571, '2002-10-05', 3.81, 'final fantasy', 'NES', 'Role-Playing', 0.32, 0.0, 0.52, 0.0, 0.84)\n",
      "(1571, '2002-10-05', 3.81, 'final fantasy', 'WS', 'Role-Playing', 0.0, 0.0, 0.51, 0.0, 0.51)\n",
      "(24877, '2007-06-15', 3.5, 'harry potter and the order of the phoenix', 'DS', 'Action', 0.28, 0.47, 0.0, 0.1, 0.85)\n",
      "(24877, '2007-06-15', 3.5, 'harry potter and the order of the phoenix', 'Wii', 'Action', 0.38, 0.06, 0.0, 0.04, 0.49)\n",
      "(24877, '2007-06-15', 3.5, 'harry potter and the order of the phoenix', 'PSP', 'Action', 0.1, 0.17, 0.0, 0.1, 0.37)\n",
      "(24877, '2007-06-15', 3.5, 'harry potter and the order of the phoenix', 'X360', 'Action', 0.24, 0.04, 0.0, 0.02, 0.3)\n",
      "(24877, '2007-06-15', 3.5, 'harry potter and the order of the phoenix', 'PS2', 'Action', 0.13, 0.1, 0.0, 0.03, 0.27)\n",
      "(24877, '2007-06-15', 3.5, 'harry potter and the order of the phoenix', 'PS3', 'Action', 0.18, 0.04, 0.0, 0.03, 0.25)\n",
      "(24877, '2007-06-15', 3.5, 'harry potter and the order of the phoenix', 'PC', 'Action', 0.0, 0.03, 0.0, 0.01, 0.04)\n",
      "(14015, '2011-09-27', 2.4, 'dungeons - the dark lord', 'PC', 'Strategy', 0.0, 0.01, 0.0, 0.0, 0.02)\n",
      "(5598, '2013-03-05', 3.87, 'naruto shippuden: ultimate ninja storm 3', 'PS3', 'Fighting', 0.32, 0.33, 0.15, 0.15, 0.96)\n",
      "(5598, '2013-03-05', 3.87, 'naruto shippuden: ultimate ninja storm 3', 'X360', 'Fighting', 0.29, 0.17, 0.01, 0.04, 0.51)\n",
      "(31724, '2002-09-30', 3.98, 'need for speed: hot pursuit 2', 'PS2', 'Racing', 1.68, 0.31, 0.02, 0.09, 2.11)\n",
      "(31724, '2002-09-30', 3.98, 'need for speed: hot pursuit 2', 'XB', 'Racing', 0.68, 0.11, 0.0, 0.03, 0.82)\n",
      "(31724, '2002-09-30', 3.98, 'need for speed: hot pursuit 2', 'GC', 'Racing', 0.68, 0.09, 0.0, 0.02, 0.8)\n",
      "(19690, '2011-02-21', 3.59, 'gray matter', 'PC', 'Adventure', 0.02, 0.05, 0.0, 0.01, 0.09)\n",
      "(19690, '2011-02-21', 3.59, 'gray matter', 'X360', 'Adventure', 0.0, 0.04, 0.0, 0.01, 0.05)\n",
      "(23943, '2005-11-14', 4.26, 'mario kart ds', 'DS', 'Racing', 9.81, 7.57, 4.13, 1.92, 23.42)\n",
      "(868086, '2024-10-08', 4.53, 'silent hill 2', 'PS2', 'Action', 0.62, 0.49, 0.0, 0.16, 1.28)\n",
      "(35326, '2004-03-23', 4.09, \"tom clancy's splinter cell: pandora tomorrow\", 'XB', 'Action', 0.82, 0.59, 0.0, 0.07, 1.48)\n",
      "(35326, '2004-03-23', 4.09, \"tom clancy's splinter cell: pandora tomorrow\", 'PS2', 'Action', 0.52, 0.56, 0.0, 0.17, 1.25)\n",
      "(35326, '2004-03-23', 4.09, \"tom clancy's splinter cell: pandora tomorrow\", 'GC', 'Action', 0.06, 0.02, 0.0, 0.0, 0.08)\n",
      "(35326, '2004-03-23', 4.09, \"tom clancy's splinter cell: pandora tomorrow\", 'GBA', 'Action', 0.05, 0.02, 0.0, 0.0, 0.06)\n",
      "(25282, '2007-10-30', 3.74, 'the simpsons game', 'DS', 'Action', 0.57, 0.79, 0.0, 0.17, 1.53)\n",
      "(25282, '2007-10-30', 3.74, 'the simpsons game', 'PS2', 'Action', 0.35, 0.03, 0.0, 1.13, 1.51)\n",
      "(25282, '2007-10-30', 3.74, 'the simpsons game', 'PSP', 'Action', 0.24, 0.55, 0.0, 0.31, 1.09)\n",
      "(25282, '2007-10-30', 3.74, 'the simpsons game', 'X360', 'Action', 0.54, 0.4, 0.0, 0.11, 1.05)\n",
      "(25282, '2007-10-30', 3.74, 'the simpsons game', 'Wii', 'Action', 0.45, 0.47, 0.0, 0.11, 1.03)\n",
      "(25282, '2007-10-30', 3.74, 'the simpsons game', 'PS3', 'Action', 0.38, 0.37, 0.0, 0.15, 0.91)\n",
      "(10157, '2005-10-03', 3.81, 'brothers in arms: earned in blood', 'PS2', 'Shooter', 0.38, 0.01, 0.0, 0.06, 0.46)\n",
      "(10157, '2005-10-03', 3.81, 'brothers in arms: earned in blood', 'XB', 'Shooter', 0.23, 0.07, 0.0, 0.01, 0.31)\n",
      "(23033, '1995-11-11', 2.64, 'warhammer: shadow of the horned rat', 'PS', 'Strategy', 0.11, 0.07, 0.0, 0.01, 0.19)\n",
      "(15987, '2006-10-30', 3.58, 'secret files: tunguska', 'Wii', 'Adventure', 0.05, 0.02, 0.0, 0.01, 0.07)\n",
      "(15987, '2006-10-30', 3.58, 'secret files: tunguska', 'DS', 'Adventure', 0.04, 0.01, 0.0, 0.0, 0.05)\n",
      "(15987, '2006-10-30', 3.58, 'secret files: tunguska', 'PC', 'Adventure', 0.0, 0.04, 0.0, 0.01, 0.05)\n",
      "(38067, '2010-07-27', 4.58, 'starcraft ii: wings of liberty', 'PC', 'Strategy', 2.56, 1.68, 0.0, 0.59, 4.83)\n",
      "(28807, '2008-08-19', 2.81, 'too human', 'X360', 'Role-Playing', 0.38, 0.3, 0.03, 0.08, 0.79)\n",
      "(28774, '2006-09-05', 4.01, 'test drive unlimited', 'PSP', 'Racing', 0.08, 0.28, 0.0, 0.15, 0.51)\n",
      "(28774, '2006-09-05', 4.01, 'test drive unlimited', 'X360', 'Racing', 0.23, 0.04, 0.02, 0.03, 0.32)\n",
      "(28774, '2006-09-05', 4.01, 'test drive unlimited', 'PC', 'Racing', 0.0, 0.02, 0.0, 0.0, 0.02)\n",
      "(24933, '2006-05-15', 4.16, 'new super mario bros.', 'DS', 'Platform', 11.38, 9.23, 6.5, 2.9, 30.01)\n",
      "(2386, '2015-02-20', 3.16, 'the book of unwritten tales 2', 'PS4', 'Adventure', 0.0, 0.06, 0.0, 0.01, 0.07)\n",
      "(2386, '2015-02-20', 3.16, 'the book of unwritten tales 2', 'WiiU', 'Adventure', 0.0, 0.01, 0.0, 0.0, 0.01)\n",
      "(19293, '2000-11-30', 4.25, 'cossacks: european wars', 'PC', 'Strategy', 0.0, 0.02, 0.0, 0.0, 0.03)\n",
      "(57519, '1995-08-05', 4.33, \"super mario world 2: yoshi's island\", 'SNES', 'Platform', 1.65, 0.61, 1.76, 0.09, 4.12)\n",
      "(57519, '1995-08-05', 4.33, \"super mario world 2: yoshi's island\", 'GBA', 'Platform', 1.75, 0.45, 0.62, 0.09, 2.91)\n",
      "(24478, '1993-08-27', 4.05, 'super mario kart', 'SNES', 'Racing', 3.54, 1.24, 3.81, 0.18, 8.76)\n",
      "(16915, '2005-09-26', 3.2, 'gt legends', 'PC', 'Racing', 0.0, 0.02, 0.0, 0.0, 0.02)\n",
      "(24079, '1994-08-27', 4.34, 'earthbound', 'SNES', 'Role-Playing', 0.0, 0.0, 0.81, 0.0, 0.81)\n",
      "(19664, '2006-08-30', 1.5, 'dream pinball 3d', 'Wii', 'Misc', 0.1, 0.03, 0.0, 0.01, 0.14)\n",
      "(19664, '2006-08-30', 1.5, 'dream pinball 3d', 'DS', 'Misc', 0.03, 0.0, 0.0, 0.0, 0.03)\n",
      "(5055, '2009-09-01', 2.54, 'section 8', 'X360', 'Shooter', 0.15, 0.09, 0.0, 0.03, 0.27)\n",
      "(5055, '2009-09-01', 2.54, 'section 8', 'PC', 'Shooter', 0.01, 0.01, 0.0, 0.0, 0.03)\n",
      "(36355, '2005-04-03', 3.8, 'doom 3: resurrection of evil', 'XB', 'Shooter', 0.53, 0.15, 0.0, 0.03, 0.71)\n",
      "(4365, '2001-05-18', 3.56, 'alone in the dark: the new nightmare', 'PS', 'Adventure', 0.09, 0.06, 0.0, 0.01, 0.16)\n",
      "(4438, '2012-03-06', 2.8, 'unit 13', 'PSV', 'Shooter', 0.29, 0.15, 0.04, 0.07, 0.55)\n",
      "(14729, '2014-01-16', 3.42, 'guilty gear isuka', 'PS2', 'Fighting', 0.05, 0.04, 0.0, 0.01, 0.1)\n",
      "(35374, '2004-03-16', 4.32, 'unreal tournament 2004', 'PC', 'Shooter', 0.0, 0.01, 0.0, 0.0, 0.02)\n",
      "(4059, '2006-10-31', 4.0, 'grand theft auto: vice city stories', 'PSP', 'Action', 1.7, 2.02, 0.16, 1.21, 5.08)\n",
      "(4059, '2006-10-31', 4.0, 'grand theft auto: vice city stories', 'PS2', 'Action', 0.78, 0.03, 0.03, 0.13, 0.97)\n",
      "(21577, '2009-04-27', 2.0, 'puzzle kingdoms', 'DS', 'Puzzle', 0.12, 0.0, 0.0, 0.01, 0.13)\n",
      "(21577, '2009-04-27', 2.0, 'puzzle kingdoms', 'Wii', 'Puzzle', 0.11, 0.0, 0.0, 0.01, 0.12)\n",
      "(27023, '2007-10-01', 4.04, 'the legend of zelda: phantom hourglass', 'DS', 'Action', 1.9, 1.83, 0.95, 0.49, 5.17)\n",
      "(3888, '2013-10-03', 3.12, 'f1 2013', 'PS3', 'Racing', 0.01, 0.45, 0.03, 0.15, 0.63)\n",
      "(3888, '2013-10-03', 3.12, 'f1 2013', 'X360', 'Racing', 0.01, 0.28, 0.0, 0.03, 0.33)\n",
      "(5648, '2011-10-18', 4.19, 'rocksmith', 'PS3', 'Misc', 0.52, 0.38, 0.09, 0.17, 1.16)\n",
      "(5648, '2011-10-18', 4.19, 'rocksmith', 'X360', 'Misc', 0.84, 0.2, 0.01, 0.08, 1.12)\n",
      "(5648, '2011-10-18', 4.19, 'rocksmith', 'PC', 'Misc', 0.06, 0.04, 0.0, 0.01, 0.12)\n",
      "(28573, '2010-07-08', 3.39, 'hydro thunder', 'PS', 'Racing', 0.26, 0.17, 0.0, 0.03, 0.46)\n",
      "(28573, '2010-07-08', 3.39, 'hydro thunder', 'N64', 'Racing', 0.13, 0.03, 0.0, 0.0, 0.16)\n",
      "(19524, '2011-05-20', 2.73, 'call of juarez: the cartel', 'PS3', 'Shooter', 0.12, 0.13, 0.0, 0.05, 0.3)\n",
      "(19524, '2011-05-20', 2.73, 'call of juarez: the cartel', 'X360', 'Shooter', 0.14, 0.11, 0.0, 0.03, 0.27)\n",
      "(19524, '2011-05-20', 2.73, 'call of juarez: the cartel', 'PC', 'Shooter', 0.05, 0.05, 0.0, 0.01, 0.11)\n"
     ]
    }
   ],
   "source": [
    "# Kreiranje ili povezivanje na SQLite bazu podataka\n",
    "DATABASE_PATH = os.path.join(os.getcwd(), \"igre_baza.db\")\n",
    "engine = create_engine(f\"sqlite:///{DATABASE_PATH}\")\n",
    "\n",
    "# dohvacam podatke vraca mi error\n",
    "def fetch_data():\n",
    "    return merged_data \n",
    "    \n",
    "#kreiram si tablicu\n",
    "def create_table_if_not_exists():\n",
    "    try:\n",
    "        with engine.connect() as connection:\n",
    "            query = \"\"\"\n",
    "                CREATE TABLE IF NOT EXISTS igre (\n",
    "                    id INTEGER PRIMARY KEY AUTOINCREMENT,\n",
    "                    Name TEXT,\n",
    "                    Platform TEXT,\n",
    "                    Genre TEXT,\n",
    "                    Global_Sales REAL\n",
    "                );\n",
    "            \"\"\"\n",
    "            connection.execute(text(query))\n",
    "            print(\"Tablica 'igre' je uspješno stvorena ili već postoji.\")\n",
    "    except Exception as e:\n",
    "        print(f\"Greška pri kreiranju tablice: {str(e)}\")\n",
    "\n",
    "def insert_data_into_table(df):\n",
    "    try:\n",
    "        # ovdje unosim podatke\n",
    "        with engine.connect() as connection:\n",
    "            df.to_sql('igre', con=connection, if_exists='replace', index=False)\n",
    "            print(\"Podaci su uspješno uneseni u tablicu 'igre'.\")\n",
    "    except Exception as e:\n",
    "        print(f\"Greška pri unosu podataka: {str(e)}\")\n",
    "\n",
    "create_table_if_not_exists()\n",
    "\n",
    "merged_data = fetch_data()\n",
    "\n",
    "insert_data_into_table(merged_data)\n",
    "\n",
    "with engine.connect() as connection:\n",
    "    result = connection.execute(text(\"SELECT * FROM igre\"))\n",
    "    \n",
    "    for row in result:\n",
    "        print(row)  # Ispis podataka iz tablice\n"
   ]
  },
  {
   "cell_type": "markdown",
   "id": "ec78a622-0b56-45a4-8f90-e69ad75050c6",
   "metadata": {},
   "source": [
    "## Kreiranje i prikaz rada aplikacije te vizaulizacija podataka"
   ]
  },
  {
   "cell_type": "markdown",
   "id": "e3012ed1-3f61-4ab8-aea2-e0339d1db573",
   "metadata": {},
   "source": [
    "U ovom kodu kreiramo FastAPI aplikaciju koja omogućuje interakciju s bazom podataka putem REST API-ja. Aplikacija se povezuje na SQLite bazu podataka igre_baza.db koja se nalazi u trenutnom direktoriju, koristeći SQLAlchemy za komunikaciju s bazom.\n",
    "\n",
    "FastAPI aplikacija ima nekoliko endpointa: prvi, root endpoint, samo ispisuje poruku dobrodošlice, što omogućuje da provjerimo da aplikacija ispravno radi. Drugi endpoint omogućuje dohvaćanje svih podataka iz tablice igre, dok treći omogućuje dohvaćanje specifične igre na temelju njenog ID-a. Sve ove funkcionalnosti koriste SQLAlchemy za izvođenje upita na bazi podataka, dok su rezultati pretvoreni u rječnike za lakše korištenje u API odgovoru.\n",
    "\n",
    "Nakon što je API pokrenut, podatci se dohvaćaju iz baze i obrađuju u Pythonu. Kod koristi pandas za manipulaciju podacima te zatim prikazuje nekoliko vizualizacija pomoću Plotly knjižnice.\n",
    "\n",
    "Ovaj kod omogućuje analizu tržišnih trendova u videoigrama, pružajući uvid u to koje platforme i žanrovi najviše pridonoose ukupnoj prodaji, a također nudi interaktivne grafove koji olakšavaju vizualizaciju tih podataka."
   ]
  },
  {
   "cell_type": "code",
   "execution_count": 16,
   "id": "5a0bfdbf-5a8f-40d1-a6c2-5a1707bc3dec",
   "metadata": {},
   "outputs": [
    {
     "name": "stderr",
     "output_type": "stream",
     "text": [
      "INFO:     Started server process [8976]\n",
      "INFO:     Waiting for application startup.\n",
      "INFO:     Application startup complete.\n",
      "ERROR:    [Errno 10048] error while attempting to bind on address ('127.0.0.1', 8000): [winerror 10048] only one usage of each socket address (protocol/network address/port) is normally permitted\n",
      "INFO:     Waiting for application shutdown.\n",
      "INFO:     Application shutdown complete.\n"
     ]
    },
    {
     "name": "stdout",
     "output_type": "stream",
     "text": [
      "Tablicni prikaz ukupne prodaje igara:\n"
     ]
    },
    {
     "data": {
      "text/html": [
       "<div>\n",
       "<style scoped>\n",
       "    .dataframe tbody tr th:only-of-type {\n",
       "        vertical-align: middle;\n",
       "    }\n",
       "\n",
       "    .dataframe tbody tr th {\n",
       "        vertical-align: top;\n",
       "    }\n",
       "\n",
       "    .dataframe thead th {\n",
       "        text-align: right;\n",
       "    }\n",
       "</style>\n",
       "<table border=\"1\" class=\"dataframe\">\n",
       "  <thead>\n",
       "    <tr style=\"text-align: right;\">\n",
       "      <th></th>\n",
       "      <th>Name</th>\n",
       "      <th>Platform</th>\n",
       "      <th>Global_Sales</th>\n",
       "    </tr>\n",
       "  </thead>\n",
       "  <tbody>\n",
       "    <tr>\n",
       "      <th>1567</th>\n",
       "      <td>Super Mario Bros.</td>\n",
       "      <td>NES</td>\n",
       "      <td>40.24</td>\n",
       "    </tr>\n",
       "    <tr>\n",
       "      <th>923</th>\n",
       "      <td>Mario Kart Wii</td>\n",
       "      <td>Wii</td>\n",
       "      <td>35.82</td>\n",
       "    </tr>\n",
       "    <tr>\n",
       "      <th>1127</th>\n",
       "      <td>New Super Mario Bros.</td>\n",
       "      <td>DS</td>\n",
       "      <td>30.01</td>\n",
       "    </tr>\n",
       "    <tr>\n",
       "      <th>1128</th>\n",
       "      <td>New Super Mario Bros. Wii</td>\n",
       "      <td>Wii</td>\n",
       "      <td>28.62</td>\n",
       "    </tr>\n",
       "    <tr>\n",
       "      <th>922</th>\n",
       "      <td>Mario Kart Ds</td>\n",
       "      <td>DS</td>\n",
       "      <td>23.42</td>\n",
       "    </tr>\n",
       "    <tr>\n",
       "      <th>...</th>\n",
       "      <td>...</td>\n",
       "      <td>...</td>\n",
       "      <td>...</td>\n",
       "    </tr>\n",
       "    <tr>\n",
       "      <th>738</th>\n",
       "      <td>Hospital Tycoon</td>\n",
       "      <td>PC</td>\n",
       "      <td>0.01</td>\n",
       "    </tr>\n",
       "    <tr>\n",
       "      <th>112</th>\n",
       "      <td>Blazblue: Continuum Shift Extend</td>\n",
       "      <td>PSP</td>\n",
       "      <td>0.01</td>\n",
       "    </tr>\n",
       "    <tr>\n",
       "      <th>773</th>\n",
       "      <td>King'S Bounty: Armored Princess</td>\n",
       "      <td>PC</td>\n",
       "      <td>0.01</td>\n",
       "    </tr>\n",
       "    <tr>\n",
       "      <th>793</th>\n",
       "      <td>Legacy Of Kain: Defiance</td>\n",
       "      <td>PC</td>\n",
       "      <td>0.01</td>\n",
       "    </tr>\n",
       "    <tr>\n",
       "      <th>1458</th>\n",
       "      <td>Sonic &amp; All-Stars Racing Transformed</td>\n",
       "      <td>PC</td>\n",
       "      <td>0.01</td>\n",
       "    </tr>\n",
       "  </tbody>\n",
       "</table>\n",
       "<p>1937 rows × 3 columns</p>\n",
       "</div>"
      ],
      "text/plain": [
       "                                      Name Platform  Global_Sales\n",
       "1567                     Super Mario Bros.      NES         40.24\n",
       "923                         Mario Kart Wii      Wii         35.82\n",
       "1127                 New Super Mario Bros.       DS         30.01\n",
       "1128             New Super Mario Bros. Wii      Wii         28.62\n",
       "922                          Mario Kart Ds       DS         23.42\n",
       "...                                    ...      ...           ...\n",
       "738                        Hospital Tycoon       PC          0.01\n",
       "112       Blazblue: Continuum Shift Extend      PSP          0.01\n",
       "773        King'S Bounty: Armored Princess       PC          0.01\n",
       "793               Legacy Of Kain: Defiance       PC          0.01\n",
       "1458  Sonic & All-Stars Racing Transformed       PC          0.01\n",
       "\n",
       "[1937 rows x 3 columns]"
      ]
     },
     "metadata": {},
     "output_type": "display_data"
    },
    {
     "data": {
      "application/vnd.plotly.v1+json": {
       "config": {
        "plotlyServerURL": "https://plot.ly"
       },
       "data": [
        {
         "alignmentgroup": "True",
         "hovertemplate": "Platform=NES<br>Ime igre=%{x}<br>Ukupna prodaja (milijuni)=%{y}<extra></extra>",
         "legendgroup": "NES",
         "marker": {
          "color": "#636efa",
          "pattern": {
           "shape": ""
          }
         },
         "name": "NES",
         "offsetgroup": "NES",
         "orientation": "v",
         "showlegend": true,
         "textposition": "auto",
         "type": "bar",
         "x": [
          "Super Mario Bros.",
          "Super Mario Bros. 3"
         ],
         "xaxis": "x",
         "y": [
          40.24,
          17.28
         ],
         "yaxis": "y"
        },
        {
         "alignmentgroup": "True",
         "hovertemplate": "Platform=Wii<br>Ime igre=%{x}<br>Ukupna prodaja (milijuni)=%{y}<extra></extra>",
         "legendgroup": "Wii",
         "marker": {
          "color": "#EF553B",
          "pattern": {
           "shape": ""
          }
         },
         "name": "Wii",
         "offsetgroup": "Wii",
         "orientation": "v",
         "showlegend": true,
         "textposition": "auto",
         "type": "bar",
         "x": [
          "Mario Kart Wii",
          "New Super Mario Bros. Wii",
          "Call Of Duty: Black Ops",
          "Call Of Duty: Modern Warfare 3",
          "Fifa 15"
         ],
         "xaxis": "x",
         "y": [
          35.82,
          28.62,
          1.4,
          0.89,
          0.76
         ],
         "yaxis": "y"
        },
        {
         "alignmentgroup": "True",
         "hovertemplate": "Platform=DS<br>Ime igre=%{x}<br>Ukupna prodaja (milijuni)=%{y}<extra></extra>",
         "legendgroup": "DS",
         "marker": {
          "color": "#00cc96",
          "pattern": {
           "shape": ""
          }
         },
         "name": "DS",
         "offsetgroup": "DS",
         "orientation": "v",
         "showlegend": true,
         "textposition": "auto",
         "type": "bar",
         "x": [
          "New Super Mario Bros.",
          "Mario Kart Ds",
          "Super Mario 64",
          "Call Of Duty: Black Ops"
         ],
         "xaxis": "x",
         "y": [
          30.01,
          23.42,
          10.42,
          0.63
         ],
         "yaxis": "y"
        },
        {
         "alignmentgroup": "True",
         "hovertemplate": "Platform=PS3<br>Ime igre=%{x}<br>Ukupna prodaja (milijuni)=%{y}<extra></extra>",
         "legendgroup": "PS3",
         "marker": {
          "color": "#ab63fa",
          "pattern": {
           "shape": ""
          }
         },
         "name": "PS3",
         "offsetgroup": "PS3",
         "orientation": "v",
         "showlegend": true,
         "textposition": "auto",
         "type": "bar",
         "x": [
          "Grand Theft Auto V",
          "Call Of Duty: Black Ops Ii",
          "Call Of Duty: Modern Warfare 3",
          "Call Of Duty: Black Ops",
          "Call Of Duty: Modern Warfare 2",
          "Grand Theft Auto Iv",
          "Call Of Duty: Ghosts",
          "The Elder Scrolls V: Skyrim",
          "Minecraft",
          "Fifa 15",
          "Call Of Duty: Advanced Warfare"
         ],
         "xaxis": "x",
         "y": [
          21.4,
          14.03,
          13.46,
          12.73,
          10.69,
          10.57,
          9.59,
          6.56,
          5.42,
          4.82,
          4.45
         ],
         "yaxis": "y"
        },
        {
         "alignmentgroup": "True",
         "hovertemplate": "Platform=PS2<br>Ime igre=%{x}<br>Ukupna prodaja (milijuni)=%{y}<extra></extra>",
         "legendgroup": "PS2",
         "marker": {
          "color": "#FFA15A",
          "pattern": {
           "shape": ""
          }
         },
         "name": "PS2",
         "offsetgroup": "PS2",
         "orientation": "v",
         "showlegend": true,
         "textposition": "auto",
         "type": "bar",
         "x": [
          "Grand Theft Auto: San Andreas"
         ],
         "xaxis": "x",
         "y": [
          20.81
         ],
         "yaxis": "y"
        },
        {
         "alignmentgroup": "True",
         "hovertemplate": "Platform=SNES<br>Ime igre=%{x}<br>Ukupna prodaja (milijuni)=%{y}<extra></extra>",
         "legendgroup": "SNES",
         "marker": {
          "color": "#19d3f3",
          "pattern": {
           "shape": ""
          }
         },
         "name": "SNES",
         "offsetgroup": "SNES",
         "orientation": "v",
         "showlegend": true,
         "textposition": "auto",
         "type": "bar",
         "x": [
          "Super Mario World"
         ],
         "xaxis": "x",
         "y": [
          20.61
         ],
         "yaxis": "y"
        },
        {
         "alignmentgroup": "True",
         "hovertemplate": "Platform=X360<br>Ime igre=%{x}<br>Ukupna prodaja (milijuni)=%{y}<extra></extra>",
         "legendgroup": "X360",
         "marker": {
          "color": "#FF6692",
          "pattern": {
           "shape": ""
          }
         },
         "name": "X360",
         "offsetgroup": "X360",
         "orientation": "v",
         "showlegend": true,
         "textposition": "auto",
         "type": "bar",
         "x": [
          "Grand Theft Auto V",
          "Call Of Duty: Modern Warfare 3",
          "Call Of Duty: Black Ops",
          "Call Of Duty: Black Ops Ii",
          "Call Of Duty: Modern Warfare 2",
          "Grand Theft Auto Iv",
          "Call Of Duty: Ghosts",
          "Minecraft",
          "The Elder Scrolls V: Skyrim",
          "Call Of Duty: Advanced Warfare",
          "Fifa 15",
          "Grand Theft Auto: San Andreas"
         ],
         "xaxis": "x",
         "y": [
          16.38,
          14.76,
          14.64,
          13.73,
          13.51,
          11.02,
          10.21,
          9.2,
          8.84,
          4.31,
          3.11,
          0.12
         ],
         "yaxis": "y"
        },
        {
         "alignmentgroup": "True",
         "hovertemplate": "Platform=PS4<br>Ime igre=%{x}<br>Ukupna prodaja (milijuni)=%{y}<extra></extra>",
         "legendgroup": "PS4",
         "marker": {
          "color": "#B6E880",
          "pattern": {
           "shape": ""
          }
         },
         "name": "PS4",
         "offsetgroup": "PS4",
         "orientation": "v",
         "showlegend": true,
         "textposition": "auto",
         "type": "bar",
         "x": [
          "Grand Theft Auto V",
          "Call Of Duty: Advanced Warfare",
          "Fifa 15",
          "Minecraft",
          "Call Of Duty: Ghosts"
         ],
         "xaxis": "x",
         "y": [
          11.98,
          7.6,
          6.59,
          4.02,
          3.63
         ],
         "yaxis": "y"
        },
        {
         "alignmentgroup": "True",
         "hovertemplate": "Platform=N64<br>Ime igre=%{x}<br>Ukupna prodaja (milijuni)=%{y}<extra></extra>",
         "legendgroup": "N64",
         "marker": {
          "color": "#FF97FF",
          "pattern": {
           "shape": ""
          }
         },
         "name": "N64",
         "offsetgroup": "N64",
         "orientation": "v",
         "showlegend": true,
         "textposition": "auto",
         "type": "bar",
         "x": [
          "Super Mario 64"
         ],
         "xaxis": "x",
         "y": [
          11.89
         ],
         "yaxis": "y"
        },
        {
         "alignmentgroup": "True",
         "hovertemplate": "Platform=GBA<br>Ime igre=%{x}<br>Ukupna prodaja (milijuni)=%{y}<extra></extra>",
         "legendgroup": "GBA",
         "marker": {
          "color": "#FECB52",
          "pattern": {
           "shape": ""
          }
         },
         "name": "GBA",
         "offsetgroup": "GBA",
         "orientation": "v",
         "showlegend": true,
         "textposition": "auto",
         "type": "bar",
         "x": [
          "Super Mario World",
          "Super Mario Bros. 3"
         ],
         "xaxis": "x",
         "y": [
          5.46,
          5.2
         ],
         "yaxis": "y"
        },
        {
         "alignmentgroup": "True",
         "hovertemplate": "Platform=XOne<br>Ime igre=%{x}<br>Ukupna prodaja (milijuni)=%{y}<extra></extra>",
         "legendgroup": "XOne",
         "marker": {
          "color": "#636efa",
          "pattern": {
           "shape": ""
          }
         },
         "name": "XOne",
         "offsetgroup": "XOne",
         "orientation": "v",
         "showlegend": true,
         "textposition": "auto",
         "type": "bar",
         "x": [
          "Call Of Duty: Advanced Warfare",
          "Grand Theft Auto V",
          "Call Of Duty: Ghosts",
          "Minecraft",
          "Fifa 15"
         ],
         "xaxis": "x",
         "y": [
          5.13,
          5.08,
          2.86,
          2.41,
          2.15
         ],
         "yaxis": "y"
        },
        {
         "alignmentgroup": "True",
         "hovertemplate": "Platform=GB<br>Ime igre=%{x}<br>Ukupna prodaja (milijuni)=%{y}<extra></extra>",
         "legendgroup": "GB",
         "marker": {
          "color": "#EF553B",
          "pattern": {
           "shape": ""
          }
         },
         "name": "GB",
         "offsetgroup": "GB",
         "orientation": "v",
         "showlegend": true,
         "textposition": "auto",
         "type": "bar",
         "x": [
          "Super Mario Bros."
         ],
         "xaxis": "x",
         "y": [
          5.07
         ],
         "yaxis": "y"
        },
        {
         "alignmentgroup": "True",
         "hovertemplate": "Platform=PC<br>Ime igre=%{x}<br>Ukupna prodaja (milijuni)=%{y}<extra></extra>",
         "legendgroup": "PC",
         "marker": {
          "color": "#00cc96",
          "pattern": {
           "shape": ""
          }
         },
         "name": "PC",
         "offsetgroup": "PC",
         "orientation": "v",
         "showlegend": true,
         "textposition": "auto",
         "type": "bar",
         "x": [
          "The Elder Scrolls V: Skyrim",
          "Call Of Duty: Modern Warfare 3",
          "Call Of Duty: Black Ops",
          "Call Of Duty: Black Ops Ii",
          "Grand Theft Auto V",
          "Grand Theft Auto: San Andreas",
          "Call Of Duty: Modern Warfare 2",
          "Grand Theft Auto Iv",
          "Call Of Duty: Ghosts",
          "Call Of Duty: Advanced Warfare",
          "Fifa 15"
         ],
         "xaxis": "x",
         "y": [
          3.88,
          1.72,
          1.63,
          1.53,
          1.08,
          0.98,
          0.89,
          0.88,
          0.73,
          0.41,
          0.3
         ],
         "yaxis": "y"
        },
        {
         "alignmentgroup": "True",
         "hovertemplate": "Platform=PSV<br>Ime igre=%{x}<br>Ukupna prodaja (milijuni)=%{y}<extra></extra>",
         "legendgroup": "PSV",
         "marker": {
          "color": "#ab63fa",
          "pattern": {
           "shape": ""
          }
         },
         "name": "PSV",
         "offsetgroup": "PSV",
         "orientation": "v",
         "showlegend": true,
         "textposition": "auto",
         "type": "bar",
         "x": [
          "Minecraft",
          "Fifa 15"
         ],
         "xaxis": "x",
         "y": [
          2.25,
          0.84
         ],
         "yaxis": "y"
        },
        {
         "alignmentgroup": "True",
         "hovertemplate": "Platform=XB<br>Ime igre=%{x}<br>Ukupna prodaja (milijuni)=%{y}<extra></extra>",
         "legendgroup": "XB",
         "marker": {
          "color": "#FFA15A",
          "pattern": {
           "shape": ""
          }
         },
         "name": "XB",
         "offsetgroup": "XB",
         "orientation": "v",
         "showlegend": true,
         "textposition": "auto",
         "type": "bar",
         "x": [
          "Grand Theft Auto: San Andreas"
         ],
         "xaxis": "x",
         "y": [
          1.95
         ],
         "yaxis": "y"
        },
        {
         "alignmentgroup": "True",
         "hovertemplate": "Platform=3DS<br>Ime igre=%{x}<br>Ukupna prodaja (milijuni)=%{y}<extra></extra>",
         "legendgroup": "3DS",
         "marker": {
          "color": "#19d3f3",
          "pattern": {
           "shape": ""
          }
         },
         "name": "3DS",
         "offsetgroup": "3DS",
         "orientation": "v",
         "showlegend": true,
         "textposition": "auto",
         "type": "bar",
         "x": [
          "Fifa 15"
         ],
         "xaxis": "x",
         "y": [
          0.45
         ],
         "yaxis": "y"
        },
        {
         "alignmentgroup": "True",
         "hovertemplate": "Platform=WiiU<br>Ime igre=%{x}<br>Ukupna prodaja (milijuni)=%{y}<extra></extra>",
         "legendgroup": "WiiU",
         "marker": {
          "color": "#FF6692",
          "pattern": {
           "shape": ""
          }
         },
         "name": "WiiU",
         "offsetgroup": "WiiU",
         "orientation": "v",
         "showlegend": true,
         "textposition": "auto",
         "type": "bar",
         "x": [
          "Minecraft",
          "Call Of Duty: Black Ops Ii",
          "Call Of Duty: Ghosts"
         ],
         "xaxis": "x",
         "y": [
          0.43,
          0.43,
          0.36
         ],
         "yaxis": "y"
        }
       ],
       "layout": {
        "autosize": true,
        "barmode": "relative",
        "legend": {
         "title": {
          "text": "Platform"
         },
         "tracegroupgap": 0
        },
        "template": {
         "data": {
          "bar": [
           {
            "error_x": {
             "color": "#2a3f5f"
            },
            "error_y": {
             "color": "#2a3f5f"
            },
            "marker": {
             "line": {
              "color": "#E5ECF6",
              "width": 0.5
             },
             "pattern": {
              "fillmode": "overlay",
              "size": 10,
              "solidity": 0.2
             }
            },
            "type": "bar"
           }
          ],
          "barpolar": [
           {
            "marker": {
             "line": {
              "color": "#E5ECF6",
              "width": 0.5
             },
             "pattern": {
              "fillmode": "overlay",
              "size": 10,
              "solidity": 0.2
             }
            },
            "type": "barpolar"
           }
          ],
          "carpet": [
           {
            "aaxis": {
             "endlinecolor": "#2a3f5f",
             "gridcolor": "white",
             "linecolor": "white",
             "minorgridcolor": "white",
             "startlinecolor": "#2a3f5f"
            },
            "baxis": {
             "endlinecolor": "#2a3f5f",
             "gridcolor": "white",
             "linecolor": "white",
             "minorgridcolor": "white",
             "startlinecolor": "#2a3f5f"
            },
            "type": "carpet"
           }
          ],
          "choropleth": [
           {
            "colorbar": {
             "outlinewidth": 0,
             "ticks": ""
            },
            "type": "choropleth"
           }
          ],
          "contour": [
           {
            "colorbar": {
             "outlinewidth": 0,
             "ticks": ""
            },
            "colorscale": [
             [
              0,
              "#0d0887"
             ],
             [
              0.1111111111111111,
              "#46039f"
             ],
             [
              0.2222222222222222,
              "#7201a8"
             ],
             [
              0.3333333333333333,
              "#9c179e"
             ],
             [
              0.4444444444444444,
              "#bd3786"
             ],
             [
              0.5555555555555556,
              "#d8576b"
             ],
             [
              0.6666666666666666,
              "#ed7953"
             ],
             [
              0.7777777777777778,
              "#fb9f3a"
             ],
             [
              0.8888888888888888,
              "#fdca26"
             ],
             [
              1,
              "#f0f921"
             ]
            ],
            "type": "contour"
           }
          ],
          "contourcarpet": [
           {
            "colorbar": {
             "outlinewidth": 0,
             "ticks": ""
            },
            "type": "contourcarpet"
           }
          ],
          "heatmap": [
           {
            "colorbar": {
             "outlinewidth": 0,
             "ticks": ""
            },
            "colorscale": [
             [
              0,
              "#0d0887"
             ],
             [
              0.1111111111111111,
              "#46039f"
             ],
             [
              0.2222222222222222,
              "#7201a8"
             ],
             [
              0.3333333333333333,
              "#9c179e"
             ],
             [
              0.4444444444444444,
              "#bd3786"
             ],
             [
              0.5555555555555556,
              "#d8576b"
             ],
             [
              0.6666666666666666,
              "#ed7953"
             ],
             [
              0.7777777777777778,
              "#fb9f3a"
             ],
             [
              0.8888888888888888,
              "#fdca26"
             ],
             [
              1,
              "#f0f921"
             ]
            ],
            "type": "heatmap"
           }
          ],
          "heatmapgl": [
           {
            "colorbar": {
             "outlinewidth": 0,
             "ticks": ""
            },
            "colorscale": [
             [
              0,
              "#0d0887"
             ],
             [
              0.1111111111111111,
              "#46039f"
             ],
             [
              0.2222222222222222,
              "#7201a8"
             ],
             [
              0.3333333333333333,
              "#9c179e"
             ],
             [
              0.4444444444444444,
              "#bd3786"
             ],
             [
              0.5555555555555556,
              "#d8576b"
             ],
             [
              0.6666666666666666,
              "#ed7953"
             ],
             [
              0.7777777777777778,
              "#fb9f3a"
             ],
             [
              0.8888888888888888,
              "#fdca26"
             ],
             [
              1,
              "#f0f921"
             ]
            ],
            "type": "heatmapgl"
           }
          ],
          "histogram": [
           {
            "marker": {
             "pattern": {
              "fillmode": "overlay",
              "size": 10,
              "solidity": 0.2
             }
            },
            "type": "histogram"
           }
          ],
          "histogram2d": [
           {
            "colorbar": {
             "outlinewidth": 0,
             "ticks": ""
            },
            "colorscale": [
             [
              0,
              "#0d0887"
             ],
             [
              0.1111111111111111,
              "#46039f"
             ],
             [
              0.2222222222222222,
              "#7201a8"
             ],
             [
              0.3333333333333333,
              "#9c179e"
             ],
             [
              0.4444444444444444,
              "#bd3786"
             ],
             [
              0.5555555555555556,
              "#d8576b"
             ],
             [
              0.6666666666666666,
              "#ed7953"
             ],
             [
              0.7777777777777778,
              "#fb9f3a"
             ],
             [
              0.8888888888888888,
              "#fdca26"
             ],
             [
              1,
              "#f0f921"
             ]
            ],
            "type": "histogram2d"
           }
          ],
          "histogram2dcontour": [
           {
            "colorbar": {
             "outlinewidth": 0,
             "ticks": ""
            },
            "colorscale": [
             [
              0,
              "#0d0887"
             ],
             [
              0.1111111111111111,
              "#46039f"
             ],
             [
              0.2222222222222222,
              "#7201a8"
             ],
             [
              0.3333333333333333,
              "#9c179e"
             ],
             [
              0.4444444444444444,
              "#bd3786"
             ],
             [
              0.5555555555555556,
              "#d8576b"
             ],
             [
              0.6666666666666666,
              "#ed7953"
             ],
             [
              0.7777777777777778,
              "#fb9f3a"
             ],
             [
              0.8888888888888888,
              "#fdca26"
             ],
             [
              1,
              "#f0f921"
             ]
            ],
            "type": "histogram2dcontour"
           }
          ],
          "mesh3d": [
           {
            "colorbar": {
             "outlinewidth": 0,
             "ticks": ""
            },
            "type": "mesh3d"
           }
          ],
          "parcoords": [
           {
            "line": {
             "colorbar": {
              "outlinewidth": 0,
              "ticks": ""
             }
            },
            "type": "parcoords"
           }
          ],
          "pie": [
           {
            "automargin": true,
            "type": "pie"
           }
          ],
          "scatter": [
           {
            "fillpattern": {
             "fillmode": "overlay",
             "size": 10,
             "solidity": 0.2
            },
            "type": "scatter"
           }
          ],
          "scatter3d": [
           {
            "line": {
             "colorbar": {
              "outlinewidth": 0,
              "ticks": ""
             }
            },
            "marker": {
             "colorbar": {
              "outlinewidth": 0,
              "ticks": ""
             }
            },
            "type": "scatter3d"
           }
          ],
          "scattercarpet": [
           {
            "marker": {
             "colorbar": {
              "outlinewidth": 0,
              "ticks": ""
             }
            },
            "type": "scattercarpet"
           }
          ],
          "scattergeo": [
           {
            "marker": {
             "colorbar": {
              "outlinewidth": 0,
              "ticks": ""
             }
            },
            "type": "scattergeo"
           }
          ],
          "scattergl": [
           {
            "marker": {
             "colorbar": {
              "outlinewidth": 0,
              "ticks": ""
             }
            },
            "type": "scattergl"
           }
          ],
          "scattermapbox": [
           {
            "marker": {
             "colorbar": {
              "outlinewidth": 0,
              "ticks": ""
             }
            },
            "type": "scattermapbox"
           }
          ],
          "scatterpolar": [
           {
            "marker": {
             "colorbar": {
              "outlinewidth": 0,
              "ticks": ""
             }
            },
            "type": "scatterpolar"
           }
          ],
          "scatterpolargl": [
           {
            "marker": {
             "colorbar": {
              "outlinewidth": 0,
              "ticks": ""
             }
            },
            "type": "scatterpolargl"
           }
          ],
          "scatterternary": [
           {
            "marker": {
             "colorbar": {
              "outlinewidth": 0,
              "ticks": ""
             }
            },
            "type": "scatterternary"
           }
          ],
          "surface": [
           {
            "colorbar": {
             "outlinewidth": 0,
             "ticks": ""
            },
            "colorscale": [
             [
              0,
              "#0d0887"
             ],
             [
              0.1111111111111111,
              "#46039f"
             ],
             [
              0.2222222222222222,
              "#7201a8"
             ],
             [
              0.3333333333333333,
              "#9c179e"
             ],
             [
              0.4444444444444444,
              "#bd3786"
             ],
             [
              0.5555555555555556,
              "#d8576b"
             ],
             [
              0.6666666666666666,
              "#ed7953"
             ],
             [
              0.7777777777777778,
              "#fb9f3a"
             ],
             [
              0.8888888888888888,
              "#fdca26"
             ],
             [
              1,
              "#f0f921"
             ]
            ],
            "type": "surface"
           }
          ],
          "table": [
           {
            "cells": {
             "fill": {
              "color": "#EBF0F8"
             },
             "line": {
              "color": "white"
             }
            },
            "header": {
             "fill": {
              "color": "#C8D4E3"
             },
             "line": {
              "color": "white"
             }
            },
            "type": "table"
           }
          ]
         },
         "layout": {
          "annotationdefaults": {
           "arrowcolor": "#2a3f5f",
           "arrowhead": 0,
           "arrowwidth": 1
          },
          "autotypenumbers": "strict",
          "coloraxis": {
           "colorbar": {
            "outlinewidth": 0,
            "ticks": ""
           }
          },
          "colorscale": {
           "diverging": [
            [
             0,
             "#8e0152"
            ],
            [
             0.1,
             "#c51b7d"
            ],
            [
             0.2,
             "#de77ae"
            ],
            [
             0.3,
             "#f1b6da"
            ],
            [
             0.4,
             "#fde0ef"
            ],
            [
             0.5,
             "#f7f7f7"
            ],
            [
             0.6,
             "#e6f5d0"
            ],
            [
             0.7,
             "#b8e186"
            ],
            [
             0.8,
             "#7fbc41"
            ],
            [
             0.9,
             "#4d9221"
            ],
            [
             1,
             "#276419"
            ]
           ],
           "sequential": [
            [
             0,
             "#0d0887"
            ],
            [
             0.1111111111111111,
             "#46039f"
            ],
            [
             0.2222222222222222,
             "#7201a8"
            ],
            [
             0.3333333333333333,
             "#9c179e"
            ],
            [
             0.4444444444444444,
             "#bd3786"
            ],
            [
             0.5555555555555556,
             "#d8576b"
            ],
            [
             0.6666666666666666,
             "#ed7953"
            ],
            [
             0.7777777777777778,
             "#fb9f3a"
            ],
            [
             0.8888888888888888,
             "#fdca26"
            ],
            [
             1,
             "#f0f921"
            ]
           ],
           "sequentialminus": [
            [
             0,
             "#0d0887"
            ],
            [
             0.1111111111111111,
             "#46039f"
            ],
            [
             0.2222222222222222,
             "#7201a8"
            ],
            [
             0.3333333333333333,
             "#9c179e"
            ],
            [
             0.4444444444444444,
             "#bd3786"
            ],
            [
             0.5555555555555556,
             "#d8576b"
            ],
            [
             0.6666666666666666,
             "#ed7953"
            ],
            [
             0.7777777777777778,
             "#fb9f3a"
            ],
            [
             0.8888888888888888,
             "#fdca26"
            ],
            [
             1,
             "#f0f921"
            ]
           ]
          },
          "colorway": [
           "#636efa",
           "#EF553B",
           "#00cc96",
           "#ab63fa",
           "#FFA15A",
           "#19d3f3",
           "#FF6692",
           "#B6E880",
           "#FF97FF",
           "#FECB52"
          ],
          "font": {
           "color": "#2a3f5f"
          },
          "geo": {
           "bgcolor": "white",
           "lakecolor": "white",
           "landcolor": "#E5ECF6",
           "showlakes": true,
           "showland": true,
           "subunitcolor": "white"
          },
          "hoverlabel": {
           "align": "left"
          },
          "hovermode": "closest",
          "mapbox": {
           "style": "light"
          },
          "paper_bgcolor": "white",
          "plot_bgcolor": "#E5ECF6",
          "polar": {
           "angularaxis": {
            "gridcolor": "white",
            "linecolor": "white",
            "ticks": ""
           },
           "bgcolor": "#E5ECF6",
           "radialaxis": {
            "gridcolor": "white",
            "linecolor": "white",
            "ticks": ""
           }
          },
          "scene": {
           "xaxis": {
            "backgroundcolor": "#E5ECF6",
            "gridcolor": "white",
            "gridwidth": 2,
            "linecolor": "white",
            "showbackground": true,
            "ticks": "",
            "zerolinecolor": "white"
           },
           "yaxis": {
            "backgroundcolor": "#E5ECF6",
            "gridcolor": "white",
            "gridwidth": 2,
            "linecolor": "white",
            "showbackground": true,
            "ticks": "",
            "zerolinecolor": "white"
           },
           "zaxis": {
            "backgroundcolor": "#E5ECF6",
            "gridcolor": "white",
            "gridwidth": 2,
            "linecolor": "white",
            "showbackground": true,
            "ticks": "",
            "zerolinecolor": "white"
           }
          },
          "shapedefaults": {
           "line": {
            "color": "#2a3f5f"
           }
          },
          "ternary": {
           "aaxis": {
            "gridcolor": "white",
            "linecolor": "white",
            "ticks": ""
           },
           "baxis": {
            "gridcolor": "white",
            "linecolor": "white",
            "ticks": ""
           },
           "bgcolor": "#E5ECF6",
           "caxis": {
            "gridcolor": "white",
            "linecolor": "white",
            "ticks": ""
           }
          },
          "title": {
           "x": 0.05
          },
          "xaxis": {
           "automargin": true,
           "gridcolor": "white",
           "linecolor": "white",
           "ticks": "",
           "title": {
            "standoff": 15
           },
           "zerolinecolor": "white",
           "zerolinewidth": 2
          },
          "yaxis": {
           "automargin": true,
           "gridcolor": "white",
           "linecolor": "white",
           "ticks": "",
           "title": {
            "standoff": 15
           },
           "zerolinecolor": "white",
           "zerolinewidth": 2
          }
         }
        },
        "title": {
         "text": "Top 20 igara po ukupnoj prodaji"
        },
        "xaxis": {
         "anchor": "y",
         "autorange": true,
         "domain": [
          0,
          1
         ],
         "range": [
          -0.5,
          19.5
         ],
         "tickangle": -45,
         "title": {
          "text": "Ime igre"
         },
         "type": "category"
        },
        "yaxis": {
         "anchor": "x",
         "autorange": true,
         "domain": [
          0,
          1
         ],
         "range": [
          0,
          58.863157894736844
         ],
         "title": {
          "text": "Ukupna prodaja (milijuni)"
         },
         "type": "linear"
        }
       }
      },
      "image/png": "[encoded data removed]",
      "text/html": [
       "<div>                            <div id=\"0f5d4e22-ee46-4db8-a761-0b5ef5c7c4c6\" class=\"plotly-graph-div\" style=\"height:600px; width:100%;\"></div>            <script type=\"text/javascript\">                require([\"plotly\"], function(Plotly) {                    window.PLOTLYENV=window.PLOTLYENV || {};                                    if (document.getElementById(\"0f5d4e22-ee46-4db8-a761-0b5ef5c7c4c6\")) {                    Plotly.newPlot(                        \"0f5d4e22-ee46-4db8-a761-0b5ef5c7c4c6\",                        [{\"alignmentgroup\":\"True\",\"hovertemplate\":\"Platform=NES\\u003cbr\\u003eIme igre=%{x}\\u003cbr\\u003eUkupna prodaja (milijuni)=%{y}\\u003cextra\\u003e\\u003c\\u002fextra\\u003e\",\"legendgroup\":\"NES\",\"marker\":{\"color\":\"#636efa\",\"pattern\":{\"shape\":\"\"}},\"name\":\"NES\",\"offsetgroup\":\"NES\",\"orientation\":\"v\",\"showlegend\":true,\"textposition\":\"auto\",\"x\":[\"Super Mario Bros.\",\"Super Mario Bros. 3\"],\"xaxis\":\"x\",\"y\":[40.24,17.28],\"yaxis\":\"y\",\"type\":\"bar\"},{\"alignmentgroup\":\"True\",\"hovertemplate\":\"Platform=Wii\\u003cbr\\u003eIme igre=%{x}\\u003cbr\\u003eUkupna prodaja (milijuni)=%{y}\\u003cextra\\u003e\\u003c\\u002fextra\\u003e\",\"legendgroup\":\"Wii\",\"marker\":{\"color\":\"#EF553B\",\"pattern\":{\"shape\":\"\"}},\"name\":\"Wii\",\"offsetgroup\":\"Wii\",\"orientation\":\"v\",\"showlegend\":true,\"textposition\":\"auto\",\"x\":[\"Mario Kart Wii\",\"New Super Mario Bros. Wii\",\"Call Of Duty: Black Ops\",\"Call Of Duty: Modern Warfare 3\",\"Fifa 15\"],\"xaxis\":\"x\",\"y\":[35.82,28.62,1.4,0.89,0.76],\"yaxis\":\"y\",\"type\":\"bar\"},{\"alignmentgroup\":\"True\",\"hovertemplate\":\"Platform=DS\\u003cbr\\u003eIme igre=%{x}\\u003cbr\\u003eUkupna prodaja (milijuni)=%{y}\\u003cextra\\u003e\\u003c\\u002fextra\\u003e\",\"legendgroup\":\"DS\",\"marker\":{\"color\":\"#00cc96\",\"pattern\":{\"shape\":\"\"}},\"name\":\"DS\",\"offsetgroup\":\"DS\",\"orientation\":\"v\",\"showlegend\":true,\"textposition\":\"auto\",\"x\":[\"New Super Mario Bros.\",\"Mario Kart Ds\",\"Super Mario 64\",\"Call Of Duty: Black Ops\"],\"xaxis\":\"x\",\"y\":[30.01,23.42,10.42,0.63],\"yaxis\":\"y\",\"type\":\"bar\"},{\"alignmentgroup\":\"True\",\"hovertemplate\":\"Platform=PS3\\u003cbr\\u003eIme igre=%{x}\\u003cbr\\u003eUkupna prodaja (milijuni)=%{y}\\u003cextra\\u003e\\u003c\\u002fextra\\u003e\",\"legendgroup\":\"PS3\",\"marker\":{\"color\":\"#ab63fa\",\"pattern\":{\"shape\":\"\"}},\"name\":\"PS3\",\"offsetgroup\":\"PS3\",\"orientation\":\"v\",\"showlegend\":true,\"textposition\":\"auto\",\"x\":[\"Grand Theft Auto V\",\"Call Of Duty: Black Ops Ii\",\"Call Of Duty: Modern Warfare 3\",\"Call Of Duty: Black Ops\",\"Call Of Duty: Modern Warfare 2\",\"Grand Theft Auto Iv\",\"Call Of Duty: Ghosts\",\"The Elder Scrolls V: Skyrim\",\"Minecraft\",\"Fifa 15\",\"Call Of Duty: Advanced Warfare\"],\"xaxis\":\"x\",\"y\":[21.4,14.03,13.46,12.73,10.69,10.57,9.59,6.56,5.42,4.82,4.45],\"yaxis\":\"y\",\"type\":\"bar\"},{\"alignmentgroup\":\"True\",\"hovertemplate\":\"Platform=PS2\\u003cbr\\u003eIme igre=%{x}\\u003cbr\\u003eUkupna prodaja (milijuni)=%{y}\\u003cextra\\u003e\\u003c\\u002fextra\\u003e\",\"legendgroup\":\"PS2\",\"marker\":{\"color\":\"#FFA15A\",\"pattern\":{\"shape\":\"\"}},\"name\":\"PS2\",\"offsetgroup\":\"PS2\",\"orientation\":\"v\",\"showlegend\":true,\"textposition\":\"auto\",\"x\":[\"Grand Theft Auto: San Andreas\"],\"xaxis\":\"x\",\"y\":[20.81],\"yaxis\":\"y\",\"type\":\"bar\"},{\"alignmentgroup\":\"True\",\"hovertemplate\":\"Platform=SNES\\u003cbr\\u003eIme igre=%{x}\\u003cbr\\u003eUkupna prodaja (milijuni)=%{y}\\u003cextra\\u003e\\u003c\\u002fextra\\u003e\",\"legendgroup\":\"SNES\",\"marker\":{\"color\":\"#19d3f3\",\"pattern\":{\"shape\":\"\"}},\"name\":\"SNES\",\"offsetgroup\":\"SNES\",\"orientation\":\"v\",\"showlegend\":true,\"textposition\":\"auto\",\"x\":[\"Super Mario World\"],\"xaxis\":\"x\",\"y\":[20.61],\"yaxis\":\"y\",\"type\":\"bar\"},{\"alignmentgroup\":\"True\",\"hovertemplate\":\"Platform=X360\\u003cbr\\u003eIme igre=%{x}\\u003cbr\\u003eUkupna prodaja (milijuni)=%{y}\\u003cextra\\u003e\\u003c\\u002fextra\\u003e\",\"legendgroup\":\"X360\",\"marker\":{\"color\":\"#FF6692\",\"pattern\":{\"shape\":\"\"}},\"name\":\"X360\",\"offsetgroup\":\"X360\",\"orientation\":\"v\",\"showlegend\":true,\"textposition\":\"auto\",\"x\":[\"Grand Theft Auto V\",\"Call Of Duty: Modern Warfare 3\",\"Call Of Duty: Black Ops\",\"Call Of Duty: Black Ops Ii\",\"Call Of Duty: Modern Warfare 2\",\"Grand Theft Auto Iv\",\"Call Of Duty: Ghosts\",\"Minecraft\",\"The Elder Scrolls V: Skyrim\",\"Call Of Duty: Advanced Warfare\",\"Fifa 15\",\"Grand Theft Auto: San Andreas\"],\"xaxis\":\"x\",\"y\":[16.38,14.76,14.64,13.73,13.51,11.02,10.21,9.2,8.84,4.31,3.11,0.12],\"yaxis\":\"y\",\"type\":\"bar\"},{\"alignmentgroup\":\"True\",\"hovertemplate\":\"Platform=PS4\\u003cbr\\u003eIme igre=%{x}\\u003cbr\\u003eUkupna prodaja (milijuni)=%{y}\\u003cextra\\u003e\\u003c\\u002fextra\\u003e\",\"legendgroup\":\"PS4\",\"marker\":{\"color\":\"#B6E880\",\"pattern\":{\"shape\":\"\"}},\"name\":\"PS4\",\"offsetgroup\":\"PS4\",\"orientation\":\"v\",\"showlegend\":true,\"textposition\":\"auto\",\"x\":[\"Grand Theft Auto V\",\"Call Of Duty: Advanced Warfare\",\"Fifa 15\",\"Minecraft\",\"Call Of Duty: Ghosts\"],\"xaxis\":\"x\",\"y\":[11.98,7.6,6.59,4.02,3.63],\"yaxis\":\"y\",\"type\":\"bar\"},{\"alignmentgroup\":\"True\",\"hovertemplate\":\"Platform=N64\\u003cbr\\u003eIme igre=%{x}\\u003cbr\\u003eUkupna prodaja (milijuni)=%{y}\\u003cextra\\u003e\\u003c\\u002fextra\\u003e\",\"legendgroup\":\"N64\",\"marker\":{\"color\":\"#FF97FF\",\"pattern\":{\"shape\":\"\"}},\"name\":\"N64\",\"offsetgroup\":\"N64\",\"orientation\":\"v\",\"showlegend\":true,\"textposition\":\"auto\",\"x\":[\"Super Mario 64\"],\"xaxis\":\"x\",\"y\":[11.89],\"yaxis\":\"y\",\"type\":\"bar\"},{\"alignmentgroup\":\"True\",\"hovertemplate\":\"Platform=GBA\\u003cbr\\u003eIme igre=%{x}\\u003cbr\\u003eUkupna prodaja (milijuni)=%{y}\\u003cextra\\u003e\\u003c\\u002fextra\\u003e\",\"legendgroup\":\"GBA\",\"marker\":{\"color\":\"#FECB52\",\"pattern\":{\"shape\":\"\"}},\"name\":\"GBA\",\"offsetgroup\":\"GBA\",\"orientation\":\"v\",\"showlegend\":true,\"textposition\":\"auto\",\"x\":[\"Super Mario World\",\"Super Mario Bros. 3\"],\"xaxis\":\"x\",\"y\":[5.46,5.2],\"yaxis\":\"y\",\"type\":\"bar\"},{\"alignmentgroup\":\"True\",\"hovertemplate\":\"Platform=XOne\\u003cbr\\u003eIme igre=%{x}\\u003cbr\\u003eUkupna prodaja (milijuni)=%{y}\\u003cextra\\u003e\\u003c\\u002fextra\\u003e\",\"legendgroup\":\"XOne\",\"marker\":{\"color\":\"#636efa\",\"pattern\":{\"shape\":\"\"}},\"name\":\"XOne\",\"offsetgroup\":\"XOne\",\"orientation\":\"v\",\"showlegend\":true,\"textposition\":\"auto\",\"x\":[\"Call Of Duty: Advanced Warfare\",\"Grand Theft Auto V\",\"Call Of Duty: Ghosts\",\"Minecraft\",\"Fifa 15\"],\"xaxis\":\"x\",\"y\":[5.13,5.08,2.86,2.41,2.15],\"yaxis\":\"y\",\"type\":\"bar\"},{\"alignmentgroup\":\"True\",\"hovertemplate\":\"Platform=GB\\u003cbr\\u003eIme igre=%{x}\\u003cbr\\u003eUkupna prodaja (milijuni)=%{y}\\u003cextra\\u003e\\u003c\\u002fextra\\u003e\",\"legendgroup\":\"GB\",\"marker\":{\"color\":\"#EF553B\",\"pattern\":{\"shape\":\"\"}},\"name\":\"GB\",\"offsetgroup\":\"GB\",\"orientation\":\"v\",\"showlegend\":true,\"textposition\":\"auto\",\"x\":[\"Super Mario Bros.\"],\"xaxis\":\"x\",\"y\":[5.07],\"yaxis\":\"y\",\"type\":\"bar\"},{\"alignmentgroup\":\"True\",\"hovertemplate\":\"Platform=PC\\u003cbr\\u003eIme igre=%{x}\\u003cbr\\u003eUkupna prodaja (milijuni)=%{y}\\u003cextra\\u003e\\u003c\\u002fextra\\u003e\",\"legendgroup\":\"PC\",\"marker\":{\"color\":\"#00cc96\",\"pattern\":{\"shape\":\"\"}},\"name\":\"PC\",\"offsetgroup\":\"PC\",\"orientation\":\"v\",\"showlegend\":true,\"textposition\":\"auto\",\"x\":[\"The Elder Scrolls V: Skyrim\",\"Call Of Duty: Modern Warfare 3\",\"Call Of Duty: Black Ops\",\"Call Of Duty: Black Ops Ii\",\"Grand Theft Auto V\",\"Grand Theft Auto: San Andreas\",\"Call Of Duty: Modern Warfare 2\",\"Grand Theft Auto Iv\",\"Call Of Duty: Ghosts\",\"Call Of Duty: Advanced Warfare\",\"Fifa 15\"],\"xaxis\":\"x\",\"y\":[3.88,1.72,1.63,1.53,1.08,0.98,0.89,0.88,0.73,0.41,0.3],\"yaxis\":\"y\",\"type\":\"bar\"},{\"alignmentgroup\":\"True\",\"hovertemplate\":\"Platform=PSV\\u003cbr\\u003eIme igre=%{x}\\u003cbr\\u003eUkupna prodaja (milijuni)=%{y}\\u003cextra\\u003e\\u003c\\u002fextra\\u003e\",\"legendgroup\":\"PSV\",\"marker\":{\"color\":\"#ab63fa\",\"pattern\":{\"shape\":\"\"}},\"name\":\"PSV\",\"offsetgroup\":\"PSV\",\"orientation\":\"v\",\"showlegend\":true,\"textposition\":\"auto\",\"x\":[\"Minecraft\",\"Fifa 15\"],\"xaxis\":\"x\",\"y\":[2.25,0.84],\"yaxis\":\"y\",\"type\":\"bar\"},{\"alignmentgroup\":\"True\",\"hovertemplate\":\"Platform=XB\\u003cbr\\u003eIme igre=%{x}\\u003cbr\\u003eUkupna prodaja (milijuni)=%{y}\\u003cextra\\u003e\\u003c\\u002fextra\\u003e\",\"legendgroup\":\"XB\",\"marker\":{\"color\":\"#FFA15A\",\"pattern\":{\"shape\":\"\"}},\"name\":\"XB\",\"offsetgroup\":\"XB\",\"orientation\":\"v\",\"showlegend\":true,\"textposition\":\"auto\",\"x\":[\"Grand Theft Auto: San Andreas\"],\"xaxis\":\"x\",\"y\":[1.95],\"yaxis\":\"y\",\"type\":\"bar\"},{\"alignmentgroup\":\"True\",\"hovertemplate\":\"Platform=3DS\\u003cbr\\u003eIme igre=%{x}\\u003cbr\\u003eUkupna prodaja (milijuni)=%{y}\\u003cextra\\u003e\\u003c\\u002fextra\\u003e\",\"legendgroup\":\"3DS\",\"marker\":{\"color\":\"#19d3f3\",\"pattern\":{\"shape\":\"\"}},\"name\":\"3DS\",\"offsetgroup\":\"3DS\",\"orientation\":\"v\",\"showlegend\":true,\"textposition\":\"auto\",\"x\":[\"Fifa 15\"],\"xaxis\":\"x\",\"y\":[0.45],\"yaxis\":\"y\",\"type\":\"bar\"},{\"alignmentgroup\":\"True\",\"hovertemplate\":\"Platform=WiiU\\u003cbr\\u003eIme igre=%{x}\\u003cbr\\u003eUkupna prodaja (milijuni)=%{y}\\u003cextra\\u003e\\u003c\\u002fextra\\u003e\",\"legendgroup\":\"WiiU\",\"marker\":{\"color\":\"#FF6692\",\"pattern\":{\"shape\":\"\"}},\"name\":\"WiiU\",\"offsetgroup\":\"WiiU\",\"orientation\":\"v\",\"showlegend\":true,\"textposition\":\"auto\",\"x\":[\"Minecraft\",\"Call Of Duty: Black Ops Ii\",\"Call Of Duty: Ghosts\"],\"xaxis\":\"x\",\"y\":[0.43,0.43,0.36],\"yaxis\":\"y\",\"type\":\"bar\"}],                        {\"template\":{\"data\":{\"histogram2dcontour\":[{\"type\":\"histogram2dcontour\",\"colorbar\":{\"outlinewidth\":0,\"ticks\":\"\"},\"colorscale\":[[0.0,\"#0d0887\"],[0.1111111111111111,\"#46039f\"],[0.2222222222222222,\"#7201a8\"],[0.3333333333333333,\"#9c179e\"],[0.4444444444444444,\"#bd3786\"],[0.5555555555555556,\"#d8576b\"],[0.6666666666666666,\"#ed7953\"],[0.7777777777777778,\"#fb9f3a\"],[0.8888888888888888,\"#fdca26\"],[1.0,\"#f0f921\"]]}],\"choropleth\":[{\"type\":\"choropleth\",\"colorbar\":{\"outlinewidth\":0,\"ticks\":\"\"}}],\"histogram2d\":[{\"type\":\"histogram2d\",\"colorbar\":{\"outlinewidth\":0,\"ticks\":\"\"},\"colorscale\":[[0.0,\"#0d0887\"],[0.1111111111111111,\"#46039f\"],[0.2222222222222222,\"#7201a8\"],[0.3333333333333333,\"#9c179e\"],[0.4444444444444444,\"#bd3786\"],[0.5555555555555556,\"#d8576b\"],[0.6666666666666666,\"#ed7953\"],[0.7777777777777778,\"#fb9f3a\"],[0.8888888888888888,\"#fdca26\"],[1.0,\"#f0f921\"]]}],\"heatmap\":[{\"type\":\"heatmap\",\"colorbar\":{\"outlinewidth\":0,\"ticks\":\"\"},\"colorscale\":[[0.0,\"#0d0887\"],[0.1111111111111111,\"#46039f\"],[0.2222222222222222,\"#7201a8\"],[0.3333333333333333,\"#9c179e\"],[0.4444444444444444,\"#bd3786\"],[0.5555555555555556,\"#d8576b\"],[0.6666666666666666,\"#ed7953\"],[0.7777777777777778,\"#fb9f3a\"],[0.8888888888888888,\"#fdca26\"],[1.0,\"#f0f921\"]]}],\"heatmapgl\":[{\"type\":\"heatmapgl\",\"colorbar\":{\"outlinewidth\":0,\"ticks\":\"\"},\"colorscale\":[[0.0,\"#0d0887\"],[0.1111111111111111,\"#46039f\"],[0.2222222222222222,\"#7201a8\"],[0.3333333333333333,\"#9c179e\"],[0.4444444444444444,\"#bd3786\"],[0.5555555555555556,\"#d8576b\"],[0.6666666666666666,\"#ed7953\"],[0.7777777777777778,\"#fb9f3a\"],[0.8888888888888888,\"#fdca26\"],[1.0,\"#f0f921\"]]}],\"contourcarpet\":[{\"type\":\"contourcarpet\",\"colorbar\":{\"outlinewidth\":0,\"ticks\":\"\"}}],\"contour\":[{\"type\":\"contour\",\"colorbar\":{\"outlinewidth\":0,\"ticks\":\"\"},\"colorscale\":[[0.0,\"#0d0887\"],[0.1111111111111111,\"#46039f\"],[0.2222222222222222,\"#7201a8\"],[0.3333333333333333,\"#9c179e\"],[0.4444444444444444,\"#bd3786\"],[0.5555555555555556,\"#d8576b\"],[0.6666666666666666,\"#ed7953\"],[0.7777777777777778,\"#fb9f3a\"],[0.8888888888888888,\"#fdca26\"],[1.0,\"#f0f921\"]]}],\"surface\":[{\"type\":\"surface\",\"colorbar\":{\"outlinewidth\":0,\"ticks\":\"\"},\"colorscale\":[[0.0,\"#0d0887\"],[0.1111111111111111,\"#46039f\"],[0.2222222222222222,\"#7201a8\"],[0.3333333333333333,\"#9c179e\"],[0.4444444444444444,\"#bd3786\"],[0.5555555555555556,\"#d8576b\"],[0.6666666666666666,\"#ed7953\"],[0.7777777777777778,\"#fb9f3a\"],[0.8888888888888888,\"#fdca26\"],[1.0,\"#f0f921\"]]}],\"mesh3d\":[{\"type\":\"mesh3d\",\"colorbar\":{\"outlinewidth\":0,\"ticks\":\"\"}}],\"scatter\":[{\"fillpattern\":{\"fillmode\":\"overlay\",\"size\":10,\"solidity\":0.2},\"type\":\"scatter\"}],\"parcoords\":[{\"type\":\"parcoords\",\"line\":{\"colorbar\":{\"outlinewidth\":0,\"ticks\":\"\"}}}],\"scatterpolargl\":[{\"type\":\"scatterpolargl\",\"marker\":{\"colorbar\":{\"outlinewidth\":0,\"ticks\":\"\"}}}],\"bar\":[{\"error_x\":{\"color\":\"#2a3f5f\"},\"error_y\":{\"color\":\"#2a3f5f\"},\"marker\":{\"line\":{\"color\":\"#E5ECF6\",\"width\":0.5},\"pattern\":{\"fillmode\":\"overlay\",\"size\":10,\"solidity\":0.2}},\"type\":\"bar\"}],\"scattergeo\":[{\"type\":\"scattergeo\",\"marker\":{\"colorbar\":{\"outlinewidth\":0,\"ticks\":\"\"}}}],\"scatterpolar\":[{\"type\":\"scatterpolar\",\"marker\":{\"colorbar\":{\"outlinewidth\":0,\"ticks\":\"\"}}}],\"histogram\":[{\"marker\":{\"pattern\":{\"fillmode\":\"overlay\",\"size\":10,\"solidity\":0.2}},\"type\":\"histogram\"}],\"scattergl\":[{\"type\":\"scattergl\",\"marker\":{\"colorbar\":{\"outlinewidth\":0,\"ticks\":\"\"}}}],\"scatter3d\":[{\"type\":\"scatter3d\",\"line\":{\"colorbar\":{\"outlinewidth\":0,\"ticks\":\"\"}},\"marker\":{\"colorbar\":{\"outlinewidth\":0,\"ticks\":\"\"}}}],\"scattermapbox\":[{\"type\":\"scattermapbox\",\"marker\":{\"colorbar\":{\"outlinewidth\":0,\"ticks\":\"\"}}}],\"scatterternary\":[{\"type\":\"scatterternary\",\"marker\":{\"colorbar\":{\"outlinewidth\":0,\"ticks\":\"\"}}}],\"scattercarpet\":[{\"type\":\"scattercarpet\",\"marker\":{\"colorbar\":{\"outlinewidth\":0,\"ticks\":\"\"}}}],\"carpet\":[{\"aaxis\":{\"endlinecolor\":\"#2a3f5f\",\"gridcolor\":\"white\",\"linecolor\":\"white\",\"minorgridcolor\":\"white\",\"startlinecolor\":\"#2a3f5f\"},\"baxis\":{\"endlinecolor\":\"#2a3f5f\",\"gridcolor\":\"white\",\"linecolor\":\"white\",\"minorgridcolor\":\"white\",\"startlinecolor\":\"#2a3f5f\"},\"type\":\"carpet\"}],\"table\":[{\"cells\":{\"fill\":{\"color\":\"#EBF0F8\"},\"line\":{\"color\":\"white\"}},\"header\":{\"fill\":{\"color\":\"#C8D4E3\"},\"line\":{\"color\":\"white\"}},\"type\":\"table\"}],\"barpolar\":[{\"marker\":{\"line\":{\"color\":\"#E5ECF6\",\"width\":0.5},\"pattern\":{\"fillmode\":\"overlay\",\"size\":10,\"solidity\":0.2}},\"type\":\"barpolar\"}],\"pie\":[{\"automargin\":true,\"type\":\"pie\"}]},\"layout\":{\"autotypenumbers\":\"strict\",\"colorway\":[\"#636efa\",\"#EF553B\",\"#00cc96\",\"#ab63fa\",\"#FFA15A\",\"#19d3f3\",\"#FF6692\",\"#B6E880\",\"#FF97FF\",\"#FECB52\"],\"font\":{\"color\":\"#2a3f5f\"},\"hovermode\":\"closest\",\"hoverlabel\":{\"align\":\"left\"},\"paper_bgcolor\":\"white\",\"plot_bgcolor\":\"#E5ECF6\",\"polar\":{\"bgcolor\":\"#E5ECF6\",\"angularaxis\":{\"gridcolor\":\"white\",\"linecolor\":\"white\",\"ticks\":\"\"},\"radialaxis\":{\"gridcolor\":\"white\",\"linecolor\":\"white\",\"ticks\":\"\"}},\"ternary\":{\"bgcolor\":\"#E5ECF6\",\"aaxis\":{\"gridcolor\":\"white\",\"linecolor\":\"white\",\"ticks\":\"\"},\"baxis\":{\"gridcolor\":\"white\",\"linecolor\":\"white\",\"ticks\":\"\"},\"caxis\":{\"gridcolor\":\"white\",\"linecolor\":\"white\",\"ticks\":\"\"}},\"coloraxis\":{\"colorbar\":{\"outlinewidth\":0,\"ticks\":\"\"}},\"colorscale\":{\"sequential\":[[0.0,\"#0d0887\"],[0.1111111111111111,\"#46039f\"],[0.2222222222222222,\"#7201a8\"],[0.3333333333333333,\"#9c179e\"],[0.4444444444444444,\"#bd3786\"],[0.5555555555555556,\"#d8576b\"],[0.6666666666666666,\"#ed7953\"],[0.7777777777777778,\"#fb9f3a\"],[0.8888888888888888,\"#fdca26\"],[1.0,\"#f0f921\"]],\"sequentialminus\":[[0.0,\"#0d0887\"],[0.1111111111111111,\"#46039f\"],[0.2222222222222222,\"#7201a8\"],[0.3333333333333333,\"#9c179e\"],[0.4444444444444444,\"#bd3786\"],[0.5555555555555556,\"#d8576b\"],[0.6666666666666666,\"#ed7953\"],[0.7777777777777778,\"#fb9f3a\"],[0.8888888888888888,\"#fdca26\"],[1.0,\"#f0f921\"]],\"diverging\":[[0,\"#8e0152\"],[0.1,\"#c51b7d\"],[0.2,\"#de77ae\"],[0.3,\"#f1b6da\"],[0.4,\"#fde0ef\"],[0.5,\"#f7f7f7\"],[0.6,\"#e6f5d0\"],[0.7,\"#b8e186\"],[0.8,\"#7fbc41\"],[0.9,\"#4d9221\"],[1,\"#276419\"]]},\"xaxis\":{\"gridcolor\":\"white\",\"linecolor\":\"white\",\"ticks\":\"\",\"title\":{\"standoff\":15},\"zerolinecolor\":\"white\",\"automargin\":true,\"zerolinewidth\":2},\"yaxis\":{\"gridcolor\":\"white\",\"linecolor\":\"white\",\"ticks\":\"\",\"title\":{\"standoff\":15},\"zerolinecolor\":\"white\",\"automargin\":true,\"zerolinewidth\":2},\"scene\":{\"xaxis\":{\"backgroundcolor\":\"#E5ECF6\",\"gridcolor\":\"white\",\"linecolor\":\"white\",\"showbackground\":true,\"ticks\":\"\",\"zerolinecolor\":\"white\",\"gridwidth\":2},\"yaxis\":{\"backgroundcolor\":\"#E5ECF6\",\"gridcolor\":\"white\",\"linecolor\":\"white\",\"showbackground\":true,\"ticks\":\"\",\"zerolinecolor\":\"white\",\"gridwidth\":2},\"zaxis\":{\"backgroundcolor\":\"#E5ECF6\",\"gridcolor\":\"white\",\"linecolor\":\"white\",\"showbackground\":true,\"ticks\":\"\",\"zerolinecolor\":\"white\",\"gridwidth\":2}},\"shapedefaults\":{\"line\":{\"color\":\"#2a3f5f\"}},\"annotationdefaults\":{\"arrowcolor\":\"#2a3f5f\",\"arrowhead\":0,\"arrowwidth\":1},\"geo\":{\"bgcolor\":\"white\",\"landcolor\":\"#E5ECF6\",\"subunitcolor\":\"white\",\"showland\":true,\"showlakes\":true,\"lakecolor\":\"white\"},\"title\":{\"x\":0.05},\"mapbox\":{\"style\":\"light\"}}},\"xaxis\":{\"anchor\":\"y\",\"domain\":[0.0,1.0],\"title\":{\"text\":\"Ime igre\"},\"tickangle\":-45},\"yaxis\":{\"anchor\":\"x\",\"domain\":[0.0,1.0],\"title\":{\"text\":\"Ukupna prodaja (milijuni)\"}},\"legend\":{\"title\":{\"text\":\"Platform\"},\"tracegroupgap\":0},\"title\":{\"text\":\"Top 20 igara po ukupnoj prodaji\"},\"barmode\":\"relative\",\"height\":600},                        {\"responsive\": true}                    ).then(function(){\n",
       "                            \n",
       "var gd = document.getElementById('0f5d4e22-ee46-4db8-a761-0b5ef5c7c4c6');\n",
       "var x = new MutationObserver(function (mutations, observer) {{\n",
       "        var display = window.getComputedStyle(gd).display;\n",
       "        if (!display || display === 'none') {{\n",
       "            console.log([gd, 'removed!']);\n",
       "            Plotly.purge(gd);\n",
       "            observer.disconnect();\n",
       "        }}\n",
       "}});\n",
       "\n",
       "// Listen for the removal of the full notebook cells\n",
       "var notebookContainer = gd.closest('#notebook-container');\n",
       "if (notebookContainer) {{\n",
       "    x.observe(notebookContainer, {childList: true});\n",
       "}}\n",
       "\n",
       "// Listen for the clearing of the current output cell\n",
       "var outputEl = gd.closest('.output');\n",
       "if (outputEl) {{\n",
       "    x.observe(outputEl, {childList: true});\n",
       "}}\n",
       "\n",
       "                        })                };                });            </script>        </div>"
      ]
     },
     "metadata": {},
     "output_type": "display_data"
    },
    {
     "name": "stdout",
     "output_type": "stream",
     "text": [
      "Ovaj graf prikazuje ukupnu prodaju top 20 igara po platformama. Na X-osi nalaze se imena igara, dok Y-os prikazuje ukupnu prodaju izraženu u milijunima primjeraka. Boje u grafu predstavljaju različite platforme, omogućujući analizu popularnosti igara na specifičnim uređajima. Dodatno, graf uključuje usporedbu između PC-a i konzola, kao i ostalih platformi, čime se jasno ističe dominacija konzola u odnosu na PC kada je riječ o ukupnoj prodaji igara. Kod konzola se posebice ističu platforme PlayStation 3 (PS3) i Xbox 360 (X360), koje su najzastupljenije među najprodavanijim igrama. Ovaj prikaz omogućuje lako uočavanje razlika u popularnosti igara između platformi te naglašava ulogu konzola kao glavnih nositelja prodaje igara, dok je PC zastupljen u znatno manjoj mjeri. Ostale platforme, poput prijenosnih konzola, također su uključene, ali njihov doprinos prodaji je znatno manji u usporedbi s glavnim konzolama PS3 i X360. Analiza ovih podataka pruža uvid u tržišne trendove, ukazujući na to koje platforme dominiraju tržištem i koje su igre ključne za njihov uspjeh, ali bitno je primjetiti da su ovo igrice koje su izlazile prije 10-ak godina.\n"
     ]
    },
    {
     "data": {
      "application/vnd.plotly.v1+json": {
       "config": {
        "plotlyServerURL": "https://plot.ly"
       },
       "data": [
        {
         "alignmentgroup": "True",
         "hovertemplate": "Platforma=%{x}<br>Ukupna prodaja (milijuni)=%{y}<extra></extra>",
         "legendgroup": "",
         "marker": {
          "color": "#636efa",
          "pattern": {
           "shape": ""
          }
         },
         "name": "",
         "offsetgroup": "",
         "orientation": "v",
         "showlegend": false,
         "textposition": "auto",
         "type": "bar",
         "x": [
          "X360",
          "PS3",
          "PS2",
          "PS4",
          "Wii",
          "PC",
          "PS",
          "DS",
          "XOne",
          "NES",
          "SNES",
          "XB",
          "3DS",
          "N64",
          "PSP",
          "GC",
          "GBA",
          "PSV",
          "WiiU",
          "GEN",
          "GB",
          "2600",
          "DC",
          "SCD",
          "SAT",
          "WS"
         ],
         "xaxis": "x",
         "y": [
          570.77,
          545.25,
          193.74,
          167.97,
          155.55,
          144.8,
          131.5,
          94.15,
          92.79,
          73.55,
          59.34,
          51.74,
          39.58,
          35.81,
          34.76,
          32.82,
          27,
          21.39,
          19.91,
          10.52,
          9.06,
          8.309999999999999,
          2.63,
          1.5,
          0.6,
          0.51
         ],
         "yaxis": "y"
        }
       ],
       "layout": {
        "autosize": true,
        "barmode": "relative",
        "legend": {
         "tracegroupgap": 0
        },
        "template": {
         "data": {
          "bar": [
           {
            "error_x": {
             "color": "#2a3f5f"
            },
            "error_y": {
             "color": "#2a3f5f"
            },
            "marker": {
             "line": {
              "color": "#E5ECF6",
              "width": 0.5
             },
             "pattern": {
              "fillmode": "overlay",
              "size": 10,
              "solidity": 0.2
             }
            },
            "type": "bar"
           }
          ],
          "barpolar": [
           {
            "marker": {
             "line": {
              "color": "#E5ECF6",
              "width": 0.5
             },
             "pattern": {
              "fillmode": "overlay",
              "size": 10,
              "solidity": 0.2
             }
            },
            "type": "barpolar"
           }
          ],
          "carpet": [
           {
            "aaxis": {
             "endlinecolor": "#2a3f5f",
             "gridcolor": "white",
             "linecolor": "white",
             "minorgridcolor": "white",
             "startlinecolor": "#2a3f5f"
            },
            "baxis": {
             "endlinecolor": "#2a3f5f",
             "gridcolor": "white",
             "linecolor": "white",
             "minorgridcolor": "white",
             "startlinecolor": "#2a3f5f"
            },
            "type": "carpet"
           }
          ],
          "choropleth": [
           {
            "colorbar": {
             "outlinewidth": 0,
             "ticks": ""
            },
            "type": "choropleth"
           }
          ],
          "contour": [
           {
            "colorbar": {
             "outlinewidth": 0,
             "ticks": ""
            },
            "colorscale": [
             [
              0,
              "#0d0887"
             ],
             [
              0.1111111111111111,
              "#46039f"
             ],
             [
              0.2222222222222222,
              "#7201a8"
             ],
             [
              0.3333333333333333,
              "#9c179e"
             ],
             [
              0.4444444444444444,
              "#bd3786"
             ],
             [
              0.5555555555555556,
              "#d8576b"
             ],
             [
              0.6666666666666666,
              "#ed7953"
             ],
             [
              0.7777777777777778,
              "#fb9f3a"
             ],
             [
              0.8888888888888888,
              "#fdca26"
             ],
             [
              1,
              "#f0f921"
             ]
            ],
            "type": "contour"
           }
          ],
          "contourcarpet": [
           {
            "colorbar": {
             "outlinewidth": 0,
             "ticks": ""
            },
            "type": "contourcarpet"
           }
          ],
          "heatmap": [
           {
            "colorbar": {
             "outlinewidth": 0,
             "ticks": ""
            },
            "colorscale": [
             [
              0,
              "#0d0887"
             ],
             [
              0.1111111111111111,
              "#46039f"
             ],
             [
              0.2222222222222222,
              "#7201a8"
             ],
             [
              0.3333333333333333,
              "#9c179e"
             ],
             [
              0.4444444444444444,
              "#bd3786"
             ],
             [
              0.5555555555555556,
              "#d8576b"
             ],
             [
              0.6666666666666666,
              "#ed7953"
             ],
             [
              0.7777777777777778,
              "#fb9f3a"
             ],
             [
              0.8888888888888888,
              "#fdca26"
             ],
             [
              1,
              "#f0f921"
             ]
            ],
            "type": "heatmap"
           }
          ],
          "heatmapgl": [
           {
            "colorbar": {
             "outlinewidth": 0,
             "ticks": ""
            },
            "colorscale": [
             [
              0,
              "#0d0887"
             ],
             [
              0.1111111111111111,
              "#46039f"
             ],
             [
              0.2222222222222222,
              "#7201a8"
             ],
             [
              0.3333333333333333,
              "#9c179e"
             ],
             [
              0.4444444444444444,
              "#bd3786"
             ],
             [
              0.5555555555555556,
              "#d8576b"
             ],
             [
              0.6666666666666666,
              "#ed7953"
             ],
             [
              0.7777777777777778,
              "#fb9f3a"
             ],
             [
              0.8888888888888888,
              "#fdca26"
             ],
             [
              1,
              "#f0f921"
             ]
            ],
            "type": "heatmapgl"
           }
          ],
          "histogram": [
           {
            "marker": {
             "pattern": {
              "fillmode": "overlay",
              "size": 10,
              "solidity": 0.2
             }
            },
            "type": "histogram"
           }
          ],
          "histogram2d": [
           {
            "colorbar": {
             "outlinewidth": 0,
             "ticks": ""
            },
            "colorscale": [
             [
              0,
              "#0d0887"
             ],
             [
              0.1111111111111111,
              "#46039f"
             ],
             [
              0.2222222222222222,
              "#7201a8"
             ],
             [
              0.3333333333333333,
              "#9c179e"
             ],
             [
              0.4444444444444444,
              "#bd3786"
             ],
             [
              0.5555555555555556,
              "#d8576b"
             ],
             [
              0.6666666666666666,
              "#ed7953"
             ],
             [
              0.7777777777777778,
              "#fb9f3a"
             ],
             [
              0.8888888888888888,
              "#fdca26"
             ],
             [
              1,
              "#f0f921"
             ]
            ],
            "type": "histogram2d"
           }
          ],
          "histogram2dcontour": [
           {
            "colorbar": {
             "outlinewidth": 0,
             "ticks": ""
            },
            "colorscale": [
             [
              0,
              "#0d0887"
             ],
             [
              0.1111111111111111,
              "#46039f"
             ],
             [
              0.2222222222222222,
              "#7201a8"
             ],
             [
              0.3333333333333333,
              "#9c179e"
             ],
             [
              0.4444444444444444,
              "#bd3786"
             ],
             [
              0.5555555555555556,
              "#d8576b"
             ],
             [
              0.6666666666666666,
              "#ed7953"
             ],
             [
              0.7777777777777778,
              "#fb9f3a"
             ],
             [
              0.8888888888888888,
              "#fdca26"
             ],
             [
              1,
              "#f0f921"
             ]
            ],
            "type": "histogram2dcontour"
           }
          ],
          "mesh3d": [
           {
            "colorbar": {
             "outlinewidth": 0,
             "ticks": ""
            },
            "type": "mesh3d"
           }
          ],
          "parcoords": [
           {
            "line": {
             "colorbar": {
              "outlinewidth": 0,
              "ticks": ""
             }
            },
            "type": "parcoords"
           }
          ],
          "pie": [
           {
            "automargin": true,
            "type": "pie"
           }
          ],
          "scatter": [
           {
            "fillpattern": {
             "fillmode": "overlay",
             "size": 10,
             "solidity": 0.2
            },
            "type": "scatter"
           }
          ],
          "scatter3d": [
           {
            "line": {
             "colorbar": {
              "outlinewidth": 0,
              "ticks": ""
             }
            },
            "marker": {
             "colorbar": {
              "outlinewidth": 0,
              "ticks": ""
             }
            },
            "type": "scatter3d"
           }
          ],
          "scattercarpet": [
           {
            "marker": {
             "colorbar": {
              "outlinewidth": 0,
              "ticks": ""
             }
            },
            "type": "scattercarpet"
           }
          ],
          "scattergeo": [
           {
            "marker": {
             "colorbar": {
              "outlinewidth": 0,
              "ticks": ""
             }
            },
            "type": "scattergeo"
           }
          ],
          "scattergl": [
           {
            "marker": {
             "colorbar": {
              "outlinewidth": 0,
              "ticks": ""
             }
            },
            "type": "scattergl"
           }
          ],
          "scattermapbox": [
           {
            "marker": {
             "colorbar": {
              "outlinewidth": 0,
              "ticks": ""
             }
            },
            "type": "scattermapbox"
           }
          ],
          "scatterpolar": [
           {
            "marker": {
             "colorbar": {
              "outlinewidth": 0,
              "ticks": ""
             }
            },
            "type": "scatterpolar"
           }
          ],
          "scatterpolargl": [
           {
            "marker": {
             "colorbar": {
              "outlinewidth": 0,
              "ticks": ""
             }
            },
            "type": "scatterpolargl"
           }
          ],
          "scatterternary": [
           {
            "marker": {
             "colorbar": {
              "outlinewidth": 0,
              "ticks": ""
             }
            },
            "type": "scatterternary"
           }
          ],
          "surface": [
           {
            "colorbar": {
             "outlinewidth": 0,
             "ticks": ""
            },
            "colorscale": [
             [
              0,
              "#0d0887"
             ],
             [
              0.1111111111111111,
              "#46039f"
             ],
             [
              0.2222222222222222,
              "#7201a8"
             ],
             [
              0.3333333333333333,
              "#9c179e"
             ],
             [
              0.4444444444444444,
              "#bd3786"
             ],
             [
              0.5555555555555556,
              "#d8576b"
             ],
             [
              0.6666666666666666,
              "#ed7953"
             ],
             [
              0.7777777777777778,
              "#fb9f3a"
             ],
             [
              0.8888888888888888,
              "#fdca26"
             ],
             [
              1,
              "#f0f921"
             ]
            ],
            "type": "surface"
           }
          ],
          "table": [
           {
            "cells": {
             "fill": {
              "color": "#EBF0F8"
             },
             "line": {
              "color": "white"
             }
            },
            "header": {
             "fill": {
              "color": "#C8D4E3"
             },
             "line": {
              "color": "white"
             }
            },
            "type": "table"
           }
          ]
         },
         "layout": {
          "annotationdefaults": {
           "arrowcolor": "#2a3f5f",
           "arrowhead": 0,
           "arrowwidth": 1
          },
          "autotypenumbers": "strict",
          "coloraxis": {
           "colorbar": {
            "outlinewidth": 0,
            "ticks": ""
           }
          },
          "colorscale": {
           "diverging": [
            [
             0,
             "#8e0152"
            ],
            [
             0.1,
             "#c51b7d"
            ],
            [
             0.2,
             "#de77ae"
            ],
            [
             0.3,
             "#f1b6da"
            ],
            [
             0.4,
             "#fde0ef"
            ],
            [
             0.5,
             "#f7f7f7"
            ],
            [
             0.6,
             "#e6f5d0"
            ],
            [
             0.7,
             "#b8e186"
            ],
            [
             0.8,
             "#7fbc41"
            ],
            [
             0.9,
             "#4d9221"
            ],
            [
             1,
             "#276419"
            ]
           ],
           "sequential": [
            [
             0,
             "#0d0887"
            ],
            [
             0.1111111111111111,
             "#46039f"
            ],
            [
             0.2222222222222222,
             "#7201a8"
            ],
            [
             0.3333333333333333,
             "#9c179e"
            ],
            [
             0.4444444444444444,
             "#bd3786"
            ],
            [
             0.5555555555555556,
             "#d8576b"
            ],
            [
             0.6666666666666666,
             "#ed7953"
            ],
            [
             0.7777777777777778,
             "#fb9f3a"
            ],
            [
             0.8888888888888888,
             "#fdca26"
            ],
            [
             1,
             "#f0f921"
            ]
           ],
           "sequentialminus": [
            [
             0,
             "#0d0887"
            ],
            [
             0.1111111111111111,
             "#46039f"
            ],
            [
             0.2222222222222222,
             "#7201a8"
            ],
            [
             0.3333333333333333,
             "#9c179e"
            ],
            [
             0.4444444444444444,
             "#bd3786"
            ],
            [
             0.5555555555555556,
             "#d8576b"
            ],
            [
             0.6666666666666666,
             "#ed7953"
            ],
            [
             0.7777777777777778,
             "#fb9f3a"
            ],
            [
             0.8888888888888888,
             "#fdca26"
            ],
            [
             1,
             "#f0f921"
            ]
           ]
          },
          "colorway": [
           "#636efa",
           "#EF553B",
           "#00cc96",
           "#ab63fa",
           "#FFA15A",
           "#19d3f3",
           "#FF6692",
           "#B6E880",
           "#FF97FF",
           "#FECB52"
          ],
          "font": {
           "color": "#2a3f5f"
          },
          "geo": {
           "bgcolor": "white",
           "lakecolor": "white",
           "landcolor": "#E5ECF6",
           "showlakes": true,
           "showland": true,
           "subunitcolor": "white"
          },
          "hoverlabel": {
           "align": "left"
          },
          "hovermode": "closest",
          "mapbox": {
           "style": "light"
          },
          "paper_bgcolor": "white",
          "plot_bgcolor": "#E5ECF6",
          "polar": {
           "angularaxis": {
            "gridcolor": "white",
            "linecolor": "white",
            "ticks": ""
           },
           "bgcolor": "#E5ECF6",
           "radialaxis": {
            "gridcolor": "white",
            "linecolor": "white",
            "ticks": ""
           }
          },
          "scene": {
           "xaxis": {
            "backgroundcolor": "#E5ECF6",
            "gridcolor": "white",
            "gridwidth": 2,
            "linecolor": "white",
            "showbackground": true,
            "ticks": "",
            "zerolinecolor": "white"
           },
           "yaxis": {
            "backgroundcolor": "#E5ECF6",
            "gridcolor": "white",
            "gridwidth": 2,
            "linecolor": "white",
            "showbackground": true,
            "ticks": "",
            "zerolinecolor": "white"
           },
           "zaxis": {
            "backgroundcolor": "#E5ECF6",
            "gridcolor": "white",
            "gridwidth": 2,
            "linecolor": "white",
            "showbackground": true,
            "ticks": "",
            "zerolinecolor": "white"
           }
          },
          "shapedefaults": {
           "line": {
            "color": "#2a3f5f"
           }
          },
          "ternary": {
           "aaxis": {
            "gridcolor": "white",
            "linecolor": "white",
            "ticks": ""
           },
           "baxis": {
            "gridcolor": "white",
            "linecolor": "white",
            "ticks": ""
           },
           "bgcolor": "#E5ECF6",
           "caxis": {
            "gridcolor": "white",
            "linecolor": "white",
            "ticks": ""
           }
          },
          "title": {
           "x": 0.05
          },
          "xaxis": {
           "automargin": true,
           "gridcolor": "white",
           "linecolor": "white",
           "ticks": "",
           "title": {
            "standoff": 15
           },
           "zerolinecolor": "white",
           "zerolinewidth": 2
          },
          "yaxis": {
           "automargin": true,
           "gridcolor": "white",
           "linecolor": "white",
           "ticks": "",
           "title": {
            "standoff": 15
           },
           "zerolinecolor": "white",
           "zerolinewidth": 2
          }
         }
        },
        "title": {
         "text": "Ukupna prodaja po platformama"
        },
        "xaxis": {
         "anchor": "y",
         "autorange": true,
         "domain": [
          0,
          1
         ],
         "range": [
          -0.5,
          25.5
         ],
         "title": {
          "text": "Platforma"
         },
         "type": "category"
        },
        "yaxis": {
         "anchor": "x",
         "autorange": true,
         "domain": [
          0,
          1
         ],
         "range": [
          0,
          600.8105263157895
         ],
         "title": {
          "text": "Ukupna prodaja (milijuni)"
         },
         "type": "linear"
        }
       }
      },
      "image/png": "[encoded data removed]",
      "text/html": [
       "<div>                            <div id=\"d587d7af-c36f-4750-8b72-c5ee6a21a6de\" class=\"plotly-graph-div\" style=\"height:500px; width:100%;\"></div>            <script type=\"text/javascript\">                require([\"plotly\"], function(Plotly) {                    window.PLOTLYENV=window.PLOTLYENV || {};                                    if (document.getElementById(\"d587d7af-c36f-4750-8b72-c5ee6a21a6de\")) {                    Plotly.newPlot(                        \"d587d7af-c36f-4750-8b72-c5ee6a21a6de\",                        [{\"alignmentgroup\":\"True\",\"hovertemplate\":\"Platforma=%{x}\\u003cbr\\u003eUkupna prodaja (milijuni)=%{y}\\u003cextra\\u003e\\u003c\\u002fextra\\u003e\",\"legendgroup\":\"\",\"marker\":{\"color\":\"#636efa\",\"pattern\":{\"shape\":\"\"}},\"name\":\"\",\"offsetgroup\":\"\",\"orientation\":\"v\",\"showlegend\":false,\"textposition\":\"auto\",\"x\":[\"X360\",\"PS3\",\"PS2\",\"PS4\",\"Wii\",\"PC\",\"PS\",\"DS\",\"XOne\",\"NES\",\"SNES\",\"XB\",\"3DS\",\"N64\",\"PSP\",\"GC\",\"GBA\",\"PSV\",\"WiiU\",\"GEN\",\"GB\",\"2600\",\"DC\",\"SCD\",\"SAT\",\"WS\"],\"xaxis\":\"x\",\"y\":[570.77,545.25,193.74,167.97,155.55,144.8,131.5,94.15,92.79,73.55,59.34,51.74,39.58,35.81,34.76,32.82,27.0,21.39,19.91,10.52,9.06,8.309999999999999,2.63,1.5,0.6,0.51],\"yaxis\":\"y\",\"type\":\"bar\"}],                        {\"template\":{\"data\":{\"histogram2dcontour\":[{\"type\":\"histogram2dcontour\",\"colorbar\":{\"outlinewidth\":0,\"ticks\":\"\"},\"colorscale\":[[0.0,\"#0d0887\"],[0.1111111111111111,\"#46039f\"],[0.2222222222222222,\"#7201a8\"],[0.3333333333333333,\"#9c179e\"],[0.4444444444444444,\"#bd3786\"],[0.5555555555555556,\"#d8576b\"],[0.6666666666666666,\"#ed7953\"],[0.7777777777777778,\"#fb9f3a\"],[0.8888888888888888,\"#fdca26\"],[1.0,\"#f0f921\"]]}],\"choropleth\":[{\"type\":\"choropleth\",\"colorbar\":{\"outlinewidth\":0,\"ticks\":\"\"}}],\"histogram2d\":[{\"type\":\"histogram2d\",\"colorbar\":{\"outlinewidth\":0,\"ticks\":\"\"},\"colorscale\":[[0.0,\"#0d0887\"],[0.1111111111111111,\"#46039f\"],[0.2222222222222222,\"#7201a8\"],[0.3333333333333333,\"#9c179e\"],[0.4444444444444444,\"#bd3786\"],[0.5555555555555556,\"#d8576b\"],[0.6666666666666666,\"#ed7953\"],[0.7777777777777778,\"#fb9f3a\"],[0.8888888888888888,\"#fdca26\"],[1.0,\"#f0f921\"]]}],\"heatmap\":[{\"type\":\"heatmap\",\"colorbar\":{\"outlinewidth\":0,\"ticks\":\"\"},\"colorscale\":[[0.0,\"#0d0887\"],[0.1111111111111111,\"#46039f\"],[0.2222222222222222,\"#7201a8\"],[0.3333333333333333,\"#9c179e\"],[0.4444444444444444,\"#bd3786\"],[0.5555555555555556,\"#d8576b\"],[0.6666666666666666,\"#ed7953\"],[0.7777777777777778,\"#fb9f3a\"],[0.8888888888888888,\"#fdca26\"],[1.0,\"#f0f921\"]]}],\"heatmapgl\":[{\"type\":\"heatmapgl\",\"colorbar\":{\"outlinewidth\":0,\"ticks\":\"\"},\"colorscale\":[[0.0,\"#0d0887\"],[0.1111111111111111,\"#46039f\"],[0.2222222222222222,\"#7201a8\"],[0.3333333333333333,\"#9c179e\"],[0.4444444444444444,\"#bd3786\"],[0.5555555555555556,\"#d8576b\"],[0.6666666666666666,\"#ed7953\"],[0.7777777777777778,\"#fb9f3a\"],[0.8888888888888888,\"#fdca26\"],[1.0,\"#f0f921\"]]}],\"contourcarpet\":[{\"type\":\"contourcarpet\",\"colorbar\":{\"outlinewidth\":0,\"ticks\":\"\"}}],\"contour\":[{\"type\":\"contour\",\"colorbar\":{\"outlinewidth\":0,\"ticks\":\"\"},\"colorscale\":[[0.0,\"#0d0887\"],[0.1111111111111111,\"#46039f\"],[0.2222222222222222,\"#7201a8\"],[0.3333333333333333,\"#9c179e\"],[0.4444444444444444,\"#bd3786\"],[0.5555555555555556,\"#d8576b\"],[0.6666666666666666,\"#ed7953\"],[0.7777777777777778,\"#fb9f3a\"],[0.8888888888888888,\"#fdca26\"],[1.0,\"#f0f921\"]]}],\"surface\":[{\"type\":\"surface\",\"colorbar\":{\"outlinewidth\":0,\"ticks\":\"\"},\"colorscale\":[[0.0,\"#0d0887\"],[0.1111111111111111,\"#46039f\"],[0.2222222222222222,\"#7201a8\"],[0.3333333333333333,\"#9c179e\"],[0.4444444444444444,\"#bd3786\"],[0.5555555555555556,\"#d8576b\"],[0.6666666666666666,\"#ed7953\"],[0.7777777777777778,\"#fb9f3a\"],[0.8888888888888888,\"#fdca26\"],[1.0,\"#f0f921\"]]}],\"mesh3d\":[{\"type\":\"mesh3d\",\"colorbar\":{\"outlinewidth\":0,\"ticks\":\"\"}}],\"scatter\":[{\"fillpattern\":{\"fillmode\":\"overlay\",\"size\":10,\"solidity\":0.2},\"type\":\"scatter\"}],\"parcoords\":[{\"type\":\"parcoords\",\"line\":{\"colorbar\":{\"outlinewidth\":0,\"ticks\":\"\"}}}],\"scatterpolargl\":[{\"type\":\"scatterpolargl\",\"marker\":{\"colorbar\":{\"outlinewidth\":0,\"ticks\":\"\"}}}],\"bar\":[{\"error_x\":{\"color\":\"#2a3f5f\"},\"error_y\":{\"color\":\"#2a3f5f\"},\"marker\":{\"line\":{\"color\":\"#E5ECF6\",\"width\":0.5},\"pattern\":{\"fillmode\":\"overlay\",\"size\":10,\"solidity\":0.2}},\"type\":\"bar\"}],\"scattergeo\":[{\"type\":\"scattergeo\",\"marker\":{\"colorbar\":{\"outlinewidth\":0,\"ticks\":\"\"}}}],\"scatterpolar\":[{\"type\":\"scatterpolar\",\"marker\":{\"colorbar\":{\"outlinewidth\":0,\"ticks\":\"\"}}}],\"histogram\":[{\"marker\":{\"pattern\":{\"fillmode\":\"overlay\",\"size\":10,\"solidity\":0.2}},\"type\":\"histogram\"}],\"scattergl\":[{\"type\":\"scattergl\",\"marker\":{\"colorbar\":{\"outlinewidth\":0,\"ticks\":\"\"}}}],\"scatter3d\":[{\"type\":\"scatter3d\",\"line\":{\"colorbar\":{\"outlinewidth\":0,\"ticks\":\"\"}},\"marker\":{\"colorbar\":{\"outlinewidth\":0,\"ticks\":\"\"}}}],\"scattermapbox\":[{\"type\":\"scattermapbox\",\"marker\":{\"colorbar\":{\"outlinewidth\":0,\"ticks\":\"\"}}}],\"scatterternary\":[{\"type\":\"scatterternary\",\"marker\":{\"colorbar\":{\"outlinewidth\":0,\"ticks\":\"\"}}}],\"scattercarpet\":[{\"type\":\"scattercarpet\",\"marker\":{\"colorbar\":{\"outlinewidth\":0,\"ticks\":\"\"}}}],\"carpet\":[{\"aaxis\":{\"endlinecolor\":\"#2a3f5f\",\"gridcolor\":\"white\",\"linecolor\":\"white\",\"minorgridcolor\":\"white\",\"startlinecolor\":\"#2a3f5f\"},\"baxis\":{\"endlinecolor\":\"#2a3f5f\",\"gridcolor\":\"white\",\"linecolor\":\"white\",\"minorgridcolor\":\"white\",\"startlinecolor\":\"#2a3f5f\"},\"type\":\"carpet\"}],\"table\":[{\"cells\":{\"fill\":{\"color\":\"#EBF0F8\"},\"line\":{\"color\":\"white\"}},\"header\":{\"fill\":{\"color\":\"#C8D4E3\"},\"line\":{\"color\":\"white\"}},\"type\":\"table\"}],\"barpolar\":[{\"marker\":{\"line\":{\"color\":\"#E5ECF6\",\"width\":0.5},\"pattern\":{\"fillmode\":\"overlay\",\"size\":10,\"solidity\":0.2}},\"type\":\"barpolar\"}],\"pie\":[{\"automargin\":true,\"type\":\"pie\"}]},\"layout\":{\"autotypenumbers\":\"strict\",\"colorway\":[\"#636efa\",\"#EF553B\",\"#00cc96\",\"#ab63fa\",\"#FFA15A\",\"#19d3f3\",\"#FF6692\",\"#B6E880\",\"#FF97FF\",\"#FECB52\"],\"font\":{\"color\":\"#2a3f5f\"},\"hovermode\":\"closest\",\"hoverlabel\":{\"align\":\"left\"},\"paper_bgcolor\":\"white\",\"plot_bgcolor\":\"#E5ECF6\",\"polar\":{\"bgcolor\":\"#E5ECF6\",\"angularaxis\":{\"gridcolor\":\"white\",\"linecolor\":\"white\",\"ticks\":\"\"},\"radialaxis\":{\"gridcolor\":\"white\",\"linecolor\":\"white\",\"ticks\":\"\"}},\"ternary\":{\"bgcolor\":\"#E5ECF6\",\"aaxis\":{\"gridcolor\":\"white\",\"linecolor\":\"white\",\"ticks\":\"\"},\"baxis\":{\"gridcolor\":\"white\",\"linecolor\":\"white\",\"ticks\":\"\"},\"caxis\":{\"gridcolor\":\"white\",\"linecolor\":\"white\",\"ticks\":\"\"}},\"coloraxis\":{\"colorbar\":{\"outlinewidth\":0,\"ticks\":\"\"}},\"colorscale\":{\"sequential\":[[0.0,\"#0d0887\"],[0.1111111111111111,\"#46039f\"],[0.2222222222222222,\"#7201a8\"],[0.3333333333333333,\"#9c179e\"],[0.4444444444444444,\"#bd3786\"],[0.5555555555555556,\"#d8576b\"],[0.6666666666666666,\"#ed7953\"],[0.7777777777777778,\"#fb9f3a\"],[0.8888888888888888,\"#fdca26\"],[1.0,\"#f0f921\"]],\"sequentialminus\":[[0.0,\"#0d0887\"],[0.1111111111111111,\"#46039f\"],[0.2222222222222222,\"#7201a8\"],[0.3333333333333333,\"#9c179e\"],[0.4444444444444444,\"#bd3786\"],[0.5555555555555556,\"#d8576b\"],[0.6666666666666666,\"#ed7953\"],[0.7777777777777778,\"#fb9f3a\"],[0.8888888888888888,\"#fdca26\"],[1.0,\"#f0f921\"]],\"diverging\":[[0,\"#8e0152\"],[0.1,\"#c51b7d\"],[0.2,\"#de77ae\"],[0.3,\"#f1b6da\"],[0.4,\"#fde0ef\"],[0.5,\"#f7f7f7\"],[0.6,\"#e6f5d0\"],[0.7,\"#b8e186\"],[0.8,\"#7fbc41\"],[0.9,\"#4d9221\"],[1,\"#276419\"]]},\"xaxis\":{\"gridcolor\":\"white\",\"linecolor\":\"white\",\"ticks\":\"\",\"title\":{\"standoff\":15},\"zerolinecolor\":\"white\",\"automargin\":true,\"zerolinewidth\":2},\"yaxis\":{\"gridcolor\":\"white\",\"linecolor\":\"white\",\"ticks\":\"\",\"title\":{\"standoff\":15},\"zerolinecolor\":\"white\",\"automargin\":true,\"zerolinewidth\":2},\"scene\":{\"xaxis\":{\"backgroundcolor\":\"#E5ECF6\",\"gridcolor\":\"white\",\"linecolor\":\"white\",\"showbackground\":true,\"ticks\":\"\",\"zerolinecolor\":\"white\",\"gridwidth\":2},\"yaxis\":{\"backgroundcolor\":\"#E5ECF6\",\"gridcolor\":\"white\",\"linecolor\":\"white\",\"showbackground\":true,\"ticks\":\"\",\"zerolinecolor\":\"white\",\"gridwidth\":2},\"zaxis\":{\"backgroundcolor\":\"#E5ECF6\",\"gridcolor\":\"white\",\"linecolor\":\"white\",\"showbackground\":true,\"ticks\":\"\",\"zerolinecolor\":\"white\",\"gridwidth\":2}},\"shapedefaults\":{\"line\":{\"color\":\"#2a3f5f\"}},\"annotationdefaults\":{\"arrowcolor\":\"#2a3f5f\",\"arrowhead\":0,\"arrowwidth\":1},\"geo\":{\"bgcolor\":\"white\",\"landcolor\":\"#E5ECF6\",\"subunitcolor\":\"white\",\"showland\":true,\"showlakes\":true,\"lakecolor\":\"white\"},\"title\":{\"x\":0.05},\"mapbox\":{\"style\":\"light\"}}},\"xaxis\":{\"anchor\":\"y\",\"domain\":[0.0,1.0],\"title\":{\"text\":\"Platforma\"}},\"yaxis\":{\"anchor\":\"x\",\"domain\":[0.0,1.0],\"title\":{\"text\":\"Ukupna prodaja (milijuni)\"}},\"legend\":{\"tracegroupgap\":0},\"title\":{\"text\":\"Ukupna prodaja po platformama\"},\"barmode\":\"relative\",\"height\":500},                        {\"responsive\": true}                    ).then(function(){\n",
       "                            \n",
       "var gd = document.getElementById('d587d7af-c36f-4750-8b72-c5ee6a21a6de');\n",
       "var x = new MutationObserver(function (mutations, observer) {{\n",
       "        var display = window.getComputedStyle(gd).display;\n",
       "        if (!display || display === 'none') {{\n",
       "            console.log([gd, 'removed!']);\n",
       "            Plotly.purge(gd);\n",
       "            observer.disconnect();\n",
       "        }}\n",
       "}});\n",
       "\n",
       "// Listen for the removal of the full notebook cells\n",
       "var notebookContainer = gd.closest('#notebook-container');\n",
       "if (notebookContainer) {{\n",
       "    x.observe(notebookContainer, {childList: true});\n",
       "}}\n",
       "\n",
       "// Listen for the clearing of the current output cell\n",
       "var outputEl = gd.closest('.output');\n",
       "if (outputEl) {{\n",
       "    x.observe(outputEl, {childList: true});\n",
       "}}\n",
       "\n",
       "                        })                };                });            </script>        </div>"
      ]
     },
     "metadata": {},
     "output_type": "display_data"
    },
    {
     "name": "stdout",
     "output_type": "stream",
     "text": [
      "Ovaj graf prikazuje ukupnu prodaju igara po platformama. Na X osi su prikazane platforme (npr. PS3, Xbox, PC), dok Y os prikazuje ukupnu prodaju u milijunima primjeraka. Graf pomaže u razumijevanju koje platforme imaju najveći udio u ukupnoj prodaji. Te kao što i možemo vidjeti konzole uvelike prevladavaju nad računalima u popularnosti te kupnji igara.\n"
     ]
    },
    {
     "data": {
      "application/vnd.plotly.v1+json": {
       "config": {
        "plotlyServerURL": "https://plot.ly"
       },
       "data": [
        {
         "alignmentgroup": "True",
         "hovertemplate": "Žanr=%{x}<br>Ukupna prodaja (milijuni)=%{y}<extra></extra>",
         "legendgroup": "",
         "marker": {
          "color": "#636efa",
          "pattern": {
           "shape": ""
          }
         },
         "name": "",
         "offsetgroup": "",
         "orientation": "v",
         "showlegend": false,
         "textposition": "auto",
         "type": "bar",
         "x": [
          "Action",
          "Shooter",
          "Platform",
          "Role-Playing",
          "Racing",
          "Sports",
          "Fighting",
          "Misc",
          "Adventure",
          "Strategy",
          "Simulation",
          "Puzzle"
         ],
         "xaxis": "x",
         "y": [
          746.09,
          589.56,
          355.32,
          234.34,
          224.41,
          116.94,
          74.7,
          54.05,
          42.14,
          39.24,
          37.57,
          11.19
         ],
         "yaxis": "y"
        }
       ],
       "layout": {
        "autosize": true,
        "barmode": "relative",
        "legend": {
         "tracegroupgap": 0
        },
        "template": {
         "data": {
          "bar": [
           {
            "error_x": {
             "color": "#2a3f5f"
            },
            "error_y": {
             "color": "#2a3f5f"
            },
            "marker": {
             "line": {
              "color": "#E5ECF6",
              "width": 0.5
             },
             "pattern": {
              "fillmode": "overlay",
              "size": 10,
              "solidity": 0.2
             }
            },
            "type": "bar"
           }
          ],
          "barpolar": [
           {
            "marker": {
             "line": {
              "color": "#E5ECF6",
              "width": 0.5
             },
             "pattern": {
              "fillmode": "overlay",
              "size": 10,
              "solidity": 0.2
             }
            },
            "type": "barpolar"
           }
          ],
          "carpet": [
           {
            "aaxis": {
             "endlinecolor": "#2a3f5f",
             "gridcolor": "white",
             "linecolor": "white",
             "minorgridcolor": "white",
             "startlinecolor": "#2a3f5f"
            },
            "baxis": {
             "endlinecolor": "#2a3f5f",
             "gridcolor": "white",
             "linecolor": "white",
             "minorgridcolor": "white",
             "startlinecolor": "#2a3f5f"
            },
            "type": "carpet"
           }
          ],
          "choropleth": [
           {
            "colorbar": {
             "outlinewidth": 0,
             "ticks": ""
            },
            "type": "choropleth"
           }
          ],
          "contour": [
           {
            "colorbar": {
             "outlinewidth": 0,
             "ticks": ""
            },
            "colorscale": [
             [
              0,
              "#0d0887"
             ],
             [
              0.1111111111111111,
              "#46039f"
             ],
             [
              0.2222222222222222,
              "#7201a8"
             ],
             [
              0.3333333333333333,
              "#9c179e"
             ],
             [
              0.4444444444444444,
              "#bd3786"
             ],
             [
              0.5555555555555556,
              "#d8576b"
             ],
             [
              0.6666666666666666,
              "#ed7953"
             ],
             [
              0.7777777777777778,
              "#fb9f3a"
             ],
             [
              0.8888888888888888,
              "#fdca26"
             ],
             [
              1,
              "#f0f921"
             ]
            ],
            "type": "contour"
           }
          ],
          "contourcarpet": [
           {
            "colorbar": {
             "outlinewidth": 0,
             "ticks": ""
            },
            "type": "contourcarpet"
           }
          ],
          "heatmap": [
           {
            "colorbar": {
             "outlinewidth": 0,
             "ticks": ""
            },
            "colorscale": [
             [
              0,
              "#0d0887"
             ],
             [
              0.1111111111111111,
              "#46039f"
             ],
             [
              0.2222222222222222,
              "#7201a8"
             ],
             [
              0.3333333333333333,
              "#9c179e"
             ],
             [
              0.4444444444444444,
              "#bd3786"
             ],
             [
              0.5555555555555556,
              "#d8576b"
             ],
             [
              0.6666666666666666,
              "#ed7953"
             ],
             [
              0.7777777777777778,
              "#fb9f3a"
             ],
             [
              0.8888888888888888,
              "#fdca26"
             ],
             [
              1,
              "#f0f921"
             ]
            ],
            "type": "heatmap"
           }
          ],
          "heatmapgl": [
           {
            "colorbar": {
             "outlinewidth": 0,
             "ticks": ""
            },
            "colorscale": [
             [
              0,
              "#0d0887"
             ],
             [
              0.1111111111111111,
              "#46039f"
             ],
             [
              0.2222222222222222,
              "#7201a8"
             ],
             [
              0.3333333333333333,
              "#9c179e"
             ],
             [
              0.4444444444444444,
              "#bd3786"
             ],
             [
              0.5555555555555556,
              "#d8576b"
             ],
             [
              0.6666666666666666,
              "#ed7953"
             ],
             [
              0.7777777777777778,
              "#fb9f3a"
             ],
             [
              0.8888888888888888,
              "#fdca26"
             ],
             [
              1,
              "#f0f921"
             ]
            ],
            "type": "heatmapgl"
           }
          ],
          "histogram": [
           {
            "marker": {
             "pattern": {
              "fillmode": "overlay",
              "size": 10,
              "solidity": 0.2
             }
            },
            "type": "histogram"
           }
          ],
          "histogram2d": [
           {
            "colorbar": {
             "outlinewidth": 0,
             "ticks": ""
            },
            "colorscale": [
             [
              0,
              "#0d0887"
             ],
             [
              0.1111111111111111,
              "#46039f"
             ],
             [
              0.2222222222222222,
              "#7201a8"
             ],
             [
              0.3333333333333333,
              "#9c179e"
             ],
             [
              0.4444444444444444,
              "#bd3786"
             ],
             [
              0.5555555555555556,
              "#d8576b"
             ],
             [
              0.6666666666666666,
              "#ed7953"
             ],
             [
              0.7777777777777778,
              "#fb9f3a"
             ],
             [
              0.8888888888888888,
              "#fdca26"
             ],
             [
              1,
              "#f0f921"
             ]
            ],
            "type": "histogram2d"
           }
          ],
          "histogram2dcontour": [
           {
            "colorbar": {
             "outlinewidth": 0,
             "ticks": ""
            },
            "colorscale": [
             [
              0,
              "#0d0887"
             ],
             [
              0.1111111111111111,
              "#46039f"
             ],
             [
              0.2222222222222222,
              "#7201a8"
             ],
             [
              0.3333333333333333,
              "#9c179e"
             ],
             [
              0.4444444444444444,
              "#bd3786"
             ],
             [
              0.5555555555555556,
              "#d8576b"
             ],
             [
              0.6666666666666666,
              "#ed7953"
             ],
             [
              0.7777777777777778,
              "#fb9f3a"
             ],
             [
              0.8888888888888888,
              "#fdca26"
             ],
             [
              1,
              "#f0f921"
             ]
            ],
            "type": "histogram2dcontour"
           }
          ],
          "mesh3d": [
           {
            "colorbar": {
             "outlinewidth": 0,
             "ticks": ""
            },
            "type": "mesh3d"
           }
          ],
          "parcoords": [
           {
            "line": {
             "colorbar": {
              "outlinewidth": 0,
              "ticks": ""
             }
            },
            "type": "parcoords"
           }
          ],
          "pie": [
           {
            "automargin": true,
            "type": "pie"
           }
          ],
          "scatter": [
           {
            "fillpattern": {
             "fillmode": "overlay",
             "size": 10,
             "solidity": 0.2
            },
            "type": "scatter"
           }
          ],
          "scatter3d": [
           {
            "line": {
             "colorbar": {
              "outlinewidth": 0,
              "ticks": ""
             }
            },
            "marker": {
             "colorbar": {
              "outlinewidth": 0,
              "ticks": ""
             }
            },
            "type": "scatter3d"
           }
          ],
          "scattercarpet": [
           {
            "marker": {
             "colorbar": {
              "outlinewidth": 0,
              "ticks": ""
             }
            },
            "type": "scattercarpet"
           }
          ],
          "scattergeo": [
           {
            "marker": {
             "colorbar": {
              "outlinewidth": 0,
              "ticks": ""
             }
            },
            "type": "scattergeo"
           }
          ],
          "scattergl": [
           {
            "marker": {
             "colorbar": {
              "outlinewidth": 0,
              "ticks": ""
             }
            },
            "type": "scattergl"
           }
          ],
          "scattermapbox": [
           {
            "marker": {
             "colorbar": {
              "outlinewidth": 0,
              "ticks": ""
             }
            },
            "type": "scattermapbox"
           }
          ],
          "scatterpolar": [
           {
            "marker": {
             "colorbar": {
              "outlinewidth": 0,
              "ticks": ""
             }
            },
            "type": "scatterpolar"
           }
          ],
          "scatterpolargl": [
           {
            "marker": {
             "colorbar": {
              "outlinewidth": 0,
              "ticks": ""
             }
            },
            "type": "scatterpolargl"
           }
          ],
          "scatterternary": [
           {
            "marker": {
             "colorbar": {
              "outlinewidth": 0,
              "ticks": ""
             }
            },
            "type": "scatterternary"
           }
          ],
          "surface": [
           {
            "colorbar": {
             "outlinewidth": 0,
             "ticks": ""
            },
            "colorscale": [
             [
              0,
              "#0d0887"
             ],
             [
              0.1111111111111111,
              "#46039f"
             ],
             [
              0.2222222222222222,
              "#7201a8"
             ],
             [
              0.3333333333333333,
              "#9c179e"
             ],
             [
              0.4444444444444444,
              "#bd3786"
             ],
             [
              0.5555555555555556,
              "#d8576b"
             ],
             [
              0.6666666666666666,
              "#ed7953"
             ],
             [
              0.7777777777777778,
              "#fb9f3a"
             ],
             [
              0.8888888888888888,
              "#fdca26"
             ],
             [
              1,
              "#f0f921"
             ]
            ],
            "type": "surface"
           }
          ],
          "table": [
           {
            "cells": {
             "fill": {
              "color": "#EBF0F8"
             },
             "line": {
              "color": "white"
             }
            },
            "header": {
             "fill": {
              "color": "#C8D4E3"
             },
             "line": {
              "color": "white"
             }
            },
            "type": "table"
           }
          ]
         },
         "layout": {
          "annotationdefaults": {
           "arrowcolor": "#2a3f5f",
           "arrowhead": 0,
           "arrowwidth": 1
          },
          "autotypenumbers": "strict",
          "coloraxis": {
           "colorbar": {
            "outlinewidth": 0,
            "ticks": ""
           }
          },
          "colorscale": {
           "diverging": [
            [
             0,
             "#8e0152"
            ],
            [
             0.1,
             "#c51b7d"
            ],
            [
             0.2,
             "#de77ae"
            ],
            [
             0.3,
             "#f1b6da"
            ],
            [
             0.4,
             "#fde0ef"
            ],
            [
             0.5,
             "#f7f7f7"
            ],
            [
             0.6,
             "#e6f5d0"
            ],
            [
             0.7,
             "#b8e186"
            ],
            [
             0.8,
             "#7fbc41"
            ],
            [
             0.9,
             "#4d9221"
            ],
            [
             1,
             "#276419"
            ]
           ],
           "sequential": [
            [
             0,
             "#0d0887"
            ],
            [
             0.1111111111111111,
             "#46039f"
            ],
            [
             0.2222222222222222,
             "#7201a8"
            ],
            [
             0.3333333333333333,
             "#9c179e"
            ],
            [
             0.4444444444444444,
             "#bd3786"
            ],
            [
             0.5555555555555556,
             "#d8576b"
            ],
            [
             0.6666666666666666,
             "#ed7953"
            ],
            [
             0.7777777777777778,
             "#fb9f3a"
            ],
            [
             0.8888888888888888,
             "#fdca26"
            ],
            [
             1,
             "#f0f921"
            ]
           ],
           "sequentialminus": [
            [
             0,
             "#0d0887"
            ],
            [
             0.1111111111111111,
             "#46039f"
            ],
            [
             0.2222222222222222,
             "#7201a8"
            ],
            [
             0.3333333333333333,
             "#9c179e"
            ],
            [
             0.4444444444444444,
             "#bd3786"
            ],
            [
             0.5555555555555556,
             "#d8576b"
            ],
            [
             0.6666666666666666,
             "#ed7953"
            ],
            [
             0.7777777777777778,
             "#fb9f3a"
            ],
            [
             0.8888888888888888,
             "#fdca26"
            ],
            [
             1,
             "#f0f921"
            ]
           ]
          },
          "colorway": [
           "#636efa",
           "#EF553B",
           "#00cc96",
           "#ab63fa",
           "#FFA15A",
           "#19d3f3",
           "#FF6692",
           "#B6E880",
           "#FF97FF",
           "#FECB52"
          ],
          "font": {
           "color": "#2a3f5f"
          },
          "geo": {
           "bgcolor": "white",
           "lakecolor": "white",
           "landcolor": "#E5ECF6",
           "showlakes": true,
           "showland": true,
           "subunitcolor": "white"
          },
          "hoverlabel": {
           "align": "left"
          },
          "hovermode": "closest",
          "mapbox": {
           "style": "light"
          },
          "paper_bgcolor": "white",
          "plot_bgcolor": "#E5ECF6",
          "polar": {
           "angularaxis": {
            "gridcolor": "white",
            "linecolor": "white",
            "ticks": ""
           },
           "bgcolor": "#E5ECF6",
           "radialaxis": {
            "gridcolor": "white",
            "linecolor": "white",
            "ticks": ""
           }
          },
          "scene": {
           "xaxis": {
            "backgroundcolor": "#E5ECF6",
            "gridcolor": "white",
            "gridwidth": 2,
            "linecolor": "white",
            "showbackground": true,
            "ticks": "",
            "zerolinecolor": "white"
           },
           "yaxis": {
            "backgroundcolor": "#E5ECF6",
            "gridcolor": "white",
            "gridwidth": 2,
            "linecolor": "white",
            "showbackground": true,
            "ticks": "",
            "zerolinecolor": "white"
           },
           "zaxis": {
            "backgroundcolor": "#E5ECF6",
            "gridcolor": "white",
            "gridwidth": 2,
            "linecolor": "white",
            "showbackground": true,
            "ticks": "",
            "zerolinecolor": "white"
           }
          },
          "shapedefaults": {
           "line": {
            "color": "#2a3f5f"
           }
          },
          "ternary": {
           "aaxis": {
            "gridcolor": "white",
            "linecolor": "white",
            "ticks": ""
           },
           "baxis": {
            "gridcolor": "white",
            "linecolor": "white",
            "ticks": ""
           },
           "bgcolor": "#E5ECF6",
           "caxis": {
            "gridcolor": "white",
            "linecolor": "white",
            "ticks": ""
           }
          },
          "title": {
           "x": 0.05
          },
          "xaxis": {
           "automargin": true,
           "gridcolor": "white",
           "linecolor": "white",
           "ticks": "",
           "title": {
            "standoff": 15
           },
           "zerolinecolor": "white",
           "zerolinewidth": 2
          },
          "yaxis": {
           "automargin": true,
           "gridcolor": "white",
           "linecolor": "white",
           "ticks": "",
           "title": {
            "standoff": 15
           },
           "zerolinecolor": "white",
           "zerolinewidth": 2
          }
         }
        },
        "title": {
         "text": "Ukupna prodaja po žanrovima"
        },
        "xaxis": {
         "anchor": "y",
         "autorange": true,
         "domain": [
          0,
          1
         ],
         "range": [
          -0.5,
          11.5
         ],
         "title": {
          "text": "Žanr"
         },
         "type": "category"
        },
        "yaxis": {
         "anchor": "x",
         "autorange": true,
         "domain": [
          0,
          1
         ],
         "range": [
          0,
          785.3578947368421
         ],
         "title": {
          "text": "Ukupna prodaja (milijuni)"
         },
         "type": "linear"
        }
       }
      },
      "image/png": "[encoded data removed]",
      "text/html": [
       "<div>                            <div id=\"8b1f0f3a-4f33-40bb-8e25-9d12f8fdf29d\" class=\"plotly-graph-div\" style=\"height:500px; width:100%;\"></div>            <script type=\"text/javascript\">                require([\"plotly\"], function(Plotly) {                    window.PLOTLYENV=window.PLOTLYENV || {};                                    if (document.getElementById(\"8b1f0f3a-4f33-40bb-8e25-9d12f8fdf29d\")) {                    Plotly.newPlot(                        \"8b1f0f3a-4f33-40bb-8e25-9d12f8fdf29d\",                        [{\"alignmentgroup\":\"True\",\"hovertemplate\":\"\\u017danr=%{x}\\u003cbr\\u003eUkupna prodaja (milijuni)=%{y}\\u003cextra\\u003e\\u003c\\u002fextra\\u003e\",\"legendgroup\":\"\",\"marker\":{\"color\":\"#636efa\",\"pattern\":{\"shape\":\"\"}},\"name\":\"\",\"offsetgroup\":\"\",\"orientation\":\"v\",\"showlegend\":false,\"textposition\":\"auto\",\"x\":[\"Action\",\"Shooter\",\"Platform\",\"Role-Playing\",\"Racing\",\"Sports\",\"Fighting\",\"Misc\",\"Adventure\",\"Strategy\",\"Simulation\",\"Puzzle\"],\"xaxis\":\"x\",\"y\":[746.09,589.56,355.32,234.34,224.41,116.94,74.7,54.05,42.14,39.24,37.57,11.19],\"yaxis\":\"y\",\"type\":\"bar\"}],                        {\"template\":{\"data\":{\"histogram2dcontour\":[{\"type\":\"histogram2dcontour\",\"colorbar\":{\"outlinewidth\":0,\"ticks\":\"\"},\"colorscale\":[[0.0,\"#0d0887\"],[0.1111111111111111,\"#46039f\"],[0.2222222222222222,\"#7201a8\"],[0.3333333333333333,\"#9c179e\"],[0.4444444444444444,\"#bd3786\"],[0.5555555555555556,\"#d8576b\"],[0.6666666666666666,\"#ed7953\"],[0.7777777777777778,\"#fb9f3a\"],[0.8888888888888888,\"#fdca26\"],[1.0,\"#f0f921\"]]}],\"choropleth\":[{\"type\":\"choropleth\",\"colorbar\":{\"outlinewidth\":0,\"ticks\":\"\"}}],\"histogram2d\":[{\"type\":\"histogram2d\",\"colorbar\":{\"outlinewidth\":0,\"ticks\":\"\"},\"colorscale\":[[0.0,\"#0d0887\"],[0.1111111111111111,\"#46039f\"],[0.2222222222222222,\"#7201a8\"],[0.3333333333333333,\"#9c179e\"],[0.4444444444444444,\"#bd3786\"],[0.5555555555555556,\"#d8576b\"],[0.6666666666666666,\"#ed7953\"],[0.7777777777777778,\"#fb9f3a\"],[0.8888888888888888,\"#fdca26\"],[1.0,\"#f0f921\"]]}],\"heatmap\":[{\"type\":\"heatmap\",\"colorbar\":{\"outlinewidth\":0,\"ticks\":\"\"},\"colorscale\":[[0.0,\"#0d0887\"],[0.1111111111111111,\"#46039f\"],[0.2222222222222222,\"#7201a8\"],[0.3333333333333333,\"#9c179e\"],[0.4444444444444444,\"#bd3786\"],[0.5555555555555556,\"#d8576b\"],[0.6666666666666666,\"#ed7953\"],[0.7777777777777778,\"#fb9f3a\"],[0.8888888888888888,\"#fdca26\"],[1.0,\"#f0f921\"]]}],\"heatmapgl\":[{\"type\":\"heatmapgl\",\"colorbar\":{\"outlinewidth\":0,\"ticks\":\"\"},\"colorscale\":[[0.0,\"#0d0887\"],[0.1111111111111111,\"#46039f\"],[0.2222222222222222,\"#7201a8\"],[0.3333333333333333,\"#9c179e\"],[0.4444444444444444,\"#bd3786\"],[0.5555555555555556,\"#d8576b\"],[0.6666666666666666,\"#ed7953\"],[0.7777777777777778,\"#fb9f3a\"],[0.8888888888888888,\"#fdca26\"],[1.0,\"#f0f921\"]]}],\"contourcarpet\":[{\"type\":\"contourcarpet\",\"colorbar\":{\"outlinewidth\":0,\"ticks\":\"\"}}],\"contour\":[{\"type\":\"contour\",\"colorbar\":{\"outlinewidth\":0,\"ticks\":\"\"},\"colorscale\":[[0.0,\"#0d0887\"],[0.1111111111111111,\"#46039f\"],[0.2222222222222222,\"#7201a8\"],[0.3333333333333333,\"#9c179e\"],[0.4444444444444444,\"#bd3786\"],[0.5555555555555556,\"#d8576b\"],[0.6666666666666666,\"#ed7953\"],[0.7777777777777778,\"#fb9f3a\"],[0.8888888888888888,\"#fdca26\"],[1.0,\"#f0f921\"]]}],\"surface\":[{\"type\":\"surface\",\"colorbar\":{\"outlinewidth\":0,\"ticks\":\"\"},\"colorscale\":[[0.0,\"#0d0887\"],[0.1111111111111111,\"#46039f\"],[0.2222222222222222,\"#7201a8\"],[0.3333333333333333,\"#9c179e\"],[0.4444444444444444,\"#bd3786\"],[0.5555555555555556,\"#d8576b\"],[0.6666666666666666,\"#ed7953\"],[0.7777777777777778,\"#fb9f3a\"],[0.8888888888888888,\"#fdca26\"],[1.0,\"#f0f921\"]]}],\"mesh3d\":[{\"type\":\"mesh3d\",\"colorbar\":{\"outlinewidth\":0,\"ticks\":\"\"}}],\"scatter\":[{\"fillpattern\":{\"fillmode\":\"overlay\",\"size\":10,\"solidity\":0.2},\"type\":\"scatter\"}],\"parcoords\":[{\"type\":\"parcoords\",\"line\":{\"colorbar\":{\"outlinewidth\":0,\"ticks\":\"\"}}}],\"scatterpolargl\":[{\"type\":\"scatterpolargl\",\"marker\":{\"colorbar\":{\"outlinewidth\":0,\"ticks\":\"\"}}}],\"bar\":[{\"error_x\":{\"color\":\"#2a3f5f\"},\"error_y\":{\"color\":\"#2a3f5f\"},\"marker\":{\"line\":{\"color\":\"#E5ECF6\",\"width\":0.5},\"pattern\":{\"fillmode\":\"overlay\",\"size\":10,\"solidity\":0.2}},\"type\":\"bar\"}],\"scattergeo\":[{\"type\":\"scattergeo\",\"marker\":{\"colorbar\":{\"outlinewidth\":0,\"ticks\":\"\"}}}],\"scatterpolar\":[{\"type\":\"scatterpolar\",\"marker\":{\"colorbar\":{\"outlinewidth\":0,\"ticks\":\"\"}}}],\"histogram\":[{\"marker\":{\"pattern\":{\"fillmode\":\"overlay\",\"size\":10,\"solidity\":0.2}},\"type\":\"histogram\"}],\"scattergl\":[{\"type\":\"scattergl\",\"marker\":{\"colorbar\":{\"outlinewidth\":0,\"ticks\":\"\"}}}],\"scatter3d\":[{\"type\":\"scatter3d\",\"line\":{\"colorbar\":{\"outlinewidth\":0,\"ticks\":\"\"}},\"marker\":{\"colorbar\":{\"outlinewidth\":0,\"ticks\":\"\"}}}],\"scattermapbox\":[{\"type\":\"scattermapbox\",\"marker\":{\"colorbar\":{\"outlinewidth\":0,\"ticks\":\"\"}}}],\"scatterternary\":[{\"type\":\"scatterternary\",\"marker\":{\"colorbar\":{\"outlinewidth\":0,\"ticks\":\"\"}}}],\"scattercarpet\":[{\"type\":\"scattercarpet\",\"marker\":{\"colorbar\":{\"outlinewidth\":0,\"ticks\":\"\"}}}],\"carpet\":[{\"aaxis\":{\"endlinecolor\":\"#2a3f5f\",\"gridcolor\":\"white\",\"linecolor\":\"white\",\"minorgridcolor\":\"white\",\"startlinecolor\":\"#2a3f5f\"},\"baxis\":{\"endlinecolor\":\"#2a3f5f\",\"gridcolor\":\"white\",\"linecolor\":\"white\",\"minorgridcolor\":\"white\",\"startlinecolor\":\"#2a3f5f\"},\"type\":\"carpet\"}],\"table\":[{\"cells\":{\"fill\":{\"color\":\"#EBF0F8\"},\"line\":{\"color\":\"white\"}},\"header\":{\"fill\":{\"color\":\"#C8D4E3\"},\"line\":{\"color\":\"white\"}},\"type\":\"table\"}],\"barpolar\":[{\"marker\":{\"line\":{\"color\":\"#E5ECF6\",\"width\":0.5},\"pattern\":{\"fillmode\":\"overlay\",\"size\":10,\"solidity\":0.2}},\"type\":\"barpolar\"}],\"pie\":[{\"automargin\":true,\"type\":\"pie\"}]},\"layout\":{\"autotypenumbers\":\"strict\",\"colorway\":[\"#636efa\",\"#EF553B\",\"#00cc96\",\"#ab63fa\",\"#FFA15A\",\"#19d3f3\",\"#FF6692\",\"#B6E880\",\"#FF97FF\",\"#FECB52\"],\"font\":{\"color\":\"#2a3f5f\"},\"hovermode\":\"closest\",\"hoverlabel\":{\"align\":\"left\"},\"paper_bgcolor\":\"white\",\"plot_bgcolor\":\"#E5ECF6\",\"polar\":{\"bgcolor\":\"#E5ECF6\",\"angularaxis\":{\"gridcolor\":\"white\",\"linecolor\":\"white\",\"ticks\":\"\"},\"radialaxis\":{\"gridcolor\":\"white\",\"linecolor\":\"white\",\"ticks\":\"\"}},\"ternary\":{\"bgcolor\":\"#E5ECF6\",\"aaxis\":{\"gridcolor\":\"white\",\"linecolor\":\"white\",\"ticks\":\"\"},\"baxis\":{\"gridcolor\":\"white\",\"linecolor\":\"white\",\"ticks\":\"\"},\"caxis\":{\"gridcolor\":\"white\",\"linecolor\":\"white\",\"ticks\":\"\"}},\"coloraxis\":{\"colorbar\":{\"outlinewidth\":0,\"ticks\":\"\"}},\"colorscale\":{\"sequential\":[[0.0,\"#0d0887\"],[0.1111111111111111,\"#46039f\"],[0.2222222222222222,\"#7201a8\"],[0.3333333333333333,\"#9c179e\"],[0.4444444444444444,\"#bd3786\"],[0.5555555555555556,\"#d8576b\"],[0.6666666666666666,\"#ed7953\"],[0.7777777777777778,\"#fb9f3a\"],[0.8888888888888888,\"#fdca26\"],[1.0,\"#f0f921\"]],\"sequentialminus\":[[0.0,\"#0d0887\"],[0.1111111111111111,\"#46039f\"],[0.2222222222222222,\"#7201a8\"],[0.3333333333333333,\"#9c179e\"],[0.4444444444444444,\"#bd3786\"],[0.5555555555555556,\"#d8576b\"],[0.6666666666666666,\"#ed7953\"],[0.7777777777777778,\"#fb9f3a\"],[0.8888888888888888,\"#fdca26\"],[1.0,\"#f0f921\"]],\"diverging\":[[0,\"#8e0152\"],[0.1,\"#c51b7d\"],[0.2,\"#de77ae\"],[0.3,\"#f1b6da\"],[0.4,\"#fde0ef\"],[0.5,\"#f7f7f7\"],[0.6,\"#e6f5d0\"],[0.7,\"#b8e186\"],[0.8,\"#7fbc41\"],[0.9,\"#4d9221\"],[1,\"#276419\"]]},\"xaxis\":{\"gridcolor\":\"white\",\"linecolor\":\"white\",\"ticks\":\"\",\"title\":{\"standoff\":15},\"zerolinecolor\":\"white\",\"automargin\":true,\"zerolinewidth\":2},\"yaxis\":{\"gridcolor\":\"white\",\"linecolor\":\"white\",\"ticks\":\"\",\"title\":{\"standoff\":15},\"zerolinecolor\":\"white\",\"automargin\":true,\"zerolinewidth\":2},\"scene\":{\"xaxis\":{\"backgroundcolor\":\"#E5ECF6\",\"gridcolor\":\"white\",\"linecolor\":\"white\",\"showbackground\":true,\"ticks\":\"\",\"zerolinecolor\":\"white\",\"gridwidth\":2},\"yaxis\":{\"backgroundcolor\":\"#E5ECF6\",\"gridcolor\":\"white\",\"linecolor\":\"white\",\"showbackground\":true,\"ticks\":\"\",\"zerolinecolor\":\"white\",\"gridwidth\":2},\"zaxis\":{\"backgroundcolor\":\"#E5ECF6\",\"gridcolor\":\"white\",\"linecolor\":\"white\",\"showbackground\":true,\"ticks\":\"\",\"zerolinecolor\":\"white\",\"gridwidth\":2}},\"shapedefaults\":{\"line\":{\"color\":\"#2a3f5f\"}},\"annotationdefaults\":{\"arrowcolor\":\"#2a3f5f\",\"arrowhead\":0,\"arrowwidth\":1},\"geo\":{\"bgcolor\":\"white\",\"landcolor\":\"#E5ECF6\",\"subunitcolor\":\"white\",\"showland\":true,\"showlakes\":true,\"lakecolor\":\"white\"},\"title\":{\"x\":0.05},\"mapbox\":{\"style\":\"light\"}}},\"xaxis\":{\"anchor\":\"y\",\"domain\":[0.0,1.0],\"title\":{\"text\":\"\\u017danr\"}},\"yaxis\":{\"anchor\":\"x\",\"domain\":[0.0,1.0],\"title\":{\"text\":\"Ukupna prodaja (milijuni)\"}},\"legend\":{\"tracegroupgap\":0},\"title\":{\"text\":\"Ukupna prodaja po \\u017eanrovima\"},\"barmode\":\"relative\",\"height\":500},                        {\"responsive\": true}                    ).then(function(){\n",
       "                            \n",
       "var gd = document.getElementById('8b1f0f3a-4f33-40bb-8e25-9d12f8fdf29d');\n",
       "var x = new MutationObserver(function (mutations, observer) {{\n",
       "        var display = window.getComputedStyle(gd).display;\n",
       "        if (!display || display === 'none') {{\n",
       "            console.log([gd, 'removed!']);\n",
       "            Plotly.purge(gd);\n",
       "            observer.disconnect();\n",
       "        }}\n",
       "}});\n",
       "\n",
       "// Listen for the removal of the full notebook cells\n",
       "var notebookContainer = gd.closest('#notebook-container');\n",
       "if (notebookContainer) {{\n",
       "    x.observe(notebookContainer, {childList: true});\n",
       "}}\n",
       "\n",
       "// Listen for the clearing of the current output cell\n",
       "var outputEl = gd.closest('.output');\n",
       "if (outputEl) {{\n",
       "    x.observe(outputEl, {childList: true});\n",
       "}}\n",
       "\n",
       "                        })                };                });            </script>        </div>"
      ]
     },
     "metadata": {},
     "output_type": "display_data"
    },
    {
     "name": "stdout",
     "output_type": "stream",
     "text": [
      "Ovaj graf prikazuje ukupnu prodaju po žanrovima igara. Na X osi su prikazani žanrovi igara (npr. Akcija, Avantura, Sport), dok Y os prikazuje ukupnu prodaju u milijunima primjeraka. Ovo pomaže u razumijevanju koji žanrovi igara dominiraju na tržištu prema ukupnoj prodaji. Zanimljivost je da u action žanru gotovo 90% prodanih igrica pripadaju PS3 i X360.\n"
     ]
    }
   ],
   "source": [
    "# Kreiranje FastAPI instance\n",
    "app = FastAPI()\n",
    "\n",
    "# Povezivanje na bazu podataka -- os koristio da nadem gdje mi je direktorij\n",
    "DATABASE_PATH = os.path.join(os.getcwd(), \"igre_baza.db\")\n",
    "engine = create_engine(f\"sqlite:///{DATABASE_PATH}\")\n",
    "\n",
    "# Funkcija za dohvaćanje podataka iz baze\n",
    "def fetch_data():\n",
    "    with engine.connect() as connection:\n",
    "        query = \"SELECT Name, Platform, Genre, Global_Sales FROM igre\"\n",
    "        df = pd.read_sql(query, connection)\n",
    "    return df\n",
    "\n",
    "# poruka ako odem na root da znam da radi\n",
    "@app.get(\"/\")\n",
    "def read_root():\n",
    "    return {\"message\": \"Dobrodošli u REST API!\"}\n",
    "\n",
    "# dohvacanje svega iz baze kroz api\n",
    "@app.get(\"/igre/\")\n",
    "def get_all_igre():\n",
    "    try:\n",
    "        with engine.connect() as connection:\n",
    "            query = text(\"SELECT * FROM igre\")\n",
    "            result = connection.execute(query).fetchall() \n",
    "            data = [dict(row._mapping) for row in result]  # pretvaranje u listu rijecnika jer mi baca neki error nezz zast\n",
    "        return {\"igre\": data}\n",
    "    except Exception as e:\n",
    "        logging.error(f\"Greška prilikom dohvaćanja podataka: {str(e)}\")\n",
    "        return {\"error\": str(e)}\n",
    "\n",
    "# ako odem na dokumentaciju da mogu dobit po id igrice i ostalo --- DA ZNAM DA RADI ISPRAVNO\n",
    "@app.get(\"/igre/{id}\")\n",
    "def get_igra_by_id(id: int):\n",
    "    try:\n",
    "        with engine.connect() as connection:\n",
    "            query = text(\"SELECT * FROM igre WHERE id = :id\")\n",
    "            result = connection.execute(query, {\"id\": id}).fetchone()\n",
    "            if result:\n",
    "                return {\"igra\": dict(result._mapping)}  # opet u rjecnik\n",
    "            else:\n",
    "                return {\"error\": \"Igra nije pronađena.\"}\n",
    "    except Exception as e:\n",
    "        logging.error(f\"Greška prilikom dohvaćanja igre ID {id}: {str(e)}\")\n",
    "        return {\"error\": str(e)}\n",
    "\n",
    "def start_fastapi():\n",
    "    uvicorn.run(app, host=\"127.0.0.1\", port=8000)\n",
    "\n",
    "# pokrenuo fast api u posebnoj lokaciji jer imam neki sukob za port\n",
    "thread = Thread(target=start_fastapi, daemon=True)\n",
    "thread.start()\n",
    "\n",
    "data = fetch_data()\n",
    "\n",
    "game_platform_sales = data.groupby(['Name', 'Platform'], as_index=False)['Global_Sales'].sum()\n",
    "game_platform_sales['Name'] = game_platform_sales['Name'].str.strip().str.lower().str.title() \n",
    "game_platform_sales = game_platform_sales.sort_values(by='Global_Sales', ascending=False)\n",
    "print(\"Tablicni prikaz ukupne prodaje igara:\")\n",
    "display(game_platform_sales)\n",
    "\n",
    "top_20_games = game_platform_sales.groupby('Name', as_index=False).sum().nlargest(20, 'Global_Sales')\n",
    "fig1 = px.bar(\n",
    "    game_platform_sales[game_platform_sales['Name'].isin(top_20_games['Name'])],\n",
    "    x='Name',\n",
    "    y='Global_Sales',\n",
    "    color='Platform',\n",
    "    title=\"Top 20 igara po ukupnoj prodaji\",\n",
    "    labels={'Global_Sales': 'Ukupna prodaja (milijuni)', 'Name': 'Ime igre'},\n",
    "    height=600\n",
    ")\n",
    "fig1.update_layout(xaxis_tickangle=-45)\n",
    "fig1.show()\n",
    "\n",
    "print(\"Ovaj graf prikazuje ukupnu prodaju top 20 igara po platformama. Na X-osi nalaze se imena igara, dok Y-os prikazuje ukupnu prodaju izraženu u milijunima primjeraka. Boje u grafu predstavljaju različite platforme, omogućujući analizu popularnosti igara na specifičnim uređajima. Dodatno, graf uključuje usporedbu između PC-a i konzola, kao i ostalih platformi, čime se jasno ističe dominacija konzola u odnosu na PC kada je riječ o ukupnoj prodaji igara. Kod konzola se posebice ističu platforme PlayStation 3 (PS3) i Xbox 360 (X360), koje su najzastupljenije među najprodavanijim igrama. Ovaj prikaz omogućuje lako uočavanje razlika u popularnosti igara između platformi te naglašava ulogu konzola kao glavnih nositelja prodaje igara, dok je PC zastupljen u znatno manjoj mjeri. Ostale platforme, poput prijenosnih konzola, također su uključene, ali njihov doprinos prodaji je znatno manji u usporedbi s glavnim konzolama PS3 i X360. Analiza ovih podataka pruža uvid u tržišne trendove, ukazujući na to koje platforme dominiraju tržištem i koje su igre ključne za njihov uspjeh, ali bitno je primjetiti da su ovo igrice koje su izlazile prije 10-ak godina.\")\n",
    "\n",
    "platform_sales = data.groupby('Platform', as_index=False)['Global_Sales'].sum().sort_values(by='Global_Sales', ascending=False)\n",
    "fig2 = px.bar(\n",
    "    platform_sales,\n",
    "    x='Platform',\n",
    "    y='Global_Sales',\n",
    "    title=\"Ukupna prodaja po platformama\",\n",
    "    labels={'Global_Sales': 'Ukupna prodaja (milijuni)', 'Platform': 'Platforma'},\n",
    "    height=500\n",
    ")\n",
    "fig2.show()\n",
    "\n",
    "print(\"Ovaj graf prikazuje ukupnu prodaju igara po platformama. Na X osi su prikazane platforme (npr. PS3, Xbox, PC), dok Y os prikazuje ukupnu prodaju u milijunima primjeraka. Graf pomaže u razumijevanju koje platforme imaju najveći udio u ukupnoj prodaji. Te kao što i možemo vidjeti konzole uvelike prevladavaju nad računalima u popularnosti te kupnji igara.\")\n",
    "\n",
    "genre_sales = data.groupby('Genre', as_index=False)['Global_Sales'].sum().sort_values(by='Global_Sales', ascending=False)\n",
    "fig3 = px.bar(\n",
    "    genre_sales,\n",
    "    x='Genre',\n",
    "    y='Global_Sales',\n",
    "    title=\"Ukupna prodaja po žanrovima\",\n",
    "    labels={'Global_Sales': 'Ukupna prodaja (milijuni)', 'Genre': 'Žanr'},\n",
    "    height=500\n",
    ")\n",
    "fig3.show()\n",
    "\n",
    "print(\"Ovaj graf prikazuje ukupnu prodaju po žanrovima igara. Na X osi su prikazani žanrovi igara (npr. Akcija, Avantura, Sport), dok Y os prikazuje ukupnu prodaju u milijunima primjeraka. Ovo pomaže u razumijevanju koji žanrovi igara dominiraju na tržištu prema ukupnoj prodaji. Zanimljivost je da u action žanru gotovo 90% prodanih igrica pripadaju PS3 i X360.\")\n",
    "\n"
   ]
  },
  {
   "cell_type": "markdown",
   "id": "db467829-d697-453c-9109-d2def0f1d41a",
   "metadata": {},
   "source": [
    "Te na kraju prikaz rada aplikacije. Tako što dohvaćamo podatke iz tablice igre uz pomoć REST API-a tako što idemo na novu stranicu u pregledniku te unosimo: http://127.0.0.1:8000/igre/ ili mozemo koristiti http://127.0.0.1:8000/docs kako bi smo imali ljepši pregled i mogučnosti."
   ]
  },
  {
   "cell_type": "code",
   "execution_count": 17,
   "id": "c985c7d7-e1f0-42cc-916f-b5e900d3e14f",
   "metadata": {},
   "outputs": [
    {
     "data": {
      "image/png": "[encoded data removed]",
      "text/plain": [
       "<Figure size 1100x1100 with 1 Axes>"
      ]
     },
     "metadata": {},
     "output_type": "display_data"
    }
   ],
   "source": [
    "image_path = \"a.png\"  \n",
    "img = mpimg.imread(image_path)\n",
    "plt.figure(figsize=(11, 11)) \n",
    "plt.imshow(img)\n",
    "plt.axis('off')  \n",
    "plt.show()"
   ]
  },
  {
   "cell_type": "code",
   "execution_count": 18,
   "id": "339cbe03-e5e2-4f30-b9b5-69a44ca6b619",
   "metadata": {},
   "outputs": [
    {
     "data": {
      "image/png": "[encoded data removed]",
      "text/plain": [
       "<Figure size 1100x1100 with 1 Axes>"
      ]
     },
     "metadata": {},
     "output_type": "display_data"
    }
   ],
   "source": [
    "image_path = \"b.png\"  \n",
    "img = mpimg.imread(image_path)\n",
    "plt.figure(figsize=(11, 11))  \n",
    "plt.imshow(img)\n",
    "plt.axis('off')  \n",
    "plt.show()"
   ]
  },
  {
   "cell_type": "markdown",
   "id": "622de04d-6780-4d3f-a02c-3dafb29e5ae1",
   "metadata": {},
   "source": [
    "## Kritički osvrt"
   ]
  },
  {
   "cell_type": "markdown",
   "id": "b0fe0534-2169-4222-8ac6-1d08fdcbea5c",
   "metadata": {},
   "source": [
    "Praktična izvedivost i primjena ove aplikacije, koja povezuje FastAPI s bazom podataka, omogućuju učinkovito upravljanje i analizu podataka o igrama. Aplikacija je jednostavna za implementaciju i proširivanje, budući da FastAPI pruža visoke performanse, a SQLite je lagana i lako postavljiva baza podataka koja omogućuje brzu pohranu i dohvaćanje podataka. Korištenje SQL upita za pristup podacima i njihovo filtriranje omogućuje detaljnu analizu, dok integracija s Plotly omogućuje vizualizaciju podataka na interaktivan način. Ova kombinacija alata pokazuje visoku fleksibilnost i skalabilnost, ali je ograničena u smislu performansi kada je riječ o većim količinama podataka ili zahtjevnijim aplikacijama koje zahtijevaju veće baze podataka. Također, aplikacija bi mogla profitirati od dodatne optimizacije u pogledu obrade podataka i boljeg upravljanja pogreškama."
   ]
  },
  {
   "cell_type": "markdown",
   "id": "b96b0a2c-0fef-4de6-96d0-1736afbbb873",
   "metadata": {},
   "source": [
    "## Zaključak"
   ]
  },
  {
   "cell_type": "markdown",
   "id": "b56917c4-deb5-43d6-9294-cbecb8b8e4ac",
   "metadata": {},
   "source": [
    "Aplikacija razvijena u ovom projektu omogućuje učinkovitu analizu podataka o globalnoj prodaji igara na različitim platformama i žanrovima. Korištenje FastAPI-ja omogućuje lako proširivanje i interakciju s bazom podataka putem API-ja, dok vizualizacija podataka pomaže korisnicima da bolje razumiju tržišne trendove. Iako je projekt tehnički izvediv i korisno demonstrira osnovne principe rada s bazama podataka i vizualizacijama, daljnje usmjerenje na optimizaciju i implementaciju naprednijih funkcionalnosti moglo bi dodatno povećati njegovu učinkovitost i primjenjivost u stvarnim poslovnim scenarijima."
   ]
  },
  {
   "cell_type": "markdown",
   "id": "80c0111d-5a06-4fd6-b0e6-cccdce2ba735",
   "metadata": {},
   "source": [
    "## Literatura"
   ]
  },
  {
   "cell_type": "markdown",
   "id": "8b6d1ba6-4942-40b8-98bf-e2655a3845ff",
   "metadata": {},
   "source": [
    "[1] M. Grinberg, FastAPI: The fastest way to build APIs with Python 3.6+, O'Reilly Media, 2018.\n",
    "\n",
    "[2] \"SQLAlchemy Documentation,\" SQLAlchemy, [Online]. Available: https://www.sqlalchemy.org/. [Accessed: Jan. 2025].\n",
    "\n",
    "[3] Plotly, Interactive Graphing and Data Visualization, [Online]. Available: https://plotly.com/. [Accessed: Jan. 2025].\n",
    "\n",
    "[4] Python Software Foundation, \"SQLite3 module documentation,\" [Online]. Available: https://docs.python.org/3/library/sqlite3.html. [Accessed: Jan. 2025].\n",
    "\n",
    "[5] OpenAI, ChatGPT: Prompt razgovora s CHAT-GPT-om: https://chatgpt.com/share/67952534-c704-800e-bb96-e02ec2b233f4  Available: https://chat.openai.com/. [Accessed: Jan. 2025]."
   ]
  }
 ],
 "metadata": {
  "kernelspec": {
   "display_name": "Python 3 (ipykernel)",
   "language": "python",
   "name": "python3"
  },
  "language_info": {
   "codemirror_mode": {
    "name": "ipython",
    "version": 3
   },
   "file_extension": ".py",
   "mimetype": "text/x-python",
   "name": "python",
   "nbconvert_exporter": "python",
   "pygments_lexer": "ipython3",
   "version": "3.12.7"
  }
 },
 "nbformat": 4,
 "nbformat_minor": 5
}
